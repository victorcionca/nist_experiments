{
 "cells": [
  {
   "cell_type": "code",
   "execution_count": 1,
   "metadata": {
    "id": "bDC2JgJ07hHm"
   },
   "outputs": [],
   "source": [
    "from sys import path"
   ]
  },
  {
   "cell_type": "code",
   "execution_count": 2,
   "metadata": {},
   "outputs": [],
   "source": [
    "path.append('/home/victor/work/Confirm/work/phy-sim/sionnaenv/lib/python3.8/site-packages/')"
   ]
  },
  {
   "cell_type": "code",
   "execution_count": 3,
   "metadata": {},
   "outputs": [],
   "source": [
    "import sionna\n",
    "import tensorflow as tf\n",
    "import matplotlib.pyplot as plt\n",
    "import numpy as np\n",
    "import pickle"
   ]
  },
  {
   "cell_type": "markdown",
   "metadata": {
    "id": "NnmShbhxOZIb"
   },
   "source": [
    "Comms system description\n",
    "\n",
    "* binary source\n",
    "* data is transmitted in time slots containing 14 OFDM symbols\n",
    "* LDPC encoded with user-defined code rate\n",
    "* QAM 4 bits\n",
    "* interleaving\n",
    "* Rayleigh or CDL channel model - at the moment is hard-coded in the CommsSystem class\n",
    "* support for ISI and ICI."
   ]
  },
  {
   "cell_type": "code",
   "execution_count": 4,
   "metadata": {
    "id": "hQsClo1u2EML"
   },
   "outputs": [],
   "source": [
    "sionna.config.xla_compat = True"
   ]
  },
  {
   "cell_type": "code",
   "execution_count": 10,
   "metadata": {
    "id": "TUv73G5c1YwA"
   },
   "outputs": [],
   "source": [
    "class CommsSystem(tf.keras.Model):\n",
    "  def __init__(self, params):\n",
    "    super().__init__()\n",
    "    #self.bandwidth = params[\"bandwidth\"]\n",
    "    # TODO: compute the fft_size and subcarrier spacing based on the bandwidth\n",
    "    # Define an OFDM Resource Grid Object\n",
    "    self.rg = sionna.ofdm.ResourceGrid(\n",
    "                          num_ofdm_symbols=14, #params[\"num_ofdm_symbols\"],\n",
    "                          fft_size=72, #params[\"fft_size\"],\n",
    "                          subcarrier_spacing=15e3, #params[\"subcarrier_spacing\"],\n",
    "                          num_tx=1,\n",
    "                          num_streams_per_tx=1,\n",
    "                          cyclic_prefix_length=params[\"cyclic_prefix_length\"],\n",
    "                          pilot_pattern=\"kronecker\",\n",
    "                          pilot_ofdm_symbol_indices=[2,11])#params[\"pilot_ofdm_symbol_indices\"])\n",
    "    self.bandwidth = self.rg.bandwidth # TODO: replace this later as user-defined\n",
    "\n",
    "    # Create a Stream Management object\n",
    "    self.sm = sionna.mimo.StreamManagement(rx_tx_association=np.array([[1]]),\n",
    "                                               num_streams_per_tx=1)\n",
    "    self.coderate = params[\"coderate\"]\n",
    "    self.num_bits_per_symbol = params[\"num_bits_per_symbol\"]\n",
    "    self.n = int(self.rg.num_data_symbols*self.num_bits_per_symbol)\n",
    "    self.k = int(self.n*self.coderate)\n",
    "\n",
    "    self.l_min, self.l_max = sionna.channel.time_lag_discrete_time_channel(\n",
    "                                            self.bandwidth\n",
    "                                            )\n",
    "    self.l_tot = self.l_max - self.l_min + 1\n",
    "\n",
    "    # The layers of the comms system\n",
    "    self.binary_source = sionna.utils.BinarySource()\n",
    "    self.encoder = sionna.fec.ldpc.encoding.LDPC5GEncoder(self.k, self.n)\n",
    "    self.interleaver = sionna.fec.interleaving.RowColumnInterleaver(\n",
    "                                          row_depth=self.num_bits_per_symbol)\n",
    "    self.deinterleaver = sionna.fec.interleaving.Deinterleaver(self.interleaver)\n",
    "    self.mapper = sionna.mapping.Mapper(\"qam\", self.num_bits_per_symbol)\n",
    "    self.rg_mapper = sionna.ofdm.ResourceGridMapper(self.rg)\n",
    "    self.modulator = sionna.ofdm.OFDMModulator(self.rg.cyclic_prefix_length)\n",
    "    self.demodulator = sionna.ofdm.OFDMDemodulator(self.rg.fft_size,\n",
    "                                                   self.l_min,\n",
    "                                                   self.rg.cyclic_prefix_length)\n",
    "    self.demapper = sionna.mapping.Demapper(\"app\", \"qam\", self.num_bits_per_symbol)\n",
    "    self.decoder = sionna.fec.ldpc.LDPC5GDecoder(self.encoder,\n",
    "                                                 hard_out=True,\n",
    "                                                 num_iter=50)\n",
    "    \n",
    "    # Use a Rayleigh channel\n",
    "    # self.channel = sionna.channel.RayleighBlockFading(1, 1, 1, 1)\n",
    "    # Use the CDL channel - which needs the antenna geometry\n",
    "    \"\"\"\n",
    "    if channel == None:  \n",
    "      carrier_frequency = 2.6e9\n",
    "      _ut_array = sionna.channel.tr38901.AntennaArray(num_rows=1,\n",
    "                                    num_cols=1,\n",
    "                                    polarization=\"dual\",\n",
    "                                    polarization_type=\"cross\",\n",
    "                                    antenna_pattern=\"38.901\",\n",
    "                                    carrier_frequency=carrier_frequency)\n",
    "\n",
    "      _bs_array = sionna.channel.tr38901.AntennaArray(num_rows=1,\n",
    "                                    num_cols=1,\n",
    "                                    polarization=\"dual\",\n",
    "                                    polarization_type=\"cross\",\n",
    "                                    antenna_pattern=\"38.901\",\n",
    "                                    carrier_frequency=carrier_frequency)    \n",
    "      self.channel = sionna.channel.tr38901.CDL(model=\"A\",\n",
    "                                                delay_spread=100e-9,\n",
    "                                                carrier_frequency=carrier_frequency,\n",
    "                                                ut_array=_ut_array,\n",
    "                                                bs_array=_bs_array,\n",
    "                                                direction=\"uplink\")\n",
    "    else:\n",
    "      self.channel = channel\n",
    "    \"\"\"\n",
    "    if 'channel' in params:\n",
    "        self.channel = params['channel']\n",
    "    self.channel_time = sionna.channel.ApplyTimeChannel(self.rg.num_time_samples,\n",
    "                                                        l_tot=self.l_tot,\n",
    "                                                        add_awgn=True)\n",
    "    # Channel estimation and equalization\n",
    "    self.ch_est = sionna.ofdm.LSChannelEstimator(self.rg)\n",
    "    self.ch_eq = sionna.ofdm.LMMSEEqualizer(self.rg, self.sm)\n",
    "\n",
    "  def set_channel(self, ch):\n",
    "    self.channel = ch\n",
    "    \n",
    "  @tf.function(jit_compile=True)\n",
    "  def call(self, batch_size, ebno_db):\n",
    "    # Compute the noise\n",
    "    no = sionna.utils.ebnodb2no(ebno_db, self.num_bits_per_symbol,\n",
    "                                self.coderate, self.rg)\n",
    "    # Generate the bit vectors\n",
    "    b = self.binary_source([batch_size, 1, 1, self.k])\n",
    "    # Encode the bits\n",
    "    c = self.encoder(b)\n",
    "    # Interleave\n",
    "    c_int = self.interleaver(c)\n",
    "    # Map to constellation symbols\n",
    "    s = self.mapper(c_int)\n",
    "    # Map onto OFDM resource grid\n",
    "    x_rg = self.rg_mapper(s)\n",
    "    # OFDM modulation\n",
    "    x_time = self.modulator(x_rg)\n",
    "\n",
    "    # Generate CIRs from the channel\n",
    "    cir = self.channel(batch_size, self.rg.num_time_samples+self.l_tot-1, self.bandwidth)\n",
    "    # Convert to time channel\n",
    "    h_time = sionna.channel.cir_to_time_channel(self.bandwidth,\n",
    "                                                *cir,\n",
    "                                                self.l_min, self.l_max,\n",
    "                                                normalize=True)\n",
    "    # Compute the channel output\n",
    "    y_time = self.channel_time([x_time, h_time, no])\n",
    "    # Demodulate\n",
    "    y = self.demodulator(y_time)\n",
    "\n",
    "    # TODO this is where we can distinguish between perfect/imperfect estimation\n",
    "\n",
    "    # Apply channel estimation\n",
    "    h_hat, err_var = self.ch_est([y, no])\n",
    "    # Apply equalization\n",
    "    x_hat, no_eff = self.ch_eq([y, h_hat, err_var, no])\n",
    "    # Demapping\n",
    "    llr = self.demapper([x_hat, no_eff])\n",
    "    # Deinterleave\n",
    "    llr_int = self.deinterleaver(llr)\n",
    "    # Decoding\n",
    "    b_hat = self.decoder(llr_int)\n",
    "    #ber = sionna.utils.metrics.compute_ber(b, b_hat)\n",
    "    return b, b_hat"
   ]
  },
  {
   "cell_type": "markdown",
   "metadata": {
    "id": "jWWKFbrds5DH"
   },
   "source": [
    "Generate a dataset channel"
   ]
  },
  {
   "cell_type": "code",
   "execution_count": 6,
   "metadata": {
    "id": "6lOmEaZwtQmY"
   },
   "outputs": [],
   "source": [
    "gburg_cir = [0,0.476857537421572,\n",
    "12.5,0.493390710409533,\n",
    "25,0.738230286645292,\n",
    "37.5,0.969836146969787,\n",
    "50,0.79887736811687,\n",
    "62.5,1,\n",
    "75,0.93040719829778,\n",
    "87.5,0.711218964780822,\n",
    "100,0.826124299014998,\n",
    "112.5,0.674280213167514,\n",
    "125,0.487805164866206,\n",
    "137.5,0.538017720435841,\n",
    "150,0.43615619413265,\n",
    "162.5,0.3011336502656,\n",
    "175,0.330748101910841,\n",
    "187.5,0.374497141938072,\n",
    "200,0.486134959538253,\n",
    "212.5,0.519823148738416,\n",
    "225,0.45675882762224,\n",
    "237.5,0.353749773109548,\n",
    "250,0.241906646884643,\n",
    "262.5,0.117252707765767,\n",
    "275,0.0113846239299499,\n",
    "287.5,0.122355857667484,\n",
    "300,0.160032337592821,\n",
    "312.5,0.26500699633174,\n",
    "325,0.370213551400985,\n",
    "337.5,0.399026631860705,\n",
    "350,0.339895964115828,\n",
    "362.5,0.246495252120125,\n",
    "375,0.164585268364148,\n",
    "387.5,0.13308504310719,\n",
    "400,0.113295741696201,\n",
    "412.5,0.100417807794374,\n",
    "425,0.0546832520976941,\n",
    "437.5,0.0240573957923266,\n",
    "450,0.0302876314303216,\n",
    "462.5,0.0140282453770033,\n",
    "475,0.0183366284646824,\n",
    "487.5,0.020406912319408,\n",
    "500,0.0411559215094589,\n",
    "512.5,0.0524987395660648,\n",
    "525,0.0396605482172029,\n",
    "537.5,0.0290271628596819,\n",
    "550,0.0337261534888983,\n",
    "562.5,0.0566605566717469,\n",
    "575,0.0629992130511019,\n",
    "587.5,0.0625959876415191,\n",
    "600,0.058985298387676,\n",
    "612.5,0.0249991011656625,\n",
    "625,0.0137315659857078,\n",
    "637.5,0.010887592714565,\n",
    "650,0.0128403130817059,\n",
    "662.5,0.0108510260744611,\n",
    "675,0.0148770948609453,\n",
    "687.5,0.0105770527301166,\n",
    "700,0.00205240566865047,\n",
    "712.5,0.00746343989386748,\n",
    "725,0.00797002167115853,\n",
    "737.5,0.0230121781876407,\n",
    "750,0.015742252711797,\n",
    "762.5,0.00138303913608394,\n",
    "775,0.000337093163522982,\n",
    "787.5,0.00199123726413073,\n",
    "800,0.00108690990903455,\n",
    "812.5,0.00025434193582135,\n",
    "825,0.000406603885721511,\n",
    "837.5,0.000184564813375292,\n",
    "850,0.000177060860565293,\n",
    "862.5,6.76121684734898e-05,\n",
    "875,0.000180689735084076,\n",
    "900,0.000160887459943062]"
   ]
  },
  {
   "cell_type": "code",
   "execution_count": 7,
   "metadata": {},
   "outputs": [],
   "source": [
    "cir_iq_data = pickle.load(open('cir_iq_data.pickle', 'rb'))"
   ]
  },
  {
   "cell_type": "code",
   "execution_count": 8,
   "metadata": {
    "id": "ueO4n0S1s61G"
   },
   "outputs": [],
   "source": [
    "# Create the channel generator that will return the path coeffs and delays\n",
    "class CIRGenerator:\n",
    "    def __init__(self, data, sampling_frequency, num_paths, num_time_steps):\n",
    "        \"\"\"\n",
    "        Parameters\n",
    "        ==========\n",
    "        data -- IQ data\n",
    "        sampling_frequency -- in Hz\n",
    "        num_paths -- actually number of taps\n",
    "        num_time_steps -- this is the number of channel uses  required\n",
    "        \"\"\"\n",
    "        self.super().__init()\n",
    "        self.num_paths = num_paths\n",
    "        self.num_time_steps = num_time_steps\n",
    "        self.data = data\n",
    "        self.num_samples = data.shape[1]\n",
    "        self.sampling_frequency = sampling_frequency\n",
    "        self.sampling_period = 1/self.sampling_frequency\n",
    "        self.path_delays = np.ndarray((1, 1, 1, 1, 1, self.num_paths))\n",
    "        self.path_delays[0][0][0][0][0] = [self.sampling_period*i for i in range(self.num_paths)]\n",
    "        \n",
    "    def (self):\n",
    "        for sample_idx in range(0, self.num_samples, self.num_time_steps):\n",
    "            cirs = self.data[:self.num_paths,sample_idx:sample_idx+self.num_time_steps]\n",
    "            a = np.ndarray((1, 1, 1, 1, 1, self.num_paths, self.num_time_steps))\n",
    "            a[0][0][0][0][0] = cirs\n",
    "            yield a, self.path_delays"
   ]
  },
  {
   "cell_type": "code",
   "execution_count": 11,
   "metadata": {
    "id": "Zz77OHIj-FRf"
   },
   "outputs": [
    {
     "ename": "AttributeError",
     "evalue": "'google.protobuf.pyext._message.RepeatedCompositeCo' object has no attribute 'append'",
     "output_type": "error",
     "traceback": [
      "\u001b[0;31m---------------------------------------------------------------------------\u001b[0m",
      "\u001b[0;31mAttributeError\u001b[0m                            Traceback (most recent call last)",
      "Input \u001b[0;32mIn [11]\u001b[0m, in \u001b[0;36m<cell line: 1>\u001b[0;34m()\u001b[0m\n\u001b[0;32m----> 1\u001b[0m model \u001b[38;5;241m=\u001b[39m \u001b[43mCommsSystem\u001b[49m\u001b[43m(\u001b[49m\u001b[43m{\u001b[49m\u001b[38;5;124;43m\"\u001b[39;49m\u001b[38;5;124;43mnum_bits_per_symbol\u001b[39;49m\u001b[38;5;124;43m\"\u001b[39;49m\u001b[43m:\u001b[49m\u001b[38;5;241;43m4\u001b[39;49m\u001b[43m,\u001b[49m\u001b[43m \u001b[49m\u001b[38;5;124;43m\"\u001b[39;49m\u001b[38;5;124;43mcyclic_prefix_length\u001b[39;49m\u001b[38;5;124;43m\"\u001b[39;49m\u001b[43m:\u001b[49m\u001b[38;5;241;43m6\u001b[39;49m\u001b[43m,\u001b[49m\u001b[43m \u001b[49m\u001b[38;5;124;43m\"\u001b[39;49m\u001b[38;5;124;43mcoderate\u001b[39;49m\u001b[38;5;124;43m\"\u001b[39;49m\u001b[43m:\u001b[49m\u001b[43m \u001b[49m\u001b[38;5;241;43m0.5\u001b[39;49m\u001b[43m}\u001b[49m\u001b[43m)\u001b[49m\n",
      "Input \u001b[0;32mIn [10]\u001b[0m, in \u001b[0;36mCommsSystem.__init__\u001b[0;34m(self, params)\u001b[0m\n\u001b[1;32m      2\u001b[0m \u001b[38;5;28;01mdef\u001b[39;00m \u001b[38;5;21m__init__\u001b[39m(\u001b[38;5;28mself\u001b[39m, params):\n\u001b[0;32m----> 3\u001b[0m   \u001b[38;5;28;43msuper\u001b[39;49m\u001b[43m(\u001b[49m\u001b[43m)\u001b[49m\u001b[38;5;241;43m.\u001b[39;49m\u001b[38;5;21;43m__init__\u001b[39;49m\u001b[43m(\u001b[49m\u001b[43m)\u001b[49m\n\u001b[1;32m      4\u001b[0m   \u001b[38;5;66;03m#self.bandwidth = params[\"bandwidth\"]\u001b[39;00m\n\u001b[1;32m      5\u001b[0m   \u001b[38;5;66;03m# TODO: compute the fft_size and subcarrier spacing based on the bandwidth\u001b[39;00m\n\u001b[1;32m      6\u001b[0m   \u001b[38;5;66;03m# Define an OFDM Resource Grid Object\u001b[39;00m\n\u001b[1;32m      7\u001b[0m   \u001b[38;5;28mself\u001b[39m\u001b[38;5;241m.\u001b[39mrg \u001b[38;5;241m=\u001b[39m sionna\u001b[38;5;241m.\u001b[39mofdm\u001b[38;5;241m.\u001b[39mResourceGrid(\n\u001b[1;32m      8\u001b[0m                         num_ofdm_symbols\u001b[38;5;241m=\u001b[39m\u001b[38;5;241m14\u001b[39m, \u001b[38;5;66;03m#params[\"num_ofdm_symbols\"],\u001b[39;00m\n\u001b[1;32m      9\u001b[0m                         fft_size\u001b[38;5;241m=\u001b[39m\u001b[38;5;241m72\u001b[39m, \u001b[38;5;66;03m#params[\"fft_size\"],\u001b[39;00m\n\u001b[0;32m   (...)\u001b[0m\n\u001b[1;32m     14\u001b[0m                         pilot_pattern\u001b[38;5;241m=\u001b[39m\u001b[38;5;124m\"\u001b[39m\u001b[38;5;124mkronecker\u001b[39m\u001b[38;5;124m\"\u001b[39m,\n\u001b[1;32m     15\u001b[0m                         pilot_ofdm_symbol_indices\u001b[38;5;241m=\u001b[39m[\u001b[38;5;241m2\u001b[39m,\u001b[38;5;241m11\u001b[39m])\u001b[38;5;66;03m#params[\"pilot_ofdm_symbol_indices\"])\u001b[39;00m\n",
      "File \u001b[0;32m~/work/Confirm/work/phy-sim/sionnaenv/lib/python3.8/site-packages/tensorflow/python/training/tracking/base.py:629\u001b[0m, in \u001b[0;36mno_automatic_dependency_tracking.<locals>._method_wrapper\u001b[0;34m(self, *args, **kwargs)\u001b[0m\n\u001b[1;32m    627\u001b[0m \u001b[38;5;28mself\u001b[39m\u001b[38;5;241m.\u001b[39m_self_setattr_tracking \u001b[38;5;241m=\u001b[39m \u001b[38;5;28;01mFalse\u001b[39;00m  \u001b[38;5;66;03m# pylint: disable=protected-access\u001b[39;00m\n\u001b[1;32m    628\u001b[0m \u001b[38;5;28;01mtry\u001b[39;00m:\n\u001b[0;32m--> 629\u001b[0m   result \u001b[38;5;241m=\u001b[39m \u001b[43mmethod\u001b[49m\u001b[43m(\u001b[49m\u001b[38;5;28;43mself\u001b[39;49m\u001b[43m,\u001b[49m\u001b[43m \u001b[49m\u001b[38;5;241;43m*\u001b[39;49m\u001b[43margs\u001b[49m\u001b[43m,\u001b[49m\u001b[43m \u001b[49m\u001b[38;5;241;43m*\u001b[39;49m\u001b[38;5;241;43m*\u001b[39;49m\u001b[43mkwargs\u001b[49m\u001b[43m)\u001b[49m\n\u001b[1;32m    630\u001b[0m \u001b[38;5;28;01mfinally\u001b[39;00m:\n\u001b[1;32m    631\u001b[0m   \u001b[38;5;28mself\u001b[39m\u001b[38;5;241m.\u001b[39m_self_setattr_tracking \u001b[38;5;241m=\u001b[39m previous_value  \u001b[38;5;66;03m# pylint: disable=protected-access\u001b[39;00m\n",
      "File \u001b[0;32m~/work/Confirm/work/phy-sim/sionnaenv/lib/python3.8/site-packages/keras/utils/traceback_utils.py:67\u001b[0m, in \u001b[0;36mfilter_traceback.<locals>.error_handler\u001b[0;34m(*args, **kwargs)\u001b[0m\n\u001b[1;32m     65\u001b[0m \u001b[38;5;28;01mexcept\u001b[39;00m \u001b[38;5;167;01mException\u001b[39;00m \u001b[38;5;28;01mas\u001b[39;00m e:  \u001b[38;5;66;03m# pylint: disable=broad-except\u001b[39;00m\n\u001b[1;32m     66\u001b[0m   filtered_tb \u001b[38;5;241m=\u001b[39m _process_traceback_frames(e\u001b[38;5;241m.\u001b[39m__traceback__)\n\u001b[0;32m---> 67\u001b[0m   \u001b[38;5;28;01mraise\u001b[39;00m e\u001b[38;5;241m.\u001b[39mwith_traceback(filtered_tb) \u001b[38;5;28;01mfrom\u001b[39;00m \u001b[38;5;28mNone\u001b[39m\n\u001b[1;32m     68\u001b[0m \u001b[38;5;28;01mfinally\u001b[39;00m:\n\u001b[1;32m     69\u001b[0m   \u001b[38;5;28;01mdel\u001b[39;00m filtered_tb\n",
      "File \u001b[0;32m~/work/Confirm/work/phy-sim/sionnaenv/lib/python3.8/site-packages/tensorflow/python/ops/resource_variable_ops.py:176\u001b[0m, in \u001b[0;36m_variable_handle_from_shape_and_dtype\u001b[0;34m(shape, dtype, shared_name, name, graph_mode, initial_value)\u001b[0m\n\u001b[1;32m    174\u001b[0m handle_data \u001b[38;5;241m=\u001b[39m cpp_shape_inference_pb2\u001b[38;5;241m.\u001b[39mCppShapeInferenceResult\u001b[38;5;241m.\u001b[39mHandleData()\n\u001b[1;32m    175\u001b[0m handle_data\u001b[38;5;241m.\u001b[39mis_set \u001b[38;5;241m=\u001b[39m \u001b[38;5;28;01mTrue\u001b[39;00m\n\u001b[0;32m--> 176\u001b[0m \u001b[43mhandle_data\u001b[49m\u001b[38;5;241;43m.\u001b[39;49m\u001b[43mshape_and_type\u001b[49m\u001b[38;5;241;43m.\u001b[39;49m\u001b[43mappend\u001b[49m(\n\u001b[1;32m    177\u001b[0m     cpp_shape_inference_pb2\u001b[38;5;241m.\u001b[39mCppShapeInferenceResult\u001b[38;5;241m.\u001b[39mHandleShapeAndType(\n\u001b[1;32m    178\u001b[0m         shape\u001b[38;5;241m=\u001b[39mshape\u001b[38;5;241m.\u001b[39mas_proto(), dtype\u001b[38;5;241m=\u001b[39mdtype\u001b[38;5;241m.\u001b[39mas_datatype_enum))\n\u001b[1;32m    180\u001b[0m \u001b[38;5;28;01mif\u001b[39;00m initial_value \u001b[38;5;129;01mis\u001b[39;00m \u001b[38;5;129;01mnot\u001b[39;00m \u001b[38;5;28;01mNone\u001b[39;00m \u001b[38;5;129;01mand\u001b[39;00m initial_value\u001b[38;5;241m.\u001b[39mdtype \u001b[38;5;241m==\u001b[39m dtypes\u001b[38;5;241m.\u001b[39mvariant:\n\u001b[1;32m    181\u001b[0m   extra_handle_data \u001b[38;5;241m=\u001b[39m get_eager_safe_handle_data(initial_value)\n",
      "\u001b[0;31mAttributeError\u001b[0m: 'google.protobuf.pyext._message.RepeatedCompositeCo' object has no attribute 'append'"
     ]
    }
   ],
   "source": [
    "model = CommsSystem({\"num_bits_per_symbol\":4, \"cyclic_prefix_length\":6, \"coderate\": 0.5})"
   ]
  },
  {
   "cell_type": "code",
   "execution_count": 13,
   "metadata": {},
   "outputs": [],
   "source": [
    "from google import protobuf"
   ]
  },
  {
   "cell_type": "code",
   "execution_count": 17,
   "metadata": {},
   "outputs": [
    {
     "ename": "TypeError",
     "evalue": "cannot create 'google.protobuf.pyext._message.RepeatedCompositeContainer' instances",
     "output_type": "error",
     "traceback": [
      "\u001b[0;31m---------------------------------------------------------------------------\u001b[0m",
      "\u001b[0;31mTypeError\u001b[0m                                 Traceback (most recent call last)",
      "Input \u001b[0;32mIn [17]\u001b[0m, in \u001b[0;36m<cell line: 1>\u001b[0;34m()\u001b[0m\n\u001b[0;32m----> 1\u001b[0m m \u001b[38;5;241m=\u001b[39m \u001b[43mprotobuf\u001b[49m\u001b[38;5;241;43m.\u001b[39;49m\u001b[43mpyext\u001b[49m\u001b[38;5;241;43m.\u001b[39;49m\u001b[43m_message\u001b[49m\u001b[38;5;241;43m.\u001b[39;49m\u001b[43mRepeatedCompositeContainer\u001b[49m\u001b[43m(\u001b[49m\u001b[43m)\u001b[49m\n",
      "\u001b[0;31mTypeError\u001b[0m: cannot create 'google.protobuf.pyext._message.RepeatedCompositeContainer' instances"
     ]
    }
   ],
   "source": [
    "m = protobuf.pyext._message.RepeatedCompositeContainer()"
   ]
  },
  {
   "cell_type": "code",
   "execution_count": null,
   "metadata": {},
   "outputs": [],
   "source": [
    "cir_gen = CIRGenerator(cir_iq_data, 200e6, 100, model.rg.num_time_samples)"
   ]
  },
  {
   "cell_type": "code",
   "execution_count": null,
   "metadata": {
    "id": "YU7kuBWOV7mT"
   },
   "outputs": [],
   "source": [
    "b, b_hat = model(tf.constant(256, tf.int32), tf.constant(5, tf.float32))"
   ]
  },
  {
   "cell_type": "code",
   "execution_count": null,
   "metadata": {
    "colab": {
     "base_uri": "https://localhost:8080/"
    },
    "id": "0q_hDUAlWE76",
    "outputId": "43fd1e3e-9e0d-4560-fd7c-fbf8f53f2b10"
   },
   "outputs": [
    {
     "data": {
      "text/plain": [
       "<tf.Tensor: shape=(), dtype=int32, numpy=864>"
      ]
     },
     "execution_count": 6,
     "metadata": {},
     "output_type": "execute_result"
    }
   ],
   "source": [
    "model.rg.num_data_symbols"
   ]
  },
  {
   "cell_type": "code",
   "execution_count": null,
   "metadata": {
    "colab": {
     "base_uri": "https://localhost:8080/"
    },
    "id": "jcwofCg2_7uS",
    "outputId": "0cd2ae88-0c1d-449b-df0a-592693cd7c47"
   },
   "outputs": [
    {
     "name": "stdout",
     "output_type": "stream",
     "text": [
      "EbNo [dB] |        BER |       BLER |  bit errors |    num bits | block errors |  num blocks | runtime [s] |    status\n",
      "---------------------------------------------------------------------------------------------------------------------------------------\n",
      "      0.0 | 1.7715e-01 | 7.0082e-01 |     4388458 |    24772608 |        10047 |       14336 |        19.6 |reached target block errors\n",
      "      2.0 | 9.9470e-02 | 4.0379e-01 |     4268225 |    42909696 |        10027 |       24832 |        30.3 |reached target block errors\n",
      "      4.0 | 5.6417e-02 | 2.3550e-01 |     4142899 |    73433088 |        10008 |       42496 |        52.2 |reached target block errors\n",
      "      6.0 | 2.9028e-02 | 1.2449e-01 |     4032153 |   138903552 |        10007 |       80384 |        97.1 |reached target block errors\n",
      "      8.0 | 1.4944e-02 | 6.5317e-02 |     3959958 |   264978432 |        10016 |      153344 |       185.4 |reached target block errors\n",
      "     10.0 | 6.8442e-03 | 3.0605e-02 |     3027674 |   442368000 |         7835 |      256000 |       310.5 |reached max iter       \n",
      "     12.0 | 3.1630e-03 | 1.4516e-02 |     1399201 |   442368000 |         3716 |      256000 |       308.8 |reached max iter       \n",
      "     14.0 | 1.3458e-03 | 6.2109e-03 |      595354 |   442368000 |         1590 |      256000 |       308.4 |reached max iter       \n",
      "     16.0 | 5.4366e-04 | 2.6289e-03 |      240499 |   442368000 |          673 |      256000 |       310.6 |reached max iter       \n",
      "     18.0 | 2.2954e-04 | 1.0703e-03 |      101541 |   442368000 |          274 |      256000 |       309.0 |reached max iter       \n",
      "It took 1932.302482843399\n"
     ]
    }
   ],
   "source": [
    "start = time.time()\n",
    "ber, bler = sionna.utils.sim_ber(model, np.arange(0, 20, 2.0), batch_size=256,\n",
    "                                 max_mc_iter=1000, num_target_block_errors=10000)\n",
    "print(f\"It took {time.time()-start}\")"
   ]
  },
  {
   "cell_type": "code",
   "execution_count": null,
   "metadata": {
    "colab": {
     "base_uri": "https://localhost:8080/",
     "height": 282
    },
    "id": "02W-K95PHvKi",
    "outputId": "4961cb09-d707-4bd9-e00b-a1fe7212a48b"
   },
   "outputs": [
    {
     "data": {
      "text/plain": [
       "[<matplotlib.lines.Line2D at 0x7f1f09250f50>]"
      ]
     },
     "execution_count": 8,
     "metadata": {},
     "output_type": "execute_result"
    },
    {
     "data": {
      "image/png": "[encoded data removed]",
      "text/plain": [
       "<Figure size 432x288 with 1 Axes>"
      ]
     },
     "metadata": {
      "needs_background": "light"
     },
     "output_type": "display_data"
    }
   ],
   "source": [
    "plt.semilogy(np.arange(0,20,2.0), ber)"
   ]
  },
  {
   "cell_type": "code",
   "execution_count": null,
   "metadata": {
    "colab": {
     "base_uri": "https://localhost:8080/",
     "height": 282
    },
    "id": "G5WMbuT0YdZA",
    "outputId": "b4d227dc-3c64-4428-a960-d732c1ac6276"
   },
   "outputs": [
    {
     "data": {
      "text/plain": [
       "[<matplotlib.lines.Line2D at 0x7f1f08c33e50>]"
      ]
     },
     "execution_count": 9,
     "metadata": {},
     "output_type": "execute_result"
    },
    {
     "data": {
      "image/png": "[encoded data removed]",
      "text/plain": [
       "<Figure size 432x288 with 1 Axes>"
      ]
     },
     "metadata": {
      "needs_background": "light"
     },
     "output_type": "display_data"
    }
   ],
   "source": [
    "plt.semilogy(np.arange(0,20,2.0), bler)"
   ]
  }
 ],
 "metadata": {
  "colab": {
   "name": "sionna_experiments.ipynb",
   "provenance": []
  },
  "kernelspec": {
   "display_name": "Python 3 (ipykernel)",
   "language": "python",
   "name": "python3"
  },
  "language_info": {
   "codemirror_mode": {
    "name": "ipython",
    "version": 3
   },
   "file_extension": ".py",
   "mimetype": "text/x-python",
   "name": "python",
   "nbconvert_exporter": "python",
   "pygments_lexer": "ipython3",
   "version": "3.8.10"
  }
 },
 "nbformat": 4,
 "nbformat_minor": 1
}
