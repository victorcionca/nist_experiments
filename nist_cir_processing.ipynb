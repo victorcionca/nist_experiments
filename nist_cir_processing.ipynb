{
 "cells": [
  {
   "cell_type": "code",
   "execution_count": 15,
   "id": "422208b4",
   "metadata": {},
   "outputs": [],
   "source": [
    "import matplotlib.pyplot as plt\n",
    "import numpy as np\n",
    "import pickle\n",
    "from itertools import zip_longest"
   ]
  },
  {
   "cell_type": "code",
   "execution_count": 7,
   "id": "1c7e8846",
   "metadata": {},
   "outputs": [],
   "source": [
    "import mat73"
   ]
  },
  {
   "cell_type": "code",
   "execution_count": 8,
   "id": "afe35d47",
   "metadata": {},
   "outputs": [],
   "source": [
    "meas = mat73.loadmat('Results/MachineShop/Tx2_2G_Boiler_Vpol_Cloudat6_run1_pp.mat')"
   ]
  },
  {
   "cell_type": "code",
   "execution_count": 9,
   "id": "9b7504f9",
   "metadata": {},
   "outputs": [],
   "source": [
    "meta = meas['Strct_Metadata']"
   ]
  },
  {
   "cell_type": "code",
   "execution_count": 10,
   "id": "57d47667",
   "metadata": {},
   "outputs": [
    {
     "data": {
      "text/plain": [
       "0.00019999999999999998"
      ]
     },
     "execution_count": 10,
     "metadata": {},
     "output_type": "execute_result"
    }
   ],
   "source": [
    "meta['SampleRate_MHz_num']*1e-6"
   ]
  },
  {
   "cell_type": "code",
   "execution_count": 46,
   "id": "6632dae1",
   "metadata": {},
   "outputs": [],
   "source": [
    "def get_peaks(cir, sample_period):\n",
    "    \"\"\"\n",
    "    Returns the peaks and their time delays\n",
    "    \"\"\"\n",
    "    # Normalize the CIR\n",
    "    cir = cir/((np.abs(cir))).max()\n",
    "    # Calculate the peak value; peak threshold at 15dB from peak\n",
    "    cir_mag = abs(cir)**2\n",
    "    pkt = np.max(cir_mag)/31.6\n",
    "    \n",
    "    from scipy.signal import find_peaks\n",
    "    peaks, _ = find_peaks(cir_mag, height=pkt)\n",
    "    \n",
    "    return cir[peaks], peaks*sample_period"
   ]
  },
  {
   "cell_type": "code",
   "execution_count": 12,
   "id": "e77113fc",
   "metadata": {},
   "outputs": [],
   "source": [
    "sample_period = 1/meta['SampleRate_MHz_num']*1e-6"
   ]
  },
  {
   "cell_type": "code",
   "execution_count": 13,
   "id": "2c6ef2ee",
   "metadata": {},
   "outputs": [],
   "source": [
    "IQ_data = meas['IQdata']"
   ]
  },
  {
   "cell_type": "markdown",
   "id": "3cc15c92",
   "metadata": {},
   "source": [
    "IQ_data.shape"
   ]
  },
  {
   "cell_type": "code",
   "execution_count": 47,
   "id": "373d12b9",
   "metadata": {},
   "outputs": [],
   "source": [
    "peaks = get_peaks(IQ_data[:,0], sample_period)"
   ]
  },
  {
   "cell_type": "code",
   "execution_count": 31,
   "id": "18d11256",
   "metadata": {},
   "outputs": [],
   "source": [
    "delays = np.arange(0,100)*sample_period"
   ]
  },
  {
   "cell_type": "code",
   "execution_count": 18,
   "id": "2c0f50de",
   "metadata": {},
   "outputs": [],
   "source": [
    "cir = IQ_data[:,0]"
   ]
  },
  {
   "cell_type": "code",
   "execution_count": 48,
   "id": "d8bd548f",
   "metadata": {},
   "outputs": [
    {
     "data": {
      "text/plain": [
       "[<matplotlib.lines.Line2D at 0x7fe2117d5c70>]"
      ]
     },
     "execution_count": 48,
     "metadata": {},
     "output_type": "execute_result"
    },
    {
     "data": {
      "image/png": "[encoded data removed]",
      "text/plain": [
       "<Figure size 432x288 with 1 Axes>"
      ]
     },
     "metadata": {
      "needs_background": "light"
     },
     "output_type": "display_data"
    }
   ],
   "source": [
    "plt.plot(delays, (abs(cir)**2)[:100])\n",
    "plt.plot(peaks[1], abs(peaks[0])**2, 'o')"
   ]
  },
  {
   "cell_type": "code",
   "execution_count": 99,
   "id": "b03ae5fa",
   "metadata": {},
   "outputs": [
    {
     "ename": "ValueError",
     "evalue": "x and y must have same first dimension, but have shapes (7,) and (100,)",
     "output_type": "error",
     "traceback": [
      "\u001b[0;31m---------------------------------------------------------------------------\u001b[0m",
      "\u001b[0;31mValueError\u001b[0m                                Traceback (most recent call last)",
      "Input \u001b[0;32mIn [99]\u001b[0m, in \u001b[0;36m<cell line: 4>\u001b[0;34m()\u001b[0m\n\u001b[1;32m      2\u001b[0m peaks \u001b[38;5;241m=\u001b[39m get_peaks(IQ_data[:,cir_sample], sample_period)\n\u001b[1;32m      3\u001b[0m cir \u001b[38;5;241m=\u001b[39m IQ_data[:,cir_sample]\n\u001b[0;32m----> 4\u001b[0m \u001b[43mplt\u001b[49m\u001b[38;5;241;43m.\u001b[39;49m\u001b[43mplot\u001b[49m\u001b[43m(\u001b[49m\u001b[43mdelays\u001b[49m\u001b[43m,\u001b[49m\u001b[43m \u001b[49m\u001b[43m(\u001b[49m\u001b[38;5;28;43mabs\u001b[39;49m\u001b[43m(\u001b[49m\u001b[43mcir\u001b[49m\u001b[43m)\u001b[49m\u001b[38;5;241;43m*\u001b[39;49m\u001b[38;5;241;43m*\u001b[39;49m\u001b[38;5;241;43m2\u001b[39;49m\u001b[43m)\u001b[49m\u001b[43m[\u001b[49m\u001b[43m:\u001b[49m\u001b[38;5;241;43m100\u001b[39;49m\u001b[43m]\u001b[49m\u001b[43m)\u001b[49m\n\u001b[1;32m      5\u001b[0m plt\u001b[38;5;241m.\u001b[39mplot(peaks[\u001b[38;5;241m1\u001b[39m], \u001b[38;5;28mabs\u001b[39m(peaks[\u001b[38;5;241m0\u001b[39m])\u001b[38;5;241m*\u001b[39m\u001b[38;5;241m*\u001b[39m\u001b[38;5;241m2\u001b[39m, \u001b[38;5;124m'\u001b[39m\u001b[38;5;124mo\u001b[39m\u001b[38;5;124m'\u001b[39m)\n",
      "File \u001b[0;32m/usr/local/lib/python3.8/dist-packages/matplotlib/pyplot.py:2757\u001b[0m, in \u001b[0;36mplot\u001b[0;34m(scalex, scaley, data, *args, **kwargs)\u001b[0m\n\u001b[1;32m   2755\u001b[0m \u001b[38;5;129m@_copy_docstring_and_deprecators\u001b[39m(Axes\u001b[38;5;241m.\u001b[39mplot)\n\u001b[1;32m   2756\u001b[0m \u001b[38;5;28;01mdef\u001b[39;00m \u001b[38;5;21mplot\u001b[39m(\u001b[38;5;241m*\u001b[39margs, scalex\u001b[38;5;241m=\u001b[39m\u001b[38;5;28;01mTrue\u001b[39;00m, scaley\u001b[38;5;241m=\u001b[39m\u001b[38;5;28;01mTrue\u001b[39;00m, data\u001b[38;5;241m=\u001b[39m\u001b[38;5;28;01mNone\u001b[39;00m, \u001b[38;5;241m*\u001b[39m\u001b[38;5;241m*\u001b[39mkwargs):\n\u001b[0;32m-> 2757\u001b[0m     \u001b[38;5;28;01mreturn\u001b[39;00m \u001b[43mgca\u001b[49m\u001b[43m(\u001b[49m\u001b[43m)\u001b[49m\u001b[38;5;241;43m.\u001b[39;49m\u001b[43mplot\u001b[49m\u001b[43m(\u001b[49m\n\u001b[1;32m   2758\u001b[0m \u001b[43m        \u001b[49m\u001b[38;5;241;43m*\u001b[39;49m\u001b[43margs\u001b[49m\u001b[43m,\u001b[49m\u001b[43m \u001b[49m\u001b[43mscalex\u001b[49m\u001b[38;5;241;43m=\u001b[39;49m\u001b[43mscalex\u001b[49m\u001b[43m,\u001b[49m\u001b[43m \u001b[49m\u001b[43mscaley\u001b[49m\u001b[38;5;241;43m=\u001b[39;49m\u001b[43mscaley\u001b[49m\u001b[43m,\u001b[49m\n\u001b[1;32m   2759\u001b[0m \u001b[43m        \u001b[49m\u001b[38;5;241;43m*\u001b[39;49m\u001b[38;5;241;43m*\u001b[39;49m\u001b[43m(\u001b[49m\u001b[43m{\u001b[49m\u001b[38;5;124;43m\"\u001b[39;49m\u001b[38;5;124;43mdata\u001b[39;49m\u001b[38;5;124;43m\"\u001b[39;49m\u001b[43m:\u001b[49m\u001b[43m \u001b[49m\u001b[43mdata\u001b[49m\u001b[43m}\u001b[49m\u001b[43m \u001b[49m\u001b[38;5;28;43;01mif\u001b[39;49;00m\u001b[43m \u001b[49m\u001b[43mdata\u001b[49m\u001b[43m \u001b[49m\u001b[38;5;129;43;01mis\u001b[39;49;00m\u001b[43m \u001b[49m\u001b[38;5;129;43;01mnot\u001b[39;49;00m\u001b[43m \u001b[49m\u001b[38;5;28;43;01mNone\u001b[39;49;00m\u001b[43m \u001b[49m\u001b[38;5;28;43;01melse\u001b[39;49;00m\u001b[43m \u001b[49m\u001b[43m{\u001b[49m\u001b[43m}\u001b[49m\u001b[43m)\u001b[49m\u001b[43m,\u001b[49m\u001b[43m \u001b[49m\u001b[38;5;241;43m*\u001b[39;49m\u001b[38;5;241;43m*\u001b[39;49m\u001b[43mkwargs\u001b[49m\u001b[43m)\u001b[49m\n",
      "File \u001b[0;32m/usr/local/lib/python3.8/dist-packages/matplotlib/axes/_axes.py:1632\u001b[0m, in \u001b[0;36mAxes.plot\u001b[0;34m(self, scalex, scaley, data, *args, **kwargs)\u001b[0m\n\u001b[1;32m   1390\u001b[0m \u001b[38;5;124;03m\"\"\"\u001b[39;00m\n\u001b[1;32m   1391\u001b[0m \u001b[38;5;124;03mPlot y versus x as lines and/or markers.\u001b[39;00m\n\u001b[1;32m   1392\u001b[0m \n\u001b[0;32m   (...)\u001b[0m\n\u001b[1;32m   1629\u001b[0m \u001b[38;5;124;03m(``'green'``) or hex strings (``'#008000'``).\u001b[39;00m\n\u001b[1;32m   1630\u001b[0m \u001b[38;5;124;03m\"\"\"\u001b[39;00m\n\u001b[1;32m   1631\u001b[0m kwargs \u001b[38;5;241m=\u001b[39m cbook\u001b[38;5;241m.\u001b[39mnormalize_kwargs(kwargs, mlines\u001b[38;5;241m.\u001b[39mLine2D)\n\u001b[0;32m-> 1632\u001b[0m lines \u001b[38;5;241m=\u001b[39m [\u001b[38;5;241m*\u001b[39m\u001b[38;5;28mself\u001b[39m\u001b[38;5;241m.\u001b[39m_get_lines(\u001b[38;5;241m*\u001b[39margs, data\u001b[38;5;241m=\u001b[39mdata, \u001b[38;5;241m*\u001b[39m\u001b[38;5;241m*\u001b[39mkwargs)]\n\u001b[1;32m   1633\u001b[0m \u001b[38;5;28;01mfor\u001b[39;00m line \u001b[38;5;129;01min\u001b[39;00m lines:\n\u001b[1;32m   1634\u001b[0m     \u001b[38;5;28mself\u001b[39m\u001b[38;5;241m.\u001b[39madd_line(line)\n",
      "File \u001b[0;32m/usr/local/lib/python3.8/dist-packages/matplotlib/axes/_base.py:312\u001b[0m, in \u001b[0;36m_process_plot_var_args.__call__\u001b[0;34m(self, data, *args, **kwargs)\u001b[0m\n\u001b[1;32m    310\u001b[0m     this \u001b[38;5;241m+\u001b[39m\u001b[38;5;241m=\u001b[39m args[\u001b[38;5;241m0\u001b[39m],\n\u001b[1;32m    311\u001b[0m     args \u001b[38;5;241m=\u001b[39m args[\u001b[38;5;241m1\u001b[39m:]\n\u001b[0;32m--> 312\u001b[0m \u001b[38;5;28;01myield from\u001b[39;00m \u001b[38;5;28;43mself\u001b[39;49m\u001b[38;5;241;43m.\u001b[39;49m\u001b[43m_plot_args\u001b[49m\u001b[43m(\u001b[49m\u001b[43mthis\u001b[49m\u001b[43m,\u001b[49m\u001b[43m \u001b[49m\u001b[43mkwargs\u001b[49m\u001b[43m)\u001b[49m\n",
      "File \u001b[0;32m/usr/local/lib/python3.8/dist-packages/matplotlib/axes/_base.py:498\u001b[0m, in \u001b[0;36m_process_plot_var_args._plot_args\u001b[0;34m(self, tup, kwargs, return_kwargs)\u001b[0m\n\u001b[1;32m    495\u001b[0m     \u001b[38;5;28mself\u001b[39m\u001b[38;5;241m.\u001b[39maxes\u001b[38;5;241m.\u001b[39myaxis\u001b[38;5;241m.\u001b[39mupdate_units(y)\n\u001b[1;32m    497\u001b[0m \u001b[38;5;28;01mif\u001b[39;00m x\u001b[38;5;241m.\u001b[39mshape[\u001b[38;5;241m0\u001b[39m] \u001b[38;5;241m!=\u001b[39m y\u001b[38;5;241m.\u001b[39mshape[\u001b[38;5;241m0\u001b[39m]:\n\u001b[0;32m--> 498\u001b[0m     \u001b[38;5;28;01mraise\u001b[39;00m \u001b[38;5;167;01mValueError\u001b[39;00m(\u001b[38;5;124mf\u001b[39m\u001b[38;5;124m\"\u001b[39m\u001b[38;5;124mx and y must have same first dimension, but \u001b[39m\u001b[38;5;124m\"\u001b[39m\n\u001b[1;32m    499\u001b[0m                      \u001b[38;5;124mf\u001b[39m\u001b[38;5;124m\"\u001b[39m\u001b[38;5;124mhave shapes \u001b[39m\u001b[38;5;132;01m{\u001b[39;00mx\u001b[38;5;241m.\u001b[39mshape\u001b[38;5;132;01m}\u001b[39;00m\u001b[38;5;124m and \u001b[39m\u001b[38;5;132;01m{\u001b[39;00my\u001b[38;5;241m.\u001b[39mshape\u001b[38;5;132;01m}\u001b[39;00m\u001b[38;5;124m\"\u001b[39m)\n\u001b[1;32m    500\u001b[0m \u001b[38;5;28;01mif\u001b[39;00m x\u001b[38;5;241m.\u001b[39mndim \u001b[38;5;241m>\u001b[39m \u001b[38;5;241m2\u001b[39m \u001b[38;5;129;01mor\u001b[39;00m y\u001b[38;5;241m.\u001b[39mndim \u001b[38;5;241m>\u001b[39m \u001b[38;5;241m2\u001b[39m:\n\u001b[1;32m    501\u001b[0m     \u001b[38;5;28;01mraise\u001b[39;00m \u001b[38;5;167;01mValueError\u001b[39;00m(\u001b[38;5;124mf\u001b[39m\u001b[38;5;124m\"\u001b[39m\u001b[38;5;124mx and y can be no greater than 2D, but have \u001b[39m\u001b[38;5;124m\"\u001b[39m\n\u001b[1;32m    502\u001b[0m                      \u001b[38;5;124mf\u001b[39m\u001b[38;5;124m\"\u001b[39m\u001b[38;5;124mshapes \u001b[39m\u001b[38;5;132;01m{\u001b[39;00mx\u001b[38;5;241m.\u001b[39mshape\u001b[38;5;132;01m}\u001b[39;00m\u001b[38;5;124m and \u001b[39m\u001b[38;5;132;01m{\u001b[39;00my\u001b[38;5;241m.\u001b[39mshape\u001b[38;5;132;01m}\u001b[39;00m\u001b[38;5;124m\"\u001b[39m)\n",
      "\u001b[0;31mValueError\u001b[0m: x and y must have same first dimension, but have shapes (7,) and (100,)"
     ]
    },
    {
     "data": {
      "image/png": "[encoded data removed]",
      "text/plain": [
       "<Figure size 432x288 with 1 Axes>"
      ]
     },
     "metadata": {
      "needs_background": "light"
     },
     "output_type": "display_data"
    }
   ],
   "source": [
    "cir_sample = 1\n",
    "peaks = get_peaks(IQ_data[:,cir_sample], sample_period)\n",
    "cir = IQ_data[:,cir_sample]\n",
    "plt.plot(delays, (abs(cir)**2)[:100])\n",
    "plt.plot(peaks[1], abs(peaks[0])**2, 'o')"
   ]
  },
  {
   "cell_type": "markdown",
   "id": "1ed072f6",
   "metadata": {},
   "source": [
    "Calculate path coefficients and delays for all CIR samples.\n",
    "Determine the path distribution"
   ]
  },
  {
   "cell_type": "code",
   "execution_count": 57,
   "id": "1d40aab7",
   "metadata": {},
   "outputs": [
    {
     "name": "stdout",
     "output_type": "stream",
     "text": [
      "Mean number of paths =  8.06938775510204\n"
     ]
    },
    {
     "data": {
      "image/png": "[encoded data removed]",
      "text/plain": [
       "<Figure size 432x288 with 1 Axes>"
      ]
     },
     "metadata": {
      "needs_background": "light"
     },
     "output_type": "display_data"
    }
   ],
   "source": [
    "paths = []\n",
    "for cir_idx in range(IQ_data.shape[1]):\n",
    "    cir = IQ_data[:,cir_idx]\n",
    "    peaks = get_peaks(cir, sample_period)\n",
    "    paths.append(peaks)\n",
    "print('Mean number of paths = ', np.mean([len(x[0]) for x in paths]))\n",
    "_=plt.hist([len(x[0]) for x in paths])"
   ]
  },
  {
   "cell_type": "markdown",
   "id": "749b64a6",
   "metadata": {},
   "source": [
    "Issues with dataset-based channel in Sionna\n",
    "* there is an expectation that the channel is constant over the number of time steps considered (the OFDM resource grid)"
   ]
  },
  {
   "cell_type": "markdown",
   "id": "b3b35f27",
   "metadata": {},
   "source": [
    "Solution\n",
    "* we assume that the channel doesn't change over the time steps considered for the OFDM resource grid\n",
    "* as such every call to the generator will return the same path coefficients and delays for the entire time steps\n",
    "\n",
    "Potential disadvantages\n",
    "* missing out on ICI and ISI effects?"
   ]
  },
  {
   "cell_type": "code",
   "execution_count": 78,
   "id": "6d9d2a3c",
   "metadata": {},
   "outputs": [],
   "source": [
    "pickle.dump(paths, open('Tx2_2G_Boiler_Vpol_Cloudat6_run1_pp__paths.pickle', 'wb'))"
   ]
  },
  {
   "cell_type": "code",
   "execution_count": 55,
   "id": "099956b4",
   "metadata": {},
   "outputs": [
    {
     "data": {
      "text/plain": [
       "8.06938775510204"
      ]
     },
     "execution_count": 55,
     "metadata": {},
     "output_type": "execute_result"
    }
   ],
   "source": [
    "np.mean([len(x[0]) for x in paths])"
   ]
  },
  {
   "cell_type": "code",
   "execution_count": 68,
   "id": "1eec62ed",
   "metadata": {},
   "outputs": [],
   "source": [
    "pickle.dump(IQ_data[:100,:], open('cir_iq_data.pickle', 'wb'))"
   ]
  },
  {
   "cell_type": "code",
   "execution_count": 94,
   "id": "e816a5e7",
   "metadata": {},
   "outputs": [
    {
     "data": {
      "text/plain": [
       "array([ 0.73738597+0.50463945j,  0.97839543-0.2067423j ,\n",
       "        0.13351481+0.90802982j, -0.56113738-0.27661216j,\n",
       "       -0.13598273+0.31337503j, -0.01485261-0.23400824j])"
      ]
     },
     "execution_count": 94,
     "metadata": {},
     "output_type": "execute_result"
    }
   ],
   "source": [
    "paths[0][0]"
   ]
  },
  {
   "cell_type": "code",
   "execution_count": 93,
   "id": "c64a093e",
   "metadata": {},
   "outputs": [
    {
     "data": {
      "text/plain": [
       "array([ 0.73738597+0.50463945j,  0.97839543-0.2067423j ,\n",
       "        0.13351481+0.90802982j, -0.56113738-0.27661216j,\n",
       "       -0.13598273+0.31337503j, -0.01485261-0.23400824j])"
      ]
     },
     "execution_count": 93,
     "metadata": {},
     "output_type": "execute_result"
    }
   ],
   "source": [
    "np.transpose(paths[0][0])"
   ]
  },
  {
   "cell_type": "code",
   "execution_count": 98,
   "id": "2c0594ad",
   "metadata": {},
   "outputs": [
    {
     "data": {
      "text/plain": [
       "array([5.00e-08, 6.00e-08, 9.50e-08, 1.20e-07, 1.85e-07, 2.10e-07])"
      ]
     },
     "execution_count": 98,
     "metadata": {},
     "output_type": "execute_result"
    }
   ],
   "source": [
    "np.transpose(np.tile(paths[0][0], (10,1)))"
   ]
  },
  {
   "cell_type": "code",
   "execution_count": 56,
   "id": "5d3b16a7",
   "metadata": {},
   "outputs": [],
   "source": [
    "def to_chunks(iterable, chunk_size):\n",
    "    \"\"\"Split the iterable into equal-sized chunks\"\"\"\n",
    "    args = [iter(iterable)]*chunk_size\n",
    "    return zip(*args)"
   ]
  },
  {
   "cell_type": "code",
   "execution_count": 57,
   "id": "76df2dd3",
   "metadata": {},
   "outputs": [],
   "source": [
    "l = list(range(40))"
   ]
  },
  {
   "cell_type": "code",
   "execution_count": 84,
   "id": "e2a466df",
   "metadata": {},
   "outputs": [
    {
     "data": {
      "text/plain": [
       "array([ 0.73738597+0.50463945j,  0.97839543-0.2067423j ,\n",
       "        0.13351481+0.90802982j, -0.56113738-0.27661216j,\n",
       "       -0.13598273+0.31337503j, -0.01485261-0.23400824j,\n",
       "        0.73738597+0.50463945j,  0.97839543-0.2067423j ,\n",
       "        0.13351481+0.90802982j, -0.56113738-0.27661216j,\n",
       "       -0.13598273+0.31337503j, -0.01485261-0.23400824j,\n",
       "        0.73738597+0.50463945j,  0.97839543-0.2067423j ,\n",
       "        0.13351481+0.90802982j, -0.56113738-0.27661216j,\n",
       "       -0.13598273+0.31337503j, -0.01485261-0.23400824j,\n",
       "        0.73738597+0.50463945j,  0.97839543-0.2067423j ,\n",
       "        0.13351481+0.90802982j, -0.56113738-0.27661216j,\n",
       "       -0.13598273+0.31337503j, -0.01485261-0.23400824j,\n",
       "        0.73738597+0.50463945j,  0.97839543-0.2067423j ,\n",
       "        0.13351481+0.90802982j, -0.56113738-0.27661216j,\n",
       "       -0.13598273+0.31337503j, -0.01485261-0.23400824j,\n",
       "        0.73738597+0.50463945j,  0.97839543-0.2067423j ,\n",
       "        0.13351481+0.90802982j, -0.56113738-0.27661216j,\n",
       "       -0.13598273+0.31337503j, -0.01485261-0.23400824j,\n",
       "        0.73738597+0.50463945j,  0.97839543-0.2067423j ,\n",
       "        0.13351481+0.90802982j, -0.56113738-0.27661216j,\n",
       "       -0.13598273+0.31337503j, -0.01485261-0.23400824j,\n",
       "        0.73738597+0.50463945j,  0.97839543-0.2067423j ,\n",
       "        0.13351481+0.90802982j, -0.56113738-0.27661216j,\n",
       "       -0.13598273+0.31337503j, -0.01485261-0.23400824j,\n",
       "        0.73738597+0.50463945j,  0.97839543-0.2067423j ,\n",
       "        0.13351481+0.90802982j, -0.56113738-0.27661216j,\n",
       "       -0.13598273+0.31337503j, -0.01485261-0.23400824j,\n",
       "        0.73738597+0.50463945j,  0.97839543-0.2067423j ,\n",
       "        0.13351481+0.90802982j, -0.56113738-0.27661216j,\n",
       "       -0.13598273+0.31337503j, -0.01485261-0.23400824j])"
      ]
     },
     "execution_count": 84,
     "metadata": {},
     "output_type": "execute_result"
    }
   ],
   "source": [
    "cir"
   ]
  },
  {
   "cell_type": "code",
   "execution_count": 92,
   "id": "731c1662",
   "metadata": {},
   "outputs": [
    {
     "ename": "IndexError",
     "evalue": "index 1 is out of bounds for axis 0 with size 1",
     "output_type": "error",
     "traceback": [
      "\u001b[0;31m---------------------------------------------------------------------------\u001b[0m",
      "\u001b[0;31mIndexError\u001b[0m                                Traceback (most recent call last)",
      "Input \u001b[0;32mIn [92]\u001b[0m, in \u001b[0;36m<cell line: 1>\u001b[0;34m()\u001b[0m\n\u001b[0;32m----> 1\u001b[0m \u001b[43mcir\u001b[49m\u001b[43m[\u001b[49m\u001b[38;5;241;43m1\u001b[39;49m\u001b[43m]\u001b[49m\n",
      "\u001b[0;31mIndexError\u001b[0m: index 1 is out of bounds for axis 0 with size 1"
     ]
    }
   ],
   "source": [
    "cir[1]"
   ]
  },
  {
   "cell_type": "code",
   "execution_count": 48,
   "id": "b0159135",
   "metadata": {},
   "outputs": [],
   "source": [
    "cirs = IQ_data[:,:4]"
   ]
  },
  {
   "cell_type": "code",
   "execution_count": 62,
   "id": "7537d9ec",
   "metadata": {},
   "outputs": [
    {
     "data": {
      "text/plain": [
       "(8188, 4)"
      ]
     },
     "execution_count": 62,
     "metadata": {},
     "output_type": "execute_result"
    }
   ],
   "source": [
    "cirs.shape"
   ]
  },
  {
   "cell_type": "code",
   "execution_count": 63,
   "id": "16d9e17c",
   "metadata": {},
   "outputs": [],
   "source": [
    "data = np.ndarray((1,1,1,1,1,*cirs.shape))"
   ]
  },
  {
   "cell_type": "code",
   "execution_count": 65,
   "id": "abc478a5",
   "metadata": {},
   "outputs": [
    {
     "name": "stderr",
     "output_type": "stream",
     "text": [
      "/tmp/ipykernel_126302/3205174647.py:1: ComplexWarning: Casting complex values to real discards the imaginary part\n",
      "  data[0][0][0][0][0] = cirs\n"
     ]
    }
   ],
   "source": [
    "data[0][0][0][0][0] = cirs"
   ]
  }
 ],
 "metadata": {
  "kernelspec": {
   "display_name": "Python 3 (ipykernel)",
   "language": "python",
   "name": "python3"
  },
  "language_info": {
   "codemirror_mode": {
    "name": "ipython",
    "version": 3
   },
   "file_extension": ".py",
   "mimetype": "text/x-python",
   "name": "python",
   "nbconvert_exporter": "python",
   "pygments_lexer": "ipython3",
   "version": "3.8.10"
  }
 },
 "nbformat": 4,
 "nbformat_minor": 5
}
