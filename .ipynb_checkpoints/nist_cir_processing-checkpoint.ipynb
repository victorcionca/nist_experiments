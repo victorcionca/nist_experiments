{
 "cells": [
  {
   "cell_type": "code",
   "execution_count": 1,
   "id": "fec42f69",
   "metadata": {},
   "outputs": [],
   "source": [
    "import matplotlib.pyplot as plt\n",
    "import numpy as np\n",
    "import pickle"
   ]
  },
  {
   "cell_type": "code",
   "execution_count": 5,
   "id": "49b6e269",
   "metadata": {},
   "outputs": [],
   "source": [
    "import mat73"
   ]
  },
  {
   "cell_type": "code",
   "execution_count": 6,
   "id": "3711b5e2",
   "metadata": {},
   "outputs": [],
   "source": [
    "meas = mat73.loadmat('Results/MachineShop/Tx2_2G_Boiler_Vpol_Cloudat6_run1_pp.mat')"
   ]
  },
  {
   "cell_type": "code",
   "execution_count": 25,
   "id": "1534b8ba",
   "metadata": {},
   "outputs": [],
   "source": [
    "meta = meas['Strct_Metadata']"
   ]
  },
  {
   "cell_type": "code",
   "execution_count": 28,
   "id": "4283c354",
   "metadata": {},
   "outputs": [],
   "source": [
    "sample_period = 1/meta['SampleRate_MHz_num']*1e-6"
   ]
  },
  {
   "cell_type": "code",
   "execution_count": 8,
   "id": "db74d870",
   "metadata": {},
   "outputs": [],
   "source": [
    "IQ_data = meas['IQdata']"
   ]
  },
  {
   "cell_type": "markdown",
   "id": "27f64b1a",
   "metadata": {},
   "source": [
    "IQ_data.shape"
   ]
  },
  {
   "cell_type": "code",
   "execution_count": 29,
   "id": "79d4a909",
   "metadata": {},
   "outputs": [],
   "source": [
    "delays = np.arange(0,100)*sample_period"
   ]
  },
  {
   "cell_type": "code",
   "execution_count": null,
   "id": "215a5661",
   "metadata": {},
   "outputs": [],
   "source": []
  },
  {
   "cell_type": "code",
   "execution_count": null,
   "id": "84162165",
   "metadata": {},
   "outputs": [],
   "source": []
  },
  {
   "cell_type": "code",
   "execution_count": 18,
   "id": "ec8e29c6",
   "metadata": {},
   "outputs": [],
   "source": [
    "cir = IQ_data[:,0]"
   ]
  },
  {
   "cell_type": "code",
   "execution_count": 23,
   "id": "cb5625e5",
   "metadata": {},
   "outputs": [
    {
     "data": {
      "text/plain": [
       "(0.0, 100.0)"
      ]
     },
     "execution_count": 23,
     "metadata": {},
     "output_type": "execute_result"
    },
    {
     "data": {
      "image/png": "[encoded data removed]",
      "text/plain": [
       "<Figure size 432x288 with 1 Axes>"
      ]
     },
     "metadata": {
      "needs_background": "light"
     },
     "output_type": "display_data"
    }
   ],
   "source": [
    "plt.plot(abs(cir)**2)\n",
    "plt.xlim(0,100)"
   ]
  }
 ],
 "metadata": {
  "kernelspec": {
   "display_name": "Python 3 (ipykernel)",
   "language": "python",
   "name": "python3"
  },
  "language_info": {
   "codemirror_mode": {
    "name": "ipython",
    "version": 3
   },
   "file_extension": ".py",
   "mimetype": "text/x-python",
   "name": "python",
   "nbconvert_exporter": "python",
   "pygments_lexer": "ipython3",
   "version": "3.8.10"
  }
 },
 "nbformat": 4,
 "nbformat_minor": 5
}
