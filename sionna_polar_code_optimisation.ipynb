{
  "cells": [
    {
      "cell_type": "code",
      "execution_count": 1,
      "metadata": {
        "id": "1AZq40h3LGa1"
      },
      "outputs": [],
      "source": [
        "try:\n",
        "  import sionna\n",
        "except ImportError as e:\n",
        "  import os\n",
        "  os.system(\"pip install sionna\")\n",
        "  import sionna"
      ]
    },
    {
      "cell_type": "code",
      "execution_count": 2,
      "metadata": {
        "id": "hQsClo1u2EML"
      },
      "outputs": [],
      "source": [
        "sionna.config.xla_compat = True"
      ]
    },
    {
      "cell_type": "code",
      "execution_count": 2,
      "metadata": {
        "id": "bDC2JgJ07hHm"
      },
      "outputs": [],
      "source": [
        "%matplotlib inline\n",
        "import matplotlib.pyplot as plt\n",
        "import numpy as np\n",
        "import tensorflow as tf\n",
        "import time\n",
        "import pickle"
      ]
    },
    {
      "cell_type": "markdown",
      "metadata": {
        "id": "9gV3gO8_K25Z"
      },
      "source": [
        "# Data\n",
        "\n",
        "CIR data based on NIST measurements.\n",
        "\n",
        "Each CIR is stored as\n",
        "* path coefficients\n",
        "* path delays"
      ]
    },
    {
      "cell_type": "code",
      "execution_count": null,
      "metadata": {
        "id": "cA9O31nFyQUp"
      },
      "outputs": [],
      "source": [
        "data_url = 'https://github.com/victorcionca/nist_experiments/raw/master/Tx2_2G_Boiler_Vpol_Cloudat6_run1_pp__paths.pickle'"
      ]
    },
    {
      "cell_type": "code",
      "execution_count": null,
      "metadata": {
        "colab": {
          "base_uri": "https://localhost:8080/"
        },
        "id": "yyV4pgJuyTaD",
        "outputId": "7d3a9d65-fa75-4058-ef66-4b9ae2a9a12e"
      },
      "outputs": [
        {
          "output_type": "stream",
          "name": "stdout",
          "text": [
            "--2022-06-16 08:16:40--  https://github.com/victorcionca/nist_experiments/raw/master/Tx2_2G_Boiler_Vpol_Cloudat6_run1_pp__paths.pickle\n",
            "Resolving github.com (github.com)... 140.82.113.4\n",
            "Connecting to github.com (github.com)|140.82.113.4|:443... connected.\n",
            "HTTP request sent, awaiting response... 302 Found\n",
            "Location: https://raw.githubusercontent.com/victorcionca/nist_experiments/master/Tx2_2G_Boiler_Vpol_Cloudat6_run1_pp__paths.pickle [following]\n",
            "--2022-06-16 08:16:41--  https://raw.githubusercontent.com/victorcionca/nist_experiments/master/Tx2_2G_Boiler_Vpol_Cloudat6_run1_pp__paths.pickle\n",
            "Resolving raw.githubusercontent.com (raw.githubusercontent.com)... 185.199.111.133, 185.199.108.133, 185.199.109.133, ...\n",
            "Connecting to raw.githubusercontent.com (raw.githubusercontent.com)|185.199.111.133|:443... connected.\n",
            "HTTP request sent, awaiting response... 200 OK\n",
            "Length: 501325 (490K) [application/octet-stream]\n",
            "Saving to: ‘Tx2_2G_Boiler_Vpol_Cloudat6_run1_pp__paths.pickle’\n",
            "\n",
            "Tx2_2G_Boiler_Vpol_ 100%[===================>] 489.58K  --.-KB/s    in 0.04s   \n",
            "\n",
            "2022-06-16 08:16:41 (13.4 MB/s) - ‘Tx2_2G_Boiler_Vpol_Cloudat6_run1_pp__paths.pickle’ saved [501325/501325]\n",
            "\n"
          ]
        }
      ],
      "source": [
        "!wget https://github.com/victorcionca/nist_experiments/raw/master/Tx2_2G_Boiler_Vpol_Cloudat6_run1_pp__paths.pickle"
      ]
    },
    {
      "cell_type": "code",
      "execution_count": null,
      "metadata": {
        "id": "19ND4vb-0sJH"
      },
      "outputs": [],
      "source": [
        "cir_iq_data = pickle.load(open('Tx2_2G_Boiler_Vpol_Cloudat6_run1_pp__paths.pickle', 'rb'))"
      ]
    },
    {
      "cell_type": "markdown",
      "metadata": {
        "id": "g8bmgzGTLKq8"
      },
      "source": [
        "## Creating an average CIR\n",
        "\n",
        "The average CIR will be represented as follows:\n",
        "* have the union of taps from the path delays\n",
        "* each tap will store the average of paths at that tap.\n",
        "\n",
        "We might have to create bins for the taps."
      ]
    },
    {
      "cell_type": "code",
      "execution_count": null,
      "metadata": {
        "id": "hNqgieC4LpU8"
      },
      "outputs": [],
      "source": [
        "avg_cir_taps = {}\n",
        "for paths, delays in cir_iq_data:\n",
        "  for p, d in zip(paths, delays):\n",
        "    if d not in avg_cir_taps:\n",
        "      avg_cir_taps[d] = 0\n",
        "    else:\n",
        "      avg_cir_taps[d] += abs(p)**2"
      ]
    },
    {
      "cell_type": "markdown",
      "metadata": {
        "id": "hnDMmrWnNtcy"
      },
      "source": [
        "Normalize the CIR"
      ]
    },
    {
      "cell_type": "code",
      "execution_count": null,
      "metadata": {
        "id": "GlGLpUHONcwU"
      },
      "outputs": [],
      "source": [
        "max_power = max(avg_cir_taps.values())\n",
        "for d, p in avg_cir_taps.items():\n",
        "  avg_cir_taps[d] = p/max_power"
      ]
    },
    {
      "cell_type": "code",
      "execution_count": null,
      "metadata": {
        "colab": {
          "base_uri": "https://localhost:8080/",
          "height": 72
        },
        "id": "aHy1lZEjM7i_",
        "outputId": "14957121-64ea-4a5b-ba87-79801d491e82"
      },
      "outputs": [
        {
          "output_type": "execute_result",
          "data": {
            "text/plain": [
              "[<matplotlib.lines.Line2D at 0x7f7cd9a1a350>]"
            ]
          },
          "metadata": {},
          "execution_count": 9
        },
        {
          "output_type": "display_data",
          "data": {
            "text/plain": [
              "<Figure size 432x288 with 1 Axes>"
            ],
            "image/png": "[encoded data removed]"
          },
          "metadata": {
            "needs_background": "light"
          }
        }
      ],
      "source": [
        "plt.plot(list(avg_cir_taps.keys()), list(avg_cir_taps.values()), '.')"
      ]
    },
    {
      "cell_type": "markdown",
      "metadata": {
        "id": "Rkhnr8pj3Jao"
      },
      "source": [
        "Create a sorted PDP containing tuples (delay, power)."
      ]
    },
    {
      "cell_type": "code",
      "execution_count": null,
      "metadata": {
        "id": "Vuya4UoD3HcN"
      },
      "outputs": [],
      "source": [
        "pdp_vals = list(avg_cir_taps.items())\n",
        "pdp_vals.sort()"
      ]
    },
    {
      "cell_type": "code",
      "execution_count": null,
      "metadata": {
        "colab": {
          "base_uri": "https://localhost:8080/",
          "height": 72
        },
        "id": "N7GVeEC73i8z",
        "outputId": "ae2593cc-8050-456c-f58e-59459914836b"
      },
      "outputs": [
        {
          "output_type": "execute_result",
          "data": {
            "text/plain": [
              "[<matplotlib.lines.Line2D at 0x7f7cd9a94a10>]"
            ]
          },
          "metadata": {},
          "execution_count": 11
        },
        {
          "output_type": "display_data",
          "data": {
            "text/plain": [
              "<Figure size 432x288 with 1 Axes>"
            ],
            "image/png": "[encoded data removed]"
          },
          "metadata": {
            "needs_background": "light"
          }
        }
      ],
      "source": [
        "plt.plot(list(zip(*pdp_vals))[0], list(zip(*pdp_vals))[1])"
      ]
    },
    {
      "cell_type": "markdown",
      "metadata": {
        "id": "d6I0_s-RT5Bc"
      },
      "source": [
        "## Impact of CP to prevent self-interference\n",
        "\n",
        "The CP is added to prevent self-interference from a previous symbol that arrives late due to multi-path propagation.\n",
        "\n",
        "When receiving a symbol $S_i$ we have\n",
        "* energy from the symbol $S_i$\n",
        "* energy from the MPCs of $S_{i-1}$.\n",
        "\n",
        "The CP of length $T_{CP}$ is inserted at the start of the symbol. Therefore, the first $T_{CP}$ of the CIR $h(t)$ is considered usable power (signal can be recovered through equalization), whereas the remainder of the delay spread $\\tau - T_{CP}$ is interference.\n"
      ]
    },
    {
      "cell_type": "code",
      "execution_count": null,
      "metadata": {
        "id": "kQIYM1IC2JvL"
      },
      "outputs": [],
      "source": [
        "def self_sir(cir, t_cp):\n",
        "  \"\"\"\n",
        "  Computes the self SIR caused by inter-symbol interference,\n",
        "  for the given CIR and CP length.\n",
        "  \n",
        "  Parameters:\n",
        "  cir   -- list of (delay, power) tuples\n",
        "  t_cp  -- in microseconds\n",
        "  \"\"\"\n",
        "  usable, interf = 0,0\n",
        "  for (d, p) in cir:\n",
        "    if d <= t_cp: usable += p\n",
        "    else: interf += p\n",
        "  return 10*np.log10(usable/interf)"
      ]
    },
    {
      "cell_type": "code",
      "execution_count": null,
      "metadata": {
        "id": "KXW3clqYwJUi"
      },
      "outputs": [],
      "source": [
        "def self_sir_linear(cir, t_cp):\n",
        "  \"\"\"\n",
        "  Computes the self SIR caused by inter-symbol interference,\n",
        "  for the given CIR and CP length.\n",
        "  \n",
        "  Parameters:\n",
        "  cir   -- list of (delay, power) tuples\n",
        "  t_cp  -- in microseconds\n",
        "\n",
        "  Returns:\n",
        "  SIR in linear scale\n",
        "  \"\"\"\n",
        "  usable, interf = 0,0\n",
        "  for (d, p) in cir:\n",
        "    if d <= t_cp: usable += p\n",
        "    else: interf += p\n",
        "  return usable/interf"
      ]
    },
    {
      "cell_type": "code",
      "execution_count": null,
      "metadata": {
        "id": "tt7r2sV34qYp"
      },
      "outputs": [],
      "source": [
        "sample_time = 1/200000000"
      ]
    },
    {
      "cell_type": "code",
      "execution_count": null,
      "metadata": {
        "colab": {
          "base_uri": "https://localhost:8080/",
          "height": 141
        },
        "id": "MYmgbN5s4u8E",
        "outputId": "e403fca9-b1f2-468a-a501-94ca2d97c598"
      },
      "outputs": [
        {
          "output_type": "stream",
          "name": "stderr",
          "text": [
            "/usr/local/lib/python3.7/dist-packages/ipykernel_launcher.py:14: RuntimeWarning: divide by zero encountered in log10\n",
            "  \n",
            "/usr/local/lib/python3.7/dist-packages/ipykernel_launcher.py:14: RuntimeWarning: divide by zero encountered in double_scalars\n",
            "  \n"
          ]
        },
        {
          "output_type": "execute_result",
          "data": {
            "text/plain": [
              "Text(0, 0.5, 'SIR (dB)')"
            ]
          },
          "metadata": {},
          "execution_count": 15
        },
        {
          "output_type": "display_data",
          "data": {
            "text/plain": [
              "<Figure size 432x288 with 1 Axes>"
            ],
            "image/png": "[encoded data removed]"
          },
          "metadata": {
            "needs_background": "light"
          }
        }
      ],
      "source": [
        "t_cp = [sample_time*n for n in range(100)]\n",
        "sirs = [self_sir(pdp_vals, t) for t in t_cp]\n",
        "plt.plot(t_cp, sirs)\n",
        "plt.xlabel('CP (s)')\n",
        "plt.ylabel('SIR (dB)')"
      ]
    },
    {
      "cell_type": "markdown",
      "metadata": {
        "id": "5H8b79QhuTAv"
      },
      "source": [
        "Signal to Echo plus Noise (SENR approx SNR)"
      ]
    },
    {
      "cell_type": "code",
      "execution_count": null,
      "metadata": {
        "id": "MP9JYdNVuScS"
      },
      "outputs": [],
      "source": [
        "def senr(cir, t_cp, bw):\n",
        "  \"\"\"\n",
        "  Calculates the SENR for the CIR and CP length\n",
        "  \"\"\"\n",
        "  # Values below are in dB\n",
        "  Pt = 20\n",
        "  PL = -85 # at 50m\n",
        "  Pt_lin = (Pt/10)**10*1e-3\n",
        "  PL_lin = (PL/10)**10*1e-3\n",
        "  sir_lin = self_sir_linear(cir, t_cp)\n",
        "  noise = 1.3803e-23*290*bw\n",
        "  print(Pt_lin, PL_lin, noise, noise**2)\n",
        "  senr_lin = (Pt_lin*PL_lin*(sir_lin/(1+sir_lin)))/(Pt_lin*PL_lin/(1+sir_lin) + noise**2)\n",
        "  return 10*np.log10(senr_lin)"
      ]
    },
    {
      "cell_type": "code",
      "execution_count": null,
      "metadata": {
        "colab": {
          "base_uri": "https://localhost:8080/"
        },
        "id": "luEdEtXB6vYg",
        "outputId": "23f12a4b-4cc7-43b4-e288-e31b9a66c2e6"
      },
      "outputs": [
        {
          "output_type": "stream",
          "name": "stdout",
          "text": [
            "1.024 1968744.0434072267 8.005740000000001e-13 6.409187294760001e-25\n",
            "-6.563684120363826\n",
            "-6.563684120363826\n",
            "0.22061324766945098\n"
          ]
        }
      ],
      "source": [
        "print(senr(pdp_vals, 15*sample_time, 200e6))\n",
        "print(self_sir(pdp_vals, 15*sample_time))\n",
        "print(self_sir_linear(pdp_vals, 15*sample_time))"
      ]
    },
    {
      "cell_type": "code",
      "execution_count": null,
      "metadata": {
        "colab": {
          "base_uri": "https://localhost:8080/",
          "height": 1000
        },
        "id": "b01CTCW-yMCJ",
        "outputId": "6daae281-a64c-4407-ef37-b39e89b05fcb"
      },
      "outputs": [
        {
          "output_type": "stream",
          "name": "stdout",
          "text": [
            "1.024 1968744.0434072267 8.005740000000001e-13 6.409187294760001e-25\n",
            "1.024 1968744.0434072267 8.005740000000001e-13 6.409187294760001e-25\n",
            "1.024 1968744.0434072267 8.005740000000001e-13 6.409187294760001e-25\n",
            "1.024 1968744.0434072267 8.005740000000001e-13 6.409187294760001e-25\n",
            "1.024 1968744.0434072267 8.005740000000001e-13 6.409187294760001e-25\n",
            "1.024 1968744.0434072267 8.005740000000001e-13 6.409187294760001e-25\n",
            "1.024 1968744.0434072267 8.005740000000001e-13 6.409187294760001e-25\n",
            "1.024 1968744.0434072267 8.005740000000001e-13 6.409187294760001e-25\n",
            "1.024 1968744.0434072267 8.005740000000001e-13 6.409187294760001e-25\n",
            "1.024 1968744.0434072267 8.005740000000001e-13 6.409187294760001e-25\n",
            "1.024 1968744.0434072267 8.005740000000001e-13 6.409187294760001e-25\n",
            "1.024 1968744.0434072267 8.005740000000001e-13 6.409187294760001e-25\n",
            "1.024 1968744.0434072267 8.005740000000001e-13 6.409187294760001e-25\n",
            "1.024 1968744.0434072267 8.005740000000001e-13 6.409187294760001e-25\n",
            "1.024 1968744.0434072267 8.005740000000001e-13 6.409187294760001e-25\n",
            "1.024 1968744.0434072267 8.005740000000001e-13 6.409187294760001e-25\n",
            "1.024 1968744.0434072267 8.005740000000001e-13 6.409187294760001e-25\n",
            "1.024 1968744.0434072267 8.005740000000001e-13 6.409187294760001e-25\n",
            "1.024 1968744.0434072267 8.005740000000001e-13 6.409187294760001e-25\n",
            "1.024 1968744.0434072267 8.005740000000001e-13 6.409187294760001e-25\n",
            "1.024 1968744.0434072267 8.005740000000001e-13 6.409187294760001e-25\n",
            "1.024 1968744.0434072267 8.005740000000001e-13 6.409187294760001e-25\n",
            "1.024 1968744.0434072267 8.005740000000001e-13 6.409187294760001e-25\n",
            "1.024 1968744.0434072267 8.005740000000001e-13 6.409187294760001e-25\n",
            "1.024 1968744.0434072267 8.005740000000001e-13 6.409187294760001e-25\n",
            "1.024 1968744.0434072267 8.005740000000001e-13 6.409187294760001e-25\n",
            "1.024 1968744.0434072267 8.005740000000001e-13 6.409187294760001e-25\n",
            "1.024 1968744.0434072267 8.005740000000001e-13 6.409187294760001e-25\n",
            "1.024 1968744.0434072267 8.005740000000001e-13 6.409187294760001e-25\n",
            "1.024 1968744.0434072267 8.005740000000001e-13 6.409187294760001e-25\n",
            "1.024 1968744.0434072267 8.005740000000001e-13 6.409187294760001e-25\n",
            "1.024 1968744.0434072267 8.005740000000001e-13 6.409187294760001e-25\n",
            "1.024 1968744.0434072267 8.005740000000001e-13 6.409187294760001e-25\n",
            "1.024 1968744.0434072267 8.005740000000001e-13 6.409187294760001e-25\n",
            "1.024 1968744.0434072267 8.005740000000001e-13 6.409187294760001e-25\n",
            "1.024 1968744.0434072267 8.005740000000001e-13 6.409187294760001e-25\n",
            "1.024 1968744.0434072267 8.005740000000001e-13 6.409187294760001e-25\n",
            "1.024 1968744.0434072267 8.005740000000001e-13 6.409187294760001e-25\n",
            "1.024 1968744.0434072267 8.005740000000001e-13 6.409187294760001e-25\n",
            "1.024 1968744.0434072267 8.005740000000001e-13 6.409187294760001e-25\n",
            "1.024 1968744.0434072267 8.005740000000001e-13 6.409187294760001e-25\n",
            "1.024 1968744.0434072267 8.005740000000001e-13 6.409187294760001e-25\n",
            "1.024 1968744.0434072267 8.005740000000001e-13 6.409187294760001e-25\n",
            "1.024 1968744.0434072267 8.005740000000001e-13 6.409187294760001e-25\n",
            "1.024 1968744.0434072267 8.005740000000001e-13 6.409187294760001e-25\n",
            "1.024 1968744.0434072267 8.005740000000001e-13 6.409187294760001e-25\n",
            "1.024 1968744.0434072267 8.005740000000001e-13 6.409187294760001e-25\n",
            "1.024 1968744.0434072267 8.005740000000001e-13 6.409187294760001e-25\n",
            "1.024 1968744.0434072267 8.005740000000001e-13 6.409187294760001e-25\n",
            "1.024 1968744.0434072267 8.005740000000001e-13 6.409187294760001e-25\n",
            "1.024 1968744.0434072267 8.005740000000001e-13 6.409187294760001e-25\n",
            "1.024 1968744.0434072267 8.005740000000001e-13 6.409187294760001e-25\n",
            "1.024 1968744.0434072267 8.005740000000001e-13 6.409187294760001e-25\n",
            "1.024 1968744.0434072267 8.005740000000001e-13 6.409187294760001e-25\n",
            "1.024 1968744.0434072267 8.005740000000001e-13 6.409187294760001e-25\n",
            "1.024 1968744.0434072267 8.005740000000001e-13 6.409187294760001e-25\n",
            "1.024 1968744.0434072267 8.005740000000001e-13 6.409187294760001e-25\n",
            "1.024 1968744.0434072267 8.005740000000001e-13 6.409187294760001e-25\n",
            "1.024 1968744.0434072267 8.005740000000001e-13 6.409187294760001e-25\n",
            "1.024 1968744.0434072267 8.005740000000001e-13 6.409187294760001e-25\n",
            "1.024 1968744.0434072267 8.005740000000001e-13 6.409187294760001e-25\n",
            "1.024 1968744.0434072267 8.005740000000001e-13 6.409187294760001e-25\n",
            "1.024 1968744.0434072267 8.005740000000001e-13 6.409187294760001e-25\n",
            "1.024 1968744.0434072267 8.005740000000001e-13 6.409187294760001e-25\n",
            "1.024 1968744.0434072267 8.005740000000001e-13 6.409187294760001e-25\n",
            "1.024 1968744.0434072267 8.005740000000001e-13 6.409187294760001e-25\n",
            "1.024 1968744.0434072267 8.005740000000001e-13 6.409187294760001e-25\n",
            "1.024 1968744.0434072267 8.005740000000001e-13 6.409187294760001e-25\n",
            "1.024 1968744.0434072267 8.005740000000001e-13 6.409187294760001e-25\n",
            "1.024 1968744.0434072267 8.005740000000001e-13 6.409187294760001e-25\n",
            "1.024 1968744.0434072267 8.005740000000001e-13 6.409187294760001e-25\n",
            "1.024 1968744.0434072267 8.005740000000001e-13 6.409187294760001e-25\n",
            "1.024 1968744.0434072267 8.005740000000001e-13 6.409187294760001e-25\n",
            "1.024 1968744.0434072267 8.005740000000001e-13 6.409187294760001e-25\n",
            "1.024 1968744.0434072267 8.005740000000001e-13 6.409187294760001e-25\n",
            "1.024 1968744.0434072267 8.005740000000001e-13 6.409187294760001e-25\n",
            "1.024 1968744.0434072267 8.005740000000001e-13 6.409187294760001e-25\n",
            "1.024 1968744.0434072267 8.005740000000001e-13 6.409187294760001e-25\n",
            "1.024 1968744.0434072267 8.005740000000001e-13 6.409187294760001e-25\n",
            "1.024 1968744.0434072267 8.005740000000001e-13 6.409187294760001e-25\n",
            "1.024 1968744.0434072267 8.005740000000001e-13 6.409187294760001e-25\n",
            "1.024 1968744.0434072267 8.005740000000001e-13 6.409187294760001e-25\n",
            "1.024 1968744.0434072267 8.005740000000001e-13 6.409187294760001e-25\n",
            "1.024 1968744.0434072267 8.005740000000001e-13 6.409187294760001e-25\n",
            "1.024 1968744.0434072267 8.005740000000001e-13 6.409187294760001e-25\n",
            "1.024 1968744.0434072267 8.005740000000001e-13 6.409187294760001e-25\n",
            "1.024 1968744.0434072267 8.005740000000001e-13 6.409187294760001e-25\n",
            "1.024 1968744.0434072267 8.005740000000001e-13 6.409187294760001e-25\n",
            "1.024 1968744.0434072267 8.005740000000001e-13 6.409187294760001e-25\n",
            "1.024 1968744.0434072267 8.005740000000001e-13 6.409187294760001e-25\n",
            "1.024 1968744.0434072267 8.005740000000001e-13 6.409187294760001e-25\n",
            "1.024 1968744.0434072267 8.005740000000001e-13 6.409187294760001e-25\n",
            "1.024 1968744.0434072267 8.005740000000001e-13 6.409187294760001e-25\n",
            "1.024 1968744.0434072267 8.005740000000001e-13 6.409187294760001e-25\n",
            "1.024 1968744.0434072267 8.005740000000001e-13 6.409187294760001e-25\n",
            "1.024 1968744.0434072267 8.005740000000001e-13 6.409187294760001e-25\n",
            "1.024 1968744.0434072267 8.005740000000001e-13 6.409187294760001e-25\n",
            "1.024 1968744.0434072267 8.005740000000001e-13 6.409187294760001e-25\n",
            "1.024 1968744.0434072267 8.005740000000001e-13 6.409187294760001e-25\n",
            "1.024 1968744.0434072267 8.005740000000001e-13 6.409187294760001e-25\n"
          ]
        },
        {
          "output_type": "stream",
          "name": "stderr",
          "text": [
            "/usr/local/lib/python3.7/dist-packages/ipykernel_launcher.py:14: RuntimeWarning: divide by zero encountered in log10\n",
            "  \n",
            "/usr/local/lib/python3.7/dist-packages/ipykernel_launcher.py:17: RuntimeWarning: divide by zero encountered in double_scalars\n",
            "/usr/local/lib/python3.7/dist-packages/ipykernel_launcher.py:13: RuntimeWarning: invalid value encountered in double_scalars\n",
            "  del sys.path[0]\n"
          ]
        },
        {
          "output_type": "execute_result",
          "data": {
            "text/plain": [
              "Text(0, 0.5, 'SENR (dB)')"
            ]
          },
          "metadata": {},
          "execution_count": 18
        },
        {
          "output_type": "display_data",
          "data": {
            "text/plain": [
              "<Figure size 432x288 with 1 Axes>"
            ],
            "image/png": "[encoded data removed]"
          },
          "metadata": {
            "needs_background": "light"
          }
        }
      ],
      "source": [
        "t_cp = [sample_time*n for n in range(100)]\n",
        "senrs = [senr(pdp_vals, t, 200e6) for t in t_cp]\n",
        "plt.plot(t_cp, senrs)\n",
        "plt.plot(t_cp, sirs)\n",
        "plt.xlabel('CP (s)')\n",
        "plt.ylabel('SENR (dB)')"
      ]
    },
    {
      "cell_type": "markdown",
      "metadata": {
        "id": "ZmEAE5H2uNnw"
      },
      "source": [
        "# Implementing a narrowband Rice channel\n",
        "\n",
        "Same approach as the Rayleigh:\n",
        "* single MPC\n",
        "* the MPC is Rice distributed, where we can control the k-factor."
      ]
    },
    {
      "cell_type": "code",
      "execution_count": 3,
      "metadata": {
        "id": "JiTgIgpQunEs"
      },
      "outputs": [],
      "source": [
        "class RiceBlockFading():\n",
        "    def __init__(   self,\n",
        "                    k_factor,\n",
        "                    dtype=tf.complex64):\n",
        "        \"\"\"\n",
        "        Parameters\n",
        "        ==========\n",
        "        k_factor    -- log-scale k-factor\n",
        "        \"\"\"\n",
        "        assert dtype.is_complex, \"'dtype' must be complex type\"\n",
        "        self._dtype = dtype\n",
        "        self.k_factor = 10**(k_factor/10)  #linear-sacale k-factor\n",
        "\n",
        "\n",
        "    def __call__(self,  batch_size, num_time_steps):\n",
        "        \"\"\"\n",
        "        Instantiate the model.\n",
        "\n",
        "        Parameters\n",
        "        ==========\n",
        "        batch_size    -- number of samples to generate\n",
        "        num_time_steps-- values per sample\n",
        "        k_factor      -- log-scale k-factor\n",
        "        \"\"\"\n",
        "        # Delays\n",
        "        # Single path with zero delay\n",
        "        delays = tf.zeros([ batch_size,\n",
        "                            1, 1, # tx/rx streams\n",
        "                            1], # Single path\n",
        "                            dtype=self._dtype.real_dtype)\n",
        "\n",
        "        # Fading coefficients\n",
        "        #theta = np.pi*np.random.rand()\n",
        "        theta = 0\n",
        "        std = tf.cast(tf.sqrt(0.5), dtype=self._dtype.real_dtype)\n",
        "        niu = tf.sqrt(self.k_factor*2*std**2)\n",
        "        h_real = tf.random.normal(shape=[   batch_size,\n",
        "                                         1,1,1,1, # tx/rx streams\n",
        "                                            1, # One path\n",
        "                                            1], # Same response over the block\n",
        "                                            mean=niu*np.cos(theta),\n",
        "                                            stddev=std,\n",
        "                                            dtype = self._dtype.real_dtype)\n",
        "        h_img = tf.random.normal(shape=[    batch_size,\n",
        "                                            1,1,1,1, # tx/rx streams\n",
        "                                            1, # One cluster\n",
        "                                            1], # Same response over the block\n",
        "                                            mean=niu*np.sin(theta),\n",
        "                                            stddev=std,\n",
        "                                            dtype = self._dtype.real_dtype)\n",
        "        h = tf.complex(h_real, h_img)\n",
        "        # Tile the response over the block\n",
        "        h = tf.tile(h, [1, 1, 1, 1, 1, 1, num_time_steps])\n",
        "        return h, delays"
      ]
    },
    {
      "cell_type": "markdown",
      "metadata": {
        "id": "uNET4eFsKteT"
      },
      "source": [
        "# Basic comms system"
      ]
    },
    {
      "cell_type": "markdown",
      "metadata": {
        "id": "NnmShbhxOZIb"
      },
      "source": [
        "Comms system description\n",
        "\n",
        "* binary source\n",
        "* data is transmitted in time slots containing 14 OFDM symbols\n",
        "* LDPC encoded with user-defined code rate\n",
        "* QAM 4 bits\n",
        "* interleaving\n",
        "* Rayleigh or CDL channel model - at the moment is hard-coded in the CommsSystem class\n",
        "* support for ISI and ICI."
      ]
    },
    {
      "cell_type": "code",
      "execution_count": 55,
      "metadata": {
        "id": "TUv73G5c1YwA"
      },
      "outputs": [],
      "source": [
        "class CommsSystem(tf.keras.Model):\n",
        "  def __init__(self, params):\n",
        "    super().__init__()\n",
        "    #self.bandwidth = params[\"bandwidth\"]\n",
        "    # TODO: compute the fft_size and subcarrier spacing based on the bandwidth\n",
        "    # Define an OFDM Resource Grid Object\n",
        "    self.rg = sionna.ofdm.ResourceGrid(\n",
        "                          num_ofdm_symbols=4, #params[\"num_ofdm_symbols\"],\n",
        "                          fft_size=72, #params[\"fft_size\"],\n",
        "                          subcarrier_spacing=15e3, #params[\"subcarrier_spacing\"],\n",
        "                          num_tx=1,\n",
        "                          num_streams_per_tx=1,\n",
        "                          cyclic_prefix_length=params[\"cyclic_prefix_length\"],\n",
        "                          pilot_pattern=\"kronecker\",\n",
        "                          pilot_ofdm_symbol_indices=[2])#params[\"pilot_ofdm_symbol_indices\"])\n",
        "    self.bandwidth = self.rg.bandwidth # TODO: replace this later as user-defined\n",
        "\n",
        "    # Create a Stream Management object\n",
        "    self.sm = sionna.mimo.StreamManagement(rx_tx_association=np.array([[1]]),\n",
        "                                               num_streams_per_tx=1)\n",
        "    self.coderate = params[\"coderate\"]\n",
        "    self.num_bits_per_symbol = params[\"num_bits_per_symbol\"]\n",
        "    self.n = int(self.rg.num_data_symbols*self.num_bits_per_symbol)\n",
        "    self.k = int(self.n*self.coderate)\n",
        "\n",
        "    self.l_min, self.l_max = sionna.channel.time_lag_discrete_time_channel(\n",
        "                                            self.bandwidth)\n",
        "    self.l_tot = self.l_max - self.l_min + 1\n",
        "\n",
        "    # The layers of the comms system\n",
        "    self.binary_source = sionna.utils.BinarySource()\n",
        "    self.encoder = sionna.fec.ldpc.encoding.LDPC5GEncoder(self.k, self.n)\n",
        "    #self.encoder = sionna.fec.polar.encoding.Polar5GEncoder(self.k, self.n)\n",
        "    self.interleaver = sionna.fec.interleaving.RowColumnInterleaver(\n",
        "                                          row_depth=self.num_bits_per_symbol)\n",
        "    self.deinterleaver = sionna.fec.interleaving.Deinterleaver(self.interleaver)\n",
        "    self.mapper = sionna.mapping.Mapper(\"qam\", self.num_bits_per_symbol)\n",
        "    self.rg_mapper = sionna.ofdm.ResourceGridMapper(self.rg)\n",
        "    self.modulator = sionna.ofdm.OFDMModulator(self.rg.cyclic_prefix_length)\n",
        "    self.demodulator = sionna.ofdm.OFDMDemodulator(self.rg.fft_size,\n",
        "                                                   self.l_min,\n",
        "                                                   self.rg.cyclic_prefix_length)\n",
        "    self.demapper = sionna.mapping.Demapper(\"app\", \"qam\", self.num_bits_per_symbol)\n",
        "    self.decoder = sionna.fec.ldpc.LDPC5GDecoder(self.encoder,\n",
        "                                                 hard_out=True,\n",
        "                                                 num_iter=50)\n",
        "    #self.decoder = sionna.fec.polar.decoding.Polar5GDecoder(self.encoder, 'SCL', 4)\n",
        "    #self.decoder._polar_dec._cpu_only=True\n",
        "    \n",
        "    if \"channel\" not in params:\n",
        "      # Use the Rice channel\n",
        "      self.channel = RiceBlockFading(params[\"k_factor\"])\n",
        "      #self.channel = sionna.channel.RayleighBlockFading(1, 1, 1, 1)\n",
        "    else:\n",
        "      self.channel = params[\"channel\"]\n",
        "    self.channel_time = sionna.channel.ApplyTimeChannel(self.rg.num_time_samples,\n",
        "                                                          l_tot=self.l_tot,\n",
        "                                                          add_awgn=True)\n",
        "    # Channel estimation and equalization\n",
        "    self.ch_est = sionna.ofdm.LSChannelEstimator(self.rg)\n",
        "    self.ch_eq = sionna.ofdm.LMMSEEqualizer(self.rg, self.sm)\n",
        "\n",
        "  def set_channel(self, ch):\n",
        "    self.channel = ch\n",
        "\n",
        "  #@tf.function(jit_compile=True)\n",
        "  def call(self, batch_size, ebno_db):\n",
        "    # Compute the noise\n",
        "    no = sionna.utils.ebnodb2no(ebno_db, self.num_bits_per_symbol,\n",
        "                                self.coderate, self.rg)\n",
        "    # Generate the bit vectors\n",
        "    b = self.binary_source([batch_size, 1, 1, self.k])\n",
        "    # Encode the bits\n",
        "    c = self.encoder(b)\n",
        "    # Interleave\n",
        "    c_int = self.interleaver(c)\n",
        "    # Map to constellation symbols\n",
        "    s = self.mapper(c_int)\n",
        "    # Map onto OFDM resource grid\n",
        "    x_rg = self.rg_mapper(s)\n",
        "    # OFDM modulation\n",
        "    x_time = self.modulator(x_rg)\n",
        "\n",
        "    # Generate CIRs from the channel\n",
        "    a, tau = self.channel(batch_size, self.rg.num_time_samples+self.l_tot-1)\n",
        "    # Convert to channel tap coefficients\n",
        "    h_time = sionna.channel.cir_to_time_channel(self.bandwidth, a, tau,\n",
        "                                                self.l_min, self.l_max)\n",
        "    # Convert to time channel\n",
        "    y_time = self.channel_time([x_time, h_time, no])\n",
        "    # Demodulate\n",
        "    y = self.demodulator(y_time)\n",
        "\n",
        "    # TODO this is where we can distinguish between perfect/imperfect estimation\n",
        "\n",
        "    # Apply channel estimation\n",
        "    h_hat, err_var = self.ch_est([y, no])\n",
        "    # Apply equalization\n",
        "    x_hat, no_eff = self.ch_eq([y, h_hat, err_var, no])\n",
        "    # Demapping\n",
        "    llr = self.demapper([x_hat, no_eff])\n",
        "    # Deinterleave\n",
        "    llr_int = self.deinterleaver(llr)\n",
        "    # Decoding\n",
        "    b_hat = self.decoder(llr_int)\n",
        "    #ber = sionna.utils.metrics.compute_ber(b, b_hat)\n",
        "    return b, b_hat"
      ]
    },
    {
      "cell_type": "markdown",
      "metadata": {
        "id": "USsVIo5KCz_u"
      },
      "source": [
        "## Experiments with Rice channel"
      ]
    },
    {
      "cell_type": "code",
      "execution_count": null,
      "metadata": {
        "id": "JvS6hcwW2r0N"
      },
      "outputs": [],
      "source": [
        "k_values = np.array([-10, -1, 0, 1, 3, 6, 10])"
      ]
    },
    {
      "cell_type": "code",
      "execution_count": null,
      "metadata": {
        "id": "U68SqK-Xbedr"
      },
      "outputs": [],
      "source": [
        "batchsize = 256"
      ]
    },
    {
      "cell_type": "code",
      "source": [
        "comms_system = CommsSystem({\"num_bits_per_symbol\":4, \"cyclic_prefix_length\":6,\n",
        "                            \"coderate\": 0.5, \"k_factor\":k})"
      ],
      "metadata": {
        "colab": {
          "base_uri": "https://localhost:8080/"
        },
        "id": "Fy-hhCtz_2Wz",
        "outputId": "54e3471a-9537-4f17-9340-6de6b1a1dfd4"
      },
      "execution_count": 52,
      "outputs": [
        {
          "output_type": "stream",
          "name": "stderr",
          "text": [
            "/usr/local/lib/python3.7/dist-packages/sionna/fec/polar/decoding.py:493: UserWarning: Required ressource allocation is large for the selected blocklength. Consider option `cpu_only=True`.\n",
            "  warnings.warn(\"Required ressource allocation is large \" \\\n"
          ]
        }
      ]
    },
    {
      "cell_type": "code",
      "source": [
        "b, b_hat = comms_system(256, 10)"
      ],
      "metadata": {
        "id": "t-PGiIj__3P5"
      },
      "execution_count": 54,
      "outputs": []
    },
    {
      "cell_type": "code",
      "execution_count": null,
      "metadata": {
        "colab": {
          "base_uri": "https://localhost:8080/"
        },
        "id": "_rdWSYyx3o9-",
        "outputId": "5c89510a-54ed-493b-c0cd-29c5a11437a1"
      },
      "outputs": [
        {
          "output_type": "stream",
          "name": "stdout",
          "text": [
            "EbNo [dB] |        BER |       BLER |  bit errors |    num bits | block errors |  num blocks | runtime [s] |    status\n",
            "---------------------------------------------------------------------------------------------------------------------------------------\n",
            "      0.0 | 3.5845e-01 | 9.8828e-01 |      634261 |     1769472 |         1012 |        1024 |        11.4 |reached target block errors\n",
            "      5.0 | 2.1526e-01 | 7.2917e-01 |      571353 |     2654208 |         1120 |        1536 |         0.4 |reached target block errors\n",
            "     10.0 | 9.7077e-02 | 3.5124e-01 |      515326 |     5308416 |         1079 |        3072 |         0.9 |reached target block errors\n",
            "     15.0 | 3.3629e-02 | 1.2752e-01 |      461173 |    13713408 |         1012 |        7936 |         2.2 |reached target block errors\n",
            "     20.0 | 1.0795e-02 | 4.1365e-02 |      453677 |    42024960 |         1006 |       24320 |         6.8 |reached target block errors\n",
            "     25.0 | 3.5824e-03 | 1.3437e-02 |      461164 |   128729088 |         1001 |       74496 |        20.8 |reached target block errors\n",
            "     30.0 | 1.1452e-03 | 4.2777e-03 |      463540 |   404766720 |         1002 |      234240 |        67.2 |reached target block errors\n",
            "     35.0 | 3.8345e-04 | 1.4375e-03 |      169625 |   442368000 |          368 |      256000 |        71.7 |reached max iter       \n",
            "EbNo [dB] |        BER |       BLER |  bit errors |    num bits | block errors |  num blocks | runtime [s] |    status\n",
            "---------------------------------------------------------------------------------------------------------------------------------------\n",
            "      0.0 | 2.9978e-01 | 9.2969e-01 |      663074 |     2211840 |         1190 |        1280 |         7.3 |reached target block errors\n",
            "      5.0 | 1.4596e-01 | 5.2197e-01 |      516557 |     3538944 |         1069 |        2048 |         0.6 |reached target block errors\n",
            "     10.0 | 5.1947e-02 | 1.9707e-01 |      459596 |     8847360 |         1009 |        5120 |         1.4 |reached target block errors\n",
            "     15.0 | 1.6824e-02 | 6.4101e-02 |      453974 |    26984448 |         1001 |       15616 |         4.4 |reached target block errors\n",
            "     20.0 | 5.3508e-03 | 1.9908e-02 |      466306 |    87146496 |         1004 |       50432 |        14.1 |reached target block errors\n",
            "     25.0 | 1.7591e-03 | 6.5873e-03 |      461445 |   262324224 |         1000 |      151808 |        42.4 |reached target block errors\n",
            "     30.0 | 5.2306e-04 | 2.0273e-03 |      231386 |   442368000 |          519 |      256000 |        71.5 |reached max iter       \n",
            "     35.0 | 1.3911e-04 | 5.2344e-04 |       61537 |   442368000 |          134 |      256000 |        71.4 |reached max iter       \n",
            "EbNo [dB] |        BER |       BLER |  bit errors |    num bits | block errors |  num blocks | runtime [s] |    status\n",
            "---------------------------------------------------------------------------------------------------------------------------------------\n",
            "      0.0 | 2.8818e-01 | 9.1094e-01 |      637400 |     2211840 |         1166 |        1280 |         7.6 |reached target block errors\n",
            "      5.0 | 1.2951e-01 | 4.7613e-01 |      515619 |     3981312 |         1097 |        2304 |         0.7 |reached target block errors\n",
            "     10.0 | 4.2980e-02 | 1.6536e-01 |      456309 |    10616832 |         1016 |        6144 |         1.7 |reached target block errors\n",
            "     15.0 | 1.3975e-02 | 5.2448e-02 |      463660 |    33177600 |         1007 |       19200 |         5.4 |reached target block errors\n",
            "     20.0 | 4.3865e-03 | 1.6393e-02 |      463763 |   105725952 |         1003 |       61184 |        17.1 |reached target block errors\n",
            "     25.0 | 1.3929e-03 | 5.2930e-03 |      454742 |   326467584 |         1000 |      188928 |        52.9 |reached target block errors\n",
            "     30.0 | 4.0293e-04 | 1.5703e-03 |      178242 |   442368000 |          402 |      256000 |        71.3 |reached max iter       \n",
            "     35.0 | 1.4917e-04 | 5.8984e-04 |       65990 |   442368000 |          151 |      256000 |        71.2 |reached max iter       \n",
            "EbNo [dB] |        BER |       BLER |  bit errors |    num bits | block errors |  num blocks | runtime [s] |    status\n",
            "---------------------------------------------------------------------------------------------------------------------------------------\n",
            "      0.0 | 2.6971e-01 | 8.9766e-01 |      596556 |     2211840 |         1149 |        1280 |         7.3 |reached target block errors\n",
            "      5.0 | 1.0853e-01 | 4.0898e-01 |      480100 |     4423680 |         1047 |        2560 |         0.7 |reached target block errors\n",
            "     10.0 | 3.3669e-02 | 1.2828e-01 |      461712 |    13713408 |         1018 |        7936 |         2.2 |reached target block errors\n",
            "     15.0 | 1.1118e-02 | 4.2013e-02 |      462328 |    41582592 |         1011 |       24064 |         6.7 |reached target block errors\n",
            "     20.0 | 3.2883e-03 | 1.2323e-02 |      461122 |   140230656 |         1000 |       81152 |        22.6 |reached target block errors\n",
            "     25.0 | 1.1237e-03 | 4.3020e-03 |      451350 |   401670144 |         1000 |      232448 |        64.7 |reached target block errors\n",
            "     30.0 | 3.5774e-04 | 1.3828e-03 |      158253 |   442368000 |          354 |      256000 |        71.4 |reached max iter       \n",
            "     35.0 | 1.0331e-04 | 3.8672e-04 |       45701 |   442368000 |           99 |      256000 |        71.1 |reached max iter       \n",
            "EbNo [dB] |        BER |       BLER |  bit errors |    num bits | block errors |  num blocks | runtime [s] |    status\n",
            "---------------------------------------------------------------------------------------------------------------------------------------\n",
            "      0.0 | 2.1556e-01 | 7.9036e-01 |      572132 |     2654208 |         1214 |        1536 |         7.3 |reached target block errors\n",
            "      5.0 | 7.3013e-02 | 2.9269e-01 |      452179 |     6193152 |         1049 |        3584 |         1.0 |reached target block errors\n",
            "     10.0 | 1.7824e-02 | 7.1236e-02 |      433656 |    24330240 |         1003 |       14080 |         3.9 |reached target block errors\n",
            "     15.0 | 5.7556e-03 | 2.2195e-02 |      448110 |    77856768 |         1000 |       45056 |        12.5 |reached target block errors\n",
            "     20.0 | 1.6605e-03 | 6.3620e-03 |      451026 |   271613952 |         1000 |      157184 |        43.7 |reached target block errors\n",
            "     25.0 | 5.1175e-04 | 1.9766e-03 |      226381 |   442368000 |          506 |      256000 |        71.2 |reached max iter       \n",
            "     30.0 | 1.8005e-04 | 7.0703e-04 |       79649 |   442368000 |          181 |      256000 |        71.4 |reached max iter       \n",
            "     35.0 | 4.9414e-05 | 1.8750e-04 |       21859 |   442368000 |           48 |      256000 |        71.1 |reached max iter       \n",
            "EbNo [dB] |        BER |       BLER |  bit errors |    num bits | block errors |  num blocks | runtime [s] |    status\n",
            "---------------------------------------------------------------------------------------------------------------------------------------\n",
            "      0.0 | 1.2200e-01 | 5.1514e-01 |      431751 |     3538944 |         1055 |        2048 |         7.7 |reached target block errors\n",
            "      5.0 | 1.9536e-02 | 8.8715e-02 |      388900 |    19906560 |         1022 |       11520 |         3.2 |reached target block errors\n",
            "     10.0 | 3.5194e-03 | 1.4981e-02 |      406348 |   115458048 |         1001 |       66816 |        18.6 |reached target block errors\n",
            "     15.0 | 8.7015e-04 | 3.3906e-03 |      384925 |   442368000 |          868 |      256000 |        71.2 |reached max iter       \n",
            "     20.0 | 2.4862e-04 | 1.0039e-03 |      109982 |   442368000 |          257 |      256000 |        71.2 |reached max iter       \n",
            "     25.0 | 5.9525e-05 | 2.3828e-04 |       26332 |   442368000 |           61 |      256000 |        71.3 |reached max iter       \n",
            "     30.0 | 1.5636e-05 | 5.8594e-05 |        6917 |   442368000 |           15 |      256000 |        71.0 |reached max iter       \n",
            "     35.0 | 5.4525e-06 | 2.3438e-05 |        2412 |   442368000 |            6 |      256000 |        71.0 |reached max iter       \n",
            "EbNo [dB] |        BER |       BLER |  bit errors |    num bits | block errors |  num blocks | runtime [s] |    status\n",
            "---------------------------------------------------------------------------------------------------------------------------------------\n",
            "      0.0 | 1.0092e-02 | 5.7688e-02 |      308031 |    30523392 |         1019 |       17664 |        11.8 |reached target block errors\n",
            "      5.0 | 2.9910e-04 | 1.6836e-03 |      132314 |   442368000 |          431 |      256000 |        71.3 |reached max iter       \n",
            "     10.0 | 1.7476e-05 | 8.9844e-05 |        7731 |   442368000 |           23 |      256000 |        71.5 |reached max iter       \n"
          ]
        }
      ],
      "source": [
        "\n",
        "k_analysis = {}\n",
        "for k in k_values:\n",
        "  comms_system = CommsSystem({\"num_bits_per_symbol\":4, \"cyclic_prefix_length\":6,\n",
        "                            \"coderate\": 0.5, \"k_factor\":k})\n",
        "  ber, bler = sionna.utils.sim_ber(comms_system, np.arange(0, 40, 5.0), batch_size=batchsize,\n",
        "                                 max_mc_iter=1000, num_target_block_errors=1000)\n",
        "  k_analysis[k] = (ber, bler)\n",
        "pickle.dump(k_analysis, open('k_analysis.pickle', 'wb'))"
      ]
    },
    {
      "cell_type": "code",
      "execution_count": null,
      "metadata": {
        "colab": {
          "base_uri": "https://localhost:8080/",
          "height": 200
        },
        "id": "Zn1Iw82jDq9d",
        "outputId": "cc4ffc6b-3682-42d2-f0fe-f2f0ee2dc3a4"
      },
      "outputs": [
        {
          "ename": "NameError",
          "evalue": "ignored",
          "output_type": "error",
          "traceback": [
            "\u001b[0;31m---------------------------------------------------------------------------\u001b[0m",
            "\u001b[0;31mNameError\u001b[0m                                 Traceback (most recent call last)",
            "\u001b[0;32m<ipython-input-25-b9edd5131799>\u001b[0m in \u001b[0;36m<module>\u001b[0;34m()\u001b[0m\n\u001b[1;32m      1\u001b[0m \u001b[0;32mfor\u001b[0m \u001b[0mk\u001b[0m \u001b[0;32min\u001b[0m \u001b[0mk_values\u001b[0m\u001b[0;34m:\u001b[0m\u001b[0;34m\u001b[0m\u001b[0;34m\u001b[0m\u001b[0m\n\u001b[0;32m----> 2\u001b[0;31m   \u001b[0mplt\u001b[0m\u001b[0;34m.\u001b[0m\u001b[0msemilogy\u001b[0m\u001b[0;34m(\u001b[0m\u001b[0mnp\u001b[0m\u001b[0;34m.\u001b[0m\u001b[0marange\u001b[0m\u001b[0;34m(\u001b[0m\u001b[0;36m0\u001b[0m\u001b[0;34m,\u001b[0m\u001b[0;36m40\u001b[0m\u001b[0;34m,\u001b[0m\u001b[0;36m5\u001b[0m\u001b[0;34m)\u001b[0m\u001b[0;34m,\u001b[0m \u001b[0mk_analysis\u001b[0m\u001b[0;34m[\u001b[0m\u001b[0mk\u001b[0m\u001b[0;34m]\u001b[0m\u001b[0;34m[\u001b[0m\u001b[0;36m0\u001b[0m\u001b[0;34m]\u001b[0m\u001b[0;34m,\u001b[0m \u001b[0mlabel\u001b[0m\u001b[0;34m=\u001b[0m\u001b[0mstr\u001b[0m\u001b[0;34m(\u001b[0m\u001b[0mk\u001b[0m\u001b[0;34m)\u001b[0m\u001b[0;34m)\u001b[0m\u001b[0;34m\u001b[0m\u001b[0;34m\u001b[0m\u001b[0m\n\u001b[0m\u001b[1;32m      3\u001b[0m \u001b[0mplt\u001b[0m\u001b[0;34m.\u001b[0m\u001b[0mlegend\u001b[0m\u001b[0;34m(\u001b[0m\u001b[0;34m)\u001b[0m\u001b[0;34m\u001b[0m\u001b[0;34m\u001b[0m\u001b[0m\n",
            "\u001b[0;31mNameError\u001b[0m: name 'k_analysis' is not defined"
          ]
        }
      ],
      "source": [
        "for k in k_values:\n",
        "  plt.semilogy(np.arange(0,40,5), k_analysis[k][0], label=str(k))\n",
        "plt.legend()"
      ]
    },
    {
      "cell_type": "code",
      "execution_count": null,
      "metadata": {
        "id": "9tPnl1teDOdA"
      },
      "outputs": [],
      "source": [
        "cp_lengths = np.arange(4,12,2)"
      ]
    },
    {
      "cell_type": "code",
      "execution_count": null,
      "metadata": {
        "colab": {
          "background_save": true,
          "base_uri": "https://localhost:8080/"
        },
        "id": "Jtc6G00Ta0HO",
        "outputId": "c94e26e0-86ed-472f-9b59-0990e68bc7b5"
      },
      "outputs": [
        {
          "name": "stdout",
          "output_type": "stream",
          "text": [
            "EbNo [dB] |        BER |       BLER |  bit errors |    num bits | block errors |  num blocks | runtime [s] |    status\n",
            "---------------------------------------------------------------------------------------------------------------------------------------\n",
            "      0.0 | 2.7223e-01 | 9.8242e-01 |      481703 |     1769472 |         1006 |        1024 |         6.9 |reached target block errors\n",
            "      5.0 | 1.4073e-01 | 6.3393e-01 |      435767 |     3096576 |         1136 |        1792 |         0.5 |reached target block errors\n",
            "     10.0 | 4.7283e-02 | 2.7292e-01 |      313745 |     6635520 |         1048 |        3840 |         1.0 |reached target block errors\n",
            "     15.0 | 1.6706e-02 | 4.8003e-01 |       66513 |     3981312 |         1106 |        2304 |         0.6 |reached target block errors\n",
            "     20.0 | 2.0479e-02 | 8.1641e-01 |       45297 |     2211840 |         1045 |        1280 |         0.3 |reached target block errors\n",
            "     25.0 | 3.4909e-02 | 9.4609e-01 |       77213 |     2211840 |         1211 |        1280 |         0.3 |reached target block errors\n",
            "     30.0 | 4.4640e-02 | 9.8242e-01 |       78989 |     1769472 |         1006 |        1024 |         0.3 |reached target block errors\n",
            "     35.0 | 4.9618e-02 | 9.9609e-01 |       87797 |     1769472 |         1020 |        1024 |         0.3 |reached target block errors\n",
            "EbNo [dB] |        BER |       BLER |  bit errors |    num bits | block errors |  num blocks | runtime [s] |    status\n",
            "---------------------------------------------------------------------------------------------------------------------------------------\n",
            "      0.0 | 2.1883e-01 | 8.0078e-01 |      484024 |     2211840 |         1025 |        1280 |         7.2 |reached target block errors\n",
            "      5.0 | 7.3980e-02 | 2.9436e-01 |      458170 |     6193152 |         1055 |        3584 |         1.0 |reached target block errors\n",
            "     10.0 | 1.8646e-02 | 7.4292e-02 |      437158 |    23445504 |         1008 |       13568 |         3.7 |reached target block errors\n",
            "     15.0 | 5.5179e-03 | 2.1230e-02 |      449137 |    81395712 |         1000 |       47104 |        12.8 |reached target block errors\n",
            "     20.0 | 1.6511e-03 | 6.3193e-03 |      452840 |   274268160 |         1003 |      158720 |        43.7 |reached target block errors\n",
            "     25.0 | 5.8430e-04 | 2.2305e-03 |      258476 |   442368000 |          571 |      256000 |        70.5 |reached max iter       \n",
            "     30.0 | 1.3646e-04 | 5.0000e-04 |       60365 |   442368000 |          128 |      256000 |        69.9 |reached max iter       \n",
            "     35.0 | 5.9365e-05 | 2.3437e-04 |       26261 |   442368000 |           60 |      256000 |        69.6 |reached max iter       \n",
            "EbNo [dB] |        BER |       BLER |  bit errors |    num bits | block errors |  num blocks | runtime [s] |    status\n",
            "---------------------------------------------------------------------------------------------------------------------------------------\n",
            "      0.0 | 2.2494e-01 | 8.0781e-01 |      497522 |     2211840 |         1034 |        1280 |         7.0 |reached target block errors\n",
            "      5.0 | 7.6556e-02 | 3.0859e-01 |      440256 |     5750784 |         1027 |        3328 |         0.9 |reached target block errors\n",
            "     10.0 | 2.0314e-02 | 7.9141e-02 |      449322 |    22118400 |         1013 |       12800 |         3.5 |reached target block errors\n",
            "     15.0 | 5.5902e-03 | 2.1410e-02 |      452545 |    80953344 |         1003 |       46848 |        12.8 |reached target block errors\n",
            "     20.0 | 1.8544e-03 | 7.1412e-03 |      448722 |   241975296 |         1000 |      140032 |        38.3 |reached target block errors\n",
            "     25.0 | 5.3567e-04 | 2.0391e-03 |      236965 |   442368000 |          522 |      256000 |        69.7 |reached max iter       \n",
            "     30.0 | 1.6628e-04 | 6.3281e-04 |       73558 |   442368000 |          162 |      256000 |        69.7 |reached max iter       \n",
            "     35.0 | 4.5388e-05 | 1.7578e-04 |       20078 |   442368000 |           45 |      256000 |        69.8 |reached max iter       \n",
            "EbNo [dB] |        BER |       BLER |  bit errors |    num bits | block errors |  num blocks | runtime [s] |    status\n",
            "---------------------------------------------------------------------------------------------------------------------------------------\n",
            "      0.0 | 2.2661e-01 | 8.2891e-01 |      501236 |     2211840 |         1061 |        1280 |         6.9 |reached target block errors\n",
            "      5.0 | 7.4186e-02 | 2.9799e-01 |      459448 |     6193152 |         1068 |        3584 |         1.0 |reached target block errors\n",
            "     10.0 | 2.0553e-02 | 8.1787e-02 |      436425 |    21233664 |         1005 |       12288 |         3.4 |reached target block errors\n",
            "     15.0 | 5.7171e-03 | 2.2647e-02 |      437530 |    76529664 |         1003 |       44288 |        12.0 |reached target block errors\n",
            "     20.0 | 1.7192e-03 | 6.6208e-03 |      448709 |   260997120 |         1000 |      151040 |        41.4 |reached target block errors\n",
            "     25.0 | 5.6946e-04 | 2.1328e-03 |      251912 |   442368000 |          546 |      256000 |        69.2 |reached max iter       \n",
            "     30.0 | 1.8356e-04 | 6.8750e-04 |       81201 |   442368000 |          176 |      256000 |        69.1 |reached max iter       \n",
            "     35.0 | 5.8908e-05 | 2.3437e-04 |       26059 |   442368000 |           60 |      256000 |        69.0 |reached max iter       \n"
          ]
        }
      ],
      "source": [
        "cp_analysis = {}\n",
        "for cp in cp_lengths:\n",
        "  comms_system = CommsSystem({\"num_bits_per_symbol\":4, \"cyclic_prefix_length\":cp,\n",
        "                            \"coderate\": 0.5, \"k_factor\":3})\n",
        "  ber, bler = sionna.utils.sim_ber(comms_system, np.arange(0, 40, 5.0), batch_size=batchsize,\n",
        "                                 max_mc_iter=1000, num_target_block_errors=1000)\n",
        "  cp_analysis[cp] = (ber, bler)\n",
        "pickle.dump(cp_analysis, open('cp_analysis.pickle', 'wb'))"
      ]
    },
    {
      "cell_type": "code",
      "execution_count": null,
      "metadata": {
        "colab": {
          "base_uri": "https://localhost:8080/",
          "height": 282
        },
        "id": "F4xxSabSCzvQ",
        "outputId": "7a6a8f4c-ca2f-47b4-cfb3-60d2e9736fb5"
      },
      "outputs": [
        {
          "data": {
            "text/plain": [
              "<matplotlib.legend.Legend at 0x7f6e82dd9a50>"
            ]
          },
          "execution_count": 34,
          "metadata": {},
          "output_type": "execute_result"
        },
        {
          "data": {
            "image/png": "[encoded data removed]",
            "text/plain": [
              "<Figure size 432x288 with 1 Axes>"
            ]
          },
          "metadata": {},
          "output_type": "display_data"
        }
      ],
      "source": [
        "for cp in cp_lengths:\n",
        "  plt.semilogy(np.arange(0,40,5), cp_analysis[cp][0], label=str(cp))\n",
        "plt.legend()"
      ]
    },
    {
      "cell_type": "markdown",
      "metadata": {
        "id": "UCYgtQ9UkGcs"
      },
      "source": [
        "This does not look like a BER curve."
      ]
    },
    {
      "cell_type": "markdown",
      "metadata": {
        "id": "P953DbZTdZxt"
      },
      "source": [
        "Trying a Rayleigh channel as well."
      ]
    },
    {
      "cell_type": "code",
      "execution_count": null,
      "metadata": {
        "id": "hbUMfXyWdZSq"
      },
      "outputs": [],
      "source": [
        "rayleigh_ch = sionna.channel.RayleighBlockFading(1, 1, 1, 1)"
      ]
    },
    {
      "cell_type": "code",
      "execution_count": null,
      "metadata": {
        "id": "oJxmGtADf3X7"
      },
      "outputs": [],
      "source": [
        "cp_lengths = [4,5,6]"
      ]
    },
    {
      "cell_type": "code",
      "execution_count": null,
      "metadata": {
        "colab": {
          "base_uri": "https://localhost:8080/"
        },
        "id": "WUX5BdB7dihv",
        "outputId": "ca00a135-e332-4bc8-bfe9-60d99aa39ef5"
      },
      "outputs": [
        {
          "name": "stdout",
          "output_type": "stream",
          "text": [
            "EbNo [dB] |        BER |       BLER |  bit errors |    num bits | block errors |  num blocks | runtime [s] |    status\n",
            "---------------------------------------------------------------------------------------------------------------------------------------\n",
            "      0.0 | 3.7811e-01 | 9.9902e-01 |      669049 |     1769472 |         1023 |        1024 |         7.0 |reached target block errors\n",
            "      5.0 | 2.8659e-01 | 9.4453e-01 |      633885 |     2211840 |         1209 |        1280 |         0.3 |reached target block errors\n",
            "     10.0 | 1.5869e-01 | 6.3951e-01 |      491400 |     3096576 |         1146 |        1792 |         0.5 |reached target block errors\n",
            "     15.0 | 6.5211e-02 | 3.7216e-01 |      317321 |     4866048 |         1048 |        2816 |         0.8 |reached target block errors\n",
            "     20.0 | 2.8789e-02 | 4.9262e-01 |      114619 |     3981312 |         1135 |        2304 |         0.6 |reached target block errors\n",
            "     25.0 | 2.6066e-02 | 7.8359e-01 |       57654 |     2211840 |         1003 |        1280 |         0.3 |reached target block errors\n",
            "     30.0 | 3.3274e-02 | 9.0156e-01 |       73597 |     2211840 |         1154 |        1280 |         0.3 |reached target block errors\n",
            "     35.0 | 4.3636e-02 | 9.5859e-01 |       96515 |     2211840 |         1227 |        1280 |         0.3 |reached target block errors\n",
            "EbNo [dB] |        BER |       BLER |  bit errors |    num bits | block errors |  num blocks | runtime [s] |    status\n",
            "---------------------------------------------------------------------------------------------------------------------------------------\n",
            "      0.0 | 3.7747e-01 | 9.9805e-01 |      667930 |     1769472 |         1022 |        1024 |         6.8 |reached target block errors\n",
            "      5.0 | 2.5848e-01 | 8.6953e-01 |      571707 |     2211840 |         1113 |        1280 |         0.3 |reached target block errors\n",
            "     10.0 | 1.2626e-01 | 4.7613e-01 |      502669 |     3981312 |         1097 |        2304 |         0.6 |reached target block errors\n",
            "     15.0 | 4.6436e-02 | 1.9883e-01 |      410838 |     8847360 |         1018 |        5120 |         1.4 |reached target block errors\n",
            "     20.0 | 1.6704e-02 | 1.8676e-01 |      155171 |     9289728 |         1004 |        5376 |         1.5 |reached target block errors\n",
            "     25.0 | 6.9786e-03 | 4.1172e-01 |       30871 |     4423680 |         1054 |        2560 |         0.7 |reached target block errors\n",
            "     30.0 | 8.2676e-03 | 6.6862e-01 |       21944 |     2654208 |         1027 |        1536 |         0.4 |reached target block errors\n",
            "     35.0 | 1.2311e-02 | 8.2031e-01 |       27230 |     2211840 |         1050 |        1280 |         0.3 |reached target block errors\n",
            "EbNo [dB] |        BER |       BLER |  bit errors |    num bits | block errors |  num blocks | runtime [s] |    status\n",
            "---------------------------------------------------------------------------------------------------------------------------------------\n",
            "      0.0 | 3.6667e-01 | 9.8828e-01 |      648812 |     1769472 |         1012 |        1024 |         6.9 |reached target block errors\n",
            "      5.0 | 2.2974e-01 | 7.6237e-01 |      609769 |     2654208 |         1171 |        1536 |         0.4 |reached target block errors\n",
            "     10.0 | 9.9608e-02 | 3.6470e-01 |      484699 |     4866048 |         1027 |        2816 |         0.8 |reached target block errors\n",
            "     15.0 | 3.6563e-02 | 1.3255e-01 |      485235 |    13271040 |         1018 |        7680 |         2.1 |reached target block errors\n",
            "     20.0 | 1.1871e-02 | 4.5169e-02 |      456854 |    38486016 |         1006 |       22272 |         6.0 |reached target block errors\n",
            "     25.0 | 3.8883e-03 | 1.4630e-02 |      459258 |   118112256 |         1000 |       68352 |        18.4 |reached target block errors\n",
            "     30.0 | 1.2465e-03 | 4.7464e-03 |      453802 |   364068864 |         1000 |      210688 |        56.4 |reached target block errors\n",
            "     35.0 | 3.7058e-04 | 1.4023e-03 |      163933 |   442368000 |          359 |      256000 |        68.6 |reached max iter       \n"
          ]
        }
      ],
      "source": [
        "cp_analysis = {}\n",
        "for cp in cp_lengths:\n",
        "  comms_system = CommsSystem({\"num_bits_per_symbol\":4, \"cyclic_prefix_length\":cp,\n",
        "                            \"coderate\": 0.5, \"channel\":rayleigh_ch})\n",
        "  ber, bler = sionna.utils.sim_ber(comms_system, np.arange(0, 40, 5.0), batch_size=batchsize,\n",
        "                                 max_mc_iter=1000, num_target_block_errors=1000)\n",
        "  cp_analysis[cp] = (ber, bler)\n",
        "pickle.dump(cp_analysis, open('cp_analysis_rayleigh.pickle', 'wb'))"
      ]
    },
    {
      "cell_type": "code",
      "execution_count": null,
      "metadata": {
        "colab": {
          "base_uri": "https://localhost:8080/",
          "height": 282
        },
        "id": "fstVmyg7f531",
        "outputId": "7a7b8fa6-c6af-4005-f628-40a3d16a3527"
      },
      "outputs": [
        {
          "data": {
            "text/plain": [
              "<matplotlib.legend.Legend at 0x7f6e83bf9150>"
            ]
          },
          "execution_count": 28,
          "metadata": {},
          "output_type": "execute_result"
        },
        {
          "data": {
            "image/png": "[encoded data removed]",
            "text/plain": [
              "<Figure size 432x288 with 1 Axes>"
            ]
          },
          "metadata": {},
          "output_type": "display_data"
        }
      ],
      "source": [
        "for cp in cp_lengths:\n",
        "  plt.semilogy(np.arange(0,40,5), cp_analysis[cp][0], label=str(cp))\n",
        "plt.legend()"
      ]
    },
    {
      "cell_type": "markdown",
      "metadata": {
        "id": "hZg-QP7GkLyK"
      },
      "source": [
        "What have we learned:\n",
        "* there isn't much range for control of the CP\n",
        "* if we have more FFT bins we should have higher range\n",
        "* we should also compare with the delay spread\n",
        "* we see an error floor."
      ]
    },
    {
      "cell_type": "markdown",
      "metadata": {
        "id": "jWWKFbrds5DH"
      },
      "source": [
        "# Dataset channel"
      ]
    },
    {
      "cell_type": "code",
      "execution_count": null,
      "metadata": {
        "id": "ueO4n0S1s61G"
      },
      "outputs": [],
      "source": [
        "# Create the channel generator that will return the path coeffs and delays\n",
        "class CIRGenerator:\n",
        "    def __init__(self, data, sampling_frequency, num_paths, num_time_steps):\n",
        "      \"\"\"\n",
        "      Parameters\n",
        "      ==========\n",
        "      data -- IQ data\n",
        "      sampling_frequency -- in Hz\n",
        "      num_paths -- actually number of taps\n",
        "      num_time_steps -- this is the number of channel uses  required\n",
        "      \"\"\"\n",
        "      super().__init__()\n",
        "      self.num_paths = num_paths\n",
        "      self.num_time_steps = num_time_steps\n",
        "      self.data = data\n",
        "      #self.num_samples = data.shape[1]\n",
        "      self.sampling_frequency = sampling_frequency\n",
        "      self.sampling_period = 1/self.sampling_frequency\n",
        "        \n",
        "    def __call__(self):\n",
        "      \"\"\"\n",
        "      This returns a single set of CIRs for the number of time steps specified.\n",
        "      It is built from one CIR from the dataset, replicated for all time steps.\n",
        "      \"\"\"\n",
        "      for path_coefs, path_delays in self.data:\n",
        "        a = np.ndarray((1, 1, 1, 1, self.num_paths, self.num_time_steps), np.complex64)\n",
        "        #print(path_coefs, self.num_paths, self.num_time_steps)\n",
        "        a[0][0][0][0] = np.transpose(np.tile(path_coefs[:self.num_paths], (self.num_time_steps, 1)))\n",
        "        tau = np.ndarray((1,1,self.num_paths))\n",
        "        tau[0][0] = path_delays[:self.num_paths]\n",
        "        yield a, tau"
      ]
    },
    {
      "cell_type": "code",
      "execution_count": null,
      "metadata": {
        "id": "Zz77OHIj-FRf"
      },
      "outputs": [],
      "source": [
        "model = CommsSystem({\"num_bits_per_symbol\":4, \"cyclic_prefix_length\":6, \"coderate\": 0.5})"
      ]
    },
    {
      "cell_type": "code",
      "execution_count": null,
      "metadata": {
        "id": "kakvo98U0785"
      },
      "outputs": [],
      "source": [
        "batchsize=256\n",
        "cir_gen = CIRGenerator(cir_iq_data, 200e6, 3, model.rg.num_time_samples+model.l_tot-1)\n",
        "cir_chmodel = sionna.channel.CIRDataset(cir_gen, batchsize, 1, 1, 1, 1, cir_gen.num_paths,\n",
        "                                        model.rg.num_time_samples+model.l_tot-1)\n",
        "cir_timechannel = sionna.channel.TimeChannel(cir_chmodel, model.bandwidth,\n",
        "                                             model.rg.num_time_samples)\n",
        "model.set_channel(cir_timechannel)"
      ]
    },
    {
      "cell_type": "code",
      "execution_count": null,
      "metadata": {
        "id": "YU7kuBWOV7mT"
      },
      "outputs": [],
      "source": [
        "b, b_hat = model(tf.constant(batchsize, tf.int32), tf.constant(5, tf.float32))"
      ]
    },
    {
      "cell_type": "code",
      "execution_count": null,
      "metadata": {
        "id": "h4aSwdoumvMP"
      },
      "outputs": [],
      "source": [
        "sionna.utils.compute_ber(b, b_hat)"
      ]
    },
    {
      "cell_type": "code",
      "execution_count": null,
      "metadata": {
        "id": "jcwofCg2_7uS"
      },
      "outputs": [],
      "source": [
        "start = time.time()\n",
        "ber, bler = sionna.utils.sim_ber(model, np.arange(0, 20, 2.0), batch_size=batchsize,\n",
        "                                 max_mc_iter=1000, num_target_block_errors=10000)\n",
        "print(f\"It took {time.time()-start}\")"
      ]
    },
    {
      "cell_type": "code",
      "execution_count": null,
      "metadata": {
        "id": "02W-K95PHvKi"
      },
      "outputs": [],
      "source": [
        "plt.semilogy(np.arange(0,20,2.0), ber)"
      ]
    },
    {
      "cell_type": "code",
      "execution_count": null,
      "metadata": {
        "id": "G5WMbuT0YdZA"
      },
      "outputs": [],
      "source": [
        "plt.semilogy(np.arange(0,20,2.0), bler)"
      ]
    },
    {
      "cell_type": "markdown",
      "metadata": {
        "id": "1eiyW9-twtFB"
      },
      "source": [
        "# Experiments to optimise the CP value\n",
        "\n",
        "Objective: minimise the CP\n",
        "Constraints: BER < threshold\n",
        "\n",
        "1. Define a set of CP values that are considered\n",
        "2. Calculate the SINR for a given CP, based on self-interference\n",
        "3. Run simulation to calculate the BER\n",
        "4. Repeat and final min CP that guarantees values."
      ]
    },
    {
      "cell_type": "markdown",
      "metadata": {
        "id": "pcaD0kXDP0rw"
      },
      "source": [
        "__NOTE__ The CP is defined as a"
      ]
    },
    {
      "cell_type": "markdown",
      "source": [
        "# Experiments to optimise coding\n",
        "\n",
        "Polar code SCL encoder with CRC. Parameters considered\n",
        "\n",
        "* codeword length: 128, 256, 512, 1024\n",
        "* code rate: 0.2, 0.4, 0.6, 0.8\n",
        "* list size: 4, 8, 16\n",
        "* CRC size: 6, 11, 16.\n",
        "\n",
        "Process:\n",
        "\n",
        "* fix SNR value\n",
        "* test all configurations for the given SNR value\n",
        "* restrict to those configurations that achieve the desired BER\n",
        "* select the one that maximises the throughput.\n",
        "\n",
        "Pruning the search\n",
        "\n",
        "* increasing the codeword length will increase the reliability\n",
        "* increasing the code rate will decrease reliability; as soon as we have a failure we can stop; we test the code rate in increasing order\n",
        "* list size increases reliability; we test in decreasing order, stopping search on failure\n",
        "* crc size increases reliability; we test in decreasing order, stopping search on failure\n",
        "* outer-loop policy on inner-loop failure: restrict next iteration's inner-loop options to those prior to the current failure; for example if CR 0.4 fails at list size 4 and crc 11, CR 0.6 should only check up to list size 4 and crc 16"
      ],
      "metadata": {
        "id": "bu97LOwSXjvu"
      }
    },
    {
      "cell_type": "code",
      "source": [
        "from sionna.fec.polar import Polar5GEncoder, Polar5GDecoder"
      ],
      "metadata": {
        "id": "QcLQKSqrauVa"
      },
      "execution_count": 4,
      "outputs": []
    },
    {
      "cell_type": "markdown",
      "source": [
        "### Attempt using multiple codewords per OFDM RG\n",
        "\n",
        "This is highly computational and not recommended.\n",
        "Use the next one instead"
      ],
      "metadata": {
        "id": "5I-uNkG9sTDU"
      }
    },
    {
      "cell_type": "markdown",
      "source": [
        "##### DO NOT USE THIS! USE THE NEXT ONE INSTEAD\n",
        "class CodeTestSystemModelMultiCodeword(tf.keras.Model):\n",
        "  \"\"\"\n",
        "  This class implements an OFDM with polar coding system where there are multiple\n",
        "  codewords per OFDM grid.\n",
        "  The codeword length is a parameter, and the codewords are iteratively encoded\n",
        "  and filled in the OFDM resource grid, then iteratively decoded.\n",
        "\n",
        "  It therefore has high computational complexity and shouldn't be used.\n",
        "  \"\"\"\n",
        "  def __init__(self, k, n, encoder, decoder, k_factor, channel=None):\n",
        "    super().__init__()\n",
        "    #self.bandwidth = params[\"bandwidth\"]\n",
        "    # TODO: compute the fft_size and subcarrier spacing based on the bandwidth\n",
        "    # Define an OFDM Resource Grid Object\n",
        "    self.rg = sionna.ofdm.ResourceGrid(\n",
        "                          num_ofdm_symbols=14, #params[\"num_ofdm_symbols\"],\n",
        "                          fft_size=72, #params[\"fft_size\"],\n",
        "                          subcarrier_spacing=15e3, #params[\"subcarrier_spacing\"],\n",
        "                          num_tx=1,\n",
        "                          num_streams_per_tx=1,\n",
        "                          cyclic_prefix_length=6, # 6 symbols is enough to cover the delay spread\n",
        "                          pilot_pattern=\"kronecker\",\n",
        "                          pilot_ofdm_symbol_indices=[2,11])#params[\"pilot_ofdm_symbol_indices\"])\n",
        "    self.bandwidth = self.rg.bandwidth # TODO: replace this later as user-defined\n",
        "    \n",
        "    # Create a Stream Management object\n",
        "    self.sm = sionna.mimo.StreamManagement(rx_tx_association=np.array([[1]]),\n",
        "                                               num_streams_per_tx=1)\n",
        "    \n",
        "    self.num_bits_per_symbol = 4\n",
        "    self.k = k\n",
        "    self.n = n\n",
        "    self.num_codewords = int(np.floor(self.rg.num_data_symbols*self.num_bits_per_symbol/self.n))\n",
        "    self.l_min, self.l_max = sionna.channel.time_lag_discrete_time_channel(\n",
        "                                            self.bandwidth)\n",
        "    self.l_tot = self.l_max - self.l_min + 1\n",
        "\n",
        "    # The layers of the comms system\n",
        "    self.binary_source = sionna.utils.BinarySource()\n",
        "    self.encoder = encoder\n",
        "    #self.interleaver = sionna.fec.interleaving.RowColumnInterleaver(\n",
        "    #                                      row_depth=self.num_bits_per_symbol)\n",
        "    #self.deinterleaver = sionna.fec.interleaving.Deinterleaver(self.interleaver)\n",
        "    self.mapper = sionna.mapping.Mapper(\"qam\", self.num_bits_per_symbol)\n",
        "    self.rg_mapper = sionna.ofdm.ResourceGridMapper(self.rg)\n",
        "    self.modulator = sionna.ofdm.OFDMModulator(self.rg.cyclic_prefix_length)\n",
        "    self.demodulator = sionna.ofdm.OFDMDemodulator(self.rg.fft_size,\n",
        "                                                   self.l_min,\n",
        "                                                   self.rg.cyclic_prefix_length)\n",
        "    self.demapper = sionna.mapping.Demapper(\"app\", \"qam\", self.num_bits_per_symbol)\n",
        "    self.decoder = decoder\n",
        "    \n",
        "    if not channel:\n",
        "      # Use the Rice channel\n",
        "      self.channel = RiceBlockFading(k_factor)\n",
        "      #self.channel = sionna.channel.RayleighBlockFading(1, 1, 1, 1)\n",
        "    else:\n",
        "      self.channel = channel\n",
        "    self.channel_time = sionna.channel.ApplyTimeChannel(self.rg.num_time_samples,\n",
        "                                                          l_tot=self.l_tot,\n",
        "                                                          add_awgn=True)\n",
        "    # Channel estimation and equalization\n",
        "    self.ch_est = sionna.ofdm.LSChannelEstimator(self.rg)\n",
        "    self.ch_eq = sionna.ofdm.LMMSEEqualizer(self.rg, self.sm)\n",
        "\n",
        "  def set_channel(self, ch):\n",
        "    self.channel = ch\n",
        "\n",
        "  @tf.function(jit_compile=True)\n",
        "  def call(self, batch_size, ebno_db):\n",
        "    # Compute the noise\n",
        "    no = sionna.utils.ebnodb2no(ebno_db, self.num_bits_per_symbol,\n",
        "                                self.k/self.n, self.rg)\n",
        "    # Since the codewords are shorter than the OFDM RG we need to concatenate\n",
        "    # multiple codewords.\n",
        "    bit_vector_raw = None\n",
        "    bit_vector_encoded = None\n",
        "    for N in range(self.num_codewords):\n",
        "      # Generate the bit vectors\n",
        "      b = self.binary_source([batch_size, 1, 1, tf.constant(self.k, dtype=tf.int32)])\n",
        "      # Encode the bits\n",
        "      encoded = self.encoder(b)\n",
        "      if bit_vector_encoded is not None:\n",
        "        bit_vector_raw = tf.concat([bit_vector_raw, b], 3)\n",
        "        bit_vector_encoded = tf.concat([bit_vector_encoded, encoded], 3)\n",
        "      else:\n",
        "        bit_vector_raw = tf.identity(b)\n",
        "        bit_vector_encoded = tf.identity(encoded)\n",
        "    # Extend the encoded bit vector to the length of the OFDM RG\n",
        "    c = tf.pad(bit_vector_encoded,\n",
        "               [[0,0], [0,0], [0,0],\n",
        "               [0,self.rg.num_data_symbols*self.num_bits_per_symbol-self.num_codewords*self.n]])\n",
        "    #c = tf.slice(bit_vector_encoded, [0,0,0,0],\n",
        "    #             [batch_size, 1, 1, self.rg.num_data_symbols*self.num_bits_per_symbol])\n",
        "    # Interleave\n",
        "    #c_int = self.interleaver(c)\n",
        "    # Map to constellation symbols\n",
        "    s = self.mapper(c)\n",
        "    # Map onto OFDM resource grid\n",
        "    x_rg = self.rg_mapper(s)\n",
        "    # OFDM modulation\n",
        "    x_time = self.modulator(x_rg)\n",
        "\n",
        "    # Generate CIRs from the channel\n",
        "    a, tau = self.channel(batch_size, self.rg.num_time_samples+self.l_tot-1)\n",
        "    # Convert to channel tap coefficients\n",
        "    h_time = sionna.channel.cir_to_time_channel(self.bandwidth, a, tau,\n",
        "                                                self.l_min, self.l_max)\n",
        "    # Convert to time channel\n",
        "    y_time = self.channel_time([x_time, h_time, no])\n",
        "    # Demodulate\n",
        "    y = self.demodulator(y_time)\n",
        "\n",
        "    # TODO this is where we can distinguish between perfect/imperfect estimation\n",
        "\n",
        "    # Apply channel estimation\n",
        "    h_hat, err_var = self.ch_est([y, no])\n",
        "    # Apply equalization\n",
        "    x_hat, no_eff = self.ch_eq([y, h_hat, err_var, no])\n",
        "    # Demapping\n",
        "    llr = self.demapper([x_hat, no_eff])\n",
        "    # Deinterleave\n",
        "    #llr_int = self.deinterleaver(llr)\n",
        "    # Break it down into codewords again\n",
        "    bit_vector_hat = None\n",
        "    for N in range(self.num_codewords): # Ignore the final codeword\n",
        "      llr_slice = tf.slice(llr, [0,0,0,N*self.n], [batch_size, 1, 1, self.n])\n",
        "      # Decode the codeword\n",
        "      b_hat = self.decoder(llr_slice)\n",
        "      if bit_vector_hat is None:\n",
        "        bit_vector_hat = tf.identity(b_hat)\n",
        "      else:\n",
        "        bit_vector_hat = tf.concat([bit_vector_hat, b_hat], 3)\n",
        "    #ber = sionna.utils.metrics.compute_ber(b, b_hat)\n",
        "    return bit_vector_raw, bit_vector_hat"
      ],
      "metadata": {
        "id": "IAOY503eYac2"
      }
    },
    {
      "cell_type": "markdown",
      "source": [
        "### Attempt using single codeword per OFDM RG"
      ],
      "metadata": {
        "id": "0GknoX2KscxN"
      }
    },
    {
      "cell_type": "code",
      "execution_count": 5,
      "metadata": {
        "id": "CMFS6Tpyn3t4"
      },
      "outputs": [],
      "source": [
        "class CodeTestSystemModel(tf.keras.Model):\n",
        "  \"\"\"\n",
        "  This class implements an OFDM with polar coding system where the number of \n",
        "  OFDM symbols is configured to host the minimum number (1) of polar codewords \n",
        "  possible, to reduce computational complexity.\n",
        "\n",
        "  Only one data codeword is used. The rest is filled with zeros.\n",
        "  \"\"\"\n",
        "  def __init__(self, k, n, encoder, decoder, k_factor, channel=None):\n",
        "    super().__init__()\n",
        "    ofdm_fft_size = 72\n",
        "    \n",
        "    self.num_bits_per_symbol = 4\n",
        "    num_bits_per_ofdm_symbol = ofdm_fft_size*self.num_bits_per_symbol    \n",
        "    self.k = k\n",
        "    self.n = n\n",
        "    # We want to keep the number of codewords to 1 to reduce computation\n",
        "    # We calculate the number of OFDM symbols based on n\n",
        "    num_ofdm_data_symbols = int(np.ceil(self.n/num_bits_per_ofdm_symbol))\n",
        "    self.padding = num_ofdm_data_symbols*num_bits_per_ofdm_symbol - self.n\n",
        "\n",
        "    #self.bandwidth = params[\"bandwidth\"]\n",
        "    # TODO: compute the fft_size and subcarrier spacing based on the bandwidth\n",
        "    # Define an OFDM Resource Grid Object\n",
        "    self.rg = sionna.ofdm.ResourceGrid(\n",
        "                          num_ofdm_symbols=num_ofdm_data_symbols+1, #params[\"num_ofdm_symbols\"],\n",
        "                          fft_size=72, #params[\"fft_size\"],\n",
        "                          subcarrier_spacing=15e3, #params[\"subcarrier_spacing\"],\n",
        "                          num_tx=1,\n",
        "                          num_streams_per_tx=1,\n",
        "                          cyclic_prefix_length=6, # 6 symbols is enough to cover the delay spread\n",
        "                          pilot_pattern=\"kronecker\",\n",
        "                          pilot_ofdm_symbol_indices=[1])#params[\"pilot_ofdm_symbol_indices\"])\n",
        "    self.bandwidth = self.rg.bandwidth # TODO: replace this later as user-defined\n",
        "    \n",
        "    # Create a Stream Management object\n",
        "    self.sm = sionna.mimo.StreamManagement(rx_tx_association=np.array([[1]]),\n",
        "                                               num_streams_per_tx=1)\n",
        "    \n",
        "    self.l_min, self.l_max = sionna.channel.time_lag_discrete_time_channel(\n",
        "                                            self.bandwidth)\n",
        "    self.l_tot = self.l_max - self.l_min + 1\n",
        "\n",
        "    # The layers of the comms system\n",
        "    self.binary_source = sionna.utils.BinarySource()\n",
        "    self.encoder = encoder\n",
        "    #self.interleaver = sionna.fec.interleaving.RowColumnInterleaver(\n",
        "    #                                      row_depth=self.num_bits_per_symbol)\n",
        "    #self.deinterleaver = sionna.fec.interleaving.Deinterleaver(self.interleaver)\n",
        "    self.mapper = sionna.mapping.Mapper(\"qam\", self.num_bits_per_symbol)\n",
        "    self.rg_mapper = sionna.ofdm.ResourceGridMapper(self.rg)\n",
        "    self.modulator = sionna.ofdm.OFDMModulator(self.rg.cyclic_prefix_length)\n",
        "    self.demodulator = sionna.ofdm.OFDMDemodulator(self.rg.fft_size,\n",
        "                                                   self.l_min,\n",
        "                                                   self.rg.cyclic_prefix_length)\n",
        "    self.demapper = sionna.mapping.Demapper(\"app\", \"qam\", self.num_bits_per_symbol)\n",
        "    self.decoder = decoder\n",
        "    \n",
        "    if not channel:\n",
        "      # Use the Rice channel\n",
        "      self.channel = RiceBlockFading(k_factor)\n",
        "      #self.channel = sionna.channel.RayleighBlockFading(1, 1, 1, 1)\n",
        "    else:\n",
        "      self.channel = channel\n",
        "    self.channel_time = sionna.channel.ApplyTimeChannel(self.rg.num_time_samples,\n",
        "                                                          l_tot=self.l_tot,\n",
        "                                                          add_awgn=True)\n",
        "    # Channel estimation and equalization\n",
        "    self.ch_est = sionna.ofdm.LSChannelEstimator(self.rg)\n",
        "    self.ch_eq = sionna.ofdm.LMMSEEqualizer(self.rg, self.sm)\n",
        "\n",
        "  def set_channel(self, ch):\n",
        "    self.channel = ch\n",
        "\n",
        "  #@tf.function(jit_compile=False)\n",
        "  def call(self, batch_size, ebno_db):\n",
        "    # Compute the noise\n",
        "    no = sionna.utils.ebnodb2no(ebno_db, self.num_bits_per_symbol,\n",
        "                                self.k/self.n, self.rg)\n",
        "    # There is only one codeword\n",
        "    b = self.binary_source([batch_size, 1, 1, tf.constant(self.k, dtype=tf.int32)])\n",
        "    encoded = self.encoder(b)\n",
        "    # The remainder up to the size of the OFDM RG will be padded with zeros\n",
        "    c = tf.pad(encoded, [[0,0], [0,0], [0,0],\n",
        "                         [0, self.padding]])\n",
        "    # Interleave\n",
        "    #c_int = self.interleaver(c)\n",
        "    # Map to constellation symbols\n",
        "    s = self.mapper(c)\n",
        "    # Map onto OFDM resource grid\n",
        "    x_rg = self.rg_mapper(s)\n",
        "    # OFDM modulation\n",
        "    x_time = self.modulator(x_rg)\n",
        "\n",
        "    # Generate CIRs from the channel\n",
        "    a, tau = self.channel(batch_size, self.rg.num_time_samples+self.l_tot-1)\n",
        "    # Convert to channel tap coefficients\n",
        "    h_time = sionna.channel.cir_to_time_channel(self.bandwidth, a, tau,\n",
        "                                                self.l_min, self.l_max)\n",
        "    # Convert to time channel\n",
        "    y_time = self.channel_time([x_time, h_time, no])\n",
        "    # Demodulate\n",
        "    y = self.demodulator(y_time)\n",
        "\n",
        "    # TODO this is where we can distinguish between perfect/imperfect estimation\n",
        "\n",
        "    # Apply channel estimation\n",
        "    h_hat, err_var = self.ch_est([y, no])\n",
        "    # Apply equalization\n",
        "    x_hat, no_eff = self.ch_eq([y, h_hat, err_var, no])\n",
        "    # Demapping\n",
        "    llr = self.demapper([x_hat, no_eff])\n",
        "    # Deinterleave\n",
        "    #llr_int = self.deinterleaver(llr)\n",
        "    # Remove the padding bits\n",
        "    codeword = tf.slice(llr, [0,0,0,0], [batch_size,1,1,self.n])\n",
        "    b_hat = self.decoder(codeword)\n",
        "    return b, b_hat"
      ]
    },
    {
      "cell_type": "code",
      "source": [
        "PARAM_CONFIG = {\n",
        "    'codeword_length': [128, 256, 512, 1024],\n",
        "    'coderate': [0.2, 0.4, 0.6, 0.8],\n",
        "    'list_size': [4, 8, 16],\n",
        "    'crc_size': [6, 11, 16]\n",
        "}"
      ],
      "metadata": {
        "id": "ljtjpipLXm_S"
      },
      "execution_count": 6,
      "outputs": []
    },
    {
      "cell_type": "markdown",
      "source": [
        "Finding the SNR value\n",
        "\n",
        "* plot the BER curves in increasing order of reliability of the codes\n",
        "* ideally should be around 25dB"
      ],
      "metadata": {
        "id": "oCkWOcyEYD6o"
      }
    },
    {
      "cell_type": "code",
      "source": [
        "k=int(PARAM_CONFIG['codeword_length'][2]*PARAM_CONFIG['coderate'][0])\n",
        "n=PARAM_CONFIG['codeword_length'][2]\n",
        "encoder = Polar5GEncoder(k, n)\n",
        "decoder = Polar5GDecoder(encoder, dec_type='SCL', list_size=PARAM_CONFIG['list_size'][0])\n",
        "decoder._polar_dec._cpu_only = True"
      ],
      "metadata": {
        "id": "m-2NNQkhaUge",
        "colab": {
          "base_uri": "https://localhost:8080/"
        },
        "outputId": "5a047f2b-0020-4a43-cde6-b8aab24b3f04"
      },
      "execution_count": 7,
      "outputs": [
        {
          "output_type": "stream",
          "name": "stderr",
          "text": [
            "/usr/local/lib/python3.7/dist-packages/sionna/fec/polar/decoding.py:493: UserWarning: Required ressource allocation is large for the selected blocklength. Consider option `cpu_only=True`.\n",
            "  warnings.warn(\"Required ressource allocation is large \" \\\n"
          ]
        }
      ]
    },
    {
      "cell_type": "code",
      "source": [
        "code_test_model = CodeTestSystemModel(k, n, encoder, decoder, k_factor=8)"
      ],
      "metadata": {
        "id": "BB1_lJSCvezR"
      },
      "execution_count": 8,
      "outputs": []
    },
    {
      "cell_type": "code",
      "source": [
        "b, b_hat = code_test_model(256, 10)"
      ],
      "metadata": {
        "colab": {
          "base_uri": "https://localhost:8080/"
        },
        "id": "ew5xSvJN1Ic9",
        "outputId": "3a085176-d4bd-45b1-f2eb-2dfa91e1be2f"
      },
      "execution_count": 9,
      "outputs": [
        {
          "output_type": "stream",
          "name": "stdout",
          "text": [
            "WARNING:tensorflow:From /usr/local/lib/python3.7/dist-packages/tensorflow/python/util/dispatch.py:1082: calling gather (from tensorflow.python.ops.array_ops) with validate_indices is deprecated and will be removed in a future version.\n",
            "Instructions for updating:\n",
            "The `validate_indices` argument has no effect. Indices are always validated on CPU and never validated on GPU.\n"
          ]
        }
      ]
    },
    {
      "cell_type": "code",
      "source": [
        "sionna.utils.compute_ber(b, b_hat)"
      ],
      "metadata": {
        "colab": {
          "base_uri": "https://localhost:8080/"
        },
        "id": "2mIrKfflNK2y",
        "outputId": "f44d1803-d095-4145-b861-012cbd41d370"
      },
      "execution_count": 10,
      "outputs": [
        {
          "output_type": "execute_result",
          "data": {
            "text/plain": [
              "<tf.Tensor: shape=(), dtype=float64, numpy=0.0>"
            ]
          },
          "metadata": {},
          "execution_count": 10
        }
      ]
    },
    {
      "cell_type": "code",
      "source": [
        "for N in PARAM_CONFIG['codeword_length']:\n",
        "  print(864*4/N)"
      ],
      "metadata": {
        "colab": {
          "base_uri": "https://localhost:8080/"
        },
        "id": "Pw_3s20hvgEz",
        "outputId": "44b0de1d-627e-435e-96b0-8d80c2957e4b"
      },
      "execution_count": 12,
      "outputs": [
        {
          "output_type": "stream",
          "name": "stdout",
          "text": [
            "27.0\n",
            "13.5\n",
            "6.75\n",
            "3.375\n"
          ]
        }
      ]
    },
    {
      "cell_type": "code",
      "source": [
        "code_test_model = CodeTestSystemModel(k, n, encoder, decoder, k_factor=8)\n",
        "ebno_db = np.arange(10.0, 40.0, 5.0)\n",
        "ber, bler = sionna.utils.sim_ber(code_test_model, ebno_db, batch_size=256,\n",
        "                                 max_mc_iter=1000, num_target_block_errors=1000)"
      ],
      "metadata": {
        "colab": {
          "base_uri": "https://localhost:8080/"
        },
        "id": "p5pQfwl7qu7K",
        "outputId": "1f0c5b3f-8737-4145-a272-a334555ce8c3"
      },
      "execution_count": 65,
      "outputs": [
        {
          "output_type": "stream",
          "name": "stdout",
          "text": [
            "EbNo [dB] |        BER |       BLER |  bit errors |    num bits | block errors |  num blocks | runtime [s] |    status\n",
            "---------------------------------------------------------------------------------------------------------------------------------------\n",
            "     10.0 | 2.2885e-03 | 5.4786e-03 |       10443 |     4563200 |         1000 |      182528 |       927.3 |reached target block errors\n",
            "     15.0 | 3.1719e-04 | 7.4609e-04 |        2030 |     6400000 |          191 |      256000 |      1291.2 |reached max iter       \n",
            "     20.0 | 6.4219e-05 | 1.4844e-04 |         411 |     6400000 |           38 |      256000 |      1291.8 |reached max iter       \n",
            "     25.0 | 3.3906e-05 | 7.0312e-05 |         217 |     6400000 |           18 |      256000 |      1275.9 |reached max iter       \n",
            "     30.0 | 1.4844e-05 | 3.1250e-05 |          95 |     6400000 |            8 |      256000 |      1279.3 |reached max iter       \n",
            "     35.0 | 0.0000e+00 | 0.0000e+00 |           0 |     6400000 |            0 |      256000 |      1272.0 |reached max iter       \n",
            "\n",
            "Simulation stopped as no error occurred @ EbNo = 35.0 dB.\n",
            "\n"
          ]
        }
      ]
    },
    {
      "cell_type": "code",
      "source": [
        "ber"
      ],
      "metadata": {
        "colab": {
          "base_uri": "https://localhost:8080/"
        },
        "id": "bCxF9hHqqDUC",
        "outputId": "f950e76f-fa98-4c4f-e13e-6e3102067f24"
      },
      "execution_count": 69,
      "outputs": [
        {
          "output_type": "execute_result",
          "data": {
            "text/plain": [
              "<tf.Tensor: shape=(6,), dtype=float64, numpy=\n",
              "array([2.2885256e-03, 3.1718750e-04, 6.4218750e-05, 3.3906250e-05,\n",
              "       1.4843750e-05, 0.0000000e+00])>"
            ]
          },
          "metadata": {},
          "execution_count": 69
        }
      ]
    },
    {
      "cell_type": "code",
      "source": [
        "plt.semilogy(np.arange(10,40,5.0), ber)"
      ],
      "metadata": {
        "colab": {
          "base_uri": "https://localhost:8080/",
          "height": 282
        },
        "id": "NV4nTRcTzHX9",
        "outputId": "049eb61d-ecbe-4e21-f5d5-892f33ee86c6"
      },
      "execution_count": 66,
      "outputs": [
        {
          "output_type": "execute_result",
          "data": {
            "text/plain": [
              "[<matplotlib.lines.Line2D at 0x7fe2dde9fc90>]"
            ]
          },
          "metadata": {},
          "execution_count": 66
        },
        {
          "output_type": "display_data",
          "data": {
            "text/plain": [
              "<Figure size 432x288 with 1 Axes>"
            ],
            "image/png": "[encoded data removed]"
          },
          "metadata": {
            "needs_background": "light"
          }
        }
      ]
    },
    {
      "cell_type": "markdown",
      "source": [
        "Based on the results above we will set the BER threshold to 1e-5 at SNR 30dB."
      ],
      "metadata": {
        "id": "eNu4H7MnlVq_"
      }
    },
    {
      "cell_type": "markdown",
      "source": [
        "### Optimising comms\n"
      ],
      "metadata": {
        "id": "qdInjTo9leKo"
      }
    },
    {
      "cell_type": "code",
      "source": [
        "def optimise_comms(k_factor, ber_threshold, ebno):\n",
        "  \"\"\"\n",
        "  This function will find all the configurations of the comms system that can\n",
        "  achieve a better realibility than ber_threshold at the given ebno.\n",
        "  \"\"\"\n",
        "  successful_combinations = [] # Format is {'codeword_length', 'coderate', 'list_size', 'crc_size'}\n",
        "  # cw_idx, cr_idx, ls_idx, crc_idx\n",
        "  num_cwl = len(PARAM_CONFIG['codeword_length'])\n",
        "  num_cr = len(PARAM_CONFIG['coderate'])\n",
        "  num_ls = len(PARAM_CONFIG['list_size'])\n",
        "  num_crc = len(PARAM_CONFIG['crc_size'])\n",
        "  stop_indices = {cr_idx:{ls_idx:-1 for ls_idx in range(num_ls)} for cr_idx in range(num_cr)}\n",
        "  for cw_idx in range(len(PARAM_CONFIG['codeword_length'])-1, -1, -1):\n",
        "    print(f\"Eval CW {cw_idx}.\")\n",
        "    for cr_idx in range(len(PARAM_CONFIG['coderate'])):\n",
        "      #print(f\"Eval CR {cr_idx}\")\n",
        "      for ls_idx in range(num_ls-1, -1, -1):\n",
        "        #print(f\"Eval LS {ls_idx}. Stopping at crc {stop_indices[cr_idx][ls_idx]}\")\n",
        "        for crc_idx in range(num_crc-1, stop_indices[cr_idx][ls_idx], -1):\n",
        "          #print(f\"Eval CRC {crc_idx}\")\n",
        "          # Configure encoder and decoder based on the above\n",
        "          k=int(PARAM_CONFIG['codeword_length'][cw_idx]*PARAM_CONFIG['coderate'][cr_idx])\n",
        "          n=PARAM_CONFIG['codeword_length'][cw_idx]\n",
        "          encoder = Polar5GEncoder(k, n)\n",
        "          decoder = Polar5GDecoder(encoder, dec_type='SCL', list_size=PARAM_CONFIG['list_size'][ls_idx])\n",
        "          decoder._polar_dec._cpu_only = True\n",
        "          # Instantiate comms system\n",
        "          code_test_model = CodeTestSystemModel(k, n, encoder, decoder, k_factor=k_factor)\n",
        "          # simulate for BER for ebno=30; get the BER as ber[0]\n",
        "          ber, bler = sionna.utils.sim_ber(code_test_model, [ebno], batch_size=256,\n",
        "                                           max_mc_iter=1000, num_target_bit_errors=500)\n",
        "          if ber[0] > ber_threshold:\n",
        "            print(f\"Failure at CR: {cr_idx} LS: {ls_idx} CRC: {crc_idx}\")\n",
        "            # Failure, set this as stopping index\n",
        "            # Set stopping indices for remainder and higher layers\n",
        "            for i in range(cr_idx, num_cr):\n",
        "              for j in range(ls_idx, -1, -1):\n",
        "                stop_indices[i][j] = crc_idx\n",
        "            break\n",
        "          else:\n",
        "            print(f\"BER achieved: {ber[0]}\")\n",
        "            # Record this as a successful combination\n",
        "            successful_combinations.append({\n",
        "                'codeword_length': PARAM_CONFIG['codeword_length'][cw_idx],\n",
        "                'coderate': PARAM_CONFIG['coderate'][cr_idx],\n",
        "                'list_size': PARAM_CONFIG['list_size'][ls_idx],\n",
        "                'crc_size': PARAM_CONFIG['crc_size'][crc_idx],\n",
        "            })\n",
        "  return successful_combinations"
      ],
      "metadata": {
        "id": "CKKG1rrtlodW"
      },
      "execution_count": 13,
      "outputs": []
    },
    {
      "cell_type": "markdown",
      "metadata": {
        "id": "CfYhq2KiD4nf"
      },
      "source": [
        "# Performance for multiple k-factor estimators\n",
        "\n",
        "Scenario considered\n",
        "* at the start of an epoch we estimate the k-factor based on previously measured channel state\n",
        "* we use that k-factor to configure the communication system\n",
        "* we then run the comms system on the actual channel\n",
        "* measure the BER and latency.\n",
        "\n",
        "Evaluation conditions\n",
        "* estimate the k-factor using the three estimators, obtain the mean k-factor for each estimator\n",
        "* create Rice channels with that particular k-factor\n",
        "* evaluate the comms system on the Rice channels and find the best configuration\n",
        "* evaluate the resulting configurations on the actual channel."
      ]
    },
    {
      "cell_type": "code",
      "execution_count": 14,
      "metadata": {
        "id": "6YVaFskqFEK8"
      },
      "outputs": [],
      "source": [
        "k_factors = [8.5, 10.5]"
      ]
    },
    {
      "cell_type": "code",
      "source": [
        "configs = {}\n",
        "for k in k_factors:\n",
        "  res = optimise_comms(k, 5e-5, 30.0)\n",
        "  configs[k] = res\n",
        "  print(k, res)"
      ],
      "metadata": {
        "colab": {
          "base_uri": "https://localhost:8080/"
        },
        "id": "PKsv0kT76wKA",
        "outputId": "5ccc1c26-5cdd-425e-a24e-e3f7663dc50b"
      },
      "execution_count": null,
      "outputs": [
        {
          "output_type": "stream",
          "name": "stdout",
          "text": [
            "Eval CW 3.\n"
          ]
        },
        {
          "output_type": "stream",
          "name": "stderr",
          "text": [
            "/usr/local/lib/python3.7/dist-packages/sionna/fec/polar/decoding.py:493: UserWarning: Required ressource allocation is large for the selected blocklength. Consider option `cpu_only=True`.\n",
            "  warnings.warn(\"Required ressource allocation is large \" \\\n"
          ]
        },
        {
          "output_type": "stream",
          "name": "stdout",
          "text": [
            "EbNo [dB] |        BER |       BLER |  bit errors |    num bits | block errors |  num blocks | runtime [s] |    status\n",
            "---------------------------------------------------------------------------------------------------------------------------------------\n"
          ]
        }
      ]
    },
    {
      "cell_type": "code",
      "source": [
        ""
      ],
      "metadata": {
        "id": "oZNmzEj4NChr"
      },
      "execution_count": null,
      "outputs": []
    }
  ],
  "metadata": {
    "colab": {
      "collapsed_sections": [
        "9gV3gO8_K25Z",
        "ZmEAE5H2uNnw",
        "uNET4eFsKteT",
        "jWWKFbrds5DH"
      ],
      "name": "sionna_polar_code_optimisation.ipynb",
      "provenance": []
    },
    "kernelspec": {
      "display_name": "Python 3",
      "name": "python3"
    },
    "language_info": {
      "name": "python"
    },
    "accelerator": "GPU",
    "gpuClass": "standard"
  },
  "nbformat": 4,
  "nbformat_minor": 0
}