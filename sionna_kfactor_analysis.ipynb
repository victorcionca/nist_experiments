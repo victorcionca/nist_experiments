{
  "cells": [
    {
      "cell_type": "markdown",
      "metadata": {
        "id": "view-in-github",
        "colab_type": "text"
      },
      "source": [
        "<a href=\"https://colab.research.google.com/github/victorcionca/nist_experiments/blob/master/sionna_kfactor_analysis.ipynb\" target=\"_parent\"><img src=\"https://colab.research.google.com/assets/colab-badge.svg\" alt=\"Open In Colab\"/></a>"
      ]
    },
    {
      "cell_type": "markdown",
      "metadata": {
        "id": "AlKm07NprwRd"
      },
      "source": [
        "# Imports"
      ]
    },
    {
      "cell_type": "code",
      "execution_count": null,
      "metadata": {
        "id": "1AZq40h3LGa1"
      },
      "outputs": [],
      "source": [
        "try:\n",
        "  import sionna\n",
        "except ImportError as e:\n",
        "  import os\n",
        "  os.system(\"pip install sionna\")\n",
        "  import sionna"
      ]
    },
    {
      "cell_type": "code",
      "execution_count": null,
      "metadata": {
        "id": "hQsClo1u2EML"
      },
      "outputs": [],
      "source": [
        "sionna.config.xla_compat = True"
      ]
    },
    {
      "cell_type": "code",
      "execution_count": null,
      "metadata": {
        "id": "bDC2JgJ07hHm"
      },
      "outputs": [],
      "source": [
        "%matplotlib inline\n",
        "import matplotlib.pyplot as plt\n",
        "plt.style.use('seaborn-white')\n",
        "import numpy as np\n",
        "import tensorflow as tf\n",
        "import time\n",
        "import pickle\n",
        "import pandas as pd"
      ]
    },
    {
      "cell_type": "markdown",
      "metadata": {
        "id": "ZmEAE5H2uNnw"
      },
      "source": [
        "# Implementing a narrowband Rice channel\n",
        "\n",
        "Same approach as the Rayleigh:\n",
        "* single MPC\n",
        "* the MPC is Rice distributed, where we can control the k-factor."
      ]
    },
    {
      "cell_type": "code",
      "execution_count": null,
      "metadata": {
        "id": "JiTgIgpQunEs"
      },
      "outputs": [],
      "source": [
        "class RiceBlockFading():\n",
        "    def __init__(   self,\n",
        "                    k_factor,\n",
        "                    dtype=tf.complex64):\n",
        "        \"\"\"\n",
        "        Parameters\n",
        "        ==========\n",
        "        k_factor    -- log-scale k-factor\n",
        "        \"\"\"\n",
        "        assert dtype.is_complex, \"'dtype' must be complex type\"\n",
        "        self._dtype = dtype\n",
        "        self.k_factor = 10**(k_factor/10)  #linear-sacale k-factor\n",
        "\n",
        "\n",
        "    def __call__(self,  batch_size, num_time_steps):\n",
        "        \"\"\"\n",
        "        Instantiate the model.\n",
        "\n",
        "        Parameters\n",
        "        ==========\n",
        "        batch_size    -- number of samples to generate\n",
        "        num_time_steps-- values per sample\n",
        "        k_factor      -- log-scale k-factor\n",
        "        \"\"\"\n",
        "        # Delays\n",
        "        # Single path with zero delay\n",
        "        delays = tf.zeros([ batch_size,\n",
        "                            1, 1, # tx/rx streams\n",
        "                            1], # Single path\n",
        "                            dtype=self._dtype.real_dtype)\n",
        "\n",
        "        # Fading coefficients\n",
        "        #theta = np.pi*np.random.rand()\n",
        "        theta = 0\n",
        "        std = tf.cast(tf.sqrt(0.5), dtype=self._dtype.real_dtype)\n",
        "        niu = tf.sqrt(self.k_factor*2*std**2)\n",
        "        h_real = tf.random.normal(shape=[   batch_size,\n",
        "                                         1,1,1,1, # tx/rx streams\n",
        "                                            1, # One path\n",
        "                                            1], # Same response over the block\n",
        "                                            mean=niu*np.cos(theta),\n",
        "                                            stddev=std,\n",
        "                                            dtype = self._dtype.real_dtype)\n",
        "        h_img = tf.random.normal(shape=[    batch_size,\n",
        "                                            1,1,1,1, # tx/rx streams\n",
        "                                            1, # One cluster\n",
        "                                            1], # Same response over the block\n",
        "                                            mean=niu*np.sin(theta),\n",
        "                                            stddev=std,\n",
        "                                            dtype = self._dtype.real_dtype)\n",
        "        h = tf.complex(h_real, h_img)\n",
        "        # Tile the response over the block\n",
        "        h = tf.tile(h, [1, 1, 1, 1, 1, 1, num_time_steps])\n",
        "        return h, delays"
      ]
    },
    {
      "cell_type": "markdown",
      "metadata": {
        "id": "uNET4eFsKteT"
      },
      "source": [
        "# Comms system with Rice flat fading"
      ]
    },
    {
      "cell_type": "markdown",
      "metadata": {
        "id": "NnmShbhxOZIb"
      },
      "source": [
        "Comms system description\n",
        "\n",
        "* binary source\n",
        "* data is transmitted in time slots containing 14 OFDM symbols\n",
        "* LDPC encoded with user-defined code rate\n",
        "* QAM 4 bits\n",
        "* interleaving\n",
        "* Rayleigh or CDL channel model - at the moment is hard-coded in the CommsSystem class\n",
        "* support for ISI and ICI."
      ]
    },
    {
      "cell_type": "code",
      "execution_count": null,
      "metadata": {
        "id": "TUv73G5c1YwA"
      },
      "outputs": [],
      "source": [
        "class CommsSystemRiceChannel(tf.keras.Model):\n",
        "  def __init__(self, params):\n",
        "    super().__init__()\n",
        "    #self.bandwidth = params[\"bandwidth\"]\n",
        "    # TODO: compute the fft_size and subcarrier spacing based on the bandwidth\n",
        "    # Define an OFDM Resource Grid Object\n",
        "    self.rg = sionna.ofdm.ResourceGrid(\n",
        "                          num_ofdm_symbols=14, #params[\"num_ofdm_symbols\"],\n",
        "                          fft_size=76, #params[\"fft_size\"],\n",
        "                          subcarrier_spacing=15e3, #params[\"subcarrier_spacing\"],\n",
        "                          num_tx=1,\n",
        "                          num_streams_per_tx=1,\n",
        "                          cyclic_prefix_length=6,\n",
        "                          num_guard_carriers=[5,6],\n",
        "                          pilot_pattern=\"kronecker\",\n",
        "                          pilot_ofdm_symbol_indices=[2,11])#params[\"pilot_ofdm_symbol_indices\"])\n",
        "    self.bandwidth = self.rg.bandwidth # TODO: replace this later as user-defined\n",
        "\n",
        "    # Create a Stream Management object\n",
        "    self.sm = sionna.mimo.StreamManagement(rx_tx_association=np.array([[1]]),\n",
        "                                               num_streams_per_tx=1)\n",
        "    self.coderate = 0.5\n",
        "    self.num_bits_per_symbol = 4\n",
        "    self.n = int(self.rg.num_data_symbols*self.num_bits_per_symbol)\n",
        "    self.k = int(self.n*self.coderate)\n",
        "\n",
        "    self.l_min, self.l_max = sionna.channel.time_lag_discrete_time_channel(\n",
        "                                            self.bandwidth)\n",
        "    self.l_tot = self.l_max - self.l_min + 1\n",
        "\n",
        "    # The layers of the comms system\n",
        "    self.binary_source = sionna.utils.BinarySource()\n",
        "    self.encoder = sionna.fec.ldpc.encoding.LDPC5GEncoder(self.k, self.n)\n",
        "    #self.encoder = sionna.fec.polar.encoding.Polar5GEncoder(self.k, self.n)\n",
        "    self.interleaver = sionna.fec.interleaving.RowColumnInterleaver(\n",
        "                                          row_depth=self.num_bits_per_symbol)\n",
        "    self.deinterleaver = sionna.fec.interleaving.Deinterleaver(self.interleaver)\n",
        "    self.mapper = sionna.mapping.Mapper(\"qam\", self.num_bits_per_symbol)\n",
        "    self.rg_mapper = sionna.ofdm.ResourceGridMapper(self.rg)\n",
        "\n",
        "    self.demapper = sionna.mapping.Demapper(\"app\", \"qam\", self.num_bits_per_symbol)\n",
        "    self.decoder = sionna.fec.ldpc.LDPC5GDecoder(self.encoder,\n",
        "                                                 hard_out=True,\n",
        "                                                 num_iter=50)\n",
        "    \n",
        "    self.kfactor = params[\"kfactor\"]\n",
        "    self.rice_channel = RiceBlockFading(self.kfactor)\n",
        "\n",
        "    self.apply_ofdm = sionna.channel.ApplyOFDMChannel(add_awgn=True)\n",
        "\n",
        "    # Channel estimation and equalization\n",
        "    self.ch_est = sionna.ofdm.LSChannelEstimator(self.rg)\n",
        "    self.ch_eq = sionna.ofdm.LMMSEEqualizer(self.rg, self.sm)\n",
        "\n",
        "  #@tf.function(jit_compile=True)\n",
        "  def call(self, batch_size, ebno_db):\n",
        "    # Compute the noise\n",
        "    no = sionna.utils.ebnodb2no(ebno_db, self.num_bits_per_symbol,\n",
        "                                self.coderate, self.rg)\n",
        "    # Generate the bit vectors\n",
        "    b = self.binary_source([batch_size, 1, 1, self.k])\n",
        "    # Encode the bits\n",
        "    c = self.encoder(b)\n",
        "    # Interleave\n",
        "    c_int = self.interleaver(c)\n",
        "    # Map to constellation symbols\n",
        "    s = self.mapper(c_int)\n",
        "    # Map onto OFDM resource grid\n",
        "    x_rg = self.rg_mapper(s)\n",
        "\n",
        "    # Generate CIRs from the channel\n",
        "    a, tau = self.rice_channel(batch_size, self.rg.num_ofdm_symbols)\n",
        "\n",
        "    # Determine channel freq response\n",
        "    frequencies = sionna.channel.subcarrier_frequencies(self.rg.fft_size, self.rg.subcarrier_spacing)\n",
        "    h_freq = sionna.channel.utils.cir_to_ofdm_channel(frequencies, a, tau)\n",
        "    \n",
        "    # Apply channel filter\n",
        "    y = self.apply_ofdm([x_rg, h_freq, no])\n",
        "\n",
        "    # Apply channel estimation\n",
        "    h_hat, err_var = self.ch_est([y, no])\n",
        "    # Apply equalization\n",
        "    x_hat, no_eff = self.ch_eq([y, h_hat, err_var, no])\n",
        "    # Demapping\n",
        "    llr = self.demapper([x_hat, no_eff])\n",
        "    # Deinterleave\n",
        "    llr_int = self.deinterleaver(llr)\n",
        "    # Decoding\n",
        "    b_hat = self.decoder(llr_int)\n",
        "    #ber = sionna.utils.metrics.compute_ber(b, b_hat)\n",
        "    return b, b_hat"
      ]
    },
    {
      "cell_type": "markdown",
      "metadata": {
        "id": "mNpaStPce86y"
      },
      "source": [
        "# Comms system with CIR dataset"
      ]
    },
    {
      "cell_type": "code",
      "execution_count": null,
      "metadata": {
        "id": "jw8qzigjzkC5"
      },
      "outputs": [],
      "source": [
        "def sample_timesteps(cir_data, batch_size, num_timesteps, num_paths):\n",
        "  a = np.ndarray((batch_size, 1, 1, 1, 1, num_paths, num_timesteps), np.complex64)\n",
        "  for batch in range(batch_size):\n",
        "    start_idx = np.random.randint(len(cir_data)-num_timesteps)\n",
        "    paths = np.ndarray((num_timesteps, num_paths), np.complex64)\n",
        "    for idx in range(num_timesteps):\n",
        "      paths[idx] = cir_data[start_idx][0]\n",
        "    a[batch,0,0,0,0] = np.transpose(paths)\n",
        "  tau = np.ndarray((batch_size, 1, 1, num_paths), np.float32)\n",
        "  for batch in range(batch_size):\n",
        "    tau[batch, 0, 0] = cir_data[0][1]\n",
        "  return a, tau"
      ]
    },
    {
      "cell_type": "code",
      "execution_count": null,
      "metadata": {
        "id": "Y7HBN6v92-k3"
      },
      "outputs": [],
      "source": [
        "class CommsSystemDataset(tf.keras.Model):\n",
        "  def __init__(self, params):\n",
        "    super().__init__()\n",
        "    #self.bandwidth = params[\"bandwidth\"]\n",
        "    # TODO: compute the fft_size and subcarrier spacing based on the bandwidth\n",
        "    # Define an OFDM Resource Grid Object\n",
        "    self.rg = sionna.ofdm.ResourceGrid(\n",
        "                          num_ofdm_symbols=14, #params[\"num_ofdm_symbols\"],\n",
        "                          fft_size=76, #params[\"fft_size\"],\n",
        "                          subcarrier_spacing=15e3, #params[\"subcarrier_spacing\"],\n",
        "                          num_tx=1,\n",
        "                          num_streams_per_tx=1,\n",
        "                          cyclic_prefix_length=6,\n",
        "                          num_guard_carriers=[5,6],\n",
        "                          pilot_pattern=\"kronecker\",\n",
        "                          pilot_ofdm_symbol_indices=[2,11])#params[\"pilot_ofdm_symbol_indices\"])\n",
        "    self.bandwidth = self.rg.bandwidth # TODO: replace this later as user-defined\n",
        "\n",
        "    # Create a Stream Management object\n",
        "    self.sm = sionna.mimo.StreamManagement(rx_tx_association=np.array([[1]]),\n",
        "                                               num_streams_per_tx=1)\n",
        "    self.coderate = 0.5\n",
        "    self.num_bits_per_symbol = 4\n",
        "    self.n = int(self.rg.num_data_symbols*self.num_bits_per_symbol)\n",
        "    self.k = int(self.n*self.coderate)\n",
        "\n",
        "    self.l_min, self.l_max = sionna.channel.time_lag_discrete_time_channel(\n",
        "                                            self.bandwidth)\n",
        "    self.l_tot = self.l_max - self.l_min + 1\n",
        "\n",
        "    # The layers of the comms system\n",
        "    self.binary_source = sionna.utils.BinarySource()\n",
        "    self.encoder = sionna.fec.ldpc.encoding.LDPC5GEncoder(self.k, self.n)\n",
        "    #self.encoder = sionna.fec.polar.encoding.Polar5GEncoder(self.k, self.n)\n",
        "    self.interleaver = sionna.fec.interleaving.RowColumnInterleaver(\n",
        "                                          row_depth=self.num_bits_per_symbol)\n",
        "    self.deinterleaver = sionna.fec.interleaving.Deinterleaver(self.interleaver)\n",
        "    self.mapper = sionna.mapping.Mapper(\"qam\", self.num_bits_per_symbol)\n",
        "    self.rg_mapper = sionna.ofdm.ResourceGridMapper(self.rg)\n",
        "\n",
        "    self.demapper = sionna.mapping.Demapper(\"app\", \"qam\", self.num_bits_per_symbol)\n",
        "    self.decoder = sionna.fec.ldpc.LDPC5GDecoder(self.encoder,\n",
        "                                                 hard_out=True,\n",
        "                                                 num_iter=50)\n",
        "    \n",
        "    self.cir_data = params[\"cir_data\"]\n",
        "    self.cir_taps = params.get(\"num_taps\", 50)\n",
        "\n",
        "    self.apply_ofdm = sionna.channel.ApplyOFDMChannel(add_awgn=True)\n",
        "\n",
        "    # Channel estimation and equalization\n",
        "    self.ch_est = sionna.ofdm.LSChannelEstimator(self.rg)\n",
        "    self.ch_eq = sionna.ofdm.LMMSEEqualizer(self.rg, self.sm)\n",
        "\n",
        "  #@tf.function(jit_compile=True)\n",
        "  def call(self, batch_size, ebno_db):\n",
        "    # Compute the noise\n",
        "    no = sionna.utils.ebnodb2no(ebno_db, self.num_bits_per_symbol,\n",
        "                                self.coderate, self.rg)\n",
        "    # Generate the bit vectors\n",
        "    b = self.binary_source([batch_size, 1, 1, self.k])\n",
        "    # Encode the bits\n",
        "    c = self.encoder(b)\n",
        "    # Interleave\n",
        "    c_int = self.interleaver(c)\n",
        "    # Map to constellation symbols\n",
        "    s = self.mapper(c_int)\n",
        "    # Map onto OFDM resource grid\n",
        "    x_rg = self.rg_mapper(s)\n",
        "\n",
        "    # Sample a batch of CIRs from the dataset\n",
        "    cirs = sample_timesteps(self.cir_data, batch_size, self.rg.num_ofdm_symbols, self.cir_taps)\n",
        "    # Determine channel freq response\n",
        "    frequencies = sionna.channel.subcarrier_frequencies(self.rg.fft_size, self.rg.subcarrier_spacing)\n",
        "    h_freq = sionna.channel.utils.cir_to_ofdm_channel(frequencies, *cirs, normalize=True)\n",
        "\n",
        "    y = self.apply_ofdm([x_rg, h_freq, no])\n",
        "\n",
        "    # Apply channel estimation\n",
        "    h_hat, err_var = self.ch_est([y, no])\n",
        "    # Apply equalization\n",
        "    x_hat, no_eff = self.ch_eq([y, h_hat, err_var, no])\n",
        "    # Demapping\n",
        "    llr = self.demapper([x_hat, no_eff])\n",
        "    # Deinterleave\n",
        "    llr_int = self.deinterleaver(llr)\n",
        "    # Decoding\n",
        "    b_hat = self.decoder(llr_int)\n",
        "    #ber = sionna.utils.metrics.compute_ber(b, b_hat)\n",
        "    return b, b_hat"
      ]
    },
    {
      "cell_type": "code",
      "execution_count": null,
      "metadata": {
        "id": "aEu1Cz_7fB29"
      },
      "outputs": [],
      "source": [
        "class CommsSystemDatasetExp(tf.keras.Model):\n",
        "  def __init__(self, params):\n",
        "    super().__init__()\n",
        "    #self.bandwidth = params[\"bandwidth\"]\n",
        "    # TODO: compute the fft_size and subcarrier spacing based on the bandwidth\n",
        "    # Define an OFDM Resource Grid Object\n",
        "    self.rg = sionna.ofdm.ResourceGrid(\n",
        "                          num_ofdm_symbols=14, #params[\"num_ofdm_symbols\"],\n",
        "                          fft_size=76, #params[\"fft_size\"],\n",
        "                          subcarrier_spacing=15e3, #params[\"subcarrier_spacing\"],\n",
        "                          num_tx=1,\n",
        "                          num_streams_per_tx=1,\n",
        "                          cyclic_prefix_length=6,\n",
        "                          num_guard_carriers=[5,6],\n",
        "                          pilot_pattern=\"kronecker\",\n",
        "                          pilot_ofdm_symbol_indices=[2,11])#params[\"pilot_ofdm_symbol_indices\"])\n",
        "    self.bandwidth = self.rg.bandwidth # TODO: replace this later as user-defined\n",
        "\n",
        "    # Create a Stream Management object\n",
        "    self.sm = sionna.mimo.StreamManagement(rx_tx_association=np.array([[1]]),\n",
        "                                               num_streams_per_tx=1)\n",
        "    self.coderate = 0.5\n",
        "    self.num_bits_per_symbol = 4\n",
        "    self.n = int(self.rg.num_data_symbols*self.num_bits_per_symbol)\n",
        "    self.k = int(self.n*self.coderate)\n",
        "\n",
        "    self.l_min, self.l_max = sionna.channel.time_lag_discrete_time_channel(\n",
        "                                            self.bandwidth)\n",
        "    self.l_tot = self.l_max - self.l_min + 1\n",
        "\n",
        "    # The layers of the comms system\n",
        "    self.binary_source = sionna.utils.BinarySource()\n",
        "    self.encoder = sionna.fec.ldpc.encoding.LDPC5GEncoder(self.k, self.n)\n",
        "    #self.encoder = sionna.fec.polar.encoding.Polar5GEncoder(self.k, self.n)\n",
        "    self.interleaver = sionna.fec.interleaving.RowColumnInterleaver(\n",
        "                                          row_depth=self.num_bits_per_symbol)\n",
        "    self.deinterleaver = sionna.fec.interleaving.Deinterleaver(self.interleaver)\n",
        "    self.mapper = sionna.mapping.Mapper(\"qam\", self.num_bits_per_symbol)\n",
        "    self.rg_mapper = sionna.ofdm.ResourceGridMapper(self.rg)\n",
        "\n",
        "    self.demapper = sionna.mapping.Demapper(\"app\", \"qam\", self.num_bits_per_symbol)\n",
        "    self.decoder = sionna.fec.ldpc.LDPC5GDecoder(self.encoder,\n",
        "                                                 hard_out=True,\n",
        "                                                 num_iter=50)\n",
        "    \n",
        "    self.cir_data = params[\"cir_data\"]\n",
        "    self.batch_size = params[\"batch_size\"]\n",
        "\n",
        "    self.cir_gen = CIRGenerator(self.cir_data, num_paths=50,\n",
        "                              num_ofdm_syms=self.rg.num_ofdm_symbols) # In freq domain num time steps equal to num ofdm symbols\n",
        "    self.cir_chmodel = sionna.channel.CIRDataset(self.cir_gen, self.batch_size,\n",
        "                                                 1, 1, 1, 1, 50,\n",
        "                                                 self.rg.num_ofdm_symbols)\n",
        "    self.cir_freqchannel = sionna.channel.OFDMChannel(self.cir_chmodel,\n",
        "                                                      self.rg,\n",
        "                                                      normalize_channel=True,\n",
        "                                                      return_channel=False)\n",
        "  \n",
        "    # Channel estimation and equalization\n",
        "    self.ch_est = sionna.ofdm.LSChannelEstimator(self.rg)\n",
        "    self.ch_eq = sionna.ofdm.LMMSEEqualizer(self.rg, self.sm)\n",
        "\n",
        "  @tf.function(jit_compile=False)\n",
        "  def call(self, batch_size, ebno_db):\n",
        "    # Compute the noise\n",
        "    no = sionna.utils.ebnodb2no(ebno_db, self.num_bits_per_symbol,\n",
        "                                self.coderate, self.rg)\n",
        "    # Generate the bit vectors\n",
        "    b = self.binary_source([batch_size, 1, 1, self.k])\n",
        "    # Encode the bits\n",
        "    c = self.encoder(b)\n",
        "    # Interleave\n",
        "    c_int = self.interleaver(c)\n",
        "    # Map to constellation symbols\n",
        "    s = self.mapper(c_int)\n",
        "    # Map onto OFDM resource grid\n",
        "    x_rg = self.rg_mapper(s)\n",
        "\n",
        "    y = self.cir_freqchannel([x_rg, no])\n",
        "\n",
        "    # Apply channel estimation\n",
        "    h_hat, err_var = self.ch_est([y, no])\n",
        "    # Apply equalization\n",
        "    x_hat, no_eff = self.ch_eq([y, h_hat, err_var, no])\n",
        "    # Demapping\n",
        "    llr = self.demapper([x_hat, no_eff])\n",
        "    # Deinterleave\n",
        "    llr_int = self.deinterleaver(llr)\n",
        "    # Decoding\n",
        "    b_hat = self.decoder(llr_int)\n",
        "    #ber = sionna.utils.metrics.compute_ber(b, b_hat)\n",
        "    return b, b_hat"
      ]
    },
    {
      "cell_type": "code",
      "execution_count": null,
      "metadata": {
        "id": "nLf7NqbYfASs"
      },
      "outputs": [],
      "source": []
    },
    {
      "cell_type": "markdown",
      "metadata": {
        "id": "rd6VC7EYgXfY"
      },
      "source": [
        "# Validation\n",
        "\n",
        "The results of the optimization are validated on the measurement-based channel.\n",
        "\n",
        "The obtained optimal polar code configurations are tested on the measurement-based channel at the respective SNR. The results will be compared in achieved BER at 35dB"
      ]
    },
    {
      "cell_type": "markdown",
      "metadata": {
        "id": "yu0MrJF-qvmc"
      },
      "source": [
        "The validation is for the accuracy of the k-factor estimation. Since we don't know what the _actual_ k-factor is, we cannot directly measure the accuracy. However, we can indirectly measure it through the performance of the communication link: the performance is evaluated on the measurement-based channel and compared with that of a simulated channel configured with the estimated k factor. The differences between the two will be caused by:\n",
        "* the differences in the model, such as flat fading (theoretical) vs selective fading (measurements)\n",
        "* the difference between the estimated and actual k factor."
      ]
    },
    {
      "cell_type": "markdown",
      "metadata": {
        "id": "3UpagiWG2K_n"
      },
      "source": [
        "### Validation setup"
      ]
    },
    {
      "cell_type": "markdown",
      "metadata": {
        "id": "r6OvyEeAoVmO"
      },
      "source": [
        "First validate using the mean estimated k-factor from an entire measurement run. As shown below, the k-factor varies significantly during the measurement run as the receiver moves through the environment. Therefore the are regions where the estimated (and likely actual) k-factor differs significantly from the mean. We expect, and the validation below confirms that the performance on the measurement-based channel will be different from the predicted one.\n",
        "\n",
        "The second evaluation isolates regions from the measurement run where the estimated k-factor is very close to the mean. We expect that the performance in the measurement-based channel will be more similar to the predicted."
      ]
    },
    {
      "cell_type": "markdown",
      "metadata": {
        "id": "9gV3gO8_K25Z"
      },
      "source": [
        "## Data\n",
        "\n",
        "CIR data based on NIST measurements.\n",
        "\n",
        "Each CIR is stored as\n",
        "* path coefficients\n",
        "* path delays"
      ]
    },
    {
      "cell_type": "code",
      "execution_count": null,
      "metadata": {
        "colab": {
          "base_uri": "https://localhost:8080/"
        },
        "id": "yFuxPT7wqS2D",
        "outputId": "94d1e665-252b-4738-c1af-061dc92cb7de"
      },
      "outputs": [
        {
          "output_type": "stream",
          "name": "stdout",
          "text": [
            "Cloning into 'nist_experiments'...\n",
            "remote: Enumerating objects: 64, done.\u001b[K\n",
            "remote: Counting objects: 100% (64/64), done.\u001b[K\n",
            "remote: Compressing objects: 100% (52/52), done.\u001b[K\n",
            "remote: Total 64 (delta 18), reused 53 (delta 10), pack-reused 0\u001b[K\n",
            "Unpacking objects: 100% (64/64), done.\n"
          ]
        }
      ],
      "source": [
        "from shutil import rmtree\n",
        "import os\n",
        "if os.path.exists(\"nist_experiments\"):\n",
        "  rmtree(\"nist_experiments\")\n",
        "!git clone -b master https://github.com/victorcionca/nist_experiments.git"
      ]
    },
    {
      "cell_type": "code",
      "execution_count": null,
      "metadata": {
        "id": "19ND4vb-0sJH"
      },
      "outputs": [],
      "source": [
        "cir_iq_data = pickle.load(open('nist_experiments/PDP__GBurgD2_5GHz_TX2high_crossPol_pp_all_taps.pickle', 'rb'))"
      ]
    },
    {
      "cell_type": "code",
      "execution_count": null,
      "metadata": {
        "id": "_OGSY51SoSpe"
      },
      "outputs": [],
      "source": [
        "nist_tx2low = pickle.load(open('nist_experiments/PDP__GBurgD2_5GHz_TX2low_vpol_run1_allpoints.pickle', 'rb'))"
      ]
    },
    {
      "cell_type": "code",
      "execution_count": null,
      "metadata": {
        "colab": {
          "base_uri": "https://localhost:8080/"
        },
        "id": "LBy0K86MNOQK",
        "outputId": "051b3c4b-de5e-48cb-8beb-dc1993694d3d"
      },
      "outputs": [
        {
          "data": {
            "text/plain": [
              "12000"
            ]
          },
          "execution_count": 14,
          "metadata": {},
          "output_type": "execute_result"
        }
      ],
      "source": [
        "len(cir_iq_data)"
      ]
    },
    {
      "cell_type": "markdown",
      "metadata": {
        "id": "DU86XSzzgigi"
      },
      "source": [
        "What is the minimum number of paths per CIR?"
      ]
    },
    {
      "cell_type": "code",
      "execution_count": null,
      "metadata": {
        "colab": {
          "base_uri": "https://localhost:8080/",
          "height": 334
        },
        "id": "F7jqkVPdgneJ",
        "outputId": "71f94668-c61c-4f26-a28a-2af2929eaa28"
      },
      "outputs": [
        {
          "output_type": "execute_result",
          "data": {
            "text/plain": [
              "(array([    0.,     0.,     0.,     0.,     0., 12000.,     0.,     0.,\n",
              "            0.,     0.]),\n",
              " array([49.5, 49.6, 49.7, 49.8, 49.9, 50. , 50.1, 50.2, 50.3, 50.4, 50.5]),\n",
              " <a list of 10 Patch objects>)"
            ]
          },
          "metadata": {},
          "execution_count": 7
        },
        {
          "output_type": "display_data",
          "data": {
            "text/plain": [
              "<Figure size 432x288 with 1 Axes>"
            ],
            "image/png": "[encoded data removed]"
          },
          "metadata": {
            "needs_background": "light"
          }
        }
      ],
      "source": [
        "plt.hist([len(paths) for paths, delays in cir_iq_data])"
      ]
    },
    {
      "cell_type": "markdown",
      "metadata": {
        "id": "Dcz9eTUAq6e3"
      },
      "source": [
        "#### K factor estimates"
      ]
    },
    {
      "cell_type": "code",
      "execution_count": null,
      "metadata": {
        "id": "TfvMajN6rS_l"
      },
      "outputs": [],
      "source": [
        "import pandas as pd"
      ]
    },
    {
      "cell_type": "code",
      "execution_count": null,
      "metadata": {
        "id": "_qjODOpSq5HC"
      },
      "outputs": [],
      "source": [
        "kfactors = pd.read_csv('nist_experiments/K-Factor04-GBurgD2_5GHz_TX2high_crossPol_pp__channel_stats.mat.csv', header=None)\n",
        "kfactors.columns = ['MoM', 'SM', 'FM', 'samples', 'idx_start', 'idx_end', 'no']\n",
        "del kfactors['no']"
      ]
    },
    {
      "cell_type": "code",
      "execution_count": null,
      "metadata": {
        "colab": {
          "base_uri": "https://localhost:8080/",
          "height": 296
        },
        "id": "SgNeGlpPrUlk",
        "outputId": "c28f3a37-dcba-4790-81b0-ded8713faccf"
      },
      "outputs": [
        {
          "data": {
            "text/plain": [
              "<matplotlib.legend.Legend at 0x7f2d29606d50>"
            ]
          },
          "execution_count": 6,
          "metadata": {},
          "output_type": "execute_result"
        },
        {
          "data": {
            "image/png": "[encoded data removed]",
            "text/plain": [
              "<Figure size 864x288 with 2 Axes>"
            ]
          },
          "metadata": {},
          "output_type": "display_data"
        }
      ],
      "source": [
        "fig, ax = plt.subplots(nrows=1, ncols=2, figsize=(12,4))\n",
        "ax[0].plot(kfactors['MoM'], label='MoM')\n",
        "ax[0].plot(kfactors['SM'], label='SM')\n",
        "ax[0].plot(kfactors['FM'], label='FM')\n",
        "ax[0].legend()\n",
        "ax[0].set_ylabel('K Factor (db)')\n",
        "ax[1].hist(kfactors['MoM'], alpha=0.5, label='MoM mean {0:.2f}'.format(np.mean(kfactors['MoM'])))\n",
        "ax[1].hist(kfactors['SM'], alpha=0.5, label='SM mean {0:.2f}'.format(np.mean(kfactors['SM'])))\n",
        "ax[1].hist(kfactors['FM'], alpha=0.5, label='FM mean {0:.2f}'.format(np.mean(kfactors['FM'])))\n",
        "ax[1].set_ylabel('Instances')\n",
        "ax[1].set_xlabel('K factor (dB)')\n",
        "ax[1].legend()"
      ]
    },
    {
      "cell_type": "markdown",
      "metadata": {
        "id": "FQkZDoSVrkhl"
      },
      "source": [
        "The figure shows the K factors determined with the three estimators (Narrowband Method of Moments, Wideband Strongest over Mean, Wideband First over Mean), _over the entire measurement run_. In some cases there is variation of greater than 10dB in the data."
      ]
    },
    {
      "cell_type": "markdown",
      "metadata": {
        "id": "wOCz-tfsy4Ej"
      },
      "source": [
        "Retrieve CIR samples from 10-lambda windows that have a target k factor."
      ]
    },
    {
      "cell_type": "code",
      "execution_count": null,
      "metadata": {
        "id": "PtZ5FfgGsBYT"
      },
      "outputs": [],
      "source": [
        "def get_kfactor_regions(target_kfactor, kfactor_trace):\n",
        "  \"\"\"\n",
        "  From the trace of k factors returns the regions where the difference between\n",
        "  the data and the target is < .5.\n",
        "  The regions are returned as (idx_start, idx_end).\n",
        "  \n",
        "  Parameters\n",
        "  ==========\n",
        "  target_kfactor    -- The target value of the k factor.\n",
        "  kfactor_trace     -- Pandas data frame with three columns: k-factor, idx start, idx end.\n",
        "  \"\"\"\n",
        "  kfactor_col = kfactor_trace.columns[0]\n",
        "  data = kfactor_trace[abs(kfactor_trace[kfactor_col] - target_kfactor) < 0.5]\n",
        "  return zip(data['idx_start'], data['idx_end'])"
      ]
    },
    {
      "cell_type": "code",
      "execution_count": null,
      "metadata": {
        "id": "Lx5ZWAATyMt-"
      },
      "outputs": [],
      "source": [
        "from itertools import chain"
      ]
    },
    {
      "cell_type": "code",
      "execution_count": null,
      "metadata": {
        "id": "iexHFVuhwCQj"
      },
      "outputs": [],
      "source": [
        "def get_CIR_samples_for_regions(cir_data, regions):\n",
        "  \"\"\"Concatenates the CIR samples from the given regions into a list\"\"\"\n",
        "  return list(chain(*[cir_data[start:end] for start, end in regions]))"
      ]
    },
    {
      "cell_type": "code",
      "execution_count": null,
      "metadata": {
        "id": "cAhsGf6sufi7"
      },
      "outputs": [],
      "source": [
        "regions = list(get_kfactor_regions(8.5, kfactors[['MoM', 'idx_start', 'idx_end']]))"
      ]
    },
    {
      "cell_type": "code",
      "execution_count": null,
      "metadata": {
        "id": "Yaa56_vXyShG"
      },
      "outputs": [],
      "source": [
        "cirs = get_CIR_samples_for_regions(cir_iq_data, regions)"
      ]
    },
    {
      "cell_type": "code",
      "execution_count": null,
      "metadata": {
        "colab": {
          "base_uri": "https://localhost:8080/"
        },
        "id": "AJKWeqBqyr63",
        "outputId": "5e83a5c7-3b64-4dc3-8a79-bee21054483f"
      },
      "outputs": [
        {
          "data": {
            "text/plain": [
              "1253"
            ]
          },
          "execution_count": 24,
          "metadata": {},
          "output_type": "execute_result"
        }
      ],
      "source": [
        "len(cirs)"
      ]
    },
    {
      "cell_type": "markdown",
      "metadata": {
        "id": "mJUCIGb_osQn"
      },
      "source": [
        "### Region-based k factor comparison\n",
        "\n",
        "For k factor regions (groups of 10-lambda windows that have the same k factor) analyse the average CIRs."
      ]
    },
    {
      "cell_type": "markdown",
      "metadata": {
        "id": "5CoWPSbhp3Nh"
      },
      "source": [
        "#### TX2 high"
      ]
    },
    {
      "cell_type": "code",
      "execution_count": null,
      "metadata": {
        "id": "wevyhkncpJT_"
      },
      "outputs": [],
      "source": [
        "mom_low_regions = list(get_kfactor_regions(5, kfactors[['MoM', 'idx_start', 'idx_end']]))"
      ]
    },
    {
      "cell_type": "code",
      "execution_count": null,
      "metadata": {
        "id": "Vs8pOQG3qVei"
      },
      "outputs": [],
      "source": [
        "mom_low_cirs = get_CIR_samples_for_regions(cir_iq_data, mom_low_regions)"
      ]
    },
    {
      "cell_type": "code",
      "execution_count": null,
      "metadata": {
        "colab": {
          "base_uri": "https://localhost:8080/"
        },
        "id": "BySqDcZUqacv",
        "outputId": "822cfa86-e57d-41d1-e0ce-feac53bfef35"
      },
      "outputs": [
        {
          "data": {
            "text/plain": [
              "95"
            ]
          },
          "execution_count": 28,
          "metadata": {},
          "output_type": "execute_result"
        }
      ],
      "source": [
        "len(mom_low_cirs)"
      ]
    },
    {
      "cell_type": "code",
      "execution_count": null,
      "metadata": {
        "id": "YU_C1leWqlBz"
      },
      "outputs": [],
      "source": [
        "def get_avg_cir(cir_samples):\n",
        "  return np.mean(list(zip(*cir_samples))[0], axis=0)"
      ]
    },
    {
      "cell_type": "code",
      "execution_count": null,
      "metadata": {
        "colab": {
          "base_uri": "https://localhost:8080/",
          "height": 276
        },
        "id": "ixdyC-7RrmUY",
        "outputId": "abf7ed7f-a01c-4ce0-c65b-5c298bb08c8b"
      },
      "outputs": [
        {
          "data": {
            "image/png": "[encoded data removed]",
            "text/plain": [
              "<Figure size 432x288 with 1 Axes>"
            ]
          },
          "metadata": {},
          "output_type": "display_data"
        }
      ],
      "source": [
        "plt.plot(abs(get_avg_cir(mom_low_cirs))**2)\n",
        "for cir, delays in mom_low_cirs:\n",
        "  plt.plot(abs(cir)**2)"
      ]
    },
    {
      "cell_type": "code",
      "execution_count": null,
      "metadata": {
        "colab": {
          "base_uri": "https://localhost:8080/"
        },
        "id": "XQoWxoPlsCfE",
        "outputId": "a1e87cd4-1f52-4c3a-8ac6-70f669da0851"
      },
      "outputs": [
        {
          "data": {
            "text/plain": [
              "264"
            ]
          },
          "execution_count": 31,
          "metadata": {},
          "output_type": "execute_result"
        }
      ],
      "source": [
        "mom_high_regions = list(get_kfactor_regions(13, kfactors[['MoM', 'idx_start', 'idx_end']]))\n",
        "mom_high_cirs = get_CIR_samples_for_regions(cir_iq_data, mom_high_regions)\n",
        "len(mom_high_cirs)"
      ]
    },
    {
      "cell_type": "code",
      "execution_count": null,
      "metadata": {
        "colab": {
          "base_uri": "https://localhost:8080/",
          "height": 276
        },
        "id": "C1g2CYGGsNJ6",
        "outputId": "deeed7c1-b6d0-4e31-d2fe-a9060e7c1804"
      },
      "outputs": [
        {
          "data": {
            "image/png": "[encoded data removed]",
            "text/plain": [
              "<Figure size 432x288 with 1 Axes>"
            ]
          },
          "metadata": {},
          "output_type": "display_data"
        }
      ],
      "source": [
        "plt.plot(abs(get_avg_cir(mom_high_cirs))**2)\n",
        "for cir, delays in mom_high_cirs:\n",
        "  plt.plot(abs(cir)**2)"
      ]
    },
    {
      "cell_type": "code",
      "execution_count": null,
      "metadata": {
        "colab": {
          "base_uri": "https://localhost:8080/",
          "height": 293
        },
        "id": "v0oimpDHsni6",
        "outputId": "e0d91d03-7f4d-472c-f566-13e43062dab4"
      },
      "outputs": [
        {
          "data": {
            "text/plain": [
              "<matplotlib.legend.Legend at 0x7f49f83b1c50>"
            ]
          },
          "execution_count": 35,
          "metadata": {},
          "output_type": "execute_result"
        },
        {
          "data": {
            "image/png": "[encoded data removed]",
            "text/plain": [
              "<Figure size 432x288 with 1 Axes>"
            ]
          },
          "metadata": {},
          "output_type": "display_data"
        }
      ],
      "source": [
        "plt.plot(abs(get_avg_cir(cir_iq_data))**2, label='overall')\n",
        "plt.plot(abs(get_avg_cir(mom_high_cirs))**2, label='highk')\n",
        "plt.plot(abs(get_avg_cir(mom_low_cirs))**2, label='lowk')\n",
        "plt.legend()"
      ]
    },
    {
      "cell_type": "markdown",
      "metadata": {
        "id": "BnytrierWyWs"
      },
      "source": [
        "### Normalize the CIR paths\n",
        "\n",
        "``cir_iq_data`` is a list of CIRs, where each CIt is a tuple of (path amplitudes, path delays). The path amplitudes of each CIR must be normalized so they sum up to unit power."
      ]
    },
    {
      "cell_type": "code",
      "execution_count": null,
      "metadata": {
        "colab": {
          "base_uri": "https://localhost:8080/"
        },
        "id": "BHyH4W0xXH-_",
        "outputId": "8d1da094-347d-4622-d3ca-92a131354613"
      },
      "outputs": [
        {
          "data": {
            "text/plain": [
              "(array([-0.5820486 -0.09703759j, -0.02357805+0.999722j  ,\n",
              "        -0.63894881-0.02959833j,  0.20010399+0.13008325j,\n",
              "         0.15166436+0.11156965j]),\n",
              " array([8.750e-08, 1.500e-07, 3.625e-07, 4.250e-07, 5.250e-07]))"
            ]
          },
          "execution_count": 25,
          "metadata": {},
          "output_type": "execute_result"
        }
      ],
      "source": [
        "cir_iq_data[0]"
      ]
    },
    {
      "cell_type": "code",
      "execution_count": null,
      "metadata": {
        "id": "JJWMcfTDXYCM"
      },
      "outputs": [],
      "source": [
        "def normalize_cirs(cir_samples):\n",
        "  normalized_cirs = []\n",
        "  for cir_paths, cir_delays in cir_samples:\n",
        "    if len(cir_delays) == 0: continue\n",
        "    if max(cir_delays) > 1e-5: continue\n",
        "    normalized_cirs.append((cir_paths/np.sqrt(sum(cir_paths**2)), cir_delays))\n",
        "  return normalized_cirs"
      ]
    },
    {
      "cell_type": "markdown",
      "metadata": {
        "id": "g8bmgzGTLKq8"
      },
      "source": [
        "### Creating an average CIR\n",
        "\n",
        "The average CIR will be represented as follows:\n",
        "* have the union of taps from the path delays\n",
        "* each tap will store the average of paths at that tap.\n",
        "\n",
        "We might have to create bins for the taps."
      ]
    },
    {
      "cell_type": "code",
      "execution_count": null,
      "metadata": {
        "id": "hNqgieC4LpU8"
      },
      "outputs": [],
      "source": [
        "avg_cir_taps = {}\n",
        "size_taps = {}\n",
        "for paths, delays in cir_iq_data:\n",
        "  for p, d in zip(paths, delays):\n",
        "    if d > 1e-5: continue\n",
        "    if d not in avg_cir_taps:\n",
        "      avg_cir_taps[d] = 0\n",
        "      size_taps[d] = 0\n",
        "    else:\n",
        "      avg_cir_taps[d] += abs(p)**2\n",
        "      size_taps[d] += 1"
      ]
    },
    {
      "cell_type": "markdown",
      "metadata": {
        "id": "hnDMmrWnNtcy"
      },
      "source": [
        "Normalize the CIR"
      ]
    },
    {
      "cell_type": "code",
      "execution_count": null,
      "metadata": {
        "id": "GlGLpUHONcwU"
      },
      "outputs": [],
      "source": [
        "max_power = max(avg_cir_taps.values())\n",
        "for d, p in avg_cir_taps.items():\n",
        "  avg_cir_taps[d] = p/max_power"
      ]
    },
    {
      "cell_type": "code",
      "execution_count": null,
      "metadata": {
        "colab": {
          "base_uri": "https://localhost:8080/",
          "height": 295
        },
        "id": "aHy1lZEjM7i_",
        "outputId": "a66949d8-054e-4153-9e58-8f2584e48cc7"
      },
      "outputs": [
        {
          "data": {
            "text/plain": [
              "[<matplotlib.lines.Line2D at 0x7fb1e6d739d0>]"
            ]
          },
          "execution_count": 21,
          "metadata": {},
          "output_type": "execute_result"
        },
        {
          "data": {
            "image/png": "[encoded data removed]",
            "text/plain": [
              "<Figure size 432x288 with 1 Axes>"
            ]
          },
          "metadata": {},
          "output_type": "display_data"
        }
      ],
      "source": [
        "plt.plot(list(avg_cir_taps.keys()), list(avg_cir_taps.values()), '.')"
      ]
    },
    {
      "cell_type": "markdown",
      "metadata": {
        "id": "Rkhnr8pj3Jao"
      },
      "source": [
        "Create a sorted PDP containing tuples (delay, power)."
      ]
    },
    {
      "cell_type": "code",
      "execution_count": null,
      "metadata": {
        "id": "Vuya4UoD3HcN"
      },
      "outputs": [],
      "source": [
        "pdp_vals = list(avg_cir_taps.items())\n",
        "pdp_vals.sort()"
      ]
    },
    {
      "cell_type": "code",
      "execution_count": null,
      "metadata": {
        "colab": {
          "base_uri": "https://localhost:8080/",
          "height": 295
        },
        "id": "N7GVeEC73i8z",
        "outputId": "b017fcf1-b7b9-4e1d-8a52-27bc777374c7"
      },
      "outputs": [
        {
          "data": {
            "text/plain": [
              "[<matplotlib.lines.Line2D at 0x7fb1e6b42d10>]"
            ]
          },
          "execution_count": 26,
          "metadata": {},
          "output_type": "execute_result"
        },
        {
          "data": {
            "image/png": "[encoded data removed]",
            "text/plain": [
              "<Figure size 432x288 with 2 Axes>"
            ]
          },
          "metadata": {},
          "output_type": "display_data"
        }
      ],
      "source": [
        "plt.plot(list(zip(*pdp_vals))[0], list(zip(*pdp_vals))[1])\n",
        "ax1 = plt.gca()\n",
        "ax2 = ax1.twinx()\n",
        "ax2.plot(list(zip(*pdp_vals))[0], [size_taps[t] for t in list(zip(*pdp_vals))[0]], 'r')"
      ]
    },
    {
      "cell_type": "markdown",
      "metadata": {
        "id": "d6I0_s-RT5Bc"
      },
      "source": [
        "### Impact of CP to prevent self-interference\n",
        "\n",
        "The CP is added to prevent self-interference from a previous symbol that arrives late due to multi-path propagation.\n",
        "\n",
        "When receiving a symbol $S_i$ we have\n",
        "* energy from the symbol $S_i$\n",
        "* energy from the MPCs of $S_{i-1}$.\n",
        "\n",
        "The CP of length $T_{CP}$ is inserted at the start of the symbol. Therefore, the first $T_{CP}$ of the CIR $h(t)$ is considered usable power (signal can be recovered through equalization), whereas the remainder of the delay spread $\\tau - T_{CP}$ is interference.\n"
      ]
    },
    {
      "cell_type": "code",
      "execution_count": null,
      "metadata": {
        "id": "kQIYM1IC2JvL"
      },
      "outputs": [],
      "source": [
        "def self_sir(cir, t_cp):\n",
        "  \"\"\"\n",
        "  Computes the self SIR caused by inter-symbol interference,\n",
        "  for the given CIR and CP length.\n",
        "  \n",
        "  Parameters:\n",
        "  cir   -- list of (delay, power) tuples\n",
        "  t_cp  -- in microseconds\n",
        "  \"\"\"\n",
        "  usable, interf = 0,0\n",
        "  for (d, p) in cir:\n",
        "    if d <= t_cp: usable += p\n",
        "    else: interf += p\n",
        "  return 10*np.log10(usable/interf)"
      ]
    },
    {
      "cell_type": "code",
      "execution_count": null,
      "metadata": {
        "id": "KXW3clqYwJUi"
      },
      "outputs": [],
      "source": [
        "def self_sir_linear(cir, t_cp):\n",
        "  \"\"\"\n",
        "  Computes the self SIR caused by inter-symbol interference,\n",
        "  for the given CIR and CP length.\n",
        "  \n",
        "  Parameters:\n",
        "  cir   -- list of (delay, power) tuples\n",
        "  t_cp  -- in microseconds\n",
        "\n",
        "  Returns:\n",
        "  SIR in linear scale\n",
        "  \"\"\"\n",
        "  usable, interf = 0,0\n",
        "  for (d, p) in cir:\n",
        "    if d <= t_cp: usable += p\n",
        "    else: interf += p\n",
        "  return usable/interf"
      ]
    },
    {
      "cell_type": "code",
      "execution_count": null,
      "metadata": {
        "id": "tt7r2sV34qYp"
      },
      "outputs": [],
      "source": [
        "sample_time = 1/200000000"
      ]
    },
    {
      "cell_type": "code",
      "execution_count": null,
      "metadata": {
        "colab": {
          "base_uri": "https://localhost:8080/",
          "height": 141
        },
        "id": "MYmgbN5s4u8E",
        "outputId": "e403fca9-b1f2-468a-a501-94ca2d97c598"
      },
      "outputs": [
        {
          "name": "stderr",
          "output_type": "stream",
          "text": [
            "/usr/local/lib/python3.7/dist-packages/ipykernel_launcher.py:14: RuntimeWarning: divide by zero encountered in log10\n",
            "  \n",
            "/usr/local/lib/python3.7/dist-packages/ipykernel_launcher.py:14: RuntimeWarning: divide by zero encountered in double_scalars\n",
            "  \n"
          ]
        },
        {
          "data": {
            "text/plain": [
              "Text(0, 0.5, 'SIR (dB)')"
            ]
          },
          "execution_count": 15,
          "metadata": {},
          "output_type": "execute_result"
        },
        {
          "data": {
            "image/png": "[encoded data removed]",
            "text/plain": [
              "<Figure size 432x288 with 1 Axes>"
            ]
          },
          "metadata": {},
          "output_type": "display_data"
        }
      ],
      "source": [
        "t_cp = [sample_time*n for n in range(100)]\n",
        "sirs = [self_sir(pdp_vals, t) for t in t_cp]\n",
        "plt.plot(t_cp, sirs)\n",
        "plt.xlabel('CP (s)')\n",
        "plt.ylabel('SIR (dB)')"
      ]
    },
    {
      "cell_type": "markdown",
      "metadata": {
        "id": "5H8b79QhuTAv"
      },
      "source": [
        "Signal to Echo plus Noise (SENR approx SNR)"
      ]
    },
    {
      "cell_type": "code",
      "execution_count": null,
      "metadata": {
        "id": "MP9JYdNVuScS"
      },
      "outputs": [],
      "source": [
        "def senr(cir, t_cp, bw):\n",
        "  \"\"\"\n",
        "  Calculates the SENR for the CIR and CP length\n",
        "  \"\"\"\n",
        "  # Values below are in dB\n",
        "  Pt = 20\n",
        "  PL = -85 # at 50m\n",
        "  Pt_lin = (Pt/10)**10*1e-3\n",
        "  PL_lin = (PL/10)**10*1e-3\n",
        "  sir_lin = self_sir_linear(cir, t_cp)\n",
        "  noise = 1.3803e-23*290*bw\n",
        "  print(Pt_lin, PL_lin, noise, noise**2)\n",
        "  senr_lin = (Pt_lin*PL_lin*(sir_lin/(1+sir_lin)))/(Pt_lin*PL_lin/(1+sir_lin) + noise**2)\n",
        "  return 10*np.log10(senr_lin)"
      ]
    },
    {
      "cell_type": "code",
      "execution_count": null,
      "metadata": {
        "colab": {
          "base_uri": "https://localhost:8080/"
        },
        "id": "luEdEtXB6vYg",
        "outputId": "23f12a4b-4cc7-43b4-e288-e31b9a66c2e6"
      },
      "outputs": [
        {
          "name": "stdout",
          "output_type": "stream",
          "text": [
            "1.024 1968744.0434072267 8.005740000000001e-13 6.409187294760001e-25\n",
            "-6.563684120363826\n",
            "-6.563684120363826\n",
            "0.22061324766945098\n"
          ]
        }
      ],
      "source": [
        "print(senr(pdp_vals, 15*sample_time, 200e6))\n",
        "print(self_sir(pdp_vals, 15*sample_time))\n",
        "print(self_sir_linear(pdp_vals, 15*sample_time))"
      ]
    },
    {
      "cell_type": "code",
      "execution_count": null,
      "metadata": {
        "id": "b01CTCW-yMCJ"
      },
      "outputs": [],
      "source": [
        "t_cp = [sample_time*n for n in range(100)]\n",
        "senrs = [senr(pdp_vals, t, 200e6) for t in t_cp]\n",
        "plt.plot(t_cp, senrs)\n",
        "plt.plot(t_cp, sirs)\n",
        "plt.xlabel('CP (s)')\n",
        "plt.ylabel('SENR (dB)')"
      ]
    },
    {
      "cell_type": "markdown",
      "metadata": {
        "id": "FqN40A7CTtt9"
      },
      "source": [
        "## Testing dataset channel"
      ]
    },
    {
      "cell_type": "markdown",
      "metadata": {
        "id": "5_tolOKkUFUt"
      },
      "source": [
        "Dataset channel is seen to lead to very poor BER. This investigates why."
      ]
    },
    {
      "cell_type": "markdown",
      "metadata": {
        "id": "8jmXu5AjUM3I"
      },
      "source": [
        "We look at the CIR as generated by the TimeChannel when using dataset."
      ]
    },
    {
      "cell_type": "code",
      "execution_count": null,
      "metadata": {
        "id": "tct7EG02loc1",
        "colab": {
          "base_uri": "https://localhost:8080/",
          "height": 167
        },
        "outputId": "ace8febb-0fe3-4fc0-fe3c-ccc7121000d9"
      },
      "outputs": [
        {
          "output_type": "error",
          "ename": "NameError",
          "evalue": "ignored",
          "traceback": [
            "\u001b[0;31m---------------------------------------------------------------------------\u001b[0m",
            "\u001b[0;31mNameError\u001b[0m                                 Traceback (most recent call last)",
            "\u001b[0;32m<ipython-input-5-546bfacc2648>\u001b[0m in \u001b[0;36m<module>\u001b[0;34m\u001b[0m\n\u001b[0;32m----> 1\u001b[0;31m \u001b[0ma\u001b[0m\u001b[0;34m,\u001b[0m \u001b[0mtau\u001b[0m \u001b[0;34m=\u001b[0m \u001b[0msample_timesteps\u001b[0m\u001b[0;34m(\u001b[0m\u001b[0mcir_iq_data\u001b[0m\u001b[0;34m,\u001b[0m \u001b[0;36m1\u001b[0m\u001b[0;34m,\u001b[0m \u001b[0;36m2\u001b[0m\u001b[0;34m,\u001b[0m \u001b[0;36m50\u001b[0m\u001b[0;34m)\u001b[0m\u001b[0;34m\u001b[0m\u001b[0;34m\u001b[0m\u001b[0m\n\u001b[0m",
            "\u001b[0;31mNameError\u001b[0m: name 'cir_iq_data' is not defined"
          ]
        }
      ],
      "source": [
        "a, tau = sample_timesteps(cir_iq_data, 1, 2, 50)"
      ]
    },
    {
      "cell_type": "code",
      "execution_count": null,
      "metadata": {
        "colab": {
          "base_uri": "https://localhost:8080/"
        },
        "id": "IQ3tN5VElrtB",
        "outputId": "7b585bc0-b209-4317-b9f4-ad2277a0a2d7"
      },
      "outputs": [
        {
          "data": {
            "text/plain": [
              "numpy.float32"
            ]
          },
          "execution_count": 63,
          "metadata": {},
          "output_type": "execute_result"
        }
      ],
      "source": [
        "type(tau[0][0][0][0])"
      ]
    },
    {
      "cell_type": "markdown",
      "metadata": {
        "id": "SuRsDVS3j0Cm"
      },
      "source": [
        "### Testing LDPC-based comms in freq domain with default RG"
      ]
    },
    {
      "cell_type": "code",
      "execution_count": null,
      "metadata": {
        "id": "uI7Cjkulj4l8",
        "colab": {
          "base_uri": "https://localhost:8080/"
        },
        "outputId": "0b3f9026-7a36-4633-a2e0-1f44c28f45a8"
      },
      "outputs": [
        {
          "output_type": "stream",
          "name": "stdout",
          "text": [
            "OFDM syms=14. Time steps=None\n"
          ]
        }
      ],
      "source": [
        "model = CommsSystemDataset(params={\"cir_data\":cir_iq_data, 'batch_size':256})"
      ]
    },
    {
      "cell_type": "code",
      "execution_count": null,
      "metadata": {
        "id": "ojNdBoQxkWOz"
      },
      "outputs": [],
      "source": [
        "ldpc_ber, lpdc_bler = sionna.utils.sim_ber(model, range(15), batch_size=256,\n",
        "                                          max_mc_iter=1000, num_target_bit_errors=500)"
      ]
    },
    {
      "cell_type": "code",
      "execution_count": null,
      "metadata": {
        "colab": {
          "base_uri": "https://localhost:8080/"
        },
        "id": "eUoQQmrsAbKd",
        "outputId": "80dd5614-6206-405a-d89c-4a5aebc0f9e7"
      },
      "outputs": [
        {
          "name": "stdout",
          "output_type": "stream",
          "text": [
            "EbNo [dB] |        BER |       BLER |  bit errors |    num bits | block errors |  num blocks | runtime [s] |    status\n",
            "---------------------------------------------------------------------------------------------------------------------------------------\n",
            "      0.0 | 3.4958e-01 | 1.0000e+00 |      139607 |      399360 |          256 |         256 |         9.4 |reached target bit errors\n",
            "      1.0 | 3.2984e-01 | 1.0000e+00 |      131723 |      399360 |          256 |         256 |         9.0 |reached target bit errors\n",
            "      2.0 | 3.0445e-01 | 1.0000e+00 |      121587 |      399360 |          256 |         256 |         8.9 |reached target bit errors\n",
            "      3.0 | 2.7989e-01 | 1.0000e+00 |      111778 |      399360 |          256 |         256 |         9.1 |reached target bit errors\n",
            "      4.0 | 2.4820e-01 | 1.0000e+00 |       99122 |      399360 |          256 |         256 |         9.0 |reached target bit errors\n",
            "      5.0 | 2.1782e-01 | 1.0000e+00 |       86990 |      399360 |          256 |         256 |         8.9 |reached target bit errors\n",
            "      6.0 | 1.6993e-01 | 1.0000e+00 |       67863 |      399360 |          256 |         256 |         9.0 |reached target bit errors\n",
            "      7.0 | 3.8204e-02 | 2.9688e-01 |       15257 |      399360 |           76 |         256 |         9.0 |reached target bit errors\n",
            "      8.0 | 1.5925e-02 | 8.9844e-02 |        6360 |      399360 |           23 |         256 |         9.0 |reached target bit errors\n",
            "      9.0 | 3.3303e-03 | 1.9531e-02 |        1330 |      399360 |            5 |         256 |         9.0 |reached target bit errors\n",
            "     10.0 | 4.3570e-03 | 2.7344e-02 |        1740 |      399360 |            7 |         256 |        10.2 |reached target bit errors\n",
            "     11.0 | 7.2867e-04 | 3.9062e-03 |         582 |      798720 |            2 |         512 |        18.0 |reached target bit errors\n",
            "     12.0 | 2.1201e-04 | 1.9531e-03 |         508 |     2396160 |            3 |        1536 |        55.5 |reached target bit errors\n",
            "     13.0 | 1.8505e-04 | 1.1719e-03 |         739 |     3993600 |            3 |        2560 |        91.5 |reached target bit errors\n",
            "     14.0 | 8.4226e-05 | 5.3267e-04 |         740 |     8785920 |            3 |        5632 |       205.5 |reached target bit errors\n"
          ]
        }
      ],
      "source": [
        "model = CommsSystemDataset(params={\"cir_data\":nist_tx2low})\n",
        "tx2low_ldpc_ber, tx2low_lpdc_bler = sionna.utils.sim_ber(model, range(15), batch_size=256,\n",
        "                                          max_mc_iter=1000, num_target_bit_errors=500)"
      ]
    },
    {
      "cell_type": "code",
      "execution_count": null,
      "metadata": {
        "colab": {
          "base_uri": "https://localhost:8080/",
          "height": 295
        },
        "id": "PY_LpuZK4hI-",
        "outputId": "60217b5f-c05b-4849-e84a-8f40cca5bba4"
      },
      "outputs": [
        {
          "data": {
            "image/png": "[encoded data removed]",
            "text/plain": [
              "<Figure size 432x288 with 1 Axes>"
            ]
          },
          "metadata": {},
          "output_type": "display_data"
        }
      ],
      "source": [
        "plt.figure()\n",
        "plt.title(\"Channel frequency response\")\n",
        "plt.plot(np.real(h_freq[0,0,0,0,0,0,:]))\n",
        "plt.plot(np.imag(h_freq[0,0,0,0,0,0,:]))\n",
        "plt.xlabel(\"OFDM Symbol Index\")\n",
        "plt.ylabel(r\"$h$\")\n",
        "plt.legend([\"Real part\", \"Imaginary part\"]);"
      ]
    },
    {
      "cell_type": "markdown",
      "metadata": {
        "id": "Phkv1ctl5QPT"
      },
      "source": [
        "## Validation on simulated channel"
      ]
    },
    {
      "cell_type": "markdown",
      "metadata": {
        "id": "u6-OCpXK5UV1"
      },
      "source": [
        "Use the mean of the estimates k-factors"
      ]
    },
    {
      "cell_type": "code",
      "execution_count": null,
      "metadata": {
        "colab": {
          "base_uri": "https://localhost:8080/"
        },
        "id": "9bM_eEsx7X18",
        "outputId": "8fc368fc-5ce6-414f-e651-5839e53cd374"
      },
      "outputs": [
        {
          "output_type": "stream",
          "name": "stdout",
          "text": [
            "{'MoM': 10.226126718213067, 'SM': 9.482427186062738, 'FM': 4.741587743179509}\n"
          ]
        }
      ],
      "source": [
        "k_factor_est_means = {est:np.mean(kfactors[est]) for est in ['MoM', 'SM', 'FM']}\n",
        "print(k_factor_est_means)"
      ]
    },
    {
      "cell_type": "code",
      "execution_count": null,
      "metadata": {
        "colab": {
          "base_uri": "https://localhost:8080/"
        },
        "id": "dmKPOcAJ79CM",
        "outputId": "3fc1ebab-5071-491f-a487-b23ea2af4918"
      },
      "outputs": [
        {
          "output_type": "stream",
          "name": "stdout",
          "text": [
            "Evaluating for MoM, 10.23\n",
            "EbNo [dB] |        BER |       BLER |  bit errors |    num bits | block errors |  num blocks | runtime [s] |    status\n",
            "---------------------------------------------------------------------------------------------------------------------------------------\n",
            "      0.0 | 5.8218e-03 | 3.1250e-02 |        2325 |      399360 |            8 |         256 |         6.8 |reached target bit errors\n",
            "      1.0 | 7.0788e-03 | 3.5156e-02 |        2827 |      399360 |            9 |         256 |         0.1 |reached target bit errors\n",
            "      2.0 | 2.2261e-03 | 1.1719e-02 |         889 |      399360 |            3 |         256 |         0.1 |reached target bit errors\n",
            "      3.0 | 8.2382e-04 | 3.9062e-03 |         987 |     1198080 |            3 |         768 |         0.2 |reached target bit errors\n",
            "      4.0 | 2.6342e-04 | 1.5625e-03 |         526 |     1996800 |            2 |        1280 |         0.3 |reached target bit errors\n",
            "      5.0 | 1.6743e-04 | 7.8125e-04 |        1003 |     5990400 |            3 |        3840 |         0.9 |reached target bit errors\n",
            "      6.0 | 7.8375e-04 | 4.8828e-03 |        1252 |     1597440 |            5 |        1024 |         0.3 |reached target bit errors\n",
            "      7.0 | 8.8614e-05 | 4.3403e-04 |         637 |     7188480 |            2 |        4608 |         1.1 |reached target bit errors\n",
            "      8.0 | 5.5959e-05 | 3.3967e-04 |         514 |     9185280 |            2 |        5888 |         1.4 |reached target bit errors\n",
            "      9.0 | 9.6543e-05 | 4.3403e-04 |         694 |     7188480 |            2 |        4608 |         1.1 |reached target bit errors\n",
            "     10.0 | 6.0167e-06 | 3.7026e-05 |         507 |    84264960 |            2 |       54016 |        13.2 |reached target bit errors\n",
            "     11.0 | 2.1420e-05 | 1.1603e-04 |         864 |    40335360 |            3 |       25856 |         6.3 |reached target bit errors\n",
            "     12.0 | 3.5772e-06 | 1.6910e-05 |         660 |   184504320 |            2 |      118272 |        29.2 |reached target bit errors\n",
            "     13.0 | 9.5653e-07 | 7.8125e-06 |         382 |   399360000 |            2 |      256000 |        63.9 |reached max iter       \n",
            "     14.0 | 1.4347e-06 | 8.4459e-06 |         530 |   369408000 |            2 |      236800 |        60.8 |reached target bit errors\n",
            "Evaluating for SM, 9.48\n",
            "EbNo [dB] |        BER |       BLER |  bit errors |    num bits | block errors |  num blocks | runtime [s] |    status\n",
            "---------------------------------------------------------------------------------------------------------------------------------------\n",
            "      0.0 | 1.8590e-02 | 9.3750e-02 |        7424 |      399360 |           24 |         256 |         6.4 |reached target bit errors\n",
            "      1.0 | 1.0179e-02 | 5.0781e-02 |        4065 |      399360 |           13 |         256 |         0.1 |reached target bit errors\n",
            "      2.0 | 2.7494e-03 | 1.5625e-02 |        1098 |      399360 |            4 |         256 |         0.1 |reached target bit errors\n",
            "      3.0 | 3.0098e-03 | 1.5625e-02 |        1202 |      399360 |            4 |         256 |         0.1 |reached target bit errors\n",
            "      4.0 | 2.4740e-03 | 1.1719e-02 |         988 |      399360 |            3 |         256 |         0.1 |reached target bit errors\n",
            "      5.0 | 4.2506e-04 | 1.9531e-03 |         679 |     1597440 |            2 |        1024 |         0.3 |reached target bit errors\n",
            "      6.0 | 5.6403e-04 | 1.9531e-03 |         901 |     1597440 |            2 |        1024 |         0.2 |reached target bit errors\n",
            "      7.0 | 2.4468e-04 | 1.6741e-03 |         684 |     2795520 |            3 |        1792 |         0.4 |reached target bit errors\n",
            "      8.0 | 1.1286e-04 | 5.5804e-04 |         631 |     5591040 |            2 |        3584 |         0.9 |reached target bit errors\n",
            "      9.0 | 8.3328e-05 | 6.5104e-04 |         599 |     7188480 |            3 |        4608 |         1.1 |reached target bit errors\n",
            "     10.0 | 6.0543e-05 | 2.7902e-04 |         677 |    11182080 |            2 |        7168 |         1.8 |reached target bit errors\n",
            "     11.0 | 3.6532e-05 | 1.3951e-04 |         817 |    22364160 |            2 |       14336 |         3.6 |reached target bit errors\n",
            "     12.0 | 2.6476e-05 | 1.1489e-04 |         719 |    27156480 |            2 |       17408 |         4.3 |reached target bit errors\n",
            "     13.0 | 1.7528e-05 | 6.2004e-05 |         882 |    50319360 |            2 |       32256 |         8.0 |reached target bit errors\n",
            "     14.0 | 9.1981e-05 | 2.6042e-04 |         551 |     5990400 |            1 |        3840 |         1.0 |reached target bit errors\n",
            "Evaluating for FM, 4.74\n",
            "EbNo [dB] |        BER |       BLER |  bit errors |    num bits | block errors |  num blocks | runtime [s] |    status\n",
            "---------------------------------------------------------------------------------------------------------------------------------------\n",
            "      0.0 | 1.6112e-01 | 6.4062e-01 |       64344 |      399360 |          164 |         256 |         6.4 |reached target bit errors\n",
            "      1.0 | 1.2917e-01 | 5.3516e-01 |       51585 |      399360 |          137 |         256 |         0.1 |reached target bit errors\n",
            "      2.0 | 9.9780e-02 | 4.0625e-01 |       39848 |      399360 |          104 |         256 |         0.1 |reached target bit errors\n",
            "      3.0 | 7.3961e-02 | 3.1250e-01 |       29537 |      399360 |           80 |         256 |         0.1 |reached target bit errors\n",
            "      4.0 | 4.3687e-02 | 2.1094e-01 |       17447 |      399360 |           54 |         256 |         0.1 |reached target bit errors\n",
            "      5.0 | 2.5849e-02 | 1.1328e-01 |       10323 |      399360 |           29 |         256 |         0.1 |reached target bit errors\n",
            "      6.0 | 2.7334e-02 | 1.2500e-01 |       10916 |      399360 |           32 |         256 |         0.1 |reached target bit errors\n",
            "      7.0 | 1.9616e-02 | 8.2031e-02 |        7834 |      399360 |           21 |         256 |         0.1 |reached target bit errors\n",
            "      8.0 | 1.5197e-02 | 7.4219e-02 |        6069 |      399360 |           19 |         256 |         0.1 |reached target bit errors\n",
            "      9.0 | 1.3499e-02 | 4.6875e-02 |        5391 |      399360 |           12 |         256 |         0.1 |reached target bit errors\n",
            "     10.0 | 7.8375e-03 | 3.5156e-02 |        3130 |      399360 |            9 |         256 |         0.1 |reached target bit errors\n",
            "     11.0 | 3.5382e-03 | 1.5625e-02 |        1413 |      399360 |            4 |         256 |         0.1 |reached target bit errors\n",
            "     12.0 | 4.2969e-03 | 1.5625e-02 |        1716 |      399360 |            4 |         256 |         0.1 |reached target bit errors\n",
            "     13.0 | 2.0207e-03 | 1.1719e-02 |         807 |      399360 |            3 |         256 |         0.1 |reached target bit errors\n",
            "     14.0 | 2.6417e-03 | 1.1719e-02 |        1055 |      399360 |            3 |         256 |         0.1 |reached target bit errors\n"
          ]
        }
      ],
      "source": [
        "sim_channel_ber = {}\n",
        "for estimator, kfactor in k_factor_est_means.items():\n",
        "  print(f\"Evaluating for {estimator}, {kfactor:.02f}\")\n",
        "  model = CommsSystemRiceChannel(params={\"kfactor\":kfactor})\n",
        "  ber, _ = sionna.utils.sim_ber(model, range(15), batch_size=256,\n",
        "                                          max_mc_iter=1000, num_target_bit_errors=500)\n",
        "  sim_channel_ber[estimator] = ber"
      ]
    },
    {
      "cell_type": "code",
      "execution_count": null,
      "metadata": {
        "id": "_mtUUIgBoF3B",
        "colab": {
          "base_uri": "https://localhost:8080/",
          "height": 358
        },
        "outputId": "606e68eb-394c-49ba-efcc-faa7d3592571"
      },
      "outputs": [
        {
          "output_type": "error",
          "ename": "TypeError",
          "evalue": "ignored",
          "traceback": [
            "\u001b[0;31m---------------------------------------------------------------------------\u001b[0m",
            "\u001b[0;31mTypeError\u001b[0m                                 Traceback (most recent call last)",
            "\u001b[0;32m<ipython-input-41-3610461ad85e>\u001b[0m in \u001b[0;36m<module>\u001b[0;34m\u001b[0m\n\u001b[0;32m----> 1\u001b[0;31m plt.errorbar([1,2,3], [np.mean(list(zip(*bers))[0]) for key, bers in sim_channel_ber.items()],\n\u001b[0m\u001b[1;32m      2\u001b[0m              yerr=[np.std(list(zip(*bers))[0]) for key, bers in sim_channel_ber.items()], fmt='o')\n\u001b[1;32m      3\u001b[0m \u001b[0mplt\u001b[0m\u001b[0;34m.\u001b[0m\u001b[0myscale\u001b[0m\u001b[0;34m(\u001b[0m\u001b[0;34m'log'\u001b[0m\u001b[0;34m)\u001b[0m\u001b[0;34m\u001b[0m\u001b[0;34m\u001b[0m\u001b[0m\n\u001b[1;32m      4\u001b[0m \u001b[0m_\u001b[0m\u001b[0;34m=\u001b[0m\u001b[0mplt\u001b[0m\u001b[0;34m.\u001b[0m\u001b[0mxticks\u001b[0m\u001b[0;34m(\u001b[0m\u001b[0;34m[\u001b[0m\u001b[0;36m1\u001b[0m\u001b[0;34m,\u001b[0m\u001b[0;36m2\u001b[0m\u001b[0;34m,\u001b[0m\u001b[0;36m3\u001b[0m\u001b[0;34m]\u001b[0m\u001b[0;34m,\u001b[0m \u001b[0msim_channel_ber\u001b[0m\u001b[0;34m.\u001b[0m\u001b[0mkeys\u001b[0m\u001b[0;34m(\u001b[0m\u001b[0;34m)\u001b[0m\u001b[0;34m)\u001b[0m\u001b[0;34m\u001b[0m\u001b[0;34m\u001b[0m\u001b[0m\n\u001b[1;32m      5\u001b[0m \u001b[0mplt\u001b[0m\u001b[0;34m.\u001b[0m\u001b[0mgrid\u001b[0m\u001b[0;34m(\u001b[0m\u001b[0maxis\u001b[0m\u001b[0;34m=\u001b[0m\u001b[0;34m'y'\u001b[0m\u001b[0;34m,\u001b[0m \u001b[0mwhich\u001b[0m\u001b[0;34m=\u001b[0m\u001b[0;34m'major'\u001b[0m\u001b[0;34m)\u001b[0m\u001b[0;34m\u001b[0m\u001b[0;34m\u001b[0m\u001b[0m\n",
            "\u001b[0;32m<ipython-input-41-3610461ad85e>\u001b[0m in \u001b[0;36m<listcomp>\u001b[0;34m(.0)\u001b[0m\n\u001b[0;32m----> 1\u001b[0;31m plt.errorbar([1,2,3], [np.mean(list(zip(*bers))[0]) for key, bers in sim_channel_ber.items()],\n\u001b[0m\u001b[1;32m      2\u001b[0m              yerr=[np.std(list(zip(*bers))[0]) for key, bers in sim_channel_ber.items()], fmt='o')\n\u001b[1;32m      3\u001b[0m \u001b[0mplt\u001b[0m\u001b[0;34m.\u001b[0m\u001b[0myscale\u001b[0m\u001b[0;34m(\u001b[0m\u001b[0;34m'log'\u001b[0m\u001b[0;34m)\u001b[0m\u001b[0;34m\u001b[0m\u001b[0;34m\u001b[0m\u001b[0m\n\u001b[1;32m      4\u001b[0m \u001b[0m_\u001b[0m\u001b[0;34m=\u001b[0m\u001b[0mplt\u001b[0m\u001b[0;34m.\u001b[0m\u001b[0mxticks\u001b[0m\u001b[0;34m(\u001b[0m\u001b[0;34m[\u001b[0m\u001b[0;36m1\u001b[0m\u001b[0;34m,\u001b[0m\u001b[0;36m2\u001b[0m\u001b[0;34m,\u001b[0m\u001b[0;36m3\u001b[0m\u001b[0;34m]\u001b[0m\u001b[0;34m,\u001b[0m \u001b[0msim_channel_ber\u001b[0m\u001b[0;34m.\u001b[0m\u001b[0mkeys\u001b[0m\u001b[0;34m(\u001b[0m\u001b[0;34m)\u001b[0m\u001b[0;34m)\u001b[0m\u001b[0;34m\u001b[0m\u001b[0;34m\u001b[0m\u001b[0m\n\u001b[1;32m      5\u001b[0m \u001b[0mplt\u001b[0m\u001b[0;34m.\u001b[0m\u001b[0mgrid\u001b[0m\u001b[0;34m(\u001b[0m\u001b[0maxis\u001b[0m\u001b[0;34m=\u001b[0m\u001b[0;34m'y'\u001b[0m\u001b[0;34m,\u001b[0m \u001b[0mwhich\u001b[0m\u001b[0;34m=\u001b[0m\u001b[0;34m'major'\u001b[0m\u001b[0;34m)\u001b[0m\u001b[0;34m\u001b[0m\u001b[0;34m\u001b[0m\u001b[0m\n",
            "\u001b[0;31mTypeError\u001b[0m: zip argument #1 must support iteration"
          ]
        }
      ],
      "source": [
        "plt.errorbar([1,2,3], [np.mean(list(zip(*bers))[0]) for key, bers in sim_channel_ber.items()],\n",
        "             yerr=[np.std(list(zip(*bers))[0]) for key, bers in sim_channel_ber.items()], fmt='o')\n",
        "plt.yscale('log')\n",
        "_=plt.xticks([1,2,3], sim_channel_ber.keys())\n",
        "plt.grid(axis='y', which='major')"
      ]
    },
    {
      "cell_type": "markdown",
      "metadata": {
        "id": "auhYUc2m0G-Y"
      },
      "source": [
        "## Validation on matching regions\n",
        "\n",
        "Validate only on CIR samples from 10-lambda windows that match the target k factor.\n",
        "\n",
        "The challenge is selecting regions that reflect the difference in estimation. That is, selecting all CIRs from regions that have k factor $k_{MoM}$ as estimated by MoM will correspond to CIRs that have significantly different $k_{FM}$.\n",
        "\n",
        "We will select a k-factor value that is common to all estimators, and based on the histogram above that seems to be about 8dB. We then select the 8dB regions for all estimators and evaluate therein.\n",
        "\n",
        "Now we don't have a ground truth anymore (since we have distinct regions).\n",
        "We also compare with the Rice channel model with same k factor."
      ]
    },
    {
      "cell_type": "markdown",
      "metadata": {
        "id": "5NyrSBot5Zt8"
      },
      "source": [
        "Find the k factor that is most common among all estimators."
      ]
    },
    {
      "cell_type": "code",
      "execution_count": null,
      "metadata": {
        "id": "mTITWa9v5Eaa"
      },
      "outputs": [],
      "source": [
        "k_factor_range = (\n",
        "    kfactors[['MoM', 'SM', 'FM']].min().min(),\n",
        "    kfactors[['MoM', 'SM', 'FM']].max().max()\n",
        ")"
      ]
    },
    {
      "cell_type": "code",
      "execution_count": null,
      "metadata": {
        "id": "PPOikN8g6RZJ"
      },
      "outputs": [],
      "source": [
        "k_factor_bins = np.arange(*k_factor_range, step=0.5)"
      ]
    },
    {
      "cell_type": "code",
      "execution_count": null,
      "metadata": {
        "id": "HoDhF6dQ6gH0"
      },
      "outputs": [],
      "source": [
        "mom_hist = np.histogram(kfactors['MoM'], bins=k_factor_bins)\n",
        "sm_hist = np.histogram(kfactors['SM'], bins=k_factor_bins)\n",
        "fm_hist = np.histogram(kfactors['FM'], bins=k_factor_bins)"
      ]
    },
    {
      "cell_type": "code",
      "execution_count": null,
      "metadata": {
        "id": "nE2jSIcfFFde"
      },
      "outputs": [],
      "source": [
        "est_hists = [(idx, sum([a,b,c])) if a*b*c != 0 else (idx, 0)\n",
        "            for idx, (a,b,c) in enumerate(zip(mom_hist[0], sm_hist[0], fm_hist[0]))]"
      ]
    },
    {
      "cell_type": "code",
      "execution_count": null,
      "metadata": {
        "id": "Bq4gJ42hG3NM"
      },
      "outputs": [],
      "source": [
        "est_hists.sort(key=lambda x:x[1],reverse=True)"
      ]
    },
    {
      "cell_type": "code",
      "execution_count": null,
      "metadata": {
        "id": "tmlLmTtKHYKQ"
      },
      "outputs": [],
      "source": [
        "common_k_factor = k_factor_bins[est_hists[0][0]]"
      ]
    },
    {
      "cell_type": "code",
      "execution_count": null,
      "metadata": {
        "colab": {
          "base_uri": "https://localhost:8080/"
        },
        "id": "LgAHbhB_HbFE",
        "outputId": "0bef4202-2006-45d6-be7b-2fa28a65a489"
      },
      "outputs": [
        {
          "output_type": "execute_result",
          "data": {
            "text/plain": [
              "9.08578830453847"
            ]
          },
          "metadata": {},
          "execution_count": 20
        }
      ],
      "source": [
        "common_k_factor"
      ]
    },
    {
      "cell_type": "markdown",
      "metadata": {
        "id": "fSW9GcHMjtSb"
      },
      "source": [
        "### MoM"
      ]
    },
    {
      "cell_type": "code",
      "execution_count": null,
      "metadata": {
        "id": "QiD6w_np0blB"
      },
      "outputs": [],
      "source": [
        "mom_cirs = get_CIR_samples_for_regions(cir_iq_data,\n",
        "                  get_kfactor_regions(common_k_factor, kfactors[['MoM', 'idx_start', 'idx_end']]))"
      ]
    },
    {
      "cell_type": "code",
      "execution_count": null,
      "metadata": {
        "colab": {
          "base_uri": "https://localhost:8080/"
        },
        "id": "cvJaqrzg0wPV",
        "outputId": "80053074-c743-4607-999c-e29a3c1a8cfa"
      },
      "outputs": [
        {
          "data": {
            "text/plain": [
              "2121"
            ]
          },
          "execution_count": 124,
          "metadata": {},
          "output_type": "execute_result"
        }
      ],
      "source": [
        "len(mom_cirs)"
      ]
    },
    {
      "cell_type": "markdown",
      "metadata": {
        "id": "NI9n_xbuzzZI"
      },
      "source": [
        "First single SNR with 5 iterations"
      ]
    },
    {
      "cell_type": "code",
      "execution_count": null,
      "metadata": {
        "colab": {
          "base_uri": "https://localhost:8080/"
        },
        "id": "oeue4dYjCq3p",
        "outputId": "cfe20db4-7e57-4110-d133-b8df967c6914"
      },
      "outputs": [
        {
          "name": "stdout",
          "output_type": "stream",
          "text": [
            "EbNo [dB] |        BER |       BLER |  bit errors |    num bits | block errors |  num blocks | runtime [s] |    status\n",
            "---------------------------------------------------------------------------------------------------------------------------------------\n",
            "      0.0 | 3.5307e-01 | 1.0000e+00 |      141004 |      399360 |          256 |         256 |         9.0 |reached target bit errors\n",
            "      1.0 | 3.3031e-01 | 1.0000e+00 |      131912 |      399360 |          256 |         256 |         9.0 |reached target bit errors\n",
            "      2.0 | 3.0346e-01 | 1.0000e+00 |      121188 |      399360 |          256 |         256 |         9.7 |reached target bit errors\n",
            "      3.0 | 2.7856e-01 | 1.0000e+00 |      111247 |      399360 |          256 |         256 |        13.1 |reached target bit errors\n",
            "      4.0 | 2.5110e-01 | 1.0000e+00 |      100280 |      399360 |          256 |         256 |        12.2 |reached target bit errors\n",
            "      5.0 | 2.1753e-01 | 1.0000e+00 |       86872 |      399360 |          256 |         256 |        12.6 |reached target bit errors\n",
            "      6.0 | 1.7552e-01 | 1.0000e+00 |       70094 |      399360 |          256 |         256 |        10.2 |reached target bit errors\n",
            "      7.0 | 4.7691e-02 | 3.5156e-01 |       19046 |      399360 |           90 |         256 |         9.0 |reached target bit errors\n",
            "      8.0 | 1.5512e-02 | 8.5938e-02 |        6195 |      399360 |           22 |         256 |         9.0 |reached target bit errors\n",
            "      9.0 | 4.8327e-03 | 2.7344e-02 |        1930 |      399360 |            7 |         256 |         9.1 |reached target bit errors\n",
            "     10.0 | 6.4954e-03 | 3.9062e-02 |        2594 |      399360 |           10 |         256 |         9.2 |reached target bit errors\n",
            "     11.0 | 2.1134e-03 | 1.1719e-02 |         844 |      399360 |            3 |         256 |         9.1 |reached target bit errors\n",
            "     12.0 | 7.9961e-04 | 5.2083e-03 |         958 |     1198080 |            4 |         768 |        28.3 |reached target bit errors\n",
            "     13.0 | 2.0376e-04 | 1.4648e-03 |         651 |     3194880 |            3 |        2048 |        73.2 |reached target bit errors\n",
            "     14.0 | 7.7872e-06 | 6.4389e-05 |         566 |    72683520 |            3 |       46592 |      1655.6 |reached target bit errors\n"
          ]
        }
      ],
      "source": [
        "model = CommsSystemDataset(params={\"cir_data\":mom_cirs})\n",
        "tx2high_regions_mom_ldpc_ber, _ = sionna.utils.sim_ber(model, range(15), batch_size=256,\n",
        "                                          max_mc_iter=1000, num_target_bit_errors=500)"
      ]
    },
    {
      "cell_type": "code",
      "source": [
        "tx2high_regions_mom_ldpc_ber = [3.5307e-01, 3.3031e-01, 3.0346e-01, 2.7856e-01, 2.5110e-01, 2.1753e-01, 1.7552e-01, 4.7691e-02, 1.5512e-02, 4.8327e-03, 6.4954e-03, 2.1134e-03, 7.9961e-04, 2.0376e-04, 7.7872e-06]"
      ],
      "metadata": {
        "id": "n6ThB2G8Wt6E"
      },
      "execution_count": null,
      "outputs": []
    },
    {
      "cell_type": "code",
      "execution_count": null,
      "metadata": {
        "colab": {
          "base_uri": "https://localhost:8080/"
        },
        "id": "12aCJssP1nJX",
        "outputId": "892c81fd-afec-4042-9873-d186a008416e"
      },
      "outputs": [
        {
          "data": {
            "text/plain": [
              "[15100.875518836703,\n",
              " 15295.679935108814,\n",
              " 15282.05466195673,\n",
              " 15521.676091227851,\n",
              " 15388.292521951009]"
            ]
          },
          "execution_count": 35,
          "metadata": {},
          "output_type": "execute_result"
        }
      ],
      "source": [
        "mom_regions_validation_tput"
      ]
    },
    {
      "cell_type": "markdown",
      "metadata": {
        "id": "RsosKq11IzJ-"
      },
      "source": [
        "### Strongest over Mean"
      ]
    },
    {
      "cell_type": "code",
      "execution_count": null,
      "metadata": {
        "id": "uNzwR17BI2Z8"
      },
      "outputs": [],
      "source": [
        "sm_cirs = get_CIR_samples_for_regions(cir_iq_data,\n",
        "                  get_kfactor_regions(common_k_factor, kfactors[['SM', 'idx_start', 'idx_end']]))"
      ]
    },
    {
      "cell_type": "code",
      "execution_count": null,
      "metadata": {
        "colab": {
          "base_uri": "https://localhost:8080/"
        },
        "id": "NtZwukiAI2Z_",
        "outputId": "84d6eae5-6871-47f7-aede-9a57f5990480"
      },
      "outputs": [
        {
          "data": {
            "text/plain": [
              "5388"
            ]
          },
          "execution_count": 127,
          "metadata": {},
          "output_type": "execute_result"
        }
      ],
      "source": [
        "len(sm_cirs)"
      ]
    },
    {
      "cell_type": "markdown",
      "metadata": {
        "id": "_JJqSPgO0Uvu"
      },
      "source": [
        "SNR range without iterations"
      ]
    },
    {
      "cell_type": "code",
      "execution_count": null,
      "metadata": {
        "colab": {
          "base_uri": "https://localhost:8080/",
          "height": 625
        },
        "id": "mbzJcT0OC_me",
        "outputId": "630d4470-4bb5-4473-9893-dd2c12bc87d8"
      },
      "outputs": [
        {
          "output_type": "stream",
          "name": "stdout",
          "text": [
            "EbNo [dB] |        BER |       BLER |  bit errors |    num bits | block errors |  num blocks | runtime [s] |    status\n",
            "---------------------------------------------------------------------------------------------------------------------------------------\n",
            "      0.0 | 3.5273e-01 | 1.0000e+00 |      140866 |      399360 |          256 |         256 |        13.3 |reached target bit errors\n",
            "      1.0 | 3.2943e-01 | 1.0000e+00 |      131562 |      399360 |          256 |         256 |         5.5 |reached target bit errors\n",
            "      2.0 | 3.0452e-01 | 1.0000e+00 |      121613 |      399360 |          256 |         256 |         5.6 |reached target bit errors\n",
            "      3.0 | 2.8243e-01 | 1.0000e+00 |      112791 |      399360 |          256 |         256 |         5.2 |reached target bit errors\n",
            "      4.0 | 2.5157e-01 | 1.0000e+00 |      100468 |      399360 |          256 |         256 |         5.2 |reached target bit errors\n",
            "      5.0 | 2.1787e-01 | 1.0000e+00 |       87007 |      399360 |          256 |         256 |         5.2 |reached target bit errors\n",
            "      6.0 | 1.7070e-01 | 9.9609e-01 |       68169 |      399360 |          255 |         256 |         5.2 |reached target bit errors\n",
            "      7.0 | 3.9611e-02 | 2.9688e-01 |       15819 |      399360 |           76 |         256 |         5.2 |reached target bit errors\n",
            "      8.0 | 1.5698e-02 | 8.9844e-02 |        6269 |      399360 |           23 |         256 |         5.2 |reached target bit errors\n",
            "      9.0 | 1.3038e-02 | 7.4219e-02 |        5207 |      399360 |           19 |         256 |         5.2 |reached target bit errors\n",
            "     10.0 | 7.3017e-03 | 3.9062e-02 |        2916 |      399360 |           10 |         256 |         5.3 |reached target bit errors\n",
            "     11.0 | 2.3888e-03 | 1.1719e-02 |         954 |      399360 |            3 |         256 |         5.2 |reached target bit errors\n",
            "     12.0 | 4.5656e-04 | 2.6042e-03 |         547 |     1198080 |            2 |         768 |        15.5 |reached target bit errors\n",
            "     13.0 | 1.7904e-04 | 1.1719e-03 |         715 |     3993600 |            3 |        2560 |        51.9 |reached target bit errors\n"
          ]
        },
        {
          "output_type": "error",
          "ename": "KeyboardInterrupt",
          "evalue": "ignored",
          "traceback": [
            "\u001b[0;31m---------------------------------------------------------------------------\u001b[0m",
            "\u001b[0;31mKeyboardInterrupt\u001b[0m                         Traceback (most recent call last)",
            "\u001b[0;32m<ipython-input-51-7eafb3158c35>\u001b[0m in \u001b[0;36m<module>\u001b[0;34m\u001b[0m\n\u001b[1;32m      1\u001b[0m \u001b[0mmodel\u001b[0m \u001b[0;34m=\u001b[0m \u001b[0mCommsSystemDataset\u001b[0m\u001b[0;34m(\u001b[0m\u001b[0mparams\u001b[0m\u001b[0;34m=\u001b[0m\u001b[0;34m{\u001b[0m\u001b[0;34m\"cir_data\"\u001b[0m\u001b[0;34m:\u001b[0m\u001b[0msm_cirs\u001b[0m\u001b[0;34m}\u001b[0m\u001b[0;34m)\u001b[0m\u001b[0;34m\u001b[0m\u001b[0;34m\u001b[0m\u001b[0m\n\u001b[1;32m      2\u001b[0m tx2high_regions_sm_ldpc_ber, _ = sionna.utils.sim_ber(model, range(15), batch_size=256,\n\u001b[0;32m----> 3\u001b[0;31m                                           max_mc_iter=1000, num_target_bit_errors=500)\n\u001b[0m",
            "\u001b[0;32m/usr/local/lib/python3.7/dist-packages/sionna/utils/misc.py\u001b[0m in \u001b[0;36msim_ber\u001b[0;34m(mc_fun, ebno_dbs, batch_size, max_mc_iter, soft_estimates, num_target_bit_errors, num_target_block_errors, early_stop, verbose, forward_keyboard_interrupt, dtype)\u001b[0m\n\u001b[1;32m    694\u001b[0m         \u001b[0;31m# Raise Interrupt again to stop outer loops\u001b[0m\u001b[0;34m\u001b[0m\u001b[0;34m\u001b[0m\u001b[0;34m\u001b[0m\u001b[0m\n\u001b[1;32m    695\u001b[0m         \u001b[0;32mif\u001b[0m \u001b[0mforward_keyboard_interrupt\u001b[0m\u001b[0;34m:\u001b[0m\u001b[0;34m\u001b[0m\u001b[0;34m\u001b[0m\u001b[0m\n\u001b[0;32m--> 696\u001b[0;31m             \u001b[0;32mraise\u001b[0m \u001b[0me\u001b[0m\u001b[0;34m\u001b[0m\u001b[0;34m\u001b[0m\u001b[0m\n\u001b[0m\u001b[1;32m    697\u001b[0m \u001b[0;34m\u001b[0m\u001b[0m\n\u001b[1;32m    698\u001b[0m         print(\"\\nSimulation stopped by the user \" \\\n",
            "\u001b[0;32m/usr/local/lib/python3.7/dist-packages/sionna/utils/misc.py\u001b[0m in \u001b[0;36msim_ber\u001b[0;34m(mc_fun, ebno_dbs, batch_size, max_mc_iter, soft_estimates, num_target_bit_errors, num_target_block_errors, early_stop, verbose, forward_keyboard_interrupt, dtype)\u001b[0m\n\u001b[1;32m    604\u001b[0m                 \u001b[0miter_count\u001b[0m \u001b[0;34m+=\u001b[0m \u001b[0;36m1\u001b[0m\u001b[0;34m\u001b[0m\u001b[0;34m\u001b[0m\u001b[0m\n\u001b[1;32m    605\u001b[0m \u001b[0;34m\u001b[0m\u001b[0m\n\u001b[0;32m--> 606\u001b[0;31m                 \u001b[0moutputs\u001b[0m \u001b[0;34m=\u001b[0m \u001b[0mmc_fun\u001b[0m\u001b[0;34m(\u001b[0m\u001b[0mbatch_size\u001b[0m\u001b[0;34m=\u001b[0m\u001b[0mbatch_size\u001b[0m\u001b[0;34m,\u001b[0m \u001b[0mebno_db\u001b[0m\u001b[0;34m=\u001b[0m\u001b[0mebno_dbs\u001b[0m\u001b[0;34m[\u001b[0m\u001b[0mi\u001b[0m\u001b[0;34m]\u001b[0m\u001b[0;34m)\u001b[0m\u001b[0;34m\u001b[0m\u001b[0;34m\u001b[0m\u001b[0m\n\u001b[0m\u001b[1;32m    607\u001b[0m \u001b[0;34m\u001b[0m\u001b[0m\n\u001b[1;32m    608\u001b[0m                 \u001b[0;31m# assume first and second return value is b and b_hat\u001b[0m\u001b[0;34m\u001b[0m\u001b[0;34m\u001b[0m\u001b[0;34m\u001b[0m\u001b[0m\n",
            "\u001b[0;32m/usr/local/lib/python3.7/dist-packages/keras/utils/traceback_utils.py\u001b[0m in \u001b[0;36merror_handler\u001b[0;34m(*args, **kwargs)\u001b[0m\n\u001b[1;32m     62\u001b[0m     \u001b[0mfiltered_tb\u001b[0m \u001b[0;34m=\u001b[0m \u001b[0;32mNone\u001b[0m\u001b[0;34m\u001b[0m\u001b[0;34m\u001b[0m\u001b[0m\n\u001b[1;32m     63\u001b[0m     \u001b[0;32mtry\u001b[0m\u001b[0;34m:\u001b[0m\u001b[0;34m\u001b[0m\u001b[0;34m\u001b[0m\u001b[0m\n\u001b[0;32m---> 64\u001b[0;31m       \u001b[0;32mreturn\u001b[0m \u001b[0mfn\u001b[0m\u001b[0;34m(\u001b[0m\u001b[0;34m*\u001b[0m\u001b[0margs\u001b[0m\u001b[0;34m,\u001b[0m \u001b[0;34m**\u001b[0m\u001b[0mkwargs\u001b[0m\u001b[0;34m)\u001b[0m\u001b[0;34m\u001b[0m\u001b[0;34m\u001b[0m\u001b[0m\n\u001b[0m\u001b[1;32m     65\u001b[0m     \u001b[0;32mexcept\u001b[0m \u001b[0mException\u001b[0m \u001b[0;32mas\u001b[0m \u001b[0me\u001b[0m\u001b[0;34m:\u001b[0m  \u001b[0;31m# pylint: disable=broad-except\u001b[0m\u001b[0;34m\u001b[0m\u001b[0;34m\u001b[0m\u001b[0m\n\u001b[1;32m     66\u001b[0m       \u001b[0mfiltered_tb\u001b[0m \u001b[0;34m=\u001b[0m \u001b[0m_process_traceback_frames\u001b[0m\u001b[0;34m(\u001b[0m\u001b[0me\u001b[0m\u001b[0;34m.\u001b[0m\u001b[0m__traceback__\u001b[0m\u001b[0;34m)\u001b[0m\u001b[0;34m\u001b[0m\u001b[0;34m\u001b[0m\u001b[0m\n",
            "\u001b[0;32m/usr/local/lib/python3.7/dist-packages/keras/engine/base_layer.py\u001b[0m in \u001b[0;36m__call__\u001b[0;34m(self, *args, **kwargs)\u001b[0m\n\u001b[1;32m   1094\u001b[0m         with autocast_variable.enable_auto_cast_variables(\n\u001b[1;32m   1095\u001b[0m             self._compute_dtype_object):\n\u001b[0;32m-> 1096\u001b[0;31m           \u001b[0moutputs\u001b[0m \u001b[0;34m=\u001b[0m \u001b[0mcall_fn\u001b[0m\u001b[0;34m(\u001b[0m\u001b[0minputs\u001b[0m\u001b[0;34m,\u001b[0m \u001b[0;34m*\u001b[0m\u001b[0margs\u001b[0m\u001b[0;34m,\u001b[0m \u001b[0;34m**\u001b[0m\u001b[0mkwargs\u001b[0m\u001b[0;34m)\u001b[0m\u001b[0;34m\u001b[0m\u001b[0;34m\u001b[0m\u001b[0m\n\u001b[0m\u001b[1;32m   1097\u001b[0m \u001b[0;34m\u001b[0m\u001b[0m\n\u001b[1;32m   1098\u001b[0m         \u001b[0;32mif\u001b[0m \u001b[0mself\u001b[0m\u001b[0;34m.\u001b[0m\u001b[0m_activity_regularizer\u001b[0m\u001b[0;34m:\u001b[0m\u001b[0;34m\u001b[0m\u001b[0;34m\u001b[0m\u001b[0m\n",
            "\u001b[0;32m/usr/local/lib/python3.7/dist-packages/keras/utils/traceback_utils.py\u001b[0m in \u001b[0;36merror_handler\u001b[0;34m(*args, **kwargs)\u001b[0m\n\u001b[1;32m     90\u001b[0m     \u001b[0mbound_signature\u001b[0m \u001b[0;34m=\u001b[0m \u001b[0;32mNone\u001b[0m\u001b[0;34m\u001b[0m\u001b[0;34m\u001b[0m\u001b[0m\n\u001b[1;32m     91\u001b[0m     \u001b[0;32mtry\u001b[0m\u001b[0;34m:\u001b[0m\u001b[0;34m\u001b[0m\u001b[0;34m\u001b[0m\u001b[0m\n\u001b[0;32m---> 92\u001b[0;31m       \u001b[0;32mreturn\u001b[0m \u001b[0mfn\u001b[0m\u001b[0;34m(\u001b[0m\u001b[0;34m*\u001b[0m\u001b[0margs\u001b[0m\u001b[0;34m,\u001b[0m \u001b[0;34m**\u001b[0m\u001b[0mkwargs\u001b[0m\u001b[0;34m)\u001b[0m\u001b[0;34m\u001b[0m\u001b[0;34m\u001b[0m\u001b[0m\n\u001b[0m\u001b[1;32m     93\u001b[0m     \u001b[0;32mexcept\u001b[0m \u001b[0mException\u001b[0m \u001b[0;32mas\u001b[0m \u001b[0me\u001b[0m\u001b[0;34m:\u001b[0m  \u001b[0;31m# pylint: disable=broad-except\u001b[0m\u001b[0;34m\u001b[0m\u001b[0;34m\u001b[0m\u001b[0m\n\u001b[1;32m     94\u001b[0m       \u001b[0;32mif\u001b[0m \u001b[0mhasattr\u001b[0m\u001b[0;34m(\u001b[0m\u001b[0me\u001b[0m\u001b[0;34m,\u001b[0m \u001b[0;34m'_keras_call_info_injected'\u001b[0m\u001b[0;34m)\u001b[0m\u001b[0;34m:\u001b[0m\u001b[0;34m\u001b[0m\u001b[0;34m\u001b[0m\u001b[0m\n",
            "\u001b[0;32m<ipython-input-50-cf78d3ed2fb7>\u001b[0m in \u001b[0;36mcall\u001b[0;34m(self, batch_size, ebno_db)\u001b[0m\n\u001b[1;32m     85\u001b[0m     \u001b[0mllr_int\u001b[0m \u001b[0;34m=\u001b[0m \u001b[0mself\u001b[0m\u001b[0;34m.\u001b[0m\u001b[0mdeinterleaver\u001b[0m\u001b[0;34m(\u001b[0m\u001b[0mllr\u001b[0m\u001b[0;34m)\u001b[0m\u001b[0;34m\u001b[0m\u001b[0;34m\u001b[0m\u001b[0m\n\u001b[1;32m     86\u001b[0m     \u001b[0;31m# Decoding\u001b[0m\u001b[0;34m\u001b[0m\u001b[0;34m\u001b[0m\u001b[0;34m\u001b[0m\u001b[0m\n\u001b[0;32m---> 87\u001b[0;31m     \u001b[0mb_hat\u001b[0m \u001b[0;34m=\u001b[0m \u001b[0mself\u001b[0m\u001b[0;34m.\u001b[0m\u001b[0mdecoder\u001b[0m\u001b[0;34m(\u001b[0m\u001b[0mllr_int\u001b[0m\u001b[0;34m)\u001b[0m\u001b[0;34m\u001b[0m\u001b[0;34m\u001b[0m\u001b[0m\n\u001b[0m\u001b[1;32m     88\u001b[0m     \u001b[0;31m#ber = sionna.utils.metrics.compute_ber(b, b_hat)\u001b[0m\u001b[0;34m\u001b[0m\u001b[0;34m\u001b[0m\u001b[0;34m\u001b[0m\u001b[0m\n\u001b[1;32m     89\u001b[0m     \u001b[0;32mreturn\u001b[0m \u001b[0mb\u001b[0m\u001b[0;34m,\u001b[0m \u001b[0mb_hat\u001b[0m\u001b[0;34m\u001b[0m\u001b[0;34m\u001b[0m\u001b[0m\n",
            "\u001b[0;32m/usr/local/lib/python3.7/dist-packages/keras/utils/traceback_utils.py\u001b[0m in \u001b[0;36merror_handler\u001b[0;34m(*args, **kwargs)\u001b[0m\n\u001b[1;32m     62\u001b[0m     \u001b[0mfiltered_tb\u001b[0m \u001b[0;34m=\u001b[0m \u001b[0;32mNone\u001b[0m\u001b[0;34m\u001b[0m\u001b[0;34m\u001b[0m\u001b[0m\n\u001b[1;32m     63\u001b[0m     \u001b[0;32mtry\u001b[0m\u001b[0;34m:\u001b[0m\u001b[0;34m\u001b[0m\u001b[0;34m\u001b[0m\u001b[0m\n\u001b[0;32m---> 64\u001b[0;31m       \u001b[0;32mreturn\u001b[0m \u001b[0mfn\u001b[0m\u001b[0;34m(\u001b[0m\u001b[0;34m*\u001b[0m\u001b[0margs\u001b[0m\u001b[0;34m,\u001b[0m \u001b[0;34m**\u001b[0m\u001b[0mkwargs\u001b[0m\u001b[0;34m)\u001b[0m\u001b[0;34m\u001b[0m\u001b[0;34m\u001b[0m\u001b[0m\n\u001b[0m\u001b[1;32m     65\u001b[0m     \u001b[0;32mexcept\u001b[0m \u001b[0mException\u001b[0m \u001b[0;32mas\u001b[0m \u001b[0me\u001b[0m\u001b[0;34m:\u001b[0m  \u001b[0;31m# pylint: disable=broad-except\u001b[0m\u001b[0;34m\u001b[0m\u001b[0;34m\u001b[0m\u001b[0m\n\u001b[1;32m     66\u001b[0m       \u001b[0mfiltered_tb\u001b[0m \u001b[0;34m=\u001b[0m \u001b[0m_process_traceback_frames\u001b[0m\u001b[0;34m(\u001b[0m\u001b[0me\u001b[0m\u001b[0;34m.\u001b[0m\u001b[0m__traceback__\u001b[0m\u001b[0;34m)\u001b[0m\u001b[0;34m\u001b[0m\u001b[0;34m\u001b[0m\u001b[0m\n",
            "\u001b[0;32m/usr/local/lib/python3.7/dist-packages/keras/engine/base_layer.py\u001b[0m in \u001b[0;36m__call__\u001b[0;34m(self, *args, **kwargs)\u001b[0m\n\u001b[1;32m   1094\u001b[0m         with autocast_variable.enable_auto_cast_variables(\n\u001b[1;32m   1095\u001b[0m             self._compute_dtype_object):\n\u001b[0;32m-> 1096\u001b[0;31m           \u001b[0moutputs\u001b[0m \u001b[0;34m=\u001b[0m \u001b[0mcall_fn\u001b[0m\u001b[0;34m(\u001b[0m\u001b[0minputs\u001b[0m\u001b[0;34m,\u001b[0m \u001b[0;34m*\u001b[0m\u001b[0margs\u001b[0m\u001b[0;34m,\u001b[0m \u001b[0;34m**\u001b[0m\u001b[0mkwargs\u001b[0m\u001b[0;34m)\u001b[0m\u001b[0;34m\u001b[0m\u001b[0;34m\u001b[0m\u001b[0m\n\u001b[0m\u001b[1;32m   1097\u001b[0m \u001b[0;34m\u001b[0m\u001b[0m\n\u001b[1;32m   1098\u001b[0m         \u001b[0;32mif\u001b[0m \u001b[0mself\u001b[0m\u001b[0;34m.\u001b[0m\u001b[0m_activity_regularizer\u001b[0m\u001b[0;34m:\u001b[0m\u001b[0;34m\u001b[0m\u001b[0;34m\u001b[0m\u001b[0m\n",
            "\u001b[0;32m/usr/local/lib/python3.7/dist-packages/keras/utils/traceback_utils.py\u001b[0m in \u001b[0;36merror_handler\u001b[0;34m(*args, **kwargs)\u001b[0m\n\u001b[1;32m     90\u001b[0m     \u001b[0mbound_signature\u001b[0m \u001b[0;34m=\u001b[0m \u001b[0;32mNone\u001b[0m\u001b[0;34m\u001b[0m\u001b[0;34m\u001b[0m\u001b[0m\n\u001b[1;32m     91\u001b[0m     \u001b[0;32mtry\u001b[0m\u001b[0;34m:\u001b[0m\u001b[0;34m\u001b[0m\u001b[0;34m\u001b[0m\u001b[0m\n\u001b[0;32m---> 92\u001b[0;31m       \u001b[0;32mreturn\u001b[0m \u001b[0mfn\u001b[0m\u001b[0;34m(\u001b[0m\u001b[0;34m*\u001b[0m\u001b[0margs\u001b[0m\u001b[0;34m,\u001b[0m \u001b[0;34m**\u001b[0m\u001b[0mkwargs\u001b[0m\u001b[0;34m)\u001b[0m\u001b[0;34m\u001b[0m\u001b[0;34m\u001b[0m\u001b[0m\n\u001b[0m\u001b[1;32m     93\u001b[0m     \u001b[0;32mexcept\u001b[0m \u001b[0mException\u001b[0m \u001b[0;32mas\u001b[0m \u001b[0me\u001b[0m\u001b[0;34m:\u001b[0m  \u001b[0;31m# pylint: disable=broad-except\u001b[0m\u001b[0;34m\u001b[0m\u001b[0;34m\u001b[0m\u001b[0m\n\u001b[1;32m     94\u001b[0m       \u001b[0;32mif\u001b[0m \u001b[0mhasattr\u001b[0m\u001b[0;34m(\u001b[0m\u001b[0me\u001b[0m\u001b[0;34m,\u001b[0m \u001b[0;34m'_keras_call_info_injected'\u001b[0m\u001b[0;34m)\u001b[0m\u001b[0;34m:\u001b[0m\u001b[0;34m\u001b[0m\u001b[0;34m\u001b[0m\u001b[0m\n",
            "\u001b[0;32m/usr/local/lib/python3.7/dist-packages/sionna/fec/ldpc/decoding.py\u001b[0m in \u001b[0;36mcall\u001b[0;34m(self, inputs)\u001b[0m\n\u001b[1;32m   1377\u001b[0m         \u001b[0;31m# and execute the decoder\u001b[0m\u001b[0;34m\u001b[0m\u001b[0;34m\u001b[0m\u001b[0;34m\u001b[0m\u001b[0m\n\u001b[1;32m   1378\u001b[0m         \u001b[0;32mif\u001b[0m \u001b[0;32mnot\u001b[0m \u001b[0mself\u001b[0m\u001b[0;34m.\u001b[0m\u001b[0m_stateful\u001b[0m\u001b[0;34m:\u001b[0m\u001b[0;34m\u001b[0m\u001b[0;34m\u001b[0m\u001b[0m\n\u001b[0;32m-> 1379\u001b[0;31m             \u001b[0mx_hat\u001b[0m \u001b[0;34m=\u001b[0m \u001b[0msuper\u001b[0m\u001b[0;34m(\u001b[0m\u001b[0;34m)\u001b[0m\u001b[0;34m.\u001b[0m\u001b[0mcall\u001b[0m\u001b[0;34m(\u001b[0m\u001b[0mllr_5g\u001b[0m\u001b[0;34m)\u001b[0m\u001b[0;34m\u001b[0m\u001b[0;34m\u001b[0m\u001b[0m\n\u001b[0m\u001b[1;32m   1380\u001b[0m         \u001b[0;32melse\u001b[0m\u001b[0;34m:\u001b[0m\u001b[0;34m\u001b[0m\u001b[0;34m\u001b[0m\u001b[0m\n\u001b[1;32m   1381\u001b[0m             \u001b[0mx_hat\u001b[0m\u001b[0;34m,\u001b[0m\u001b[0mmsg_vn\u001b[0m \u001b[0;34m=\u001b[0m \u001b[0msuper\u001b[0m\u001b[0;34m(\u001b[0m\u001b[0;34m)\u001b[0m\u001b[0;34m.\u001b[0m\u001b[0mcall\u001b[0m\u001b[0;34m(\u001b[0m\u001b[0;34m[\u001b[0m\u001b[0mllr_5g\u001b[0m\u001b[0;34m,\u001b[0m \u001b[0mmsg_vn\u001b[0m\u001b[0;34m]\u001b[0m\u001b[0;34m)\u001b[0m\u001b[0;34m\u001b[0m\u001b[0;34m\u001b[0m\u001b[0m\n",
            "\u001b[0;32m/usr/local/lib/python3.7/dist-packages/sionna/fec/ldpc/decoding.py\u001b[0m in \u001b[0;36mcall\u001b[0;34m(self, inputs)\u001b[0m\n\u001b[1;32m    994\u001b[0m                                      \u001b[0;34m(\u001b[0m\u001b[0mllr_ch\u001b[0m\u001b[0;34m,\u001b[0m \u001b[0mmsg_vn\u001b[0m\u001b[0;34m,\u001b[0m \u001b[0mit\u001b[0m\u001b[0;34m)\u001b[0m\u001b[0;34m,\u001b[0m\u001b[0;34m\u001b[0m\u001b[0;34m\u001b[0m\u001b[0m\n\u001b[1;32m    995\u001b[0m                                      \u001b[0mparallel_iterations\u001b[0m\u001b[0;34m=\u001b[0m\u001b[0;36m1\u001b[0m\u001b[0;34m,\u001b[0m\u001b[0;34m\u001b[0m\u001b[0;34m\u001b[0m\u001b[0m\n\u001b[0;32m--> 996\u001b[0;31m                                      maximum_iterations=self._num_iter)\n\u001b[0m\u001b[1;32m    997\u001b[0m \u001b[0;34m\u001b[0m\u001b[0m\n\u001b[1;32m    998\u001b[0m \u001b[0;34m\u001b[0m\u001b[0m\n",
            "\u001b[0;32m/usr/local/lib/python3.7/dist-packages/tensorflow/python/util/deprecation.py\u001b[0m in \u001b[0;36mnew_func\u001b[0;34m(*args, **kwargs)\u001b[0m\n\u001b[1;32m    614\u001b[0m                   \u001b[0mfunc\u001b[0m\u001b[0;34m.\u001b[0m\u001b[0m__module__\u001b[0m\u001b[0;34m,\u001b[0m \u001b[0marg_name\u001b[0m\u001b[0;34m,\u001b[0m \u001b[0marg_value\u001b[0m\u001b[0;34m,\u001b[0m \u001b[0;34m'in a future version'\u001b[0m\u001b[0;34m\u001b[0m\u001b[0;34m\u001b[0m\u001b[0m\n\u001b[1;32m    615\u001b[0m                   if date is None else ('after %s' % date), instructions)\n\u001b[0;32m--> 616\u001b[0;31m       \u001b[0;32mreturn\u001b[0m \u001b[0mfunc\u001b[0m\u001b[0;34m(\u001b[0m\u001b[0;34m*\u001b[0m\u001b[0margs\u001b[0m\u001b[0;34m,\u001b[0m \u001b[0;34m**\u001b[0m\u001b[0mkwargs\u001b[0m\u001b[0;34m)\u001b[0m\u001b[0;34m\u001b[0m\u001b[0;34m\u001b[0m\u001b[0m\n\u001b[0m\u001b[1;32m    617\u001b[0m \u001b[0;34m\u001b[0m\u001b[0m\n\u001b[1;32m    618\u001b[0m     doc = _add_deprecated_arg_value_notice_to_docstring(\n",
            "\u001b[0;32m/usr/local/lib/python3.7/dist-packages/tensorflow/python/ops/control_flow_ops.py\u001b[0m in \u001b[0;36mwhile_loop_v2\u001b[0;34m(cond, body, loop_vars, shape_invariants, parallel_iterations, back_prop, swap_memory, maximum_iterations, name)\u001b[0m\n\u001b[1;32m   2556\u001b[0m       \u001b[0mname\u001b[0m\u001b[0;34m=\u001b[0m\u001b[0mname\u001b[0m\u001b[0;34m,\u001b[0m\u001b[0;34m\u001b[0m\u001b[0;34m\u001b[0m\u001b[0m\n\u001b[1;32m   2557\u001b[0m       \u001b[0mmaximum_iterations\u001b[0m\u001b[0;34m=\u001b[0m\u001b[0mmaximum_iterations\u001b[0m\u001b[0;34m,\u001b[0m\u001b[0;34m\u001b[0m\u001b[0;34m\u001b[0m\u001b[0m\n\u001b[0;32m-> 2558\u001b[0;31m       return_same_structure=True)\n\u001b[0m\u001b[1;32m   2559\u001b[0m \u001b[0;34m\u001b[0m\u001b[0m\n\u001b[1;32m   2560\u001b[0m \u001b[0;34m\u001b[0m\u001b[0m\n",
            "\u001b[0;32m/usr/local/lib/python3.7/dist-packages/tensorflow/python/ops/control_flow_ops.py\u001b[0m in \u001b[0;36mwhile_loop\u001b[0;34m(cond, body, loop_vars, shape_invariants, parallel_iterations, back_prop, swap_memory, name, maximum_iterations, return_same_structure)\u001b[0m\n\u001b[1;32m   2793\u001b[0m                                               list(loop_vars))\n\u001b[1;32m   2794\u001b[0m       \u001b[0;32mwhile\u001b[0m \u001b[0mcond\u001b[0m\u001b[0;34m(\u001b[0m\u001b[0;34m*\u001b[0m\u001b[0mloop_vars\u001b[0m\u001b[0;34m)\u001b[0m\u001b[0;34m:\u001b[0m\u001b[0;34m\u001b[0m\u001b[0;34m\u001b[0m\u001b[0m\n\u001b[0;32m-> 2795\u001b[0;31m         \u001b[0mloop_vars\u001b[0m \u001b[0;34m=\u001b[0m \u001b[0mbody\u001b[0m\u001b[0;34m(\u001b[0m\u001b[0;34m*\u001b[0m\u001b[0mloop_vars\u001b[0m\u001b[0;34m)\u001b[0m\u001b[0;34m\u001b[0m\u001b[0;34m\u001b[0m\u001b[0m\n\u001b[0m\u001b[1;32m   2796\u001b[0m         \u001b[0;32mif\u001b[0m \u001b[0mtry_to_pack\u001b[0m \u001b[0;32mand\u001b[0m \u001b[0;32mnot\u001b[0m \u001b[0misinstance\u001b[0m\u001b[0;34m(\u001b[0m\u001b[0mloop_vars\u001b[0m\u001b[0;34m,\u001b[0m \u001b[0;34m(\u001b[0m\u001b[0mlist\u001b[0m\u001b[0;34m,\u001b[0m \u001b[0m_basetuple\u001b[0m\u001b[0;34m)\u001b[0m\u001b[0;34m)\u001b[0m\u001b[0;34m:\u001b[0m\u001b[0;34m\u001b[0m\u001b[0;34m\u001b[0m\u001b[0m\n\u001b[1;32m   2797\u001b[0m           \u001b[0mpacked\u001b[0m \u001b[0;34m=\u001b[0m \u001b[0;32mTrue\u001b[0m\u001b[0;34m\u001b[0m\u001b[0;34m\u001b[0m\u001b[0m\n",
            "\u001b[0;32m/usr/local/lib/python3.7/dist-packages/tensorflow/python/ops/control_flow_ops.py\u001b[0m in \u001b[0;36m<lambda>\u001b[0;34m(i, lv)\u001b[0m\n\u001b[1;32m   2784\u001b[0m         cond = lambda i, lv: (  # pylint: disable=g-long-lambda\n\u001b[1;32m   2785\u001b[0m             math_ops.logical_and(i < maximum_iterations, orig_cond(*lv)))\n\u001b[0;32m-> 2786\u001b[0;31m         \u001b[0mbody\u001b[0m \u001b[0;34m=\u001b[0m \u001b[0;32mlambda\u001b[0m \u001b[0mi\u001b[0m\u001b[0;34m,\u001b[0m \u001b[0mlv\u001b[0m\u001b[0;34m:\u001b[0m \u001b[0;34m(\u001b[0m\u001b[0mi\u001b[0m \u001b[0;34m+\u001b[0m \u001b[0;36m1\u001b[0m\u001b[0;34m,\u001b[0m \u001b[0morig_body\u001b[0m\u001b[0;34m(\u001b[0m\u001b[0;34m*\u001b[0m\u001b[0mlv\u001b[0m\u001b[0;34m)\u001b[0m\u001b[0;34m)\u001b[0m\u001b[0;34m\u001b[0m\u001b[0;34m\u001b[0m\u001b[0m\n\u001b[0m\u001b[1;32m   2787\u001b[0m       \u001b[0mtry_to_pack\u001b[0m \u001b[0;34m=\u001b[0m \u001b[0;32mFalse\u001b[0m\u001b[0;34m\u001b[0m\u001b[0;34m\u001b[0m\u001b[0m\n\u001b[1;32m   2788\u001b[0m \u001b[0;34m\u001b[0m\u001b[0m\n",
            "\u001b[0;32m/usr/local/lib/python3.7/dist-packages/sionna/fec/ldpc/decoding.py\u001b[0m in \u001b[0;36mdec_iter\u001b[0;34m(llr_ch, msg_vn, it)\u001b[0m\n\u001b[1;32m    968\u001b[0m \u001b[0;34m\u001b[0m\u001b[0m\n\u001b[1;32m    969\u001b[0m             \u001b[0;31m# check node update using the pre-defined function\u001b[0m\u001b[0;34m\u001b[0m\u001b[0;34m\u001b[0m\u001b[0;34m\u001b[0m\u001b[0m\n\u001b[0;32m--> 970\u001b[0;31m             \u001b[0mmsg_cn\u001b[0m \u001b[0;34m=\u001b[0m \u001b[0mself\u001b[0m\u001b[0;34m.\u001b[0m\u001b[0m_cn_update\u001b[0m\u001b[0;34m(\u001b[0m\u001b[0mmsg_cn\u001b[0m\u001b[0;34m)\u001b[0m\u001b[0;34m\u001b[0m\u001b[0;34m\u001b[0m\u001b[0m\n\u001b[0m\u001b[1;32m    971\u001b[0m \u001b[0;34m\u001b[0m\u001b[0m\n\u001b[1;32m    972\u001b[0m             \u001b[0;31m# track exit decoding trajectory; requires all-zero cw?\u001b[0m\u001b[0;34m\u001b[0m\u001b[0;34m\u001b[0m\u001b[0;34m\u001b[0m\u001b[0m\n",
            "\u001b[0;32m/usr/local/lib/python3.7/dist-packages/sionna/fec/ldpc/decoding.py\u001b[0m in \u001b[0;36m_cn_update_phi\u001b[0;34m(self, msg)\u001b[0m\n\u001b[1;32m    649\u001b[0m         sign_val = tf.where(tf.equal(sign_val, 0),\n\u001b[1;32m    650\u001b[0m                             \u001b[0mtf\u001b[0m\u001b[0;34m.\u001b[0m\u001b[0mones_like\u001b[0m\u001b[0;34m(\u001b[0m\u001b[0msign_val\u001b[0m\u001b[0;34m)\u001b[0m\u001b[0;34m,\u001b[0m\u001b[0;34m\u001b[0m\u001b[0;34m\u001b[0m\u001b[0m\n\u001b[0;32m--> 651\u001b[0;31m                             sign_val)\n\u001b[0m\u001b[1;32m    652\u001b[0m \u001b[0;34m\u001b[0m\u001b[0m\n\u001b[1;32m    653\u001b[0m         \u001b[0msign_node\u001b[0m \u001b[0;34m=\u001b[0m \u001b[0mtf\u001b[0m\u001b[0;34m.\u001b[0m\u001b[0mreduce_prod\u001b[0m\u001b[0;34m(\u001b[0m\u001b[0msign_val\u001b[0m\u001b[0;34m,\u001b[0m \u001b[0maxis\u001b[0m\u001b[0;34m=\u001b[0m\u001b[0;36m1\u001b[0m\u001b[0;34m)\u001b[0m\u001b[0;34m\u001b[0m\u001b[0;34m\u001b[0m\u001b[0m\n",
            "\u001b[0;32m/usr/local/lib/python3.7/dist-packages/tensorflow/python/util/traceback_utils.py\u001b[0m in \u001b[0;36merror_handler\u001b[0;34m(*args, **kwargs)\u001b[0m\n\u001b[1;32m    148\u001b[0m     \u001b[0mfiltered_tb\u001b[0m \u001b[0;34m=\u001b[0m \u001b[0;32mNone\u001b[0m\u001b[0;34m\u001b[0m\u001b[0;34m\u001b[0m\u001b[0m\n\u001b[1;32m    149\u001b[0m     \u001b[0;32mtry\u001b[0m\u001b[0;34m:\u001b[0m\u001b[0;34m\u001b[0m\u001b[0;34m\u001b[0m\u001b[0m\n\u001b[0;32m--> 150\u001b[0;31m       \u001b[0;32mreturn\u001b[0m \u001b[0mfn\u001b[0m\u001b[0;34m(\u001b[0m\u001b[0;34m*\u001b[0m\u001b[0margs\u001b[0m\u001b[0;34m,\u001b[0m \u001b[0;34m**\u001b[0m\u001b[0mkwargs\u001b[0m\u001b[0;34m)\u001b[0m\u001b[0;34m\u001b[0m\u001b[0;34m\u001b[0m\u001b[0m\n\u001b[0m\u001b[1;32m    151\u001b[0m     \u001b[0;32mexcept\u001b[0m \u001b[0mException\u001b[0m \u001b[0;32mas\u001b[0m \u001b[0me\u001b[0m\u001b[0;34m:\u001b[0m\u001b[0;34m\u001b[0m\u001b[0;34m\u001b[0m\u001b[0m\n\u001b[1;32m    152\u001b[0m       \u001b[0mfiltered_tb\u001b[0m \u001b[0;34m=\u001b[0m \u001b[0m_process_traceback_frames\u001b[0m\u001b[0;34m(\u001b[0m\u001b[0me\u001b[0m\u001b[0;34m.\u001b[0m\u001b[0m__traceback__\u001b[0m\u001b[0;34m)\u001b[0m\u001b[0;34m\u001b[0m\u001b[0;34m\u001b[0m\u001b[0m\n",
            "\u001b[0;32m/usr/local/lib/python3.7/dist-packages/tensorflow/python/util/dispatch.py\u001b[0m in \u001b[0;36mop_dispatch_handler\u001b[0;34m(*args, **kwargs)\u001b[0m\n\u001b[1;32m   1074\u001b[0m         \u001b[0;32mif\u001b[0m \u001b[0miterable_params\u001b[0m \u001b[0;32mis\u001b[0m \u001b[0;32mnot\u001b[0m \u001b[0;32mNone\u001b[0m\u001b[0;34m:\u001b[0m\u001b[0;34m\u001b[0m\u001b[0;34m\u001b[0m\u001b[0m\n\u001b[1;32m   1075\u001b[0m           \u001b[0margs\u001b[0m\u001b[0;34m,\u001b[0m \u001b[0mkwargs\u001b[0m \u001b[0;34m=\u001b[0m \u001b[0mreplace_iterable_params\u001b[0m\u001b[0;34m(\u001b[0m\u001b[0margs\u001b[0m\u001b[0;34m,\u001b[0m \u001b[0mkwargs\u001b[0m\u001b[0;34m,\u001b[0m \u001b[0miterable_params\u001b[0m\u001b[0;34m)\u001b[0m\u001b[0;34m\u001b[0m\u001b[0;34m\u001b[0m\u001b[0m\n\u001b[0;32m-> 1076\u001b[0;31m         \u001b[0mresult\u001b[0m \u001b[0;34m=\u001b[0m \u001b[0mapi_dispatcher\u001b[0m\u001b[0;34m.\u001b[0m\u001b[0mDispatch\u001b[0m\u001b[0;34m(\u001b[0m\u001b[0margs\u001b[0m\u001b[0;34m,\u001b[0m \u001b[0mkwargs\u001b[0m\u001b[0;34m)\u001b[0m\u001b[0;34m\u001b[0m\u001b[0;34m\u001b[0m\u001b[0m\n\u001b[0m\u001b[1;32m   1077\u001b[0m         \u001b[0;32mif\u001b[0m \u001b[0mresult\u001b[0m \u001b[0;32mis\u001b[0m \u001b[0;32mnot\u001b[0m \u001b[0mNotImplemented\u001b[0m\u001b[0;34m:\u001b[0m\u001b[0;34m\u001b[0m\u001b[0;34m\u001b[0m\u001b[0m\n\u001b[1;32m   1078\u001b[0m           \u001b[0;32mreturn\u001b[0m \u001b[0mresult\u001b[0m\u001b[0;34m\u001b[0m\u001b[0;34m\u001b[0m\u001b[0m\n",
            "\u001b[0;32m/usr/local/lib/python3.7/dist-packages/tensorflow/python/ops/ragged/ragged_where_op.py\u001b[0m in \u001b[0;36mwhere_v2\u001b[0;34m(condition, x, y, name)\u001b[0m\n\u001b[1;32m     90\u001b[0m       \u001b[0my\u001b[0m \u001b[0;34m=\u001b[0m \u001b[0mragged_tensor\u001b[0m\u001b[0;34m.\u001b[0m\u001b[0mconvert_to_tensor_or_ragged_tensor\u001b[0m\u001b[0;34m(\u001b[0m\u001b[0my\u001b[0m\u001b[0;34m,\u001b[0m \u001b[0mname\u001b[0m\u001b[0;34m=\u001b[0m\u001b[0;34m'y'\u001b[0m\u001b[0;34m)\u001b[0m\u001b[0;34m\u001b[0m\u001b[0;34m\u001b[0m\u001b[0m\n\u001b[1;32m     91\u001b[0m       \u001b[0mcondition\u001b[0m\u001b[0;34m,\u001b[0m \u001b[0mx\u001b[0m\u001b[0;34m,\u001b[0m \u001b[0my\u001b[0m \u001b[0;34m=\u001b[0m \u001b[0mragged_tensor\u001b[0m\u001b[0;34m.\u001b[0m\u001b[0mmatch_row_splits_dtypes\u001b[0m\u001b[0;34m(\u001b[0m\u001b[0mcondition\u001b[0m\u001b[0;34m,\u001b[0m \u001b[0mx\u001b[0m\u001b[0;34m,\u001b[0m \u001b[0my\u001b[0m\u001b[0;34m)\u001b[0m\u001b[0;34m\u001b[0m\u001b[0;34m\u001b[0m\u001b[0m\n\u001b[0;32m---> 92\u001b[0;31m       \u001b[0;32mreturn\u001b[0m \u001b[0m_elementwise_where_v2\u001b[0m\u001b[0;34m(\u001b[0m\u001b[0mcondition\u001b[0m\u001b[0;34m,\u001b[0m \u001b[0mx\u001b[0m\u001b[0;34m,\u001b[0m \u001b[0my\u001b[0m\u001b[0;34m)\u001b[0m\u001b[0;34m\u001b[0m\u001b[0;34m\u001b[0m\u001b[0m\n\u001b[0m\u001b[1;32m     93\u001b[0m \u001b[0;34m\u001b[0m\u001b[0m\n\u001b[1;32m     94\u001b[0m \u001b[0;34m\u001b[0m\u001b[0m\n",
            "\u001b[0;32m/usr/local/lib/python3.7/dist-packages/tensorflow/python/ops/ragged/ragged_where_op.py\u001b[0m in \u001b[0;36m_elementwise_where_v2\u001b[0;34m(condition, x, y)\u001b[0m\n\u001b[1;32m    215\u001b[0m     \u001b[0mshape_y\u001b[0m \u001b[0;34m=\u001b[0m \u001b[0mragged_tensor_shape\u001b[0m\u001b[0;34m.\u001b[0m\u001b[0mRaggedTensorDynamicShape\u001b[0m\u001b[0;34m.\u001b[0m\u001b[0mfrom_tensor\u001b[0m\u001b[0;34m(\u001b[0m\u001b[0my\u001b[0m\u001b[0;34m)\u001b[0m\u001b[0;34m\u001b[0m\u001b[0;34m\u001b[0m\u001b[0m\n\u001b[1;32m    216\u001b[0m     shape = ragged_tensor_shape.broadcast_dynamic_shape(\n\u001b[0;32m--> 217\u001b[0;31m         shape_c, ragged_tensor_shape.broadcast_dynamic_shape(shape_x, shape_y))\n\u001b[0m\u001b[1;32m    218\u001b[0m     \u001b[0mcondition\u001b[0m \u001b[0;34m=\u001b[0m \u001b[0mragged_tensor_shape\u001b[0m\u001b[0;34m.\u001b[0m\u001b[0mbroadcast_to\u001b[0m\u001b[0;34m(\u001b[0m\u001b[0mcondition\u001b[0m\u001b[0;34m,\u001b[0m \u001b[0mshape\u001b[0m\u001b[0;34m)\u001b[0m\u001b[0;34m\u001b[0m\u001b[0;34m\u001b[0m\u001b[0m\n\u001b[1;32m    219\u001b[0m     \u001b[0mx\u001b[0m \u001b[0;34m=\u001b[0m \u001b[0mragged_tensor_shape\u001b[0m\u001b[0;34m.\u001b[0m\u001b[0mbroadcast_to\u001b[0m\u001b[0;34m(\u001b[0m\u001b[0mx\u001b[0m\u001b[0;34m,\u001b[0m \u001b[0mshape\u001b[0m\u001b[0;34m)\u001b[0m\u001b[0;34m\u001b[0m\u001b[0;34m\u001b[0m\u001b[0m\n",
            "\u001b[0;32m/usr/local/lib/python3.7/dist-packages/tensorflow/python/ops/ragged/ragged_tensor_shape.py\u001b[0m in \u001b[0;36mbroadcast_dynamic_shape\u001b[0;34m(shape_x, shape_y)\u001b[0m\n\u001b[1;32m    467\u001b[0m   \u001b[0;31m# Broadcast dimensions one at a time, starting from the outermost dimension.\u001b[0m\u001b[0;34m\u001b[0m\u001b[0;34m\u001b[0m\u001b[0;34m\u001b[0m\u001b[0m\n\u001b[1;32m    468\u001b[0m   \u001b[0;32mfor\u001b[0m \u001b[0maxis\u001b[0m \u001b[0;32min\u001b[0m \u001b[0mrange\u001b[0m\u001b[0;34m(\u001b[0m\u001b[0mbroadcast_rank\u001b[0m\u001b[0;34m)\u001b[0m\u001b[0;34m:\u001b[0m\u001b[0;34m\u001b[0m\u001b[0;34m\u001b[0m\u001b[0m\n\u001b[0;32m--> 469\u001b[0;31m     \u001b[0mshape_x\u001b[0m \u001b[0;34m=\u001b[0m \u001b[0mshape_x\u001b[0m\u001b[0;34m.\u001b[0m\u001b[0mbroadcast_dimension\u001b[0m\u001b[0;34m(\u001b[0m\u001b[0maxis\u001b[0m\u001b[0;34m,\u001b[0m \u001b[0mshape_y\u001b[0m\u001b[0;34m.\u001b[0m\u001b[0mdimension_size\u001b[0m\u001b[0;34m(\u001b[0m\u001b[0maxis\u001b[0m\u001b[0;34m)\u001b[0m\u001b[0;34m)\u001b[0m\u001b[0;34m\u001b[0m\u001b[0;34m\u001b[0m\u001b[0m\n\u001b[0m\u001b[1;32m    470\u001b[0m     \u001b[0mshape_y\u001b[0m \u001b[0;34m=\u001b[0m \u001b[0mshape_y\u001b[0m\u001b[0;34m.\u001b[0m\u001b[0mbroadcast_dimension\u001b[0m\u001b[0;34m(\u001b[0m\u001b[0maxis\u001b[0m\u001b[0;34m,\u001b[0m \u001b[0mshape_x\u001b[0m\u001b[0;34m.\u001b[0m\u001b[0mdimension_size\u001b[0m\u001b[0;34m(\u001b[0m\u001b[0maxis\u001b[0m\u001b[0;34m)\u001b[0m\u001b[0;34m)\u001b[0m\u001b[0;34m\u001b[0m\u001b[0;34m\u001b[0m\u001b[0m\n\u001b[1;32m    471\u001b[0m \u001b[0;34m\u001b[0m\u001b[0m\n",
            "\u001b[0;32m/usr/local/lib/python3.7/dist-packages/tensorflow/python/ops/ragged/ragged_tensor_shape.py\u001b[0m in \u001b[0;36mbroadcast_dimension\u001b[0;34m(self, axis, lengths)\u001b[0m\n\u001b[1;32m    315\u001b[0m     \"\"\"\n\u001b[1;32m    316\u001b[0m     lengths = ragged_util.convert_to_int_tensor(\n\u001b[0;32m--> 317\u001b[0;31m         lengths, name='lengths', dtype=self.dim_size_dtype)\n\u001b[0m\u001b[1;32m    318\u001b[0m     \u001b[0;31m# Check whether lengths is a scalar (for uniform dimensions) or\u001b[0m\u001b[0;34m\u001b[0m\u001b[0;34m\u001b[0m\u001b[0;34m\u001b[0m\u001b[0m\n\u001b[1;32m    319\u001b[0m     \u001b[0;31m# vector (for ragged dimensions).\u001b[0m\u001b[0;34m\u001b[0m\u001b[0;34m\u001b[0m\u001b[0;34m\u001b[0m\u001b[0m\n",
            "\u001b[0;32m/usr/local/lib/python3.7/dist-packages/tensorflow/python/ops/array_ops.py\u001b[0m in \u001b[0;36mconvert_to_int_tensor\u001b[0;34m(tensor, name, dtype)\u001b[0m\n\u001b[1;32m   6619\u001b[0m   \u001b[0mtensor\u001b[0m \u001b[0;34m=\u001b[0m \u001b[0mops\u001b[0m\u001b[0;34m.\u001b[0m\u001b[0mconvert_to_tensor\u001b[0m\u001b[0;34m(\u001b[0m\u001b[0mtensor\u001b[0m\u001b[0;34m,\u001b[0m \u001b[0mname\u001b[0m\u001b[0;34m=\u001b[0m\u001b[0mname\u001b[0m\u001b[0;34m,\u001b[0m \u001b[0mpreferred_dtype\u001b[0m\u001b[0;34m=\u001b[0m\u001b[0mdtype\u001b[0m\u001b[0;34m)\u001b[0m\u001b[0;34m\u001b[0m\u001b[0;34m\u001b[0m\u001b[0m\n\u001b[1;32m   6620\u001b[0m   \u001b[0;32mif\u001b[0m \u001b[0mtensor\u001b[0m\u001b[0;34m.\u001b[0m\u001b[0mdtype\u001b[0m\u001b[0;34m.\u001b[0m\u001b[0mis_integer\u001b[0m\u001b[0;34m:\u001b[0m\u001b[0;34m\u001b[0m\u001b[0;34m\u001b[0m\u001b[0m\n\u001b[0;32m-> 6621\u001b[0;31m     \u001b[0mtensor\u001b[0m \u001b[0;34m=\u001b[0m \u001b[0mgen_math_ops\u001b[0m\u001b[0;34m.\u001b[0m\u001b[0mcast\u001b[0m\u001b[0;34m(\u001b[0m\u001b[0mtensor\u001b[0m\u001b[0;34m,\u001b[0m \u001b[0mdtype\u001b[0m\u001b[0;34m)\u001b[0m\u001b[0;34m\u001b[0m\u001b[0;34m\u001b[0m\u001b[0m\n\u001b[0m\u001b[1;32m   6622\u001b[0m   \u001b[0;32melse\u001b[0m\u001b[0;34m:\u001b[0m\u001b[0;34m\u001b[0m\u001b[0;34m\u001b[0m\u001b[0m\n\u001b[1;32m   6623\u001b[0m     raise TypeError(f\"Argument `tensor` (name: {name}) must be of type integer.\"\n",
            "\u001b[0;32m/usr/local/lib/python3.7/dist-packages/tensorflow/python/ops/gen_math_ops.py\u001b[0m in \u001b[0;36mcast\u001b[0;34m(x, DstT, Truncate, name)\u001b[0m\n\u001b[1;32m   1996\u001b[0m     \u001b[0;32mtry\u001b[0m\u001b[0;34m:\u001b[0m\u001b[0;34m\u001b[0m\u001b[0;34m\u001b[0m\u001b[0m\n\u001b[1;32m   1997\u001b[0m       _result = pywrap_tfe.TFE_Py_FastPathExecute(\n\u001b[0;32m-> 1998\u001b[0;31m         _ctx, \"Cast\", name, x, \"DstT\", DstT, \"Truncate\", Truncate)\n\u001b[0m\u001b[1;32m   1999\u001b[0m       \u001b[0;32mreturn\u001b[0m \u001b[0m_result\u001b[0m\u001b[0;34m\u001b[0m\u001b[0;34m\u001b[0m\u001b[0m\n\u001b[1;32m   2000\u001b[0m     \u001b[0;32mexcept\u001b[0m \u001b[0m_core\u001b[0m\u001b[0;34m.\u001b[0m\u001b[0m_NotOkStatusException\u001b[0m \u001b[0;32mas\u001b[0m \u001b[0me\u001b[0m\u001b[0;34m:\u001b[0m\u001b[0;34m\u001b[0m\u001b[0;34m\u001b[0m\u001b[0m\n",
            "\u001b[0;31mKeyboardInterrupt\u001b[0m: "
          ]
        }
      ],
      "source": [
        "model = CommsSystemDataset(params={\"cir_data\":sm_cirs})\n",
        "tx2high_regions_sm_ldpc_ber, _ = sionna.utils.sim_ber(model, range(15), batch_size=256,\n",
        "                                          max_mc_iter=1000, num_target_bit_errors=500)"
      ]
    },
    {
      "cell_type": "code",
      "source": [
        "if 'tx2high_regions_sm_ldpc_ber' not in locals():\n",
        "  tx2high_regions_sm_ldpc_ber = [3.5234e-01, 3.3202e-01, 3.0491e-01, 2.8323e-01, 2.5214e-01, 2.1726e-01, 1.7086e-01, 4.5996e-02, 1.3174e-02, 8.9894e-03, 5.4262e-03, 1.3572e-03, 4.8014e-04, 2.0470e-04, 1.5966e-05]"
      ],
      "metadata": {
        "id": "ARE5-uLQQLYY"
      },
      "execution_count": null,
      "outputs": []
    },
    {
      "cell_type": "markdown",
      "metadata": {
        "id": "bSZ7wag01Yf1"
      },
      "source": [
        "### First over Mean"
      ]
    },
    {
      "cell_type": "code",
      "execution_count": null,
      "metadata": {
        "id": "Y4qlL0ezInPH"
      },
      "outputs": [],
      "source": [
        "fm_cirs = get_CIR_samples_for_regions(cir_iq_data,\n",
        "                  get_kfactor_regions(common_k_factor, kfactors[['FM', 'idx_start', 'idx_end']]))"
      ]
    },
    {
      "cell_type": "code",
      "execution_count": null,
      "metadata": {
        "colab": {
          "base_uri": "https://localhost:8080/"
        },
        "id": "fXQn-oYvInPK",
        "outputId": "0572d9a4-e056-4ab5-b287-66302e3b79c9"
      },
      "outputs": [
        {
          "data": {
            "text/plain": [
              "229"
            ]
          },
          "execution_count": 130,
          "metadata": {},
          "output_type": "execute_result"
        }
      ],
      "source": [
        "len(fm_cirs)"
      ]
    },
    {
      "cell_type": "markdown",
      "metadata": {
        "id": "mX2jVBJF0iiy"
      },
      "source": [
        "SNR range without iterations"
      ]
    },
    {
      "cell_type": "code",
      "execution_count": null,
      "metadata": {
        "colab": {
          "base_uri": "https://localhost:8080/",
          "height": 628
        },
        "id": "yItYy01fDFy3",
        "outputId": "bb12e87e-12b5-4a64-dba1-1e8d18495f3a"
      },
      "outputs": [
        {
          "name": "stdout",
          "output_type": "stream",
          "text": [
            "EbNo [dB] |        BER |       BLER |  bit errors |    num bits | block errors |  num blocks | runtime [s] |    status\n",
            "---------------------------------------------------------------------------------------------------------------------------------------\n",
            "      0.0 | 3.5177e-01 | 1.0000e+00 |      140481 |      399360 |          256 |         256 |         8.9 |reached target bit errors\n",
            "      1.0 | 3.2861e-01 | 1.0000e+00 |      131235 |      399360 |          256 |         256 |         8.8 |reached target bit errors\n",
            "      2.0 | 3.0475e-01 | 1.0000e+00 |      121703 |      399360 |          256 |         256 |         8.8 |reached target bit errors\n",
            "      3.0 | 2.7668e-01 | 1.0000e+00 |      110494 |      399360 |          256 |         256 |         8.8 |reached target bit errors\n",
            "      4.0 | 2.4901e-01 | 1.0000e+00 |       99445 |      399360 |          256 |         256 |         8.8 |reached target bit errors\n",
            "      5.0 | 2.1888e-01 | 1.0000e+00 |       87410 |      399360 |          256 |         256 |         8.8 |reached target bit errors\n",
            "      6.0 | 1.7103e-01 | 9.9609e-01 |       68304 |      399360 |          255 |         256 |         8.8 |reached target bit errors\n",
            "      7.0 | 4.6737e-02 | 3.5156e-01 |       18665 |      399360 |           90 |         256 |         8.8 |reached target bit errors\n",
            "      8.0 | 1.5517e-02 | 9.3750e-02 |        6197 |      399360 |           24 |         256 |         8.8 |reached target bit errors\n",
            "      9.0 | 4.6199e-03 | 2.7344e-02 |        1845 |      399360 |            7 |         256 |         8.8 |reached target bit errors\n",
            "     10.0 | 3.4731e-03 | 3.1250e-02 |        1387 |      399360 |            8 |         256 |         8.8 |reached target bit errors\n",
            "     11.0 | 6.2976e-04 | 3.9062e-03 |         503 |      798720 |            2 |         512 |        17.7 |reached target bit errors\n",
            "     12.0 | 8.2602e-06 | 4.7637e-05 |         541 |    65495040 |            2 |       41984 |      1480.8 |reached target bit errors\n"
          ]
        },
        {
          "ename": "KeyboardInterrupt",
          "evalue": "ignored",
          "output_type": "error",
          "traceback": [
            "\u001b[0;31m---------------------------------------------------------------------------\u001b[0m",
            "\u001b[0;31mKeyboardInterrupt\u001b[0m                         Traceback (most recent call last)",
            "\u001b[0;32m<ipython-input-131-3ba8ae9ea012>\u001b[0m in \u001b[0;36m<module>\u001b[0;34m\u001b[0m\n\u001b[1;32m      1\u001b[0m \u001b[0mmodel\u001b[0m \u001b[0;34m=\u001b[0m \u001b[0mCommsSystemDataset\u001b[0m\u001b[0;34m(\u001b[0m\u001b[0mparams\u001b[0m\u001b[0;34m=\u001b[0m\u001b[0;34m{\u001b[0m\u001b[0;34m\"cir_data\"\u001b[0m\u001b[0;34m:\u001b[0m\u001b[0mfm_cirs\u001b[0m\u001b[0;34m}\u001b[0m\u001b[0;34m)\u001b[0m\u001b[0;34m\u001b[0m\u001b[0;34m\u001b[0m\u001b[0m\n\u001b[1;32m      2\u001b[0m tx2high_regions_fm_ldpc_ber, _ = sionna.utils.sim_ber(model, range(15), batch_size=256,\n\u001b[0;32m----> 3\u001b[0;31m                                           max_mc_iter=1000, num_target_bit_errors=500)\n\u001b[0m",
            "\u001b[0;32m/usr/local/lib/python3.7/dist-packages/sionna/utils/misc.py\u001b[0m in \u001b[0;36msim_ber\u001b[0;34m(mc_fun, ebno_dbs, batch_size, max_mc_iter, soft_estimates, num_target_bit_errors, num_target_block_errors, early_stop, verbose, forward_keyboard_interrupt, dtype)\u001b[0m\n\u001b[1;32m    694\u001b[0m         \u001b[0;31m# Raise Interrupt again to stop outer loops\u001b[0m\u001b[0;34m\u001b[0m\u001b[0;34m\u001b[0m\u001b[0;34m\u001b[0m\u001b[0m\n\u001b[1;32m    695\u001b[0m         \u001b[0;32mif\u001b[0m \u001b[0mforward_keyboard_interrupt\u001b[0m\u001b[0;34m:\u001b[0m\u001b[0;34m\u001b[0m\u001b[0;34m\u001b[0m\u001b[0m\n\u001b[0;32m--> 696\u001b[0;31m             \u001b[0;32mraise\u001b[0m \u001b[0me\u001b[0m\u001b[0;34m\u001b[0m\u001b[0;34m\u001b[0m\u001b[0m\n\u001b[0m\u001b[1;32m    697\u001b[0m \u001b[0;34m\u001b[0m\u001b[0m\n\u001b[1;32m    698\u001b[0m         print(\"\\nSimulation stopped by the user \" \\\n",
            "\u001b[0;32m/usr/local/lib/python3.7/dist-packages/sionna/utils/misc.py\u001b[0m in \u001b[0;36msim_ber\u001b[0;34m(mc_fun, ebno_dbs, batch_size, max_mc_iter, soft_estimates, num_target_bit_errors, num_target_block_errors, early_stop, verbose, forward_keyboard_interrupt, dtype)\u001b[0m\n\u001b[1;32m    604\u001b[0m                 \u001b[0miter_count\u001b[0m \u001b[0;34m+=\u001b[0m \u001b[0;36m1\u001b[0m\u001b[0;34m\u001b[0m\u001b[0;34m\u001b[0m\u001b[0m\n\u001b[1;32m    605\u001b[0m \u001b[0;34m\u001b[0m\u001b[0m\n\u001b[0;32m--> 606\u001b[0;31m                 \u001b[0moutputs\u001b[0m \u001b[0;34m=\u001b[0m \u001b[0mmc_fun\u001b[0m\u001b[0;34m(\u001b[0m\u001b[0mbatch_size\u001b[0m\u001b[0;34m=\u001b[0m\u001b[0mbatch_size\u001b[0m\u001b[0;34m,\u001b[0m \u001b[0mebno_db\u001b[0m\u001b[0;34m=\u001b[0m\u001b[0mebno_dbs\u001b[0m\u001b[0;34m[\u001b[0m\u001b[0mi\u001b[0m\u001b[0;34m]\u001b[0m\u001b[0;34m)\u001b[0m\u001b[0;34m\u001b[0m\u001b[0;34m\u001b[0m\u001b[0m\n\u001b[0m\u001b[1;32m    607\u001b[0m \u001b[0;34m\u001b[0m\u001b[0m\n\u001b[1;32m    608\u001b[0m                 \u001b[0;31m# assume first and second return value is b and b_hat\u001b[0m\u001b[0;34m\u001b[0m\u001b[0;34m\u001b[0m\u001b[0;34m\u001b[0m\u001b[0m\n",
            "\u001b[0;32m/usr/local/lib/python3.7/dist-packages/keras/utils/traceback_utils.py\u001b[0m in \u001b[0;36merror_handler\u001b[0;34m(*args, **kwargs)\u001b[0m\n\u001b[1;32m     62\u001b[0m     \u001b[0mfiltered_tb\u001b[0m \u001b[0;34m=\u001b[0m \u001b[0;32mNone\u001b[0m\u001b[0;34m\u001b[0m\u001b[0;34m\u001b[0m\u001b[0m\n\u001b[1;32m     63\u001b[0m     \u001b[0;32mtry\u001b[0m\u001b[0;34m:\u001b[0m\u001b[0;34m\u001b[0m\u001b[0;34m\u001b[0m\u001b[0m\n\u001b[0;32m---> 64\u001b[0;31m       \u001b[0;32mreturn\u001b[0m \u001b[0mfn\u001b[0m\u001b[0;34m(\u001b[0m\u001b[0;34m*\u001b[0m\u001b[0margs\u001b[0m\u001b[0;34m,\u001b[0m \u001b[0;34m**\u001b[0m\u001b[0mkwargs\u001b[0m\u001b[0;34m)\u001b[0m\u001b[0;34m\u001b[0m\u001b[0;34m\u001b[0m\u001b[0m\n\u001b[0m\u001b[1;32m     65\u001b[0m     \u001b[0;32mexcept\u001b[0m \u001b[0mException\u001b[0m \u001b[0;32mas\u001b[0m \u001b[0me\u001b[0m\u001b[0;34m:\u001b[0m  \u001b[0;31m# pylint: disable=broad-except\u001b[0m\u001b[0;34m\u001b[0m\u001b[0;34m\u001b[0m\u001b[0m\n\u001b[1;32m     66\u001b[0m       \u001b[0mfiltered_tb\u001b[0m \u001b[0;34m=\u001b[0m \u001b[0m_process_traceback_frames\u001b[0m\u001b[0;34m(\u001b[0m\u001b[0me\u001b[0m\u001b[0;34m.\u001b[0m\u001b[0m__traceback__\u001b[0m\u001b[0;34m)\u001b[0m\u001b[0;34m\u001b[0m\u001b[0;34m\u001b[0m\u001b[0m\n",
            "\u001b[0;32m/usr/local/lib/python3.7/dist-packages/keras/engine/base_layer.py\u001b[0m in \u001b[0;36m__call__\u001b[0;34m(self, *args, **kwargs)\u001b[0m\n\u001b[1;32m   1094\u001b[0m         with autocast_variable.enable_auto_cast_variables(\n\u001b[1;32m   1095\u001b[0m             self._compute_dtype_object):\n\u001b[0;32m-> 1096\u001b[0;31m           \u001b[0moutputs\u001b[0m \u001b[0;34m=\u001b[0m \u001b[0mcall_fn\u001b[0m\u001b[0;34m(\u001b[0m\u001b[0minputs\u001b[0m\u001b[0;34m,\u001b[0m \u001b[0;34m*\u001b[0m\u001b[0margs\u001b[0m\u001b[0;34m,\u001b[0m \u001b[0;34m**\u001b[0m\u001b[0mkwargs\u001b[0m\u001b[0;34m)\u001b[0m\u001b[0;34m\u001b[0m\u001b[0;34m\u001b[0m\u001b[0m\n\u001b[0m\u001b[1;32m   1097\u001b[0m \u001b[0;34m\u001b[0m\u001b[0m\n\u001b[1;32m   1098\u001b[0m         \u001b[0;32mif\u001b[0m \u001b[0mself\u001b[0m\u001b[0;34m.\u001b[0m\u001b[0m_activity_regularizer\u001b[0m\u001b[0;34m:\u001b[0m\u001b[0;34m\u001b[0m\u001b[0;34m\u001b[0m\u001b[0m\n",
            "\u001b[0;32m/usr/local/lib/python3.7/dist-packages/keras/utils/traceback_utils.py\u001b[0m in \u001b[0;36merror_handler\u001b[0;34m(*args, **kwargs)\u001b[0m\n\u001b[1;32m     90\u001b[0m     \u001b[0mbound_signature\u001b[0m \u001b[0;34m=\u001b[0m \u001b[0;32mNone\u001b[0m\u001b[0;34m\u001b[0m\u001b[0;34m\u001b[0m\u001b[0m\n\u001b[1;32m     91\u001b[0m     \u001b[0;32mtry\u001b[0m\u001b[0;34m:\u001b[0m\u001b[0;34m\u001b[0m\u001b[0;34m\u001b[0m\u001b[0m\n\u001b[0;32m---> 92\u001b[0;31m       \u001b[0;32mreturn\u001b[0m \u001b[0mfn\u001b[0m\u001b[0;34m(\u001b[0m\u001b[0;34m*\u001b[0m\u001b[0margs\u001b[0m\u001b[0;34m,\u001b[0m \u001b[0;34m**\u001b[0m\u001b[0mkwargs\u001b[0m\u001b[0;34m)\u001b[0m\u001b[0;34m\u001b[0m\u001b[0;34m\u001b[0m\u001b[0m\n\u001b[0m\u001b[1;32m     93\u001b[0m     \u001b[0;32mexcept\u001b[0m \u001b[0mException\u001b[0m \u001b[0;32mas\u001b[0m \u001b[0me\u001b[0m\u001b[0;34m:\u001b[0m  \u001b[0;31m# pylint: disable=broad-except\u001b[0m\u001b[0;34m\u001b[0m\u001b[0;34m\u001b[0m\u001b[0m\n\u001b[1;32m     94\u001b[0m       \u001b[0;32mif\u001b[0m \u001b[0mhasattr\u001b[0m\u001b[0;34m(\u001b[0m\u001b[0me\u001b[0m\u001b[0;34m,\u001b[0m \u001b[0;34m'_keras_call_info_injected'\u001b[0m\u001b[0;34m)\u001b[0m\u001b[0;34m:\u001b[0m\u001b[0;34m\u001b[0m\u001b[0;34m\u001b[0m\u001b[0m\n",
            "\u001b[0;32m<ipython-input-72-cf78d3ed2fb7>\u001b[0m in \u001b[0;36mcall\u001b[0;34m(self, batch_size, ebno_db)\u001b[0m\n\u001b[1;32m     85\u001b[0m     \u001b[0mllr_int\u001b[0m \u001b[0;34m=\u001b[0m \u001b[0mself\u001b[0m\u001b[0;34m.\u001b[0m\u001b[0mdeinterleaver\u001b[0m\u001b[0;34m(\u001b[0m\u001b[0mllr\u001b[0m\u001b[0;34m)\u001b[0m\u001b[0;34m\u001b[0m\u001b[0;34m\u001b[0m\u001b[0m\n\u001b[1;32m     86\u001b[0m     \u001b[0;31m# Decoding\u001b[0m\u001b[0;34m\u001b[0m\u001b[0;34m\u001b[0m\u001b[0;34m\u001b[0m\u001b[0m\n\u001b[0;32m---> 87\u001b[0;31m     \u001b[0mb_hat\u001b[0m \u001b[0;34m=\u001b[0m \u001b[0mself\u001b[0m\u001b[0;34m.\u001b[0m\u001b[0mdecoder\u001b[0m\u001b[0;34m(\u001b[0m\u001b[0mllr_int\u001b[0m\u001b[0;34m)\u001b[0m\u001b[0;34m\u001b[0m\u001b[0;34m\u001b[0m\u001b[0m\n\u001b[0m\u001b[1;32m     88\u001b[0m     \u001b[0;31m#ber = sionna.utils.metrics.compute_ber(b, b_hat)\u001b[0m\u001b[0;34m\u001b[0m\u001b[0;34m\u001b[0m\u001b[0;34m\u001b[0m\u001b[0m\n\u001b[1;32m     89\u001b[0m     \u001b[0;32mreturn\u001b[0m \u001b[0mb\u001b[0m\u001b[0;34m,\u001b[0m \u001b[0mb_hat\u001b[0m\u001b[0;34m\u001b[0m\u001b[0;34m\u001b[0m\u001b[0m\n",
            "\u001b[0;32m/usr/local/lib/python3.7/dist-packages/keras/utils/traceback_utils.py\u001b[0m in \u001b[0;36merror_handler\u001b[0;34m(*args, **kwargs)\u001b[0m\n\u001b[1;32m     62\u001b[0m     \u001b[0mfiltered_tb\u001b[0m \u001b[0;34m=\u001b[0m \u001b[0;32mNone\u001b[0m\u001b[0;34m\u001b[0m\u001b[0;34m\u001b[0m\u001b[0m\n\u001b[1;32m     63\u001b[0m     \u001b[0;32mtry\u001b[0m\u001b[0;34m:\u001b[0m\u001b[0;34m\u001b[0m\u001b[0;34m\u001b[0m\u001b[0m\n\u001b[0;32m---> 64\u001b[0;31m       \u001b[0;32mreturn\u001b[0m \u001b[0mfn\u001b[0m\u001b[0;34m(\u001b[0m\u001b[0;34m*\u001b[0m\u001b[0margs\u001b[0m\u001b[0;34m,\u001b[0m \u001b[0;34m**\u001b[0m\u001b[0mkwargs\u001b[0m\u001b[0;34m)\u001b[0m\u001b[0;34m\u001b[0m\u001b[0;34m\u001b[0m\u001b[0m\n\u001b[0m\u001b[1;32m     65\u001b[0m     \u001b[0;32mexcept\u001b[0m \u001b[0mException\u001b[0m \u001b[0;32mas\u001b[0m \u001b[0me\u001b[0m\u001b[0;34m:\u001b[0m  \u001b[0;31m# pylint: disable=broad-except\u001b[0m\u001b[0;34m\u001b[0m\u001b[0;34m\u001b[0m\u001b[0m\n\u001b[1;32m     66\u001b[0m       \u001b[0mfiltered_tb\u001b[0m \u001b[0;34m=\u001b[0m \u001b[0m_process_traceback_frames\u001b[0m\u001b[0;34m(\u001b[0m\u001b[0me\u001b[0m\u001b[0;34m.\u001b[0m\u001b[0m__traceback__\u001b[0m\u001b[0;34m)\u001b[0m\u001b[0;34m\u001b[0m\u001b[0;34m\u001b[0m\u001b[0m\n",
            "\u001b[0;32m/usr/local/lib/python3.7/dist-packages/keras/engine/base_layer.py\u001b[0m in \u001b[0;36m__call__\u001b[0;34m(self, *args, **kwargs)\u001b[0m\n\u001b[1;32m   1094\u001b[0m         with autocast_variable.enable_auto_cast_variables(\n\u001b[1;32m   1095\u001b[0m             self._compute_dtype_object):\n\u001b[0;32m-> 1096\u001b[0;31m           \u001b[0moutputs\u001b[0m \u001b[0;34m=\u001b[0m \u001b[0mcall_fn\u001b[0m\u001b[0;34m(\u001b[0m\u001b[0minputs\u001b[0m\u001b[0;34m,\u001b[0m \u001b[0;34m*\u001b[0m\u001b[0margs\u001b[0m\u001b[0;34m,\u001b[0m \u001b[0;34m**\u001b[0m\u001b[0mkwargs\u001b[0m\u001b[0;34m)\u001b[0m\u001b[0;34m\u001b[0m\u001b[0;34m\u001b[0m\u001b[0m\n\u001b[0m\u001b[1;32m   1097\u001b[0m \u001b[0;34m\u001b[0m\u001b[0m\n\u001b[1;32m   1098\u001b[0m         \u001b[0;32mif\u001b[0m \u001b[0mself\u001b[0m\u001b[0;34m.\u001b[0m\u001b[0m_activity_regularizer\u001b[0m\u001b[0;34m:\u001b[0m\u001b[0;34m\u001b[0m\u001b[0;34m\u001b[0m\u001b[0m\n",
            "\u001b[0;32m/usr/local/lib/python3.7/dist-packages/keras/utils/traceback_utils.py\u001b[0m in \u001b[0;36merror_handler\u001b[0;34m(*args, **kwargs)\u001b[0m\n\u001b[1;32m     90\u001b[0m     \u001b[0mbound_signature\u001b[0m \u001b[0;34m=\u001b[0m \u001b[0;32mNone\u001b[0m\u001b[0;34m\u001b[0m\u001b[0;34m\u001b[0m\u001b[0m\n\u001b[1;32m     91\u001b[0m     \u001b[0;32mtry\u001b[0m\u001b[0;34m:\u001b[0m\u001b[0;34m\u001b[0m\u001b[0;34m\u001b[0m\u001b[0m\n\u001b[0;32m---> 92\u001b[0;31m       \u001b[0;32mreturn\u001b[0m \u001b[0mfn\u001b[0m\u001b[0;34m(\u001b[0m\u001b[0;34m*\u001b[0m\u001b[0margs\u001b[0m\u001b[0;34m,\u001b[0m \u001b[0;34m**\u001b[0m\u001b[0mkwargs\u001b[0m\u001b[0;34m)\u001b[0m\u001b[0;34m\u001b[0m\u001b[0;34m\u001b[0m\u001b[0m\n\u001b[0m\u001b[1;32m     93\u001b[0m     \u001b[0;32mexcept\u001b[0m \u001b[0mException\u001b[0m \u001b[0;32mas\u001b[0m \u001b[0me\u001b[0m\u001b[0;34m:\u001b[0m  \u001b[0;31m# pylint: disable=broad-except\u001b[0m\u001b[0;34m\u001b[0m\u001b[0;34m\u001b[0m\u001b[0m\n\u001b[1;32m     94\u001b[0m       \u001b[0;32mif\u001b[0m \u001b[0mhasattr\u001b[0m\u001b[0;34m(\u001b[0m\u001b[0me\u001b[0m\u001b[0;34m,\u001b[0m \u001b[0;34m'_keras_call_info_injected'\u001b[0m\u001b[0;34m)\u001b[0m\u001b[0;34m:\u001b[0m\u001b[0;34m\u001b[0m\u001b[0;34m\u001b[0m\u001b[0m\n",
            "\u001b[0;32m/usr/local/lib/python3.7/dist-packages/sionna/fec/ldpc/decoding.py\u001b[0m in \u001b[0;36mcall\u001b[0;34m(self, inputs)\u001b[0m\n\u001b[1;32m   1377\u001b[0m         \u001b[0;31m# and execute the decoder\u001b[0m\u001b[0;34m\u001b[0m\u001b[0;34m\u001b[0m\u001b[0;34m\u001b[0m\u001b[0m\n\u001b[1;32m   1378\u001b[0m         \u001b[0;32mif\u001b[0m \u001b[0;32mnot\u001b[0m \u001b[0mself\u001b[0m\u001b[0;34m.\u001b[0m\u001b[0m_stateful\u001b[0m\u001b[0;34m:\u001b[0m\u001b[0;34m\u001b[0m\u001b[0;34m\u001b[0m\u001b[0m\n\u001b[0;32m-> 1379\u001b[0;31m             \u001b[0mx_hat\u001b[0m \u001b[0;34m=\u001b[0m \u001b[0msuper\u001b[0m\u001b[0;34m(\u001b[0m\u001b[0;34m)\u001b[0m\u001b[0;34m.\u001b[0m\u001b[0mcall\u001b[0m\u001b[0;34m(\u001b[0m\u001b[0mllr_5g\u001b[0m\u001b[0;34m)\u001b[0m\u001b[0;34m\u001b[0m\u001b[0;34m\u001b[0m\u001b[0m\n\u001b[0m\u001b[1;32m   1380\u001b[0m         \u001b[0;32melse\u001b[0m\u001b[0;34m:\u001b[0m\u001b[0;34m\u001b[0m\u001b[0;34m\u001b[0m\u001b[0m\n\u001b[1;32m   1381\u001b[0m             \u001b[0mx_hat\u001b[0m\u001b[0;34m,\u001b[0m\u001b[0mmsg_vn\u001b[0m \u001b[0;34m=\u001b[0m \u001b[0msuper\u001b[0m\u001b[0;34m(\u001b[0m\u001b[0;34m)\u001b[0m\u001b[0;34m.\u001b[0m\u001b[0mcall\u001b[0m\u001b[0;34m(\u001b[0m\u001b[0;34m[\u001b[0m\u001b[0mllr_5g\u001b[0m\u001b[0;34m,\u001b[0m \u001b[0mmsg_vn\u001b[0m\u001b[0;34m]\u001b[0m\u001b[0;34m)\u001b[0m\u001b[0;34m\u001b[0m\u001b[0;34m\u001b[0m\u001b[0m\n",
            "\u001b[0;32m/usr/local/lib/python3.7/dist-packages/sionna/fec/ldpc/decoding.py\u001b[0m in \u001b[0;36mcall\u001b[0;34m(self, inputs)\u001b[0m\n\u001b[1;32m    994\u001b[0m                                      \u001b[0;34m(\u001b[0m\u001b[0mllr_ch\u001b[0m\u001b[0;34m,\u001b[0m \u001b[0mmsg_vn\u001b[0m\u001b[0;34m,\u001b[0m \u001b[0mit\u001b[0m\u001b[0;34m)\u001b[0m\u001b[0;34m,\u001b[0m\u001b[0;34m\u001b[0m\u001b[0;34m\u001b[0m\u001b[0m\n\u001b[1;32m    995\u001b[0m                                      \u001b[0mparallel_iterations\u001b[0m\u001b[0;34m=\u001b[0m\u001b[0;36m1\u001b[0m\u001b[0;34m,\u001b[0m\u001b[0;34m\u001b[0m\u001b[0;34m\u001b[0m\u001b[0m\n\u001b[0;32m--> 996\u001b[0;31m                                      maximum_iterations=self._num_iter)\n\u001b[0m\u001b[1;32m    997\u001b[0m \u001b[0;34m\u001b[0m\u001b[0m\n\u001b[1;32m    998\u001b[0m \u001b[0;34m\u001b[0m\u001b[0m\n",
            "\u001b[0;32m/usr/local/lib/python3.7/dist-packages/tensorflow/python/util/deprecation.py\u001b[0m in \u001b[0;36mnew_func\u001b[0;34m(*args, **kwargs)\u001b[0m\n\u001b[1;32m    614\u001b[0m                   \u001b[0mfunc\u001b[0m\u001b[0;34m.\u001b[0m\u001b[0m__module__\u001b[0m\u001b[0;34m,\u001b[0m \u001b[0marg_name\u001b[0m\u001b[0;34m,\u001b[0m \u001b[0marg_value\u001b[0m\u001b[0;34m,\u001b[0m \u001b[0;34m'in a future version'\u001b[0m\u001b[0;34m\u001b[0m\u001b[0;34m\u001b[0m\u001b[0m\n\u001b[1;32m    615\u001b[0m                   if date is None else ('after %s' % date), instructions)\n\u001b[0;32m--> 616\u001b[0;31m       \u001b[0;32mreturn\u001b[0m \u001b[0mfunc\u001b[0m\u001b[0;34m(\u001b[0m\u001b[0;34m*\u001b[0m\u001b[0margs\u001b[0m\u001b[0;34m,\u001b[0m \u001b[0;34m**\u001b[0m\u001b[0mkwargs\u001b[0m\u001b[0;34m)\u001b[0m\u001b[0;34m\u001b[0m\u001b[0;34m\u001b[0m\u001b[0m\n\u001b[0m\u001b[1;32m    617\u001b[0m \u001b[0;34m\u001b[0m\u001b[0m\n\u001b[1;32m    618\u001b[0m     doc = _add_deprecated_arg_value_notice_to_docstring(\n",
            "\u001b[0;32m/usr/local/lib/python3.7/dist-packages/tensorflow/python/ops/control_flow_ops.py\u001b[0m in \u001b[0;36mwhile_loop_v2\u001b[0;34m(cond, body, loop_vars, shape_invariants, parallel_iterations, back_prop, swap_memory, maximum_iterations, name)\u001b[0m\n\u001b[1;32m   2556\u001b[0m       \u001b[0mname\u001b[0m\u001b[0;34m=\u001b[0m\u001b[0mname\u001b[0m\u001b[0;34m,\u001b[0m\u001b[0;34m\u001b[0m\u001b[0;34m\u001b[0m\u001b[0m\n\u001b[1;32m   2557\u001b[0m       \u001b[0mmaximum_iterations\u001b[0m\u001b[0;34m=\u001b[0m\u001b[0mmaximum_iterations\u001b[0m\u001b[0;34m,\u001b[0m\u001b[0;34m\u001b[0m\u001b[0;34m\u001b[0m\u001b[0m\n\u001b[0;32m-> 2558\u001b[0;31m       return_same_structure=True)\n\u001b[0m\u001b[1;32m   2559\u001b[0m \u001b[0;34m\u001b[0m\u001b[0m\n\u001b[1;32m   2560\u001b[0m \u001b[0;34m\u001b[0m\u001b[0m\n",
            "\u001b[0;32m/usr/local/lib/python3.7/dist-packages/tensorflow/python/ops/control_flow_ops.py\u001b[0m in \u001b[0;36mwhile_loop\u001b[0;34m(cond, body, loop_vars, shape_invariants, parallel_iterations, back_prop, swap_memory, name, maximum_iterations, return_same_structure)\u001b[0m\n\u001b[1;32m   2793\u001b[0m                                               list(loop_vars))\n\u001b[1;32m   2794\u001b[0m       \u001b[0;32mwhile\u001b[0m \u001b[0mcond\u001b[0m\u001b[0;34m(\u001b[0m\u001b[0;34m*\u001b[0m\u001b[0mloop_vars\u001b[0m\u001b[0;34m)\u001b[0m\u001b[0;34m:\u001b[0m\u001b[0;34m\u001b[0m\u001b[0;34m\u001b[0m\u001b[0m\n\u001b[0;32m-> 2795\u001b[0;31m         \u001b[0mloop_vars\u001b[0m \u001b[0;34m=\u001b[0m \u001b[0mbody\u001b[0m\u001b[0;34m(\u001b[0m\u001b[0;34m*\u001b[0m\u001b[0mloop_vars\u001b[0m\u001b[0;34m)\u001b[0m\u001b[0;34m\u001b[0m\u001b[0;34m\u001b[0m\u001b[0m\n\u001b[0m\u001b[1;32m   2796\u001b[0m         \u001b[0;32mif\u001b[0m \u001b[0mtry_to_pack\u001b[0m \u001b[0;32mand\u001b[0m \u001b[0;32mnot\u001b[0m \u001b[0misinstance\u001b[0m\u001b[0;34m(\u001b[0m\u001b[0mloop_vars\u001b[0m\u001b[0;34m,\u001b[0m \u001b[0;34m(\u001b[0m\u001b[0mlist\u001b[0m\u001b[0;34m,\u001b[0m \u001b[0m_basetuple\u001b[0m\u001b[0;34m)\u001b[0m\u001b[0;34m)\u001b[0m\u001b[0;34m:\u001b[0m\u001b[0;34m\u001b[0m\u001b[0;34m\u001b[0m\u001b[0m\n\u001b[1;32m   2797\u001b[0m           \u001b[0mpacked\u001b[0m \u001b[0;34m=\u001b[0m \u001b[0;32mTrue\u001b[0m\u001b[0;34m\u001b[0m\u001b[0;34m\u001b[0m\u001b[0m\n",
            "\u001b[0;32m/usr/local/lib/python3.7/dist-packages/tensorflow/python/ops/control_flow_ops.py\u001b[0m in \u001b[0;36m<lambda>\u001b[0;34m(i, lv)\u001b[0m\n\u001b[1;32m   2784\u001b[0m         cond = lambda i, lv: (  # pylint: disable=g-long-lambda\n\u001b[1;32m   2785\u001b[0m             math_ops.logical_and(i < maximum_iterations, orig_cond(*lv)))\n\u001b[0;32m-> 2786\u001b[0;31m         \u001b[0mbody\u001b[0m \u001b[0;34m=\u001b[0m \u001b[0;32mlambda\u001b[0m \u001b[0mi\u001b[0m\u001b[0;34m,\u001b[0m \u001b[0mlv\u001b[0m\u001b[0;34m:\u001b[0m \u001b[0;34m(\u001b[0m\u001b[0mi\u001b[0m \u001b[0;34m+\u001b[0m \u001b[0;36m1\u001b[0m\u001b[0;34m,\u001b[0m \u001b[0morig_body\u001b[0m\u001b[0;34m(\u001b[0m\u001b[0;34m*\u001b[0m\u001b[0mlv\u001b[0m\u001b[0;34m)\u001b[0m\u001b[0;34m)\u001b[0m\u001b[0;34m\u001b[0m\u001b[0;34m\u001b[0m\u001b[0m\n\u001b[0m\u001b[1;32m   2787\u001b[0m       \u001b[0mtry_to_pack\u001b[0m \u001b[0;34m=\u001b[0m \u001b[0;32mFalse\u001b[0m\u001b[0;34m\u001b[0m\u001b[0;34m\u001b[0m\u001b[0m\n\u001b[1;32m   2788\u001b[0m \u001b[0;34m\u001b[0m\u001b[0m\n",
            "\u001b[0;32m/usr/local/lib/python3.7/dist-packages/sionna/fec/ldpc/decoding.py\u001b[0m in \u001b[0;36mdec_iter\u001b[0;34m(llr_ch, msg_vn, it)\u001b[0m\n\u001b[1;32m    968\u001b[0m \u001b[0;34m\u001b[0m\u001b[0m\n\u001b[1;32m    969\u001b[0m             \u001b[0;31m# check node update using the pre-defined function\u001b[0m\u001b[0;34m\u001b[0m\u001b[0;34m\u001b[0m\u001b[0;34m\u001b[0m\u001b[0m\n\u001b[0;32m--> 970\u001b[0;31m             \u001b[0mmsg_cn\u001b[0m \u001b[0;34m=\u001b[0m \u001b[0mself\u001b[0m\u001b[0;34m.\u001b[0m\u001b[0m_cn_update\u001b[0m\u001b[0;34m(\u001b[0m\u001b[0mmsg_cn\u001b[0m\u001b[0;34m)\u001b[0m\u001b[0;34m\u001b[0m\u001b[0;34m\u001b[0m\u001b[0m\n\u001b[0m\u001b[1;32m    971\u001b[0m \u001b[0;34m\u001b[0m\u001b[0m\n\u001b[1;32m    972\u001b[0m             \u001b[0;31m# track exit decoding trajectory; requires all-zero cw?\u001b[0m\u001b[0;34m\u001b[0m\u001b[0;34m\u001b[0m\u001b[0;34m\u001b[0m\u001b[0m\n",
            "\u001b[0;32m/usr/local/lib/python3.7/dist-packages/sionna/fec/ldpc/decoding.py\u001b[0m in \u001b[0;36m_cn_update_phi\u001b[0;34m(self, msg)\u001b[0m\n\u001b[1;32m    677\u001b[0m                                         \u001b[0;34m-\u001b[0m\u001b[0;36m1.\u001b[0m\u001b[0;34m*\u001b[0m\u001b[0mmsg\u001b[0m\u001b[0;34m,\u001b[0m\u001b[0;34m\u001b[0m\u001b[0;34m\u001b[0m\u001b[0m\n\u001b[1;32m    678\u001b[0m                                         \u001b[0mmsg_sum\u001b[0m\u001b[0;34m,\u001b[0m\u001b[0;34m\u001b[0m\u001b[0;34m\u001b[0m\u001b[0m\n\u001b[0;32m--> 679\u001b[0;31m                                         msg.value_rowids())\n\u001b[0m\u001b[1;32m    680\u001b[0m \u001b[0;34m\u001b[0m\u001b[0m\n\u001b[1;32m    681\u001b[0m         \u001b[0;31m# apply _phi element-wise (does not support ragged Tensors)\u001b[0m\u001b[0;34m\u001b[0m\u001b[0;34m\u001b[0m\u001b[0;34m\u001b[0m\u001b[0m\n",
            "\u001b[0;32m/usr/local/lib/python3.7/dist-packages/tensorflow/python/ops/ragged/ragged_tensor.py\u001b[0m in \u001b[0;36mvalue_rowids\u001b[0;34m(self, name)\u001b[0m\n\u001b[1;32m   1130\u001b[0m     \"\"\"\n\u001b[1;32m   1131\u001b[0m     \u001b[0;32mwith\u001b[0m \u001b[0mops\u001b[0m\u001b[0;34m.\u001b[0m\u001b[0mname_scope\u001b[0m\u001b[0;34m(\u001b[0m\u001b[0mname\u001b[0m\u001b[0;34m,\u001b[0m \u001b[0;34m\"RaggedValueRowIds\"\u001b[0m\u001b[0;34m,\u001b[0m \u001b[0;34m[\u001b[0m\u001b[0mself\u001b[0m\u001b[0;34m]\u001b[0m\u001b[0;34m)\u001b[0m\u001b[0;34m:\u001b[0m\u001b[0;34m\u001b[0m\u001b[0;34m\u001b[0m\u001b[0m\n\u001b[0;32m-> 1132\u001b[0;31m       \u001b[0;32mreturn\u001b[0m \u001b[0mself\u001b[0m\u001b[0;34m.\u001b[0m\u001b[0m_row_partition\u001b[0m\u001b[0;34m.\u001b[0m\u001b[0mvalue_rowids\u001b[0m\u001b[0;34m(\u001b[0m\u001b[0;34m)\u001b[0m\u001b[0;34m\u001b[0m\u001b[0;34m\u001b[0m\u001b[0m\n\u001b[0m\u001b[1;32m   1133\u001b[0m \u001b[0;34m\u001b[0m\u001b[0m\n\u001b[1;32m   1134\u001b[0m   \u001b[0;32mdef\u001b[0m \u001b[0mnested_value_rowids\u001b[0m\u001b[0;34m(\u001b[0m\u001b[0mself\u001b[0m\u001b[0;34m,\u001b[0m \u001b[0mname\u001b[0m\u001b[0;34m=\u001b[0m\u001b[0;32mNone\u001b[0m\u001b[0;34m)\u001b[0m\u001b[0;34m:\u001b[0m\u001b[0;34m\u001b[0m\u001b[0;34m\u001b[0m\u001b[0m\n",
            "\u001b[0;32m/usr/local/lib/python3.7/dist-packages/tensorflow/python/ops/ragged/row_partition.py\u001b[0m in \u001b[0;36mvalue_rowids\u001b[0;34m(self)\u001b[0m\n\u001b[1;32m    783\u001b[0m     \u001b[0;32mif\u001b[0m \u001b[0mself\u001b[0m\u001b[0;34m.\u001b[0m\u001b[0m_value_rowids\u001b[0m \u001b[0;32mis\u001b[0m \u001b[0;32mnot\u001b[0m \u001b[0;32mNone\u001b[0m\u001b[0;34m:\u001b[0m\u001b[0;34m\u001b[0m\u001b[0;34m\u001b[0m\u001b[0m\n\u001b[1;32m    784\u001b[0m       \u001b[0;32mreturn\u001b[0m \u001b[0mself\u001b[0m\u001b[0;34m.\u001b[0m\u001b[0m_value_rowids\u001b[0m\u001b[0;34m\u001b[0m\u001b[0;34m\u001b[0m\u001b[0m\n\u001b[0;32m--> 785\u001b[0;31m     \u001b[0;32mreturn\u001b[0m \u001b[0msegment_id_ops\u001b[0m\u001b[0;34m.\u001b[0m\u001b[0mrow_splits_to_segment_ids\u001b[0m\u001b[0;34m(\u001b[0m\u001b[0mself\u001b[0m\u001b[0;34m.\u001b[0m\u001b[0m_row_splits\u001b[0m\u001b[0;34m)\u001b[0m\u001b[0;34m\u001b[0m\u001b[0;34m\u001b[0m\u001b[0m\n\u001b[0m\u001b[1;32m    786\u001b[0m \u001b[0;34m\u001b[0m\u001b[0m\n\u001b[1;32m    787\u001b[0m   \u001b[0;32mdef\u001b[0m \u001b[0mnvals\u001b[0m\u001b[0;34m(\u001b[0m\u001b[0mself\u001b[0m\u001b[0;34m)\u001b[0m\u001b[0;34m:\u001b[0m\u001b[0;34m\u001b[0m\u001b[0;34m\u001b[0m\u001b[0m\n",
            "\u001b[0;32m/usr/local/lib/python3.7/dist-packages/tensorflow/python/util/traceback_utils.py\u001b[0m in \u001b[0;36merror_handler\u001b[0;34m(*args, **kwargs)\u001b[0m\n\u001b[1;32m    148\u001b[0m     \u001b[0mfiltered_tb\u001b[0m \u001b[0;34m=\u001b[0m \u001b[0;32mNone\u001b[0m\u001b[0;34m\u001b[0m\u001b[0;34m\u001b[0m\u001b[0m\n\u001b[1;32m    149\u001b[0m     \u001b[0;32mtry\u001b[0m\u001b[0;34m:\u001b[0m\u001b[0;34m\u001b[0m\u001b[0;34m\u001b[0m\u001b[0m\n\u001b[0;32m--> 150\u001b[0;31m       \u001b[0;32mreturn\u001b[0m \u001b[0mfn\u001b[0m\u001b[0;34m(\u001b[0m\u001b[0;34m*\u001b[0m\u001b[0margs\u001b[0m\u001b[0;34m,\u001b[0m \u001b[0;34m**\u001b[0m\u001b[0mkwargs\u001b[0m\u001b[0;34m)\u001b[0m\u001b[0;34m\u001b[0m\u001b[0;34m\u001b[0m\u001b[0m\n\u001b[0m\u001b[1;32m    151\u001b[0m     \u001b[0;32mexcept\u001b[0m \u001b[0mException\u001b[0m \u001b[0;32mas\u001b[0m \u001b[0me\u001b[0m\u001b[0;34m:\u001b[0m\u001b[0;34m\u001b[0m\u001b[0;34m\u001b[0m\u001b[0m\n\u001b[1;32m    152\u001b[0m       \u001b[0mfiltered_tb\u001b[0m \u001b[0;34m=\u001b[0m \u001b[0m_process_traceback_frames\u001b[0m\u001b[0;34m(\u001b[0m\u001b[0me\u001b[0m\u001b[0;34m.\u001b[0m\u001b[0m__traceback__\u001b[0m\u001b[0;34m)\u001b[0m\u001b[0;34m\u001b[0m\u001b[0;34m\u001b[0m\u001b[0m\n",
            "\u001b[0;32m/usr/local/lib/python3.7/dist-packages/tensorflow/python/util/dispatch.py\u001b[0m in \u001b[0;36mop_dispatch_handler\u001b[0;34m(*args, **kwargs)\u001b[0m\n\u001b[1;32m   1080\u001b[0m       \u001b[0;31m# Fallback dispatch system (dispatch v1):\u001b[0m\u001b[0;34m\u001b[0m\u001b[0;34m\u001b[0m\u001b[0;34m\u001b[0m\u001b[0m\n\u001b[1;32m   1081\u001b[0m       \u001b[0;32mtry\u001b[0m\u001b[0;34m:\u001b[0m\u001b[0;34m\u001b[0m\u001b[0;34m\u001b[0m\u001b[0m\n\u001b[0;32m-> 1082\u001b[0;31m         \u001b[0;32mreturn\u001b[0m \u001b[0mdispatch_target\u001b[0m\u001b[0;34m(\u001b[0m\u001b[0;34m*\u001b[0m\u001b[0margs\u001b[0m\u001b[0;34m,\u001b[0m \u001b[0;34m**\u001b[0m\u001b[0mkwargs\u001b[0m\u001b[0;34m)\u001b[0m\u001b[0;34m\u001b[0m\u001b[0;34m\u001b[0m\u001b[0m\n\u001b[0m\u001b[1;32m   1083\u001b[0m       \u001b[0;32mexcept\u001b[0m \u001b[0;34m(\u001b[0m\u001b[0mTypeError\u001b[0m\u001b[0;34m,\u001b[0m \u001b[0mValueError\u001b[0m\u001b[0;34m)\u001b[0m\u001b[0;34m:\u001b[0m\u001b[0;34m\u001b[0m\u001b[0;34m\u001b[0m\u001b[0m\n\u001b[1;32m   1084\u001b[0m         \u001b[0;31m# Note: convert_to_eager_tensor currently raises a ValueError, not a\u001b[0m\u001b[0;34m\u001b[0m\u001b[0;34m\u001b[0m\u001b[0;34m\u001b[0m\u001b[0m\n",
            "\u001b[0;32m/usr/local/lib/python3.7/dist-packages/tensorflow/python/ops/ragged/segment_id_ops.py\u001b[0m in \u001b[0;36mrow_splits_to_segment_ids\u001b[0;34m(splits, name, out_type)\u001b[0m\n\u001b[1;32m     67\u001b[0m     \u001b[0mnrows\u001b[0m \u001b[0;34m=\u001b[0m \u001b[0marray_ops\u001b[0m\u001b[0;34m.\u001b[0m\u001b[0mshape\u001b[0m\u001b[0;34m(\u001b[0m\u001b[0msplits\u001b[0m\u001b[0;34m,\u001b[0m \u001b[0mout_type\u001b[0m\u001b[0;34m=\u001b[0m\u001b[0mout_type\u001b[0m\u001b[0;34m)\u001b[0m\u001b[0;34m[\u001b[0m\u001b[0;34m-\u001b[0m\u001b[0;36m1\u001b[0m\u001b[0;34m]\u001b[0m \u001b[0;34m-\u001b[0m \u001b[0;36m1\u001b[0m\u001b[0;34m\u001b[0m\u001b[0;34m\u001b[0m\u001b[0m\n\u001b[1;32m     68\u001b[0m     \u001b[0mindices\u001b[0m \u001b[0;34m=\u001b[0m \u001b[0mmath_ops\u001b[0m\u001b[0;34m.\u001b[0m\u001b[0mrange\u001b[0m\u001b[0;34m(\u001b[0m\u001b[0mnrows\u001b[0m\u001b[0;34m)\u001b[0m\u001b[0;34m\u001b[0m\u001b[0;34m\u001b[0m\u001b[0m\n\u001b[0;32m---> 69\u001b[0;31m     \u001b[0;32mreturn\u001b[0m \u001b[0mragged_util\u001b[0m\u001b[0;34m.\u001b[0m\u001b[0mrepeat\u001b[0m\u001b[0;34m(\u001b[0m\u001b[0mindices\u001b[0m\u001b[0;34m,\u001b[0m \u001b[0mrepeats\u001b[0m\u001b[0;34m=\u001b[0m\u001b[0mrow_lengths\u001b[0m\u001b[0;34m,\u001b[0m \u001b[0maxis\u001b[0m\u001b[0;34m=\u001b[0m\u001b[0;36m0\u001b[0m\u001b[0;34m)\u001b[0m\u001b[0;34m\u001b[0m\u001b[0;34m\u001b[0m\u001b[0m\n\u001b[0m\u001b[1;32m     70\u001b[0m \u001b[0;34m\u001b[0m\u001b[0m\n\u001b[1;32m     71\u001b[0m \u001b[0;34m\u001b[0m\u001b[0m\n",
            "\u001b[0;32m/usr/local/lib/python3.7/dist-packages/tensorflow/python/ops/array_ops.py\u001b[0m in \u001b[0;36mrepeat_with_axis\u001b[0;34m(data, repeats, axis, name)\u001b[0m\n\u001b[1;32m   6763\u001b[0m     \u001b[0;31m# Use `boolean_mask` to discard the extra repeated values.  This also\u001b[0m\u001b[0;34m\u001b[0m\u001b[0;34m\u001b[0m\u001b[0;34m\u001b[0m\u001b[0m\n\u001b[1;32m   6764\u001b[0m     \u001b[0;31m# flattens all dimensions up through `axis`.\u001b[0m\u001b[0;34m\u001b[0m\u001b[0;34m\u001b[0m\u001b[0;34m\u001b[0m\u001b[0m\n\u001b[0;32m-> 6765\u001b[0;31m     \u001b[0mmasked\u001b[0m \u001b[0;34m=\u001b[0m \u001b[0mboolean_mask\u001b[0m\u001b[0;34m(\u001b[0m\u001b[0mtiled\u001b[0m\u001b[0;34m,\u001b[0m \u001b[0mmask\u001b[0m\u001b[0;34m)\u001b[0m\u001b[0;34m\u001b[0m\u001b[0;34m\u001b[0m\u001b[0m\n\u001b[0m\u001b[1;32m   6766\u001b[0m \u001b[0;34m\u001b[0m\u001b[0m\n\u001b[1;32m   6767\u001b[0m     \u001b[0;31m# Reshape the output tensor to add the outer dimensions back.\u001b[0m\u001b[0;34m\u001b[0m\u001b[0;34m\u001b[0m\u001b[0;34m\u001b[0m\u001b[0m\n",
            "\u001b[0;32m/usr/local/lib/python3.7/dist-packages/tensorflow/python/util/traceback_utils.py\u001b[0m in \u001b[0;36merror_handler\u001b[0;34m(*args, **kwargs)\u001b[0m\n\u001b[1;32m    148\u001b[0m     \u001b[0mfiltered_tb\u001b[0m \u001b[0;34m=\u001b[0m \u001b[0;32mNone\u001b[0m\u001b[0;34m\u001b[0m\u001b[0;34m\u001b[0m\u001b[0m\n\u001b[1;32m    149\u001b[0m     \u001b[0;32mtry\u001b[0m\u001b[0;34m:\u001b[0m\u001b[0;34m\u001b[0m\u001b[0;34m\u001b[0m\u001b[0m\n\u001b[0;32m--> 150\u001b[0;31m       \u001b[0;32mreturn\u001b[0m \u001b[0mfn\u001b[0m\u001b[0;34m(\u001b[0m\u001b[0;34m*\u001b[0m\u001b[0margs\u001b[0m\u001b[0;34m,\u001b[0m \u001b[0;34m**\u001b[0m\u001b[0mkwargs\u001b[0m\u001b[0;34m)\u001b[0m\u001b[0;34m\u001b[0m\u001b[0;34m\u001b[0m\u001b[0m\n\u001b[0m\u001b[1;32m    151\u001b[0m     \u001b[0;32mexcept\u001b[0m \u001b[0mException\u001b[0m \u001b[0;32mas\u001b[0m \u001b[0me\u001b[0m\u001b[0;34m:\u001b[0m\u001b[0;34m\u001b[0m\u001b[0;34m\u001b[0m\u001b[0m\n\u001b[1;32m    152\u001b[0m       \u001b[0mfiltered_tb\u001b[0m \u001b[0;34m=\u001b[0m \u001b[0m_process_traceback_frames\u001b[0m\u001b[0;34m(\u001b[0m\u001b[0me\u001b[0m\u001b[0;34m.\u001b[0m\u001b[0m__traceback__\u001b[0m\u001b[0;34m)\u001b[0m\u001b[0;34m\u001b[0m\u001b[0;34m\u001b[0m\u001b[0m\n",
            "\u001b[0;32m/usr/local/lib/python3.7/dist-packages/tensorflow/python/util/dispatch.py\u001b[0m in \u001b[0;36mop_dispatch_handler\u001b[0;34m(*args, **kwargs)\u001b[0m\n\u001b[1;32m   1080\u001b[0m       \u001b[0;31m# Fallback dispatch system (dispatch v1):\u001b[0m\u001b[0;34m\u001b[0m\u001b[0;34m\u001b[0m\u001b[0;34m\u001b[0m\u001b[0m\n\u001b[1;32m   1081\u001b[0m       \u001b[0;32mtry\u001b[0m\u001b[0;34m:\u001b[0m\u001b[0;34m\u001b[0m\u001b[0;34m\u001b[0m\u001b[0m\n\u001b[0;32m-> 1082\u001b[0;31m         \u001b[0;32mreturn\u001b[0m \u001b[0mdispatch_target\u001b[0m\u001b[0;34m(\u001b[0m\u001b[0;34m*\u001b[0m\u001b[0margs\u001b[0m\u001b[0;34m,\u001b[0m \u001b[0;34m**\u001b[0m\u001b[0mkwargs\u001b[0m\u001b[0;34m)\u001b[0m\u001b[0;34m\u001b[0m\u001b[0;34m\u001b[0m\u001b[0m\n\u001b[0m\u001b[1;32m   1083\u001b[0m       \u001b[0;32mexcept\u001b[0m \u001b[0;34m(\u001b[0m\u001b[0mTypeError\u001b[0m\u001b[0;34m,\u001b[0m \u001b[0mValueError\u001b[0m\u001b[0;34m)\u001b[0m\u001b[0;34m:\u001b[0m\u001b[0;34m\u001b[0m\u001b[0;34m\u001b[0m\u001b[0m\n\u001b[1;32m   1084\u001b[0m         \u001b[0;31m# Note: convert_to_eager_tensor currently raises a ValueError, not a\u001b[0m\u001b[0;34m\u001b[0m\u001b[0;34m\u001b[0m\u001b[0;34m\u001b[0m\u001b[0m\n",
            "\u001b[0;32m/usr/local/lib/python3.7/dist-packages/tensorflow/python/ops/array_ops.py\u001b[0m in \u001b[0;36mboolean_mask\u001b[0;34m(tensor, mask, name, axis)\u001b[0m\n\u001b[1;32m   1859\u001b[0m             \u001b[0mshape\u001b[0m\u001b[0;34m(\u001b[0m\u001b[0mtensor\u001b[0m\u001b[0;34m)\u001b[0m\u001b[0;34m[\u001b[0m\u001b[0;34m:\u001b[0m\u001b[0maxis\u001b[0m\u001b[0;34m]\u001b[0m\u001b[0;34m,\u001b[0m \u001b[0;34m[\u001b[0m\u001b[0mleading_size\u001b[0m\u001b[0;34m]\u001b[0m\u001b[0;34m,\u001b[0m\u001b[0;34m\u001b[0m\u001b[0;34m\u001b[0m\u001b[0m\n\u001b[1;32m   1860\u001b[0m             \u001b[0mshape\u001b[0m\u001b[0;34m(\u001b[0m\u001b[0mtensor\u001b[0m\u001b[0;34m)\u001b[0m\u001b[0;34m[\u001b[0m\u001b[0maxis\u001b[0m \u001b[0;34m+\u001b[0m \u001b[0mndims_mask\u001b[0m\u001b[0;34m:\u001b[0m\u001b[0;34m]\u001b[0m\u001b[0;34m\u001b[0m\u001b[0;34m\u001b[0m\u001b[0m\n\u001b[0;32m-> 1861\u001b[0;31m         ], 0))\n\u001b[0m\u001b[1;32m   1862\u001b[0m     \u001b[0;31m# TODO(yongtang): tf.reshape in C++ kernel might have set the shape\u001b[0m\u001b[0;34m\u001b[0m\u001b[0;34m\u001b[0m\u001b[0;34m\u001b[0m\u001b[0m\n\u001b[1;32m   1863\u001b[0m     \u001b[0;31m# correctly, so the following may not be needed? It still might be possible\u001b[0m\u001b[0;34m\u001b[0m\u001b[0;34m\u001b[0m\u001b[0;34m\u001b[0m\u001b[0m\n",
            "\u001b[0;32m/usr/local/lib/python3.7/dist-packages/tensorflow/python/util/traceback_utils.py\u001b[0m in \u001b[0;36merror_handler\u001b[0;34m(*args, **kwargs)\u001b[0m\n\u001b[1;32m    148\u001b[0m     \u001b[0mfiltered_tb\u001b[0m \u001b[0;34m=\u001b[0m \u001b[0;32mNone\u001b[0m\u001b[0;34m\u001b[0m\u001b[0;34m\u001b[0m\u001b[0m\n\u001b[1;32m    149\u001b[0m     \u001b[0;32mtry\u001b[0m\u001b[0;34m:\u001b[0m\u001b[0;34m\u001b[0m\u001b[0;34m\u001b[0m\u001b[0m\n\u001b[0;32m--> 150\u001b[0;31m       \u001b[0;32mreturn\u001b[0m \u001b[0mfn\u001b[0m\u001b[0;34m(\u001b[0m\u001b[0;34m*\u001b[0m\u001b[0margs\u001b[0m\u001b[0;34m,\u001b[0m \u001b[0;34m**\u001b[0m\u001b[0mkwargs\u001b[0m\u001b[0;34m)\u001b[0m\u001b[0;34m\u001b[0m\u001b[0;34m\u001b[0m\u001b[0m\n\u001b[0m\u001b[1;32m    151\u001b[0m     \u001b[0;32mexcept\u001b[0m \u001b[0mException\u001b[0m \u001b[0;32mas\u001b[0m \u001b[0me\u001b[0m\u001b[0;34m:\u001b[0m\u001b[0;34m\u001b[0m\u001b[0;34m\u001b[0m\u001b[0m\n\u001b[1;32m    152\u001b[0m       \u001b[0mfiltered_tb\u001b[0m \u001b[0;34m=\u001b[0m \u001b[0m_process_traceback_frames\u001b[0m\u001b[0;34m(\u001b[0m\u001b[0me\u001b[0m\u001b[0;34m.\u001b[0m\u001b[0m__traceback__\u001b[0m\u001b[0;34m)\u001b[0m\u001b[0;34m\u001b[0m\u001b[0;34m\u001b[0m\u001b[0m\n",
            "\u001b[0;32m/usr/local/lib/python3.7/dist-packages/tensorflow/python/util/dispatch.py\u001b[0m in \u001b[0;36mop_dispatch_handler\u001b[0;34m(*args, **kwargs)\u001b[0m\n\u001b[1;32m   1080\u001b[0m       \u001b[0;31m# Fallback dispatch system (dispatch v1):\u001b[0m\u001b[0;34m\u001b[0m\u001b[0;34m\u001b[0m\u001b[0;34m\u001b[0m\u001b[0m\n\u001b[1;32m   1081\u001b[0m       \u001b[0;32mtry\u001b[0m\u001b[0;34m:\u001b[0m\u001b[0;34m\u001b[0m\u001b[0;34m\u001b[0m\u001b[0m\n\u001b[0;32m-> 1082\u001b[0;31m         \u001b[0;32mreturn\u001b[0m \u001b[0mdispatch_target\u001b[0m\u001b[0;34m(\u001b[0m\u001b[0;34m*\u001b[0m\u001b[0margs\u001b[0m\u001b[0;34m,\u001b[0m \u001b[0;34m**\u001b[0m\u001b[0mkwargs\u001b[0m\u001b[0;34m)\u001b[0m\u001b[0;34m\u001b[0m\u001b[0;34m\u001b[0m\u001b[0m\n\u001b[0m\u001b[1;32m   1083\u001b[0m       \u001b[0;32mexcept\u001b[0m \u001b[0;34m(\u001b[0m\u001b[0mTypeError\u001b[0m\u001b[0;34m,\u001b[0m \u001b[0mValueError\u001b[0m\u001b[0;34m)\u001b[0m\u001b[0;34m:\u001b[0m\u001b[0;34m\u001b[0m\u001b[0;34m\u001b[0m\u001b[0m\n\u001b[1;32m   1084\u001b[0m         \u001b[0;31m# Note: convert_to_eager_tensor currently raises a ValueError, not a\u001b[0m\u001b[0;34m\u001b[0m\u001b[0;34m\u001b[0m\u001b[0;34m\u001b[0m\u001b[0m\n",
            "\u001b[0;32m/usr/local/lib/python3.7/dist-packages/tensorflow/python/ops/array_ops.py\u001b[0m in \u001b[0;36mconcat\u001b[0;34m(values, axis, name)\u001b[0m\n\u001b[1;32m   1777\u001b[0m           dtype=dtypes.int32).get_shape().assert_has_rank(0)\n\u001b[1;32m   1778\u001b[0m       \u001b[0;32mreturn\u001b[0m \u001b[0midentity\u001b[0m\u001b[0;34m(\u001b[0m\u001b[0mvalues\u001b[0m\u001b[0;34m[\u001b[0m\u001b[0;36m0\u001b[0m\u001b[0;34m]\u001b[0m\u001b[0;34m,\u001b[0m \u001b[0mname\u001b[0m\u001b[0;34m=\u001b[0m\u001b[0mname\u001b[0m\u001b[0;34m)\u001b[0m\u001b[0;34m\u001b[0m\u001b[0;34m\u001b[0m\u001b[0m\n\u001b[0;32m-> 1779\u001b[0;31m   \u001b[0;32mreturn\u001b[0m \u001b[0mgen_array_ops\u001b[0m\u001b[0;34m.\u001b[0m\u001b[0mconcat_v2\u001b[0m\u001b[0;34m(\u001b[0m\u001b[0mvalues\u001b[0m\u001b[0;34m=\u001b[0m\u001b[0mvalues\u001b[0m\u001b[0;34m,\u001b[0m \u001b[0maxis\u001b[0m\u001b[0;34m=\u001b[0m\u001b[0maxis\u001b[0m\u001b[0;34m,\u001b[0m \u001b[0mname\u001b[0m\u001b[0;34m=\u001b[0m\u001b[0mname\u001b[0m\u001b[0;34m)\u001b[0m\u001b[0;34m\u001b[0m\u001b[0;34m\u001b[0m\u001b[0m\n\u001b[0m\u001b[1;32m   1780\u001b[0m \u001b[0;34m\u001b[0m\u001b[0m\n\u001b[1;32m   1781\u001b[0m \u001b[0;34m\u001b[0m\u001b[0m\n",
            "\u001b[0;32m/usr/local/lib/python3.7/dist-packages/tensorflow/python/ops/gen_array_ops.py\u001b[0m in \u001b[0;36mconcat_v2\u001b[0;34m(values, axis, name)\u001b[0m\n\u001b[1;32m   1260\u001b[0m     \u001b[0;32mtry\u001b[0m\u001b[0;34m:\u001b[0m\u001b[0;34m\u001b[0m\u001b[0;34m\u001b[0m\u001b[0m\n\u001b[1;32m   1261\u001b[0m       return concat_v2_eager_fallback(\n\u001b[0;32m-> 1262\u001b[0;31m           values, axis, name=name, ctx=_ctx)\n\u001b[0m\u001b[1;32m   1263\u001b[0m     \u001b[0;32mexcept\u001b[0m \u001b[0m_core\u001b[0m\u001b[0;34m.\u001b[0m\u001b[0m_SymbolicException\u001b[0m\u001b[0;34m:\u001b[0m\u001b[0;34m\u001b[0m\u001b[0;34m\u001b[0m\u001b[0m\n\u001b[1;32m   1264\u001b[0m       \u001b[0;32mpass\u001b[0m  \u001b[0;31m# Add nodes to the TensorFlow graph.\u001b[0m\u001b[0;34m\u001b[0m\u001b[0;34m\u001b[0m\u001b[0m\n",
            "\u001b[0;32m/usr/local/lib/python3.7/dist-packages/tensorflow/python/ops/gen_array_ops.py\u001b[0m in \u001b[0;36mconcat_v2_eager_fallback\u001b[0;34m(values, axis, name, ctx)\u001b[0m\n\u001b[1;32m   1290\u001b[0m         \"'concat_v2' Op, not %r.\" % values)\n\u001b[1;32m   1291\u001b[0m   \u001b[0m_attr_N\u001b[0m \u001b[0;34m=\u001b[0m \u001b[0mlen\u001b[0m\u001b[0;34m(\u001b[0m\u001b[0mvalues\u001b[0m\u001b[0;34m)\u001b[0m\u001b[0;34m\u001b[0m\u001b[0;34m\u001b[0m\u001b[0m\n\u001b[0;32m-> 1292\u001b[0;31m   \u001b[0m_attr_T\u001b[0m\u001b[0;34m,\u001b[0m \u001b[0mvalues\u001b[0m \u001b[0;34m=\u001b[0m \u001b[0m_execute\u001b[0m\u001b[0;34m.\u001b[0m\u001b[0margs_to_matching_eager\u001b[0m\u001b[0;34m(\u001b[0m\u001b[0mlist\u001b[0m\u001b[0;34m(\u001b[0m\u001b[0mvalues\u001b[0m\u001b[0;34m)\u001b[0m\u001b[0;34m,\u001b[0m \u001b[0mctx\u001b[0m\u001b[0;34m,\u001b[0m \u001b[0;34m[\u001b[0m\u001b[0;34m]\u001b[0m\u001b[0;34m)\u001b[0m\u001b[0;34m\u001b[0m\u001b[0;34m\u001b[0m\u001b[0m\n\u001b[0m\u001b[1;32m   1293\u001b[0m   \u001b[0m_attr_Tidx\u001b[0m\u001b[0;34m,\u001b[0m \u001b[0;34m(\u001b[0m\u001b[0maxis\u001b[0m\u001b[0;34m,\u001b[0m\u001b[0;34m)\u001b[0m \u001b[0;34m=\u001b[0m \u001b[0m_execute\u001b[0m\u001b[0;34m.\u001b[0m\u001b[0margs_to_matching_eager\u001b[0m\u001b[0;34m(\u001b[0m\u001b[0;34m[\u001b[0m\u001b[0maxis\u001b[0m\u001b[0;34m]\u001b[0m\u001b[0;34m,\u001b[0m \u001b[0mctx\u001b[0m\u001b[0;34m,\u001b[0m \u001b[0;34m[\u001b[0m\u001b[0m_dtypes\u001b[0m\u001b[0;34m.\u001b[0m\u001b[0mint32\u001b[0m\u001b[0;34m,\u001b[0m \u001b[0m_dtypes\u001b[0m\u001b[0;34m.\u001b[0m\u001b[0mint64\u001b[0m\u001b[0;34m,\u001b[0m \u001b[0;34m]\u001b[0m\u001b[0;34m,\u001b[0m \u001b[0m_dtypes\u001b[0m\u001b[0;34m.\u001b[0m\u001b[0mint32\u001b[0m\u001b[0;34m)\u001b[0m\u001b[0;34m\u001b[0m\u001b[0;34m\u001b[0m\u001b[0m\n\u001b[1;32m   1294\u001b[0m   \u001b[0m_inputs_flat\u001b[0m \u001b[0;34m=\u001b[0m \u001b[0mlist\u001b[0m\u001b[0;34m(\u001b[0m\u001b[0mvalues\u001b[0m\u001b[0;34m)\u001b[0m \u001b[0;34m+\u001b[0m \u001b[0;34m[\u001b[0m\u001b[0maxis\u001b[0m\u001b[0;34m]\u001b[0m\u001b[0;34m\u001b[0m\u001b[0;34m\u001b[0m\u001b[0m\n",
            "\u001b[0;32m/usr/local/lib/python3.7/dist-packages/tensorflow/python/eager/execute.py\u001b[0m in \u001b[0;36margs_to_matching_eager\u001b[0;34m(l, ctx, allowed_dtypes, default_dtype)\u001b[0m\n\u001b[1;32m    269\u001b[0m         \u001b[0mdtype\u001b[0m \u001b[0;34m=\u001b[0m \u001b[0mtensor\u001b[0m\u001b[0;34m.\u001b[0m\u001b[0mdtype\u001b[0m\u001b[0;34m\u001b[0m\u001b[0;34m\u001b[0m\u001b[0m\n\u001b[1;32m    270\u001b[0m   \u001b[0;32melse\u001b[0m\u001b[0;34m:\u001b[0m\u001b[0;34m\u001b[0m\u001b[0;34m\u001b[0m\u001b[0m\n\u001b[0;32m--> 271\u001b[0;31m     \u001b[0mret\u001b[0m \u001b[0;34m=\u001b[0m \u001b[0;34m[\u001b[0m\u001b[0mops\u001b[0m\u001b[0;34m.\u001b[0m\u001b[0mconvert_to_tensor\u001b[0m\u001b[0;34m(\u001b[0m\u001b[0mt\u001b[0m\u001b[0;34m,\u001b[0m \u001b[0mdtype\u001b[0m\u001b[0;34m,\u001b[0m \u001b[0mctx\u001b[0m\u001b[0;34m=\u001b[0m\u001b[0mctx\u001b[0m\u001b[0;34m)\u001b[0m \u001b[0;32mfor\u001b[0m \u001b[0mt\u001b[0m \u001b[0;32min\u001b[0m \u001b[0ml\u001b[0m\u001b[0;34m]\u001b[0m\u001b[0;34m\u001b[0m\u001b[0;34m\u001b[0m\u001b[0m\n\u001b[0m\u001b[1;32m    272\u001b[0m \u001b[0;34m\u001b[0m\u001b[0m\n\u001b[1;32m    273\u001b[0m   \u001b[0;31m# TODO(slebedev): consider removing this as it leaks a Keras concept.\u001b[0m\u001b[0;34m\u001b[0m\u001b[0;34m\u001b[0m\u001b[0;34m\u001b[0m\u001b[0m\n",
            "\u001b[0;32m/usr/local/lib/python3.7/dist-packages/tensorflow/python/eager/execute.py\u001b[0m in \u001b[0;36m<listcomp>\u001b[0;34m(.0)\u001b[0m\n\u001b[1;32m    269\u001b[0m         \u001b[0mdtype\u001b[0m \u001b[0;34m=\u001b[0m \u001b[0mtensor\u001b[0m\u001b[0;34m.\u001b[0m\u001b[0mdtype\u001b[0m\u001b[0;34m\u001b[0m\u001b[0;34m\u001b[0m\u001b[0m\n\u001b[1;32m    270\u001b[0m   \u001b[0;32melse\u001b[0m\u001b[0;34m:\u001b[0m\u001b[0;34m\u001b[0m\u001b[0;34m\u001b[0m\u001b[0m\n\u001b[0;32m--> 271\u001b[0;31m     \u001b[0mret\u001b[0m \u001b[0;34m=\u001b[0m \u001b[0;34m[\u001b[0m\u001b[0mops\u001b[0m\u001b[0;34m.\u001b[0m\u001b[0mconvert_to_tensor\u001b[0m\u001b[0;34m(\u001b[0m\u001b[0mt\u001b[0m\u001b[0;34m,\u001b[0m \u001b[0mdtype\u001b[0m\u001b[0;34m,\u001b[0m \u001b[0mctx\u001b[0m\u001b[0;34m=\u001b[0m\u001b[0mctx\u001b[0m\u001b[0;34m)\u001b[0m \u001b[0;32mfor\u001b[0m \u001b[0mt\u001b[0m \u001b[0;32min\u001b[0m \u001b[0ml\u001b[0m\u001b[0;34m]\u001b[0m\u001b[0;34m\u001b[0m\u001b[0;34m\u001b[0m\u001b[0m\n\u001b[0m\u001b[1;32m    272\u001b[0m \u001b[0;34m\u001b[0m\u001b[0m\n\u001b[1;32m    273\u001b[0m   \u001b[0;31m# TODO(slebedev): consider removing this as it leaks a Keras concept.\u001b[0m\u001b[0;34m\u001b[0m\u001b[0;34m\u001b[0m\u001b[0;34m\u001b[0m\u001b[0m\n",
            "\u001b[0;32m/usr/local/lib/python3.7/dist-packages/tensorflow/python/profiler/trace.py\u001b[0m in \u001b[0;36mwrapped\u001b[0;34m(*args, **kwargs)\u001b[0m\n\u001b[1;32m    181\u001b[0m         \u001b[0;32mwith\u001b[0m \u001b[0mTrace\u001b[0m\u001b[0;34m(\u001b[0m\u001b[0mtrace_name\u001b[0m\u001b[0;34m,\u001b[0m \u001b[0;34m**\u001b[0m\u001b[0mtrace_kwargs\u001b[0m\u001b[0;34m)\u001b[0m\u001b[0;34m:\u001b[0m\u001b[0;34m\u001b[0m\u001b[0;34m\u001b[0m\u001b[0m\n\u001b[1;32m    182\u001b[0m           \u001b[0;32mreturn\u001b[0m \u001b[0mfunc\u001b[0m\u001b[0;34m(\u001b[0m\u001b[0;34m*\u001b[0m\u001b[0margs\u001b[0m\u001b[0;34m,\u001b[0m \u001b[0;34m**\u001b[0m\u001b[0mkwargs\u001b[0m\u001b[0;34m)\u001b[0m\u001b[0;34m\u001b[0m\u001b[0;34m\u001b[0m\u001b[0m\n\u001b[0;32m--> 183\u001b[0;31m       \u001b[0;32mreturn\u001b[0m \u001b[0mfunc\u001b[0m\u001b[0;34m(\u001b[0m\u001b[0;34m*\u001b[0m\u001b[0margs\u001b[0m\u001b[0;34m,\u001b[0m \u001b[0;34m**\u001b[0m\u001b[0mkwargs\u001b[0m\u001b[0;34m)\u001b[0m\u001b[0;34m\u001b[0m\u001b[0;34m\u001b[0m\u001b[0m\n\u001b[0m\u001b[1;32m    184\u001b[0m \u001b[0;34m\u001b[0m\u001b[0m\n\u001b[1;32m    185\u001b[0m     \u001b[0;32mreturn\u001b[0m \u001b[0mwrapped\u001b[0m\u001b[0;34m\u001b[0m\u001b[0;34m\u001b[0m\u001b[0m\n",
            "\u001b[0;32m/usr/local/lib/python3.7/dist-packages/tensorflow/python/framework/ops.py\u001b[0m in \u001b[0;36mconvert_to_tensor\u001b[0;34m(value, dtype, name, as_ref, preferred_dtype, dtype_hint, ctx, accepted_result_types)\u001b[0m\n\u001b[1;32m   1702\u001b[0m           \u001b[0;34m\"%sConversion function %r for type %s returned non-Tensor: %r\"\u001b[0m \u001b[0;34m%\u001b[0m\u001b[0;34m\u001b[0m\u001b[0;34m\u001b[0m\u001b[0m\n\u001b[1;32m   1703\u001b[0m           (_error_prefix(name), conversion_func, base_type, ret))\n\u001b[0;32m-> 1704\u001b[0;31m     \u001b[0;32mif\u001b[0m \u001b[0mdtype\u001b[0m \u001b[0;32mand\u001b[0m \u001b[0;32mnot\u001b[0m \u001b[0mdtype\u001b[0m\u001b[0;34m.\u001b[0m\u001b[0mis_compatible_with\u001b[0m\u001b[0;34m(\u001b[0m\u001b[0mret\u001b[0m\u001b[0;34m.\u001b[0m\u001b[0mdtype\u001b[0m\u001b[0;34m)\u001b[0m\u001b[0;34m:\u001b[0m\u001b[0;34m\u001b[0m\u001b[0;34m\u001b[0m\u001b[0m\n\u001b[0m\u001b[1;32m   1705\u001b[0m       raise RuntimeError(\n\u001b[1;32m   1706\u001b[0m           \u001b[0;34m\"%sConversion function %r for type %s returned incompatible \"\u001b[0m\u001b[0;34m\u001b[0m\u001b[0;34m\u001b[0m\u001b[0m\n",
            "\u001b[0;32m/usr/local/lib/python3.7/dist-packages/tensorflow/python/framework/dtypes.py\u001b[0m in \u001b[0;36mis_compatible_with\u001b[0;34m(self, other)\u001b[0m\n\u001b[1;32m    170\u001b[0m     \"\"\"\n\u001b[1;32m    171\u001b[0m     \u001b[0mother\u001b[0m \u001b[0;34m=\u001b[0m \u001b[0mas_dtype\u001b[0m\u001b[0;34m(\u001b[0m\u001b[0mother\u001b[0m\u001b[0;34m)\u001b[0m\u001b[0;34m\u001b[0m\u001b[0;34m\u001b[0m\u001b[0m\n\u001b[0;32m--> 172\u001b[0;31m     return self._type_enum in (other.as_datatype_enum,\n\u001b[0m\u001b[1;32m    173\u001b[0m                                other.base_dtype.as_datatype_enum)\n\u001b[1;32m    174\u001b[0m \u001b[0;34m\u001b[0m\u001b[0m\n",
            "\u001b[0;31mKeyboardInterrupt\u001b[0m: "
          ]
        }
      ],
      "source": [
        "model = CommsSystemDataset(params={\"cir_data\":fm_cirs})\n",
        "tx2high_regions_fm_ldpc_ber, _ = sionna.utils.sim_ber(model, range(15), batch_size=256,\n",
        "                                          max_mc_iter=1000, num_target_bit_errors=500)"
      ]
    },
    {
      "cell_type": "code",
      "execution_count": null,
      "metadata": {
        "id": "_UQ0jR52VHcY"
      },
      "outputs": [],
      "source": [
        "if tx2high_regions_fm_ldpc_ber is None:\n",
        "  tx2high_regions_fm_ldpc_ber = [3.5177e-01, 3.2861e-01, 3.0475e-01, 2.7668e-01, 2.4901e-01, 2.1888e-01, 1.7103e-01, 4.6737e-02, 1.5517e-02, 4.6199e-03, 3.4731e-03, 6.2976e-04, 8.2602e-06, 0, 0]"
      ]
    },
    {
      "cell_type": "markdown",
      "metadata": {
        "id": "H4W0-7cTQTX2"
      },
      "source": [
        "### Simulated channel"
      ]
    },
    {
      "cell_type": "code",
      "execution_count": null,
      "metadata": {
        "colab": {
          "base_uri": "https://localhost:8080/"
        },
        "id": "V7_C8IGzYMzs",
        "outputId": "8e3e9dde-6aed-454e-df03-981df5421833"
      },
      "outputs": [
        {
          "output_type": "stream",
          "name": "stdout",
          "text": [
            "EbNo [dB] |        BER |       BLER |  bit errors |    num bits | block errors |  num blocks | runtime [s] |    status\n",
            "---------------------------------------------------------------------------------------------------------------------------------------\n",
            "      0.0 | 2.2211e-02 | 1.1719e-01 |        8870 |      399360 |           30 |         256 |         6.7 |iter: 0/1000\r      0.0 | 2.2211e-02 | 1.1719e-01 |        8870 |      399360 |           30 |         256 |         6.8 |reached target bit errors\n",
            "      1.0 | 2.0455e-02 | 1.0156e-01 |        8169 |      399360 |           26 |         256 |         0.1 |iter: 0/1000\r      1.0 | 2.0455e-02 | 1.0156e-01 |        8169 |      399360 |           26 |         256 |         0.1 |reached target bit errors\n",
            "      2.0 | 1.2630e-02 | 5.8594e-02 |        5044 |      399360 |           15 |         256 |         0.1 |reached target bit errors\n",
            "      3.0 | 3.5357e-03 | 2.3438e-02 |        1412 |      399360 |            6 |         256 |         0.1 |reached target bit errors\n",
            "      4.0 | 3.1275e-03 | 1.1719e-02 |        1249 |      399360 |            3 |         256 |         0.1 |reached target bit errors\n",
            "      5.0 | 2.2498e-03 | 1.1719e-02 |        1797 |      798720 |            6 |         512 |         0.1 |reached target bit errors\n",
            "      6.0 | 1.7328e-03 | 7.8125e-03 |         692 |      399360 |            2 |         256 |         0.1 |reached target bit errors\n",
            "      7.0 | 3.8520e-04 | 2.6042e-03 |         923 |     2396160 |            4 |        1536 |         0.4 |reached target bit errors\n",
            "      8.0 | 3.7210e-04 | 1.5625e-03 |         743 |     1996800 |            2 |        1280 |         0.3 |reached target bit errors\n",
            "      9.0 | 2.5510e-04 | 9.7656e-04 |         815 |     3194880 |            2 |        2048 |         0.5 |reached target bit errors\n",
            "     10.0 | 1.5101e-04 | 6.0096e-04 |         784 |     5191680 |            2 |        3328 |         0.8 |reached target bit errors\n",
            "     11.0 | 2.2422e-04 | 7.1023e-04 |         985 |     4392960 |            2 |        2816 |         0.7 |reached target bit errors\n",
            "     12.0 | 4.0855e-05 | 2.0559e-04 |         620 |    15175680 |            2 |        9728 |         2.4 |reached target bit errors\n",
            "     13.0 | 5.2782e-05 | 2.0559e-04 |         801 |    15175680 |            2 |        9728 |         2.4 |reached target bit errors\n",
            "     14.0 | 1.8295e-05 | 7.0383e-05 |         811 |    44328960 |            2 |       28416 |         7.0 |reached target bit errors\n"
          ]
        }
      ],
      "source": [
        "model = CommsSystemRiceChannel(params={\"kfactor\":common_k_factor})\n",
        "tx2high_regions_sim_ldpc_ber, _ = sionna.utils.sim_ber(model, range(15), batch_size=256,\n",
        "                                          max_mc_iter=1000, num_target_bit_errors=500)"
      ]
    },
    {
      "cell_type": "markdown",
      "metadata": {
        "id": "xvYp7g7oJEEW"
      },
      "source": [
        "### Comparison"
      ]
    },
    {
      "cell_type": "code",
      "source": [
        "reg_bers = {'Flat': [2.2211e-02, 2.0455e-02, 1.2630e-02, 3.5357e-03, 3.1275e-03, 2.2498e-03, 1.7328e-03, 3.8520e-04, 3.7210e-04, 2.5510e-04, 1.5101e-04, 2.2422e-04, 4.0855e-05, 5.2782e-05, 1.8295e-05],\n",
        "'F/M': [3.5177e-01, 3.2861e-01, 3.0475e-01, 2.7668e-01, 2.4901e-01, 2.1888e-01, 1.7103e-01, 4.6737e-02, 1.5517e-02, 4.6199e-03, 3.4731e-03, 6.2976e-04, 8.2602e-06, 0, 0],\n",
        "'S/S': [3.5273e-01, 3.2943e-01, 3.0452e-01, 2.8243e-01, 2.5157e-01, 2.1787e-01, 1.7070e-01, 3.9611e-02, 1.5698e-02, 1.3038e-02, 7.3017e-03, 2.3888e-03, 4.5656e-04, 1.7904e-04, 0],\n",
        "'MoM': [3.5307e-01, 3.3031e-01, 3.0346e-01, 2.7856e-01, 2.5110e-01, 2.1753e-01, 1.7552e-01, 4.7691e-02, 1.5512e-02, 4.8327e-03, 6.4954e-03, 2.1134e-03, 7.9961e-04, 2.0376e-04, 7.7872e-06]}"
      ],
      "metadata": {
        "id": "MuVLg8RDxTmP"
      },
      "execution_count": null,
      "outputs": []
    },
    {
      "cell_type": "code",
      "source": [
        "reg_blers = {\n",
        "    'Sim': [1.1719e-01, 1.0156e-01, 5.8594e-02, 2.3438e-02, 1.1719e-02, 1.1719e-02, 7.8125e-03, 2.6042e-03, 1.5625e-03, 9.7656e-04, 6.0096e-04, 7.1023e-04, 2.0559e-04, 2.0559e-04, 7.0383e-05],\n",
        "    'FM': [1.0000e+00, 1.0000e+00, 1.0000e+00, 1.0000e+00, 1.0000e+00, 1.0000e+00, 9.9609e-01, 3.5156e-01, 9.3750e-02, 2.7344e-02, 3.1250e-02, 3.9062e-03, 4.7637e-05, 0, 0],\n",
        "    'SS': [1.0000e+00, 1.0000e+00, 1.0000e+00, 1.0000e+00, 1.0000e+00, 1.0000e+00, 9.9609e-01, 2.9688e-01, 8.9844e-02, 7.4219e-02, 3.9062e-02, 1.1719e-02, 2.6042e-03, 1.1719e-03,0],\n",
        "    'MoM': [1.0000e+00, 1.0000e+00, 1.0000e+00, 1.0000e+00, 1.0000e+00, 1.0000e+00, 1.0000e+00, 3.5156e-01, 8.5938e-02, 2.7344e-02, 3.9062e-02, 1.1719e-02, 5.2083e-03, 1.4648e-03, 6.4389e-05]\n",
        "}"
      ],
      "metadata": {
        "id": "sh0yQxIKm7z4"
      },
      "execution_count": null,
      "outputs": []
    },
    {
      "cell_type": "code",
      "execution_count": null,
      "metadata": {
        "id": "tZjKT_jo1gwk"
      },
      "outputs": [],
      "source": [
        "reg_bers = {'MoM':mom_regions_validation_ber,\n",
        "            'FM': fm_regions_validation_ber,\n",
        "            'SM': sm_regions_validation_ber,\n",
        "            'Sim': sim_channel_regions_ber[0]}"
      ]
    },
    {
      "cell_type": "code",
      "execution_count": null,
      "metadata": {
        "id": "Y3uoSFZt1i4G"
      },
      "outputs": [],
      "source": [
        "import pickle\n",
        "pickle.dump(reg_bers, open('region_based_BER.pickle', 'wb'))"
      ]
    },
    {
      "cell_type": "code",
      "execution_count": null,
      "metadata": {
        "colab": {
          "base_uri": "https://localhost:8080/"
        },
        "id": "J5xhzkFp64zi",
        "outputId": "26410480-b59f-4b59-bfcc-b498d9c92b3a"
      },
      "outputs": [
        {
          "data": {
            "text/plain": [
              "9.08578830453847"
            ]
          },
          "execution_count": 61,
          "metadata": {},
          "output_type": "execute_result"
        }
      ],
      "source": [
        "common_k_factor"
      ]
    },
    {
      "cell_type": "markdown",
      "metadata": {
        "id": "UtNyAZkZ6zTR"
      },
      "source": [
        "BER comparison\n",
        "* measurement, regions with common k factor\n",
        "* simulation, Rice flat fading with common k factor"
      ]
    },
    {
      "cell_type": "code",
      "execution_count": null,
      "metadata": {
        "colab": {
          "base_uri": "https://localhost:8080/",
          "height": 276
        },
        "id": "lZ4cZvhA5wUq",
        "outputId": "20dc4d5a-0792-4ad8-dec1-75072cbd5db1"
      },
      "outputs": [
        {
          "output_type": "display_data",
          "data": {
            "text/plain": [
              "<Figure size 432x288 with 1 Axes>"
            ],
            "image/png": "[encoded data removed]"
          },
          "metadata": {}
        }
      ],
      "source": [
        "for est, ber in reg_bers.items():\n",
        "  plt.semilogy(range(15), ber, label=est)\n",
        "plt.legend()\n",
        "plt.xlabel('SNR (dB)')\n",
        "plt.ylabel('BER')\n",
        "plt.savefig('common_kfactor_BER_tx2high.pdf', dpi=150)"
      ]
    },
    {
      "cell_type": "markdown",
      "source": [
        "And Block Error Rate"
      ],
      "metadata": {
        "id": "Xg_JFMuNoDfT"
      }
    },
    {
      "cell_type": "code",
      "execution_count": null,
      "metadata": {
        "colab": {
          "base_uri": "https://localhost:8080/",
          "height": 296
        },
        "outputId": "6532e09a-4e5d-444d-8216-f4eb31aad26d",
        "id": "HHeBctzsoCvi"
      },
      "outputs": [
        {
          "output_type": "execute_result",
          "data": {
            "text/plain": [
              "Text(0, 0.5, 'BLER')"
            ]
          },
          "metadata": {},
          "execution_count": 33
        },
        {
          "output_type": "display_data",
          "data": {
            "text/plain": [
              "<Figure size 432x288 with 1 Axes>"
            ],
            "image/png": "[encoded data removed]"
          },
          "metadata": {
            "needs_background": "light"
          }
        }
      ],
      "source": [
        "for est, bler in reg_blers.items():\n",
        "  plt.semilogy(range(15), bler, label=est)\n",
        "plt.legend()\n",
        "plt.xlabel('SNR (dB)')\n",
        "plt.ylabel('BLER')\n",
        "#plt.savefig('common_kfactor_BER_tx2high.pdf', dpi=150)"
      ]
    },
    {
      "cell_type": "markdown",
      "metadata": {
        "id": "bqS2rM6d6ZCX"
      },
      "source": [
        "Results show that the measured CIRs always achieve the same result regardless of the estimator used.\n",
        "We know that the three estimators "
      ]
    },
    {
      "cell_type": "code",
      "execution_count": null,
      "metadata": {
        "id": "Bo1ZDId7PaKd"
      },
      "outputs": [],
      "source": [
        "reg_bers_tx2high_ldpc = {'MoM':tx2high_regions_mom_ldpc_ber,\n",
        "                        'FM': tx2high_regions_fm_ldpc_ber,\n",
        "                        'SM': tx2high_regions_sm_ldpc_ber,\n",
        "                         'Sim': tx2high_regions_sim_ldpc_ber}"
      ]
    },
    {
      "cell_type": "markdown",
      "source": [
        "BER results for same k factor 9."
      ],
      "metadata": {
        "id": "emTKuwGNkVPO"
      }
    },
    {
      "cell_type": "code",
      "execution_count": null,
      "metadata": {
        "id": "9-mN0p2rPnvo",
        "colab": {
          "base_uri": "https://localhost:8080/",
          "height": 296
        },
        "outputId": "42c6b26c-68e0-42b3-de4b-492b877db966"
      },
      "outputs": [
        {
          "output_type": "execute_result",
          "data": {
            "text/plain": [
              "Text(0, 0.5, 'BER')"
            ]
          },
          "metadata": {},
          "execution_count": 49
        },
        {
          "output_type": "display_data",
          "data": {
            "text/plain": [
              "<Figure size 432x288 with 1 Axes>"
            ],
            "image/png": "[encoded data removed]"
          },
          "metadata": {
            "needs_background": "light"
          }
        }
      ],
      "source": [
        "for est, ber in reg_bers_tx2high_ldpc.items():\n",
        "  plt.semilogy(range(15), ber, label=est)\n",
        "plt.legend()\n",
        "plt.xlabel('SNR (dB)')\n",
        "plt.ylabel('BER')"
      ]
    },
    {
      "cell_type": "code",
      "execution_count": null,
      "metadata": {
        "colab": {
          "base_uri": "https://localhost:8080/",
          "height": 270
        },
        "id": "fdsipTPZJIsH",
        "outputId": "ad128cc3-5bbe-4702-e489-848daf474bba"
      },
      "outputs": [
        {
          "data": {
            "image/png": "[encoded data removed]",
            "text/plain": [
              "<Figure size 432x288 with 1 Axes>"
            ]
          },
          "metadata": {},
          "output_type": "display_data"
        }
      ],
      "source": [
        "reg_means = [np.mean(list(zip(*bers))[0]) for bers in reg_bers]\n",
        "#means += [np.mean(list(zip(*dataset_ber))[0])]\n",
        "stddevs = [np.std(list(zip(*bers))[0]) for bers in reg_bers]\n",
        "#stddevs += [np.std(list(zip(*dataset_ber))[0])]\n",
        "plt.errorbar([1,2,3,4], reg_means, yerr=stddevs, fmt='o')\n",
        "plt.yscale('log')\n",
        "_=plt.xticks([1,2,3,4], ['MoM', 'FM', 'SM', 'Sim'])\n",
        "plt.grid(axis='y', which='major')"
      ]
    },
    {
      "cell_type": "markdown",
      "source": [
        "## Validation on FM regions\n",
        "\n",
        "FM has a wide variation in the k factor"
      ],
      "metadata": {
        "id": "M9Boqw9KSTLy"
      }
    },
    {
      "cell_type": "code",
      "source": [
        "from random import sample"
      ],
      "metadata": {
        "id": "W4S-2-iCNDon"
      },
      "execution_count": null,
      "outputs": []
    },
    {
      "cell_type": "code",
      "source": [
        "fm_ber_regions = {}\n",
        "# First find the min-sized window\n",
        "windows_sizes = []\n",
        "for fm_k in range(0,11,2):\n",
        "  fm_cirs = get_CIR_samples_for_regions(cir_iq_data,\n",
        "                                        get_kfactor_regions(fm_k, kfactors[['FM', 'idx_start', 'idx_end']]))\n",
        "  windows_sizes.append(len(fm_cirs))\n",
        "\n",
        "for fm_k in range(0,11,2):\n",
        "  fm_cirs = get_CIR_samples_for_regions(cir_iq_data,\n",
        "                                        get_kfactor_regions(fm_k, kfactors[['FM', 'idx_start', 'idx_end']]))\n",
        "  # Reduce all windows to the size of the minimum one by sampling\n",
        "  model = CommsSystemDataset(params={\"cir_data\":sample(fm_cirs,  min(windows_sizes))})\n",
        "  fm_regions_validation_ber = []\n",
        "  for i in range(5):\n",
        "    ber, _ = sionna.utils.sim_ber(model, [11], batch_size=256,\n",
        "                                          max_mc_iter=1000, num_target_bit_errors=500)\n",
        "    fm_regions_validation_ber.append(ber)\n",
        "  fm_ber_regions[fm_k] = {'ber': fm_regions_validation_ber, 'region_size': len(fm_cirs)}"
      ],
      "metadata": {
        "colab": {
          "base_uri": "https://localhost:8080/"
        },
        "id": "5IhCXz2PSZw2",
        "outputId": "5c473dd9-75ee-4556-b89e-56214b0fe449"
      },
      "execution_count": null,
      "outputs": [
        {
          "output_type": "stream",
          "name": "stdout",
          "text": [
            "EbNo [dB] |        BER |       BLER |  bit errors |    num bits | block errors |  num blocks | runtime [s] |    status\n",
            "---------------------------------------------------------------------------------------------------------------------------------------\n",
            "     11.0 | 9.0770e-04 | 5.8594e-03 |         725 |      798720 |            3 |         512 |        24.8 |reached target bit errors\n",
            "EbNo [dB] |        BER |       BLER |  bit errors |    num bits | block errors |  num blocks | runtime [s] |    status\n",
            "---------------------------------------------------------------------------------------------------------------------------------------\n",
            "     11.0 | 1.7027e-03 | 1.1719e-02 |         680 |      399360 |            3 |         256 |        12.1 |reached target bit errors\n",
            "EbNo [dB] |        BER |       BLER |  bit errors |    num bits | block errors |  num blocks | runtime [s] |    status\n",
            "---------------------------------------------------------------------------------------------------------------------------------------\n",
            "     11.0 | 3.1325e-03 | 1.9531e-02 |        1251 |      399360 |            5 |         256 |        12.2 |reached target bit errors\n",
            "EbNo [dB] |        BER |       BLER |  bit errors |    num bits | block errors |  num blocks | runtime [s] |    status\n",
            "---------------------------------------------------------------------------------------------------------------------------------------\n",
            "     11.0 | 6.6732e-04 | 5.8594e-03 |         533 |      798720 |            3 |         512 |        24.1 |reached target bit errors\n",
            "EbNo [dB] |        BER |       BLER |  bit errors |    num bits | block errors |  num blocks | runtime [s] |    status\n",
            "---------------------------------------------------------------------------------------------------------------------------------------\n",
            "     11.0 | 1.6001e-03 | 1.1719e-02 |         639 |      399360 |            3 |         256 |        12.0 |reached target bit errors\n",
            "EbNo [dB] |        BER |       BLER |  bit errors |    num bits | block errors |  num blocks | runtime [s] |    status\n",
            "---------------------------------------------------------------------------------------------------------------------------------------\n",
            "     11.0 | 9.0144e-05 | 1.1489e-03 |         612 |     6789120 |            5 |        4352 |       206.1 |reached target bit errors\n",
            "EbNo [dB] |        BER |       BLER |  bit errors |    num bits | block errors |  num blocks | runtime [s] |    status\n",
            "---------------------------------------------------------------------------------------------------------------------------------------\n",
            "     11.0 | 7.1963e-05 | 5.0951e-04 |         661 |     9185280 |            3 |        5888 |       271.1 |reached target bit errors\n",
            "EbNo [dB] |        BER |       BLER |  bit errors |    num bits | block errors |  num blocks | runtime [s] |    status\n",
            "---------------------------------------------------------------------------------------------------------------------------------------\n",
            "     11.0 | 7.7492e-05 | 1.0280e-03 |         588 |     7587840 |            5 |        4864 |       222.2 |reached target bit errors\n",
            "EbNo [dB] |        BER |       BLER |  bit errors |    num bits | block errors |  num blocks | runtime [s] |    status\n",
            "---------------------------------------------------------------------------------------------------------------------------------------\n",
            "     11.0 | 7.1364e-05 | 8.8778e-04 |         627 |     8785920 |            5 |        5632 |       256.8 |reached target bit errors\n",
            "EbNo [dB] |        BER |       BLER |  bit errors |    num bits | block errors |  num blocks | runtime [s] |    status\n",
            "---------------------------------------------------------------------------------------------------------------------------------------\n",
            "     11.0 | 6.2800e-05 | 9.3750e-04 |         627 |     9984000 |            6 |        6400 |       292.1 |reached target bit errors\n",
            "EbNo [dB] |        BER |       BLER |  bit errors |    num bits | block errors |  num blocks | runtime [s] |    status\n",
            "---------------------------------------------------------------------------------------------------------------------------------------\n",
            "     11.0 | 1.4360e-03 | 7.8125e-03 |        1147 |      798720 |            4 |         512 |        23.5 |reached target bit errors\n",
            "EbNo [dB] |        BER |       BLER |  bit errors |    num bits | block errors |  num blocks | runtime [s] |    status\n",
            "---------------------------------------------------------------------------------------------------------------------------------------\n",
            "     11.0 | 4.7551e-03 | 2.3438e-02 |        1899 |      399360 |            6 |         256 |        11.7 |reached target bit errors\n",
            "EbNo [dB] |        BER |       BLER |  bit errors |    num bits | block errors |  num blocks | runtime [s] |    status\n",
            "---------------------------------------------------------------------------------------------------------------------------------------\n",
            "     11.0 | 2.0808e-03 | 1.1719e-02 |         831 |      399360 |            3 |         256 |        11.7 |reached target bit errors\n",
            "EbNo [dB] |        BER |       BLER |  bit errors |    num bits | block errors |  num blocks | runtime [s] |    status\n",
            "---------------------------------------------------------------------------------------------------------------------------------------\n",
            "     11.0 | 1.0141e-03 | 5.8594e-03 |         810 |      798720 |            3 |         512 |        23.4 |reached target bit errors\n",
            "EbNo [dB] |        BER |       BLER |  bit errors |    num bits | block errors |  num blocks | runtime [s] |    status\n",
            "---------------------------------------------------------------------------------------------------------------------------------------\n",
            "     11.0 | 2.1184e-03 | 1.1719e-02 |         846 |      399360 |            3 |         256 |        11.7 |reached target bit errors\n",
            "EbNo [dB] |        BER |       BLER |  bit errors |    num bits | block errors |  num blocks | runtime [s] |    status\n",
            "---------------------------------------------------------------------------------------------------------------------------------------\n",
            "     11.0 | 2.5541e-03 | 1.5625e-02 |        1020 |      399360 |            4 |         256 |        11.7 |reached target bit errors\n",
            "EbNo [dB] |        BER |       BLER |  bit errors |    num bits | block errors |  num blocks | runtime [s] |    status\n",
            "---------------------------------------------------------------------------------------------------------------------------------------\n",
            "     11.0 | 1.7052e-03 | 1.1719e-02 |         681 |      399360 |            3 |         256 |        11.8 |reached target bit errors\n",
            "EbNo [dB] |        BER |       BLER |  bit errors |    num bits | block errors |  num blocks | runtime [s] |    status\n",
            "---------------------------------------------------------------------------------------------------------------------------------------\n",
            "     11.0 | 1.1030e-03 | 6.8359e-03 |        1762 |     1597440 |            7 |        1024 |        46.8 |reached target bit errors\n",
            "EbNo [dB] |        BER |       BLER |  bit errors |    num bits | block errors |  num blocks | runtime [s] |    status\n",
            "---------------------------------------------------------------------------------------------------------------------------------------\n",
            "     11.0 | 6.4353e-04 | 3.9062e-03 |         514 |      798720 |            2 |         512 |        23.3 |reached target bit errors\n",
            "EbNo [dB] |        BER |       BLER |  bit errors |    num bits | block errors |  num blocks | runtime [s] |    status\n",
            "---------------------------------------------------------------------------------------------------------------------------------------\n",
            "     11.0 | 5.8928e-04 | 3.9062e-03 |         706 |     1198080 |            3 |         768 |        35.2 |reached target bit errors\n",
            "EbNo [dB] |        BER |       BLER |  bit errors |    num bits | block errors |  num blocks | runtime [s] |    status\n",
            "---------------------------------------------------------------------------------------------------------------------------------------\n",
            "     11.0 | 6.5522e-04 | 5.2083e-03 |         785 |     1198080 |            4 |         768 |        35.3 |reached target bit errors\n",
            "EbNo [dB] |        BER |       BLER |  bit errors |    num bits | block errors |  num blocks | runtime [s] |    status\n",
            "---------------------------------------------------------------------------------------------------------------------------------------\n",
            "     11.0 | 4.2268e-04 | 3.1250e-03 |         844 |     1996800 |            4 |        1280 |        58.5 |reached target bit errors\n",
            "EbNo [dB] |        BER |       BLER |  bit errors |    num bits | block errors |  num blocks | runtime [s] |    status\n",
            "---------------------------------------------------------------------------------------------------------------------------------------\n",
            "     11.0 | 2.1534e-04 | 1.6741e-03 |         602 |     2795520 |            3 |        1792 |        82.6 |reached target bit errors\n",
            "EbNo [dB] |        BER |       BLER |  bit errors |    num bits | block errors |  num blocks | runtime [s] |    status\n",
            "---------------------------------------------------------------------------------------------------------------------------------------\n",
            "     11.0 | 8.4135e-04 | 5.8594e-03 |         672 |      798720 |            3 |         512 |        23.3 |reached target bit errors\n",
            "EbNo [dB] |        BER |       BLER |  bit errors |    num bits | block errors |  num blocks | runtime [s] |    status\n",
            "---------------------------------------------------------------------------------------------------------------------------------------\n",
            "     11.0 | 4.3445e-04 | 2.9297e-03 |         694 |     1597440 |            3 |        1024 |        46.9 |reached target bit errors\n",
            "EbNo [dB] |        BER |       BLER |  bit errors |    num bits | block errors |  num blocks | runtime [s] |    status\n",
            "---------------------------------------------------------------------------------------------------------------------------------------\n",
            "     11.0 | 1.3822e-03 | 7.8125e-03 |        1104 |      798720 |            4 |         512 |        23.4 |reached target bit errors\n",
            "EbNo [dB] |        BER |       BLER |  bit errors |    num bits | block errors |  num blocks | runtime [s] |    status\n",
            "---------------------------------------------------------------------------------------------------------------------------------------\n",
            "     11.0 | 3.4405e-03 | 1.5625e-02 |        1374 |      399360 |            4 |         256 |        11.7 |reached target bit errors\n",
            "EbNo [dB] |        BER |       BLER |  bit errors |    num bits | block errors |  num blocks | runtime [s] |    status\n",
            "---------------------------------------------------------------------------------------------------------------------------------------\n",
            "     11.0 | 1.4899e-03 | 7.8125e-03 |         595 |      399360 |            2 |         256 |        11.7 |reached target bit errors\n",
            "EbNo [dB] |        BER |       BLER |  bit errors |    num bits | block errors |  num blocks | runtime [s] |    status\n",
            "---------------------------------------------------------------------------------------------------------------------------------------\n",
            "     11.0 | 1.5199e-03 | 7.8125e-03 |        1214 |      798720 |            4 |         512 |        23.2 |reached target bit errors\n",
            "EbNo [dB] |        BER |       BLER |  bit errors |    num bits | block errors |  num blocks | runtime [s] |    status\n",
            "---------------------------------------------------------------------------------------------------------------------------------------\n",
            "     11.0 | 6.2767e-04 | 3.9062e-03 |         752 |     1198080 |            3 |         768 |        34.9 |reached target bit errors\n"
          ]
        }
      ]
    },
    {
      "cell_type": "code",
      "source": [
        "plt.errorbar(range(0,11,2), [np.mean(fm_ber_regions[k]['ber']) for k in range(0,11,2)],\n",
        "                            yerr=[np.std(fm_ber_regions[k]['ber']) for k in range(0,11,2)], fmt='o')\n",
        "plt.yscale('log')\n",
        "plt.xlabel('K factor (dB)')\n",
        "plt.ylabel('BER')"
      ],
      "metadata": {
        "colab": {
          "base_uri": "https://localhost:8080/",
          "height": 296
        },
        "id": "fTtft6EkWymF",
        "outputId": "bd4e29d8-d965-4823-b979-f868274f3d15"
      },
      "execution_count": null,
      "outputs": [
        {
          "output_type": "execute_result",
          "data": {
            "text/plain": [
              "Text(0, 0.5, 'BER')"
            ]
          },
          "metadata": {},
          "execution_count": 21
        },
        {
          "output_type": "display_data",
          "data": {
            "text/plain": [
              "<Figure size 432x288 with 1 Axes>"
            ],
            "image/png": "[encoded data removed]"
          },
          "metadata": {
            "needs_background": "light"
          }
        }
      ]
    },
    {
      "cell_type": "markdown",
      "source": [
        "Results above are for regions where the F/M estimator obtains the indicated k factor values, at an SNR of 11dB. Data is from the TX2high measurement."
      ],
      "metadata": {
        "id": "rayBrDmzXimS"
      }
    },
    {
      "cell_type": "code",
      "source": [
        "plt.plot(range(0,11,2), [fm_ber_regions[k]['region_size'] for k in range(0,11,2)], 'o')\n",
        "plt.xlabel('K factor (dB)')\n",
        "plt.ylabel('Number of samples')"
      ],
      "metadata": {
        "colab": {
          "base_uri": "https://localhost:8080/",
          "height": 296
        },
        "id": "Aap9Qm1dYUkD",
        "outputId": "11a64958-42e1-4fb3-e0c9-a5d4b10895e1"
      },
      "execution_count": null,
      "outputs": [
        {
          "output_type": "execute_result",
          "data": {
            "text/plain": [
              "Text(0, 0.5, 'Number of samples')"
            ]
          },
          "metadata": {},
          "execution_count": 22
        },
        {
          "output_type": "display_data",
          "data": {
            "text/plain": [
              "<Figure size 432x288 with 1 Axes>"
            ],
            "image/png": "[encoded data removed]"
          },
          "metadata": {
            "needs_background": "light"
          }
        }
      ]
    },
    {
      "cell_type": "markdown",
      "metadata": {
        "id": "9joYO1K7zvlQ"
      },
      "source": [
        "## Validation on all common k-factor regions"
      ]
    },
    {
      "cell_type": "code",
      "execution_count": null,
      "metadata": {
        "id": "6lhBVWCjJE_y"
      },
      "outputs": [],
      "source": [
        "def validate_ber_all(kfactor, dataset, kfactors, snr):\n",
        "  \"\"\"Compare the BER of measured vs simulated for all three estimators\"\"\"\n",
        "  # MoM\n",
        "  mom_cirs = get_CIR_samples_for_regions(dataset,\n",
        "                  get_kfactor_regions(kfactor, kfactors[['MoM', 'idx_start', 'idx_end']]))\n",
        "  print(f\"MoM samples {len(mom_cirs)} for K={kfactor}\")\n",
        "  model = CommsSystemDataset(params={\"cir_data\":mom_cirs})\n",
        "  mom_regions_validation_ber = []\n",
        "  for i in range(5):\n",
        "    ber, _ = sionna.utils.sim_ber(model, [snr], batch_size=256,\n",
        "                                          max_mc_iter=1000, num_target_bit_errors=500)\n",
        "    mom_regions_validation_ber.append(ber)\n",
        "\n",
        "  # SM\n",
        "  sm_cirs = get_CIR_samples_for_regions(dataset,\n",
        "                  get_kfactor_regions(kfactor, kfactors[['SM', 'idx_start', 'idx_end']]))\n",
        "  print(f\"SM samples {len(sm_cirs)} for K={kfactor}\")\n",
        "  model = CommsSystemDataset(params={\"cir_data\":sm_cirs})\n",
        "  sm_regions_validation_ber = []\n",
        "  for i in range(5):\n",
        "    ber, _ = sionna.utils.sim_ber(model, [snr], batch_size=256,\n",
        "                                          max_mc_iter=1000, num_target_bit_errors=500)\n",
        "    sm_regions_validation_ber.append(ber)\n",
        "\n",
        "  # FM\n",
        "  fm_cirs = get_CIR_samples_for_regions(dataset,\n",
        "                  get_kfactor_regions(kfactor, kfactors[['FM', 'idx_start', 'idx_end']]))\n",
        "  print(f\"FM samples {len(fm_cirs)} for K={kfactor}\")\n",
        "  model = CommsSystemDataset(params={\"cir_data\":fm_cirs})\n",
        "  fm_regions_validation_ber = []\n",
        "  for i in range(5):\n",
        "    ber, _ = sionna.utils.sim_ber(model, [snr], batch_size=256,\n",
        "                                          max_mc_iter=1000, num_target_bit_errors=500)\n",
        "    fm_regions_validation_ber.append(ber)\n",
        "\n",
        "  ## Simulated\n",
        "  #model = CommsSystemRiceChannel(params={\"kfactor\":kfactor})\n",
        "  #sim_regions_validation_ber = []\n",
        "  #for i in range(5):\n",
        "  #  ber, _ = sionna.utils.sim_ber(model, [snr], batch_size=256,\n",
        "  #                                        max_mc_iter=1000, num_target_bit_errors=500)\n",
        "  #  sim_regions_validation_ber.append(ber)\n",
        "\n",
        "  return {'MoM': mom_regions_validation_ber,\n",
        "          'SM': sm_regions_validation_ber,\n",
        "          'FM': fm_regions_validation_ber}\n",
        "          #'Sim': sim_regions_validation_ber}"
      ]
    },
    {
      "cell_type": "code",
      "execution_count": null,
      "metadata": {
        "id": "w57RA5xHT-ZM"
      },
      "outputs": [],
      "source": [
        "def compare_lambda_windows(kfactor, kfactors):\n",
        "  \"\"\"Compare the lambda windows for a certain kfactor to measure overlapping\"\"\"\n",
        "  # MoM\n",
        "  mom_cirs = get_kfactor_regions(kfactor, kfactors[['MoM', 'idx_start', 'idx_end']])\n",
        "  mom_windows = set(list(zip(*list(mom_cirs)))[0])\n",
        "                     \n",
        "  # SM\n",
        "  sm_cirs = get_kfactor_regions(kfactor, kfactors[['SM', 'idx_start', 'idx_end']])\n",
        "  sm_windows = set(list(zip(*list(sm_cirs)))[0])\n",
        "  \n",
        "  # FM\n",
        "  fm_cirs = get_kfactor_regions(kfactor, kfactors[['FM', 'idx_start', 'idx_end']])\n",
        "  fm_windows = set(list(zip(*list(fm_cirs)))[0])\n",
        "  \n",
        "  # Need to determine the size of the intersection between the windows\n",
        "  # as well as the size of the unique samples\n",
        "  intersection = mom_windows & sm_windows & fm_windows\n",
        "\n",
        "  differences = {\n",
        "      'MoM': mom_windows,\n",
        "      'SM': sm_windows,\n",
        "      'FM': fm_windows\n",
        "  }\n",
        "\n",
        "  return differences"
      ]
    },
    {
      "cell_type": "code",
      "execution_count": null,
      "metadata": {
        "id": "VSRBXtqzVd-t"
      },
      "outputs": [],
      "source": [
        "def validate_ber_all_snr_range(kfactor, dataset, kfactors, snr_range):\n",
        "  \"\"\"Compare the BER of measured vs simulated for all three estimators\"\"\"\n",
        "  # MoM\n",
        "  mom_cirs = get_CIR_samples_for_regions(dataset,\n",
        "                  get_kfactor_regions(kfactor, kfactors[['MoM', 'idx_start', 'idx_end']]))\n",
        "  print(f\"MoM samples {len(mom_cirs)} for K={kfactor}\")\n",
        "  model = CommsSystemDataset(params={\"cir_data\":mom_cirs})\n",
        "  mom_regions_validation_ber = sionna.utils.sim_ber(model, snr_range, batch_size=256,\n",
        "                                          max_mc_iter=1000, num_target_bit_errors=500)\n",
        "\n",
        "  # SM\n",
        "  sm_cirs = get_CIR_samples_for_regions(dataset,\n",
        "                  get_kfactor_regions(kfactor, kfactors[['SM', 'idx_start', 'idx_end']]))\n",
        "  print(f\"SM samples {len(sm_cirs)} for K={kfactor}\")\n",
        "  model = CommsSystemDataset(params={\"cir_data\":sm_cirs})\n",
        "  sm_regions_validation_ber = sionna.utils.sim_ber(model, snr_range, batch_size=256,\n",
        "                                          max_mc_iter=1000, num_target_bit_errors=500)\n",
        "\n",
        "  # FM\n",
        "  fm_cirs = get_CIR_samples_for_regions(dataset,\n",
        "                  get_kfactor_regions(kfactor, kfactors[['FM', 'idx_start', 'idx_end']]))\n",
        "  print(f\"FM samples {len(fm_cirs)} for K={kfactor}\")\n",
        "  model = CommsSystemDataset(params={\"cir_data\":fm_cirs})\n",
        "  fm_regions_validation_ber = sionna.utils.sim_ber(model, snr_range, batch_size=256,\n",
        "                                          max_mc_iter=1000, num_target_bit_errors=500)\n",
        "\n",
        "  ## Simulated\n",
        "  #model = CommsSystemRiceChannel(params={\"kfactor\":kfactor})\n",
        "  #sim_regions_validation_ber = []\n",
        "  #for i in range(5):\n",
        "  #  ber, _ = sionna.utils.sim_ber(model, [snr], batch_size=256,\n",
        "  #                                        max_mc_iter=1000, num_target_bit_errors=500)\n",
        "  #  sim_regions_validation_ber.append(ber)\n",
        "\n",
        "  return {'MoM': mom_regions_validation_ber,\n",
        "          'SM': sm_regions_validation_ber,\n",
        "          'FM': fm_regions_validation_ber}\n",
        "          #'Sim': sim_regions_validation_ber}"
      ]
    },
    {
      "cell_type": "code",
      "execution_count": null,
      "metadata": {
        "id": "rPxL8bOm1Ub-"
      },
      "outputs": [],
      "source": [
        "common_kfactors = sorted([idx for idx, numregions in est_hists[1:] if numregions > 20])"
      ]
    },
    {
      "cell_type": "code",
      "execution_count": null,
      "metadata": {
        "id": "YjAow6uN2Odb"
      },
      "outputs": [],
      "source": [
        "test_kfactors = [k_factor_bins[k] for k in range(common_kfactors[0], common_kfactors[-1], 2)][1:]"
      ]
    },
    {
      "cell_type": "code",
      "execution_count": null,
      "metadata": {
        "id": "CLb2EGRA2apM"
      },
      "outputs": [],
      "source": [
        "test_kfactors = [7.58578830453847,\n",
        " 8.58578830453847,\n",
        " 9.58578830453847,\n",
        " 10.58578830453847,\n",
        " 11.58578830453847]"
      ]
    },
    {
      "cell_type": "code",
      "execution_count": null,
      "metadata": {
        "id": "DjuqxoOB3DAO"
      },
      "outputs": [],
      "source": [
        "common_kfactor_bers_validation = {}\n",
        "for k in test_kfactors[4:]:\n",
        "  common_kfactor_bers_validation[k] = validate_ber_all(k, cir_iq_data, kfactors, 10)"
      ]
    },
    {
      "cell_type": "code",
      "source": [
        "overall_data_raw = [2.4064e-03, 4.5723e-03, 1.4173e-03, 3.3604e-03, 4.4346e-03, 1.8404e-04, 3.0799e-04, 2.4477e-04, 4.6074e-04, 4.4446e-04, 3.5532e-03, 2.6167e-03, 4.1642e-03, 2.6192e-03, 1.2720e-03, 3.6058e-04, 1.9707e-03, 7.5955e-04, 2.4239e-03, 5.6674e-04, 1.3046e-03, 2.1234e-03, 2.0207e-03, 2.1259e-03, 2.4614e-03, 5.1833e-03, 4.2919e-03, 6.6732e-03, 7.7399e-03, 3.4630e-03, 4.7013e-04, 1.9681e-03, 1.6714e-03, 2.2887e-03, 1.2896e-03, 3.1400e-04, 2.9829e-04, 1.3522e-04, 1.4974e-03, 3.3954e-04, 5.7742e-03, 5.8894e-03, 3.7260e-03, 4.1541e-03, 3.6483e-03, 5.6215e-03, 2.6718e-03, 2.9247e-03, 3.1150e-03, 3.3203e-03, 6.4303e-03, 4.5898e-03, 3.3328e-03, 4.0139e-03, 5.3586e-03, 2.4999e-05, 2.5675e-05, 4.7181e-05, 4.8023e-05, 4.5629e-05, 4.5573e-03, 4.3945e-03, 2.9723e-03, 3.5131e-03, 1.5625e-03, 1.9707e-03, 2.7444e-03, 1.3647e-03, 9.5903e-04, 1.6777e-03, 3.0048e-04, 4.5272e-04, 3.5557e-04, 5.8343e-04, 5.3836e-04, 3.6978e-05, 1.8724e-05, 1.2136e-05, 3.2695e-06, 4.0352e-06, 4.9104e-03, 3.7785e-03, 5.3861e-03, 4.5523e-03, 5.0656e-03, 3.7610e-03, 1.8329e-03, 5.2259e-03, 4.8177e-03, 2.3287e-03]\n",
        "data_idx = 0\n",
        "common_kfactor_bers_validation = {}\n",
        "estimators = ['MoM', 'SM', 'FM', 'Sim']\n",
        "for k in test_kfactors[:4]:\n",
        "  common_kfactor_bers_validation[k] = {est:[] for est in estimators}\n",
        "  for est in estimators:\n",
        "    common_kfactor_bers_validation[k][est] = overall_data_raw[data_idx:data_idx+5]\n",
        "    data_idx += 5"
      ],
      "metadata": {
        "id": "P0xR3IraDB3Q"
      },
      "execution_count": null,
      "outputs": []
    },
    {
      "cell_type": "code",
      "execution_count": null,
      "metadata": {
        "id": "ZJmzmweTUbpz"
      },
      "outputs": [],
      "source": [
        "pickle.dump(common_kfactor_bers_validation, open('common_k_factor_regions_ber_validation_TX2high__all_raw.pickle', 'wb'))"
      ]
    },
    {
      "cell_type": "code",
      "execution_count": null,
      "metadata": {
        "id": "TjXVh-2f1qVV"
      },
      "outputs": [],
      "source": [
        "def convert_to_nparray(ber_list):\n",
        "  return list(map(lambda x: (x[0].numpy()[0], x[1].numpy()[0]), ber_list))"
      ]
    },
    {
      "cell_type": "code",
      "execution_count": null,
      "metadata": {
        "colab": {
          "base_uri": "https://localhost:8080/"
        },
        "id": "uZht5SYn1VZ4",
        "outputId": "8c48d492-72fe-4a7d-aebe-883dae630ec5"
      },
      "outputs": [
        {
          "data": {
            "text/plain": [
              "[(0.006861636513157895, 0.0263671875),\n",
              " (0.0060135690789473685, 0.02421875),\n",
              " (0.005982730263157895, 0.0203125),\n",
              " (0.0042807213345864665, 0.015625),\n",
              " (0.005645216557017544, 0.021484375)]"
            ]
          },
          "execution_count": 55,
          "metadata": {},
          "output_type": "execute_result"
        }
      ],
      "source": [
        "convert_to_nparray(common_kfactor_bers_validation[7.58578830453847]['MoM'])"
      ]
    },
    {
      "cell_type": "code",
      "execution_count": null,
      "metadata": {
        "id": "-JAqanuE1HTg"
      },
      "outputs": [],
      "source": [
        "ber_validation_numpy = {}\n",
        "for k, vals in common_kfactor_bers_validation.items():\n",
        "  ber_validation_numpy[k] = {est: convert_to_nparray(bers) for est, bers in vals.items()}"
      ]
    },
    {
      "cell_type": "code",
      "execution_count": null,
      "metadata": {
        "id": "H9H6LC503XnP"
      },
      "outputs": [],
      "source": [
        "pickle.dump(ber_validation_numpy, open('common_k_factor_regions_ber_validation_TX2high__numpy.pickle', 'wb'))"
      ]
    },
    {
      "cell_type": "code",
      "execution_count": null,
      "metadata": {
        "colab": {
          "base_uri": "https://localhost:8080/"
        },
        "id": "-5koEaj24UBT",
        "outputId": "61c1d9c9-3b8d-4cb9-ca26-08f2554307ed"
      },
      "outputs": [
        {
          "data": {
            "text/plain": [
              "[0.005756774749373434,\n",
              " 0.00589608787593985,\n",
              " 0.006587342379385965,\n",
              " 0.006309328007518797,\n",
              " 0.0056952684445488715]"
            ]
          },
          "execution_count": 66,
          "metadata": {},
          "output_type": "execute_result"
        }
      ],
      "source": [
        "[np.mean([val[0] for val in ber_validation_numpy[k]['MoM']]) for k in test_kfactors]"
      ]
    },
    {
      "cell_type": "code",
      "execution_count": null,
      "metadata": {
        "colab": {
          "base_uri": "https://localhost:8080/"
        },
        "id": "Vfmdkymi5Msp",
        "outputId": "8dfb3bdc-01c2-4804-aa29-b9d0eaca9273"
      },
      "outputs": [
        {
          "name": "stdout",
          "output_type": "stream",
          "text": [
            "7.59\n"
          ]
        }
      ],
      "source": [
        "print(f\"{test_kfactors[0]:0.2f}\")"
      ]
    },
    {
      "cell_type": "code",
      "execution_count": null,
      "metadata": {
        "colab": {
          "base_uri": "https://localhost:8080/",
          "height": 281
        },
        "id": "b92J__ao3fCC",
        "outputId": "b96538c1-c806-46a0-a525-fc0726b0d29c"
      },
      "outputs": [
        {
          "output_type": "display_data",
          "data": {
            "text/plain": [
              "<Figure size 432x288 with 1 Axes>"
            ],
            "image/png": "[encoded data removed]"
          },
          "metadata": {}
        }
      ],
      "source": [
        "types = ['MoM', 'SM', 'FM', 'Sim']\n",
        "for idx, t in enumerate(types):\n",
        "  plt.errorbar([(k-0.15+idx*0.1) for k in range(1, len(test_kfactors[:4])+1)],\n",
        "               [np.mean(common_kfactor_bers_validation[k][t]) for k in test_kfactors[:4]],\n",
        "               yerr=[np.std(common_kfactor_bers_validation[k][t]) for k in test_kfactors[:4]],\n",
        "               label=t, fmt='o')\n",
        "plt.yscale('log')\n",
        "plt.xticks(range(1, len(test_kfactors[:4])+1), map(lambda x: f\"{x:0.2f}\", test_kfactors[:4]))\n",
        "plt.grid(axis='y')\n",
        "plt.xlabel('K factor')\n",
        "plt.ylabel('BER')\n",
        "plt.legend(['MoM', 'S/S', 'F/M', 'Flat'])\n",
        "plt.savefig('common_regions_ber_snr10_tx2high.pdf', dpi=150)"
      ]
    },
    {
      "cell_type": "markdown",
      "metadata": {
        "id": "7taXvkxE6Atl"
      },
      "source": [
        "Above compares the BER achievable for the measurement regions where the k factor was estimated at a given value, and the simulated flat fading Rice channel with same k factor"
      ]
    },
    {
      "cell_type": "markdown",
      "source": [
        "Evaluate the regions obtained per K factor to see if there are overlaps in the samples"
      ],
      "metadata": {
        "id": "SWIeBoiJVLx7"
      }
    },
    {
      "cell_type": "code",
      "source": [
        "kfactor_regions = compare_lambda_windows(7.59, kfactors)"
      ],
      "metadata": {
        "id": "Cnz9z1_hVPVs"
      },
      "execution_count": null,
      "outputs": []
    },
    {
      "cell_type": "code",
      "source": [
        "test_k = compare_lambda_windows(9, kfactors)"
      ],
      "metadata": {
        "id": "S0H9Y4LJDQPF"
      },
      "execution_count": null,
      "outputs": []
    },
    {
      "cell_type": "code",
      "source": [
        "kfactor_regions_all = {k:compare_lambda_windows(k, kfactors) for k in test_kfactors}"
      ],
      "metadata": {
        "id": "af92QpzhVdkh"
      },
      "execution_count": null,
      "outputs": []
    },
    {
      "cell_type": "markdown",
      "metadata": {
        "id": "G4t_dco50FUR"
      },
      "source": [
        "## Comparing different channels"
      ]
    },
    {
      "cell_type": "markdown",
      "source": [
        "Testing over the entire channel. The kfactor distribution estimated by the MoM and S/S is similar for all channels, whereas the F/M varies greatly.\n",
        "\n",
        "If the resulting BER is similar for all this means that the MoM and S/S are closest to truth."
      ],
      "metadata": {
        "id": "438Wl3F3NRLY"
      }
    },
    {
      "cell_type": "code",
      "execution_count": null,
      "metadata": {
        "id": "FjF5Txqd0H05"
      },
      "outputs": [],
      "source": [
        "nist_mshop_high_k = pickle.load(open('PDP__GBurgD2_5GHz_TX1_vpol_run2.pickle', 'rb'))\n",
        "nist_steam_low_k = pickle.load(open('PDP__Tx2_5G_Boiler_Xpol_run1.pickle', 'rb'))"
      ]
    },
    {
      "cell_type": "code",
      "source": [
        "model = CommsSystemDataset(params={\"cir_data\":nist_mshop_high_k})\n",
        "nist_mshop_high_k_ber, _ = sionna.utils.sim_ber(model, range(15), batch_size=256,\n",
        "                                          max_mc_iter=1000, num_target_bit_errors=500)"
      ],
      "metadata": {
        "colab": {
          "base_uri": "https://localhost:8080/"
        },
        "id": "UR6T2VhKNfpl",
        "outputId": "12fdd995-620a-48ac-d2f9-c61164d30c27"
      },
      "execution_count": null,
      "outputs": [
        {
          "output_type": "stream",
          "name": "stdout",
          "text": [
            "EbNo [dB] |        BER |       BLER |  bit errors |    num bits | block errors |  num blocks | runtime [s] |    status\n",
            "---------------------------------------------------------------------------------------------------------------------------------------\n",
            "      0.0 | 3.4879e-01 | 1.0000e+00 |      139294 |      399360 |          256 |         256 |        10.6 |reached target bit errors\n",
            "      1.0 | 3.2663e-01 | 1.0000e+00 |      130442 |      399360 |          256 |         256 |        17.5 |reached target bit errors\n",
            "      2.0 | 3.0438e-01 | 1.0000e+00 |      121559 |      399360 |          256 |         256 |        11.1 |reached target bit errors\n",
            "      3.0 | 2.8049e-01 | 1.0000e+00 |      112016 |      399360 |          256 |         256 |        10.5 |reached target bit errors\n",
            "      4.0 | 2.5457e-01 | 1.0000e+00 |      101667 |      399360 |          256 |         256 |        10.3 |reached target bit errors\n",
            "      5.0 | 2.2508e-01 | 1.0000e+00 |       89888 |      399360 |          256 |         256 |        10.3 |reached target bit errors\n",
            "      6.0 | 1.9023e-01 | 1.0000e+00 |       75971 |      399360 |          256 |         256 |        11.1 |reached target bit errors\n",
            "      7.0 | 1.2096e-01 | 8.7891e-01 |       48306 |      399360 |          225 |         256 |        10.4 |reached target bit errors\n",
            "      8.0 | 2.1234e-03 | 1.9531e-02 |         848 |      399360 |            5 |         256 |        11.3 |reached target bit errors\n",
            "      9.0 | 0.0000e+00 | 0.0000e+00 |           0 |   399360000 |            0 |      256000 |     10422.3 |reached max iter       \n",
            "\n",
            "Simulation stopped as no error occurred @ EbNo = 9.0 dB.\n",
            "\n"
          ]
        }
      ]
    },
    {
      "cell_type": "code",
      "source": [
        "nist_mshop_high_k_ber = [3.4879e-01, 3.2663e-01, 3.0438e-01, 2.8049e-01, 2.5457e-01, 2.2508e-01, 1.9023e-01, 1.2096e-01, 2.1234e-03, 0.0000e+00, 0, 0, 0, 0, 0]"
      ],
      "metadata": {
        "id": "i7Hlcn67f8YA"
      },
      "execution_count": null,
      "outputs": []
    },
    {
      "cell_type": "code",
      "source": [
        "nist_mshop_high_k_bler = [1,1,1,1,1,1,1,8.7891e-01,1.9531e-02,0,0,0,0,0,0]"
      ],
      "metadata": {
        "id": "-GNKDdkzhxU2"
      },
      "execution_count": null,
      "outputs": []
    },
    {
      "cell_type": "code",
      "source": [
        "model = CommsSystemDataset(params={\"cir_data\":nist_steam_low_k, \"num_taps\": 90})\n",
        "nist_steam_low_k_ber, _ = sionna.utils.sim_ber(model, range(15), batch_size=256,\n",
        "                                          max_mc_iter=1000, num_target_bit_errors=500)"
      ],
      "metadata": {
        "colab": {
          "base_uri": "https://localhost:8080/",
          "height": 521
        },
        "id": "pERb-6tYN9bT",
        "outputId": "033dcb22-274f-45a9-d910-65e8e48c938a"
      },
      "execution_count": null,
      "outputs": [
        {
          "output_type": "stream",
          "name": "stdout",
          "text": [
            "EbNo [dB] |        BER |       BLER |  bit errors |    num bits | block errors |  num blocks | runtime [s] |    status\n",
            "---------------------------------------------------------------------------------------------------------------------------------------\n",
            "      0.0 | 3.4983e-01 | 1.0000e+00 |      139709 |      399360 |          256 |         256 |        11.1 |reached target bit errors\n",
            "      1.0 | 3.2497e-01 | 1.0000e+00 |      129782 |      399360 |          256 |         256 |        11.2 |reached target bit errors\n",
            "      2.0 | 3.0258e-01 | 1.0000e+00 |      120838 |      399360 |          256 |         256 |        11.1 |reached target bit errors\n",
            "      3.0 | 2.7306e-01 | 1.0000e+00 |      109050 |      399360 |          256 |         256 |        11.1 |reached target bit errors\n",
            "      4.0 | 2.4381e-01 | 1.0000e+00 |       97367 |      399360 |          256 |         256 |        11.0 |reached target bit errors\n",
            "      5.0 | 2.0796e-01 | 1.0000e+00 |       83049 |      399360 |          256 |         256 |        11.1 |reached target bit errors\n",
            "      6.0 | 1.5307e-01 | 1.0000e+00 |       61131 |      399360 |          256 |         256 |        11.1 |reached target bit errors\n",
            "      7.0 | 1.1586e-02 | 1.3281e-01 |        4627 |      399360 |           34 |         256 |        11.1 |reached target bit errors\n"
          ]
        },
        {
          "output_type": "error",
          "ename": "KeyboardInterrupt",
          "evalue": "ignored",
          "traceback": [
            "\u001b[0;31m---------------------------------------------------------------------------\u001b[0m",
            "\u001b[0;31mKeyboardInterrupt\u001b[0m                         Traceback (most recent call last)",
            "\u001b[0;32m<ipython-input-19-a6f737dc6581>\u001b[0m in \u001b[0;36m<module>\u001b[0;34m\u001b[0m\n\u001b[1;32m      1\u001b[0m \u001b[0mmodel\u001b[0m \u001b[0;34m=\u001b[0m \u001b[0mCommsSystemDataset\u001b[0m\u001b[0;34m(\u001b[0m\u001b[0mparams\u001b[0m\u001b[0;34m=\u001b[0m\u001b[0;34m{\u001b[0m\u001b[0;34m\"cir_data\"\u001b[0m\u001b[0;34m:\u001b[0m\u001b[0mnist_steam_low_k\u001b[0m\u001b[0;34m,\u001b[0m \u001b[0;34m\"num_taps\"\u001b[0m\u001b[0;34m:\u001b[0m \u001b[0;36m90\u001b[0m\u001b[0;34m}\u001b[0m\u001b[0;34m)\u001b[0m\u001b[0;34m\u001b[0m\u001b[0;34m\u001b[0m\u001b[0m\n\u001b[1;32m      2\u001b[0m nist_steam_low_k_ber, _ = sionna.utils.sim_ber(model, range(15), batch_size=256,\n\u001b[0;32m----> 3\u001b[0;31m                                           max_mc_iter=1000, num_target_bit_errors=500)\n\u001b[0m",
            "\u001b[0;32m/usr/local/lib/python3.7/dist-packages/sionna/utils/misc.py\u001b[0m in \u001b[0;36msim_ber\u001b[0;34m(mc_fun, ebno_dbs, batch_size, max_mc_iter, soft_estimates, num_target_bit_errors, num_target_block_errors, early_stop, verbose, forward_keyboard_interrupt, dtype)\u001b[0m\n\u001b[1;32m    694\u001b[0m         \u001b[0;31m# Raise Interrupt again to stop outer loops\u001b[0m\u001b[0;34m\u001b[0m\u001b[0;34m\u001b[0m\u001b[0;34m\u001b[0m\u001b[0m\n\u001b[1;32m    695\u001b[0m         \u001b[0;32mif\u001b[0m \u001b[0mforward_keyboard_interrupt\u001b[0m\u001b[0;34m:\u001b[0m\u001b[0;34m\u001b[0m\u001b[0;34m\u001b[0m\u001b[0m\n\u001b[0;32m--> 696\u001b[0;31m             \u001b[0;32mraise\u001b[0m \u001b[0me\u001b[0m\u001b[0;34m\u001b[0m\u001b[0;34m\u001b[0m\u001b[0m\n\u001b[0m\u001b[1;32m    697\u001b[0m \u001b[0;34m\u001b[0m\u001b[0m\n\u001b[1;32m    698\u001b[0m         print(\"\\nSimulation stopped by the user \" \\\n",
            "\u001b[0;32m/usr/local/lib/python3.7/dist-packages/sionna/utils/misc.py\u001b[0m in \u001b[0;36msim_ber\u001b[0;34m(mc_fun, ebno_dbs, batch_size, max_mc_iter, soft_estimates, num_target_bit_errors, num_target_block_errors, early_stop, verbose, forward_keyboard_interrupt, dtype)\u001b[0m\n\u001b[1;32m    604\u001b[0m                 \u001b[0miter_count\u001b[0m \u001b[0;34m+=\u001b[0m \u001b[0;36m1\u001b[0m\u001b[0;34m\u001b[0m\u001b[0;34m\u001b[0m\u001b[0m\n\u001b[1;32m    605\u001b[0m \u001b[0;34m\u001b[0m\u001b[0m\n\u001b[0;32m--> 606\u001b[0;31m                 \u001b[0moutputs\u001b[0m \u001b[0;34m=\u001b[0m \u001b[0mmc_fun\u001b[0m\u001b[0;34m(\u001b[0m\u001b[0mbatch_size\u001b[0m\u001b[0;34m=\u001b[0m\u001b[0mbatch_size\u001b[0m\u001b[0;34m,\u001b[0m \u001b[0mebno_db\u001b[0m\u001b[0;34m=\u001b[0m\u001b[0mebno_dbs\u001b[0m\u001b[0;34m[\u001b[0m\u001b[0mi\u001b[0m\u001b[0;34m]\u001b[0m\u001b[0;34m)\u001b[0m\u001b[0;34m\u001b[0m\u001b[0;34m\u001b[0m\u001b[0m\n\u001b[0m\u001b[1;32m    607\u001b[0m \u001b[0;34m\u001b[0m\u001b[0m\n\u001b[1;32m    608\u001b[0m                 \u001b[0;31m# assume first and second return value is b and b_hat\u001b[0m\u001b[0;34m\u001b[0m\u001b[0;34m\u001b[0m\u001b[0;34m\u001b[0m\u001b[0m\n",
            "\u001b[0;32m/usr/local/lib/python3.7/dist-packages/keras/utils/traceback_utils.py\u001b[0m in \u001b[0;36merror_handler\u001b[0;34m(*args, **kwargs)\u001b[0m\n\u001b[1;32m     62\u001b[0m     \u001b[0mfiltered_tb\u001b[0m \u001b[0;34m=\u001b[0m \u001b[0;32mNone\u001b[0m\u001b[0;34m\u001b[0m\u001b[0;34m\u001b[0m\u001b[0m\n\u001b[1;32m     63\u001b[0m     \u001b[0;32mtry\u001b[0m\u001b[0;34m:\u001b[0m\u001b[0;34m\u001b[0m\u001b[0;34m\u001b[0m\u001b[0m\n\u001b[0;32m---> 64\u001b[0;31m       \u001b[0;32mreturn\u001b[0m \u001b[0mfn\u001b[0m\u001b[0;34m(\u001b[0m\u001b[0;34m*\u001b[0m\u001b[0margs\u001b[0m\u001b[0;34m,\u001b[0m \u001b[0;34m**\u001b[0m\u001b[0mkwargs\u001b[0m\u001b[0;34m)\u001b[0m\u001b[0;34m\u001b[0m\u001b[0;34m\u001b[0m\u001b[0m\n\u001b[0m\u001b[1;32m     65\u001b[0m     \u001b[0;32mexcept\u001b[0m \u001b[0mException\u001b[0m \u001b[0;32mas\u001b[0m \u001b[0me\u001b[0m\u001b[0;34m:\u001b[0m  \u001b[0;31m# pylint: disable=broad-except\u001b[0m\u001b[0;34m\u001b[0m\u001b[0;34m\u001b[0m\u001b[0m\n\u001b[1;32m     66\u001b[0m       \u001b[0mfiltered_tb\u001b[0m \u001b[0;34m=\u001b[0m \u001b[0m_process_traceback_frames\u001b[0m\u001b[0;34m(\u001b[0m\u001b[0me\u001b[0m\u001b[0;34m.\u001b[0m\u001b[0m__traceback__\u001b[0m\u001b[0;34m)\u001b[0m\u001b[0;34m\u001b[0m\u001b[0;34m\u001b[0m\u001b[0m\n",
            "\u001b[0;32m/usr/local/lib/python3.7/dist-packages/keras/engine/base_layer.py\u001b[0m in \u001b[0;36m__call__\u001b[0;34m(self, *args, **kwargs)\u001b[0m\n\u001b[1;32m   1094\u001b[0m         with autocast_variable.enable_auto_cast_variables(\n\u001b[1;32m   1095\u001b[0m             self._compute_dtype_object):\n\u001b[0;32m-> 1096\u001b[0;31m           \u001b[0moutputs\u001b[0m \u001b[0;34m=\u001b[0m \u001b[0mcall_fn\u001b[0m\u001b[0;34m(\u001b[0m\u001b[0minputs\u001b[0m\u001b[0;34m,\u001b[0m \u001b[0;34m*\u001b[0m\u001b[0margs\u001b[0m\u001b[0;34m,\u001b[0m \u001b[0;34m**\u001b[0m\u001b[0mkwargs\u001b[0m\u001b[0;34m)\u001b[0m\u001b[0;34m\u001b[0m\u001b[0;34m\u001b[0m\u001b[0m\n\u001b[0m\u001b[1;32m   1097\u001b[0m \u001b[0;34m\u001b[0m\u001b[0m\n\u001b[1;32m   1098\u001b[0m         \u001b[0;32mif\u001b[0m \u001b[0mself\u001b[0m\u001b[0;34m.\u001b[0m\u001b[0m_activity_regularizer\u001b[0m\u001b[0;34m:\u001b[0m\u001b[0;34m\u001b[0m\u001b[0;34m\u001b[0m\u001b[0m\n",
            "\u001b[0;32m/usr/local/lib/python3.7/dist-packages/keras/utils/traceback_utils.py\u001b[0m in \u001b[0;36merror_handler\u001b[0;34m(*args, **kwargs)\u001b[0m\n\u001b[1;32m     90\u001b[0m     \u001b[0mbound_signature\u001b[0m \u001b[0;34m=\u001b[0m \u001b[0;32mNone\u001b[0m\u001b[0;34m\u001b[0m\u001b[0;34m\u001b[0m\u001b[0m\n\u001b[1;32m     91\u001b[0m     \u001b[0;32mtry\u001b[0m\u001b[0;34m:\u001b[0m\u001b[0;34m\u001b[0m\u001b[0;34m\u001b[0m\u001b[0m\n\u001b[0;32m---> 92\u001b[0;31m       \u001b[0;32mreturn\u001b[0m \u001b[0mfn\u001b[0m\u001b[0;34m(\u001b[0m\u001b[0;34m*\u001b[0m\u001b[0margs\u001b[0m\u001b[0;34m,\u001b[0m \u001b[0;34m**\u001b[0m\u001b[0mkwargs\u001b[0m\u001b[0;34m)\u001b[0m\u001b[0;34m\u001b[0m\u001b[0;34m\u001b[0m\u001b[0m\n\u001b[0m\u001b[1;32m     93\u001b[0m     \u001b[0;32mexcept\u001b[0m \u001b[0mException\u001b[0m \u001b[0;32mas\u001b[0m \u001b[0me\u001b[0m\u001b[0;34m:\u001b[0m  \u001b[0;31m# pylint: disable=broad-except\u001b[0m\u001b[0;34m\u001b[0m\u001b[0;34m\u001b[0m\u001b[0m\n\u001b[1;32m     94\u001b[0m       \u001b[0;32mif\u001b[0m \u001b[0mhasattr\u001b[0m\u001b[0;34m(\u001b[0m\u001b[0me\u001b[0m\u001b[0;34m,\u001b[0m \u001b[0;34m'_keras_call_info_injected'\u001b[0m\u001b[0;34m)\u001b[0m\u001b[0;34m:\u001b[0m\u001b[0;34m\u001b[0m\u001b[0;34m\u001b[0m\u001b[0m\n",
            "\u001b[0;32m<ipython-input-18-319ffcdd771e>\u001b[0m in \u001b[0;36mcall\u001b[0;34m(self, batch_size, ebno_db)\u001b[0m\n\u001b[1;32m     86\u001b[0m     \u001b[0mllr_int\u001b[0m \u001b[0;34m=\u001b[0m \u001b[0mself\u001b[0m\u001b[0;34m.\u001b[0m\u001b[0mdeinterleaver\u001b[0m\u001b[0;34m(\u001b[0m\u001b[0mllr\u001b[0m\u001b[0;34m)\u001b[0m\u001b[0;34m\u001b[0m\u001b[0;34m\u001b[0m\u001b[0m\n\u001b[1;32m     87\u001b[0m     \u001b[0;31m# Decoding\u001b[0m\u001b[0;34m\u001b[0m\u001b[0;34m\u001b[0m\u001b[0;34m\u001b[0m\u001b[0m\n\u001b[0;32m---> 88\u001b[0;31m     \u001b[0mb_hat\u001b[0m \u001b[0;34m=\u001b[0m \u001b[0mself\u001b[0m\u001b[0;34m.\u001b[0m\u001b[0mdecoder\u001b[0m\u001b[0;34m(\u001b[0m\u001b[0mllr_int\u001b[0m\u001b[0;34m)\u001b[0m\u001b[0;34m\u001b[0m\u001b[0;34m\u001b[0m\u001b[0m\n\u001b[0m\u001b[1;32m     89\u001b[0m     \u001b[0;31m#ber = sionna.utils.metrics.compute_ber(b, b_hat)\u001b[0m\u001b[0;34m\u001b[0m\u001b[0;34m\u001b[0m\u001b[0;34m\u001b[0m\u001b[0m\n\u001b[1;32m     90\u001b[0m     \u001b[0;32mreturn\u001b[0m \u001b[0mb\u001b[0m\u001b[0;34m,\u001b[0m \u001b[0mb_hat\u001b[0m\u001b[0;34m\u001b[0m\u001b[0;34m\u001b[0m\u001b[0m\n",
            "\u001b[0;32m/usr/local/lib/python3.7/dist-packages/keras/utils/traceback_utils.py\u001b[0m in \u001b[0;36merror_handler\u001b[0;34m(*args, **kwargs)\u001b[0m\n\u001b[1;32m     62\u001b[0m     \u001b[0mfiltered_tb\u001b[0m \u001b[0;34m=\u001b[0m \u001b[0;32mNone\u001b[0m\u001b[0;34m\u001b[0m\u001b[0;34m\u001b[0m\u001b[0m\n\u001b[1;32m     63\u001b[0m     \u001b[0;32mtry\u001b[0m\u001b[0;34m:\u001b[0m\u001b[0;34m\u001b[0m\u001b[0;34m\u001b[0m\u001b[0m\n\u001b[0;32m---> 64\u001b[0;31m       \u001b[0;32mreturn\u001b[0m \u001b[0mfn\u001b[0m\u001b[0;34m(\u001b[0m\u001b[0;34m*\u001b[0m\u001b[0margs\u001b[0m\u001b[0;34m,\u001b[0m \u001b[0;34m**\u001b[0m\u001b[0mkwargs\u001b[0m\u001b[0;34m)\u001b[0m\u001b[0;34m\u001b[0m\u001b[0;34m\u001b[0m\u001b[0m\n\u001b[0m\u001b[1;32m     65\u001b[0m     \u001b[0;32mexcept\u001b[0m \u001b[0mException\u001b[0m \u001b[0;32mas\u001b[0m \u001b[0me\u001b[0m\u001b[0;34m:\u001b[0m  \u001b[0;31m# pylint: disable=broad-except\u001b[0m\u001b[0;34m\u001b[0m\u001b[0;34m\u001b[0m\u001b[0m\n\u001b[1;32m     66\u001b[0m       \u001b[0mfiltered_tb\u001b[0m \u001b[0;34m=\u001b[0m \u001b[0m_process_traceback_frames\u001b[0m\u001b[0;34m(\u001b[0m\u001b[0me\u001b[0m\u001b[0;34m.\u001b[0m\u001b[0m__traceback__\u001b[0m\u001b[0;34m)\u001b[0m\u001b[0;34m\u001b[0m\u001b[0;34m\u001b[0m\u001b[0m\n",
            "\u001b[0;32m/usr/local/lib/python3.7/dist-packages/keras/engine/base_layer.py\u001b[0m in \u001b[0;36m__call__\u001b[0;34m(self, *args, **kwargs)\u001b[0m\n\u001b[1;32m   1094\u001b[0m         with autocast_variable.enable_auto_cast_variables(\n\u001b[1;32m   1095\u001b[0m             self._compute_dtype_object):\n\u001b[0;32m-> 1096\u001b[0;31m           \u001b[0moutputs\u001b[0m \u001b[0;34m=\u001b[0m \u001b[0mcall_fn\u001b[0m\u001b[0;34m(\u001b[0m\u001b[0minputs\u001b[0m\u001b[0;34m,\u001b[0m \u001b[0;34m*\u001b[0m\u001b[0margs\u001b[0m\u001b[0;34m,\u001b[0m \u001b[0;34m**\u001b[0m\u001b[0mkwargs\u001b[0m\u001b[0;34m)\u001b[0m\u001b[0;34m\u001b[0m\u001b[0;34m\u001b[0m\u001b[0m\n\u001b[0m\u001b[1;32m   1097\u001b[0m \u001b[0;34m\u001b[0m\u001b[0m\n\u001b[1;32m   1098\u001b[0m         \u001b[0;32mif\u001b[0m \u001b[0mself\u001b[0m\u001b[0;34m.\u001b[0m\u001b[0m_activity_regularizer\u001b[0m\u001b[0;34m:\u001b[0m\u001b[0;34m\u001b[0m\u001b[0;34m\u001b[0m\u001b[0m\n",
            "\u001b[0;32m/usr/local/lib/python3.7/dist-packages/keras/utils/traceback_utils.py\u001b[0m in \u001b[0;36merror_handler\u001b[0;34m(*args, **kwargs)\u001b[0m\n\u001b[1;32m     90\u001b[0m     \u001b[0mbound_signature\u001b[0m \u001b[0;34m=\u001b[0m \u001b[0;32mNone\u001b[0m\u001b[0;34m\u001b[0m\u001b[0;34m\u001b[0m\u001b[0m\n\u001b[1;32m     91\u001b[0m     \u001b[0;32mtry\u001b[0m\u001b[0;34m:\u001b[0m\u001b[0;34m\u001b[0m\u001b[0;34m\u001b[0m\u001b[0m\n\u001b[0;32m---> 92\u001b[0;31m       \u001b[0;32mreturn\u001b[0m \u001b[0mfn\u001b[0m\u001b[0;34m(\u001b[0m\u001b[0;34m*\u001b[0m\u001b[0margs\u001b[0m\u001b[0;34m,\u001b[0m \u001b[0;34m**\u001b[0m\u001b[0mkwargs\u001b[0m\u001b[0;34m)\u001b[0m\u001b[0;34m\u001b[0m\u001b[0;34m\u001b[0m\u001b[0m\n\u001b[0m\u001b[1;32m     93\u001b[0m     \u001b[0;32mexcept\u001b[0m \u001b[0mException\u001b[0m \u001b[0;32mas\u001b[0m \u001b[0me\u001b[0m\u001b[0;34m:\u001b[0m  \u001b[0;31m# pylint: disable=broad-except\u001b[0m\u001b[0;34m\u001b[0m\u001b[0;34m\u001b[0m\u001b[0m\n\u001b[1;32m     94\u001b[0m       \u001b[0;32mif\u001b[0m \u001b[0mhasattr\u001b[0m\u001b[0;34m(\u001b[0m\u001b[0me\u001b[0m\u001b[0;34m,\u001b[0m \u001b[0;34m'_keras_call_info_injected'\u001b[0m\u001b[0;34m)\u001b[0m\u001b[0;34m:\u001b[0m\u001b[0;34m\u001b[0m\u001b[0;34m\u001b[0m\u001b[0m\n",
            "\u001b[0;32m/usr/local/lib/python3.7/dist-packages/sionna/fec/ldpc/decoding.py\u001b[0m in \u001b[0;36mcall\u001b[0;34m(self, inputs)\u001b[0m\n\u001b[1;32m   1377\u001b[0m         \u001b[0;31m# and execute the decoder\u001b[0m\u001b[0;34m\u001b[0m\u001b[0;34m\u001b[0m\u001b[0;34m\u001b[0m\u001b[0m\n\u001b[1;32m   1378\u001b[0m         \u001b[0;32mif\u001b[0m \u001b[0;32mnot\u001b[0m \u001b[0mself\u001b[0m\u001b[0;34m.\u001b[0m\u001b[0m_stateful\u001b[0m\u001b[0;34m:\u001b[0m\u001b[0;34m\u001b[0m\u001b[0;34m\u001b[0m\u001b[0m\n\u001b[0;32m-> 1379\u001b[0;31m             \u001b[0mx_hat\u001b[0m \u001b[0;34m=\u001b[0m \u001b[0msuper\u001b[0m\u001b[0;34m(\u001b[0m\u001b[0;34m)\u001b[0m\u001b[0;34m.\u001b[0m\u001b[0mcall\u001b[0m\u001b[0;34m(\u001b[0m\u001b[0mllr_5g\u001b[0m\u001b[0;34m)\u001b[0m\u001b[0;34m\u001b[0m\u001b[0;34m\u001b[0m\u001b[0m\n\u001b[0m\u001b[1;32m   1380\u001b[0m         \u001b[0;32melse\u001b[0m\u001b[0;34m:\u001b[0m\u001b[0;34m\u001b[0m\u001b[0;34m\u001b[0m\u001b[0m\n\u001b[1;32m   1381\u001b[0m             \u001b[0mx_hat\u001b[0m\u001b[0;34m,\u001b[0m\u001b[0mmsg_vn\u001b[0m \u001b[0;34m=\u001b[0m \u001b[0msuper\u001b[0m\u001b[0;34m(\u001b[0m\u001b[0;34m)\u001b[0m\u001b[0;34m.\u001b[0m\u001b[0mcall\u001b[0m\u001b[0;34m(\u001b[0m\u001b[0;34m[\u001b[0m\u001b[0mllr_5g\u001b[0m\u001b[0;34m,\u001b[0m \u001b[0mmsg_vn\u001b[0m\u001b[0;34m]\u001b[0m\u001b[0;34m)\u001b[0m\u001b[0;34m\u001b[0m\u001b[0;34m\u001b[0m\u001b[0m\n",
            "\u001b[0;32m/usr/local/lib/python3.7/dist-packages/sionna/fec/ldpc/decoding.py\u001b[0m in \u001b[0;36mcall\u001b[0;34m(self, inputs)\u001b[0m\n\u001b[1;32m    994\u001b[0m                                      \u001b[0;34m(\u001b[0m\u001b[0mllr_ch\u001b[0m\u001b[0;34m,\u001b[0m \u001b[0mmsg_vn\u001b[0m\u001b[0;34m,\u001b[0m \u001b[0mit\u001b[0m\u001b[0;34m)\u001b[0m\u001b[0;34m,\u001b[0m\u001b[0;34m\u001b[0m\u001b[0;34m\u001b[0m\u001b[0m\n\u001b[1;32m    995\u001b[0m                                      \u001b[0mparallel_iterations\u001b[0m\u001b[0;34m=\u001b[0m\u001b[0;36m1\u001b[0m\u001b[0;34m,\u001b[0m\u001b[0;34m\u001b[0m\u001b[0;34m\u001b[0m\u001b[0m\n\u001b[0;32m--> 996\u001b[0;31m                                      maximum_iterations=self._num_iter)\n\u001b[0m\u001b[1;32m    997\u001b[0m \u001b[0;34m\u001b[0m\u001b[0m\n\u001b[1;32m    998\u001b[0m \u001b[0;34m\u001b[0m\u001b[0m\n",
            "\u001b[0;32m/usr/local/lib/python3.7/dist-packages/tensorflow/python/util/deprecation.py\u001b[0m in \u001b[0;36mnew_func\u001b[0;34m(*args, **kwargs)\u001b[0m\n\u001b[1;32m    614\u001b[0m                   \u001b[0mfunc\u001b[0m\u001b[0;34m.\u001b[0m\u001b[0m__module__\u001b[0m\u001b[0;34m,\u001b[0m \u001b[0marg_name\u001b[0m\u001b[0;34m,\u001b[0m \u001b[0marg_value\u001b[0m\u001b[0;34m,\u001b[0m \u001b[0;34m'in a future version'\u001b[0m\u001b[0;34m\u001b[0m\u001b[0;34m\u001b[0m\u001b[0m\n\u001b[1;32m    615\u001b[0m                   if date is None else ('after %s' % date), instructions)\n\u001b[0;32m--> 616\u001b[0;31m       \u001b[0;32mreturn\u001b[0m \u001b[0mfunc\u001b[0m\u001b[0;34m(\u001b[0m\u001b[0;34m*\u001b[0m\u001b[0margs\u001b[0m\u001b[0;34m,\u001b[0m \u001b[0;34m**\u001b[0m\u001b[0mkwargs\u001b[0m\u001b[0;34m)\u001b[0m\u001b[0;34m\u001b[0m\u001b[0;34m\u001b[0m\u001b[0m\n\u001b[0m\u001b[1;32m    617\u001b[0m \u001b[0;34m\u001b[0m\u001b[0m\n\u001b[1;32m    618\u001b[0m     doc = _add_deprecated_arg_value_notice_to_docstring(\n",
            "\u001b[0;32m/usr/local/lib/python3.7/dist-packages/tensorflow/python/ops/control_flow_ops.py\u001b[0m in \u001b[0;36mwhile_loop_v2\u001b[0;34m(cond, body, loop_vars, shape_invariants, parallel_iterations, back_prop, swap_memory, maximum_iterations, name)\u001b[0m\n\u001b[1;32m   2556\u001b[0m       \u001b[0mname\u001b[0m\u001b[0;34m=\u001b[0m\u001b[0mname\u001b[0m\u001b[0;34m,\u001b[0m\u001b[0;34m\u001b[0m\u001b[0;34m\u001b[0m\u001b[0m\n\u001b[1;32m   2557\u001b[0m       \u001b[0mmaximum_iterations\u001b[0m\u001b[0;34m=\u001b[0m\u001b[0mmaximum_iterations\u001b[0m\u001b[0;34m,\u001b[0m\u001b[0;34m\u001b[0m\u001b[0;34m\u001b[0m\u001b[0m\n\u001b[0;32m-> 2558\u001b[0;31m       return_same_structure=True)\n\u001b[0m\u001b[1;32m   2559\u001b[0m \u001b[0;34m\u001b[0m\u001b[0m\n\u001b[1;32m   2560\u001b[0m \u001b[0;34m\u001b[0m\u001b[0m\n",
            "\u001b[0;32m/usr/local/lib/python3.7/dist-packages/tensorflow/python/ops/control_flow_ops.py\u001b[0m in \u001b[0;36mwhile_loop\u001b[0;34m(cond, body, loop_vars, shape_invariants, parallel_iterations, back_prop, swap_memory, name, maximum_iterations, return_same_structure)\u001b[0m\n\u001b[1;32m   2793\u001b[0m                                               list(loop_vars))\n\u001b[1;32m   2794\u001b[0m       \u001b[0;32mwhile\u001b[0m \u001b[0mcond\u001b[0m\u001b[0;34m(\u001b[0m\u001b[0;34m*\u001b[0m\u001b[0mloop_vars\u001b[0m\u001b[0;34m)\u001b[0m\u001b[0;34m:\u001b[0m\u001b[0;34m\u001b[0m\u001b[0;34m\u001b[0m\u001b[0m\n\u001b[0;32m-> 2795\u001b[0;31m         \u001b[0mloop_vars\u001b[0m \u001b[0;34m=\u001b[0m \u001b[0mbody\u001b[0m\u001b[0;34m(\u001b[0m\u001b[0;34m*\u001b[0m\u001b[0mloop_vars\u001b[0m\u001b[0;34m)\u001b[0m\u001b[0;34m\u001b[0m\u001b[0;34m\u001b[0m\u001b[0m\n\u001b[0m\u001b[1;32m   2796\u001b[0m         \u001b[0;32mif\u001b[0m \u001b[0mtry_to_pack\u001b[0m \u001b[0;32mand\u001b[0m \u001b[0;32mnot\u001b[0m \u001b[0misinstance\u001b[0m\u001b[0;34m(\u001b[0m\u001b[0mloop_vars\u001b[0m\u001b[0;34m,\u001b[0m \u001b[0;34m(\u001b[0m\u001b[0mlist\u001b[0m\u001b[0;34m,\u001b[0m \u001b[0m_basetuple\u001b[0m\u001b[0;34m)\u001b[0m\u001b[0;34m)\u001b[0m\u001b[0;34m:\u001b[0m\u001b[0;34m\u001b[0m\u001b[0;34m\u001b[0m\u001b[0m\n\u001b[1;32m   2797\u001b[0m           \u001b[0mpacked\u001b[0m \u001b[0;34m=\u001b[0m \u001b[0;32mTrue\u001b[0m\u001b[0;34m\u001b[0m\u001b[0;34m\u001b[0m\u001b[0m\n",
            "\u001b[0;32m/usr/local/lib/python3.7/dist-packages/tensorflow/python/ops/control_flow_ops.py\u001b[0m in \u001b[0;36m<lambda>\u001b[0;34m(i, lv)\u001b[0m\n\u001b[1;32m   2784\u001b[0m         cond = lambda i, lv: (  # pylint: disable=g-long-lambda\n\u001b[1;32m   2785\u001b[0m             math_ops.logical_and(i < maximum_iterations, orig_cond(*lv)))\n\u001b[0;32m-> 2786\u001b[0;31m         \u001b[0mbody\u001b[0m \u001b[0;34m=\u001b[0m \u001b[0;32mlambda\u001b[0m \u001b[0mi\u001b[0m\u001b[0;34m,\u001b[0m \u001b[0mlv\u001b[0m\u001b[0;34m:\u001b[0m \u001b[0;34m(\u001b[0m\u001b[0mi\u001b[0m \u001b[0;34m+\u001b[0m \u001b[0;36m1\u001b[0m\u001b[0;34m,\u001b[0m \u001b[0morig_body\u001b[0m\u001b[0;34m(\u001b[0m\u001b[0;34m*\u001b[0m\u001b[0mlv\u001b[0m\u001b[0;34m)\u001b[0m\u001b[0;34m)\u001b[0m\u001b[0;34m\u001b[0m\u001b[0;34m\u001b[0m\u001b[0m\n\u001b[0m\u001b[1;32m   2787\u001b[0m       \u001b[0mtry_to_pack\u001b[0m \u001b[0;34m=\u001b[0m \u001b[0;32mFalse\u001b[0m\u001b[0;34m\u001b[0m\u001b[0;34m\u001b[0m\u001b[0m\n\u001b[1;32m   2788\u001b[0m \u001b[0;34m\u001b[0m\u001b[0m\n",
            "\u001b[0;32m/usr/local/lib/python3.7/dist-packages/sionna/fec/ldpc/decoding.py\u001b[0m in \u001b[0;36mdec_iter\u001b[0;34m(llr_ch, msg_vn, it)\u001b[0m\n\u001b[1;32m    968\u001b[0m \u001b[0;34m\u001b[0m\u001b[0m\n\u001b[1;32m    969\u001b[0m             \u001b[0;31m# check node update using the pre-defined function\u001b[0m\u001b[0;34m\u001b[0m\u001b[0;34m\u001b[0m\u001b[0;34m\u001b[0m\u001b[0m\n\u001b[0;32m--> 970\u001b[0;31m             \u001b[0mmsg_cn\u001b[0m \u001b[0;34m=\u001b[0m \u001b[0mself\u001b[0m\u001b[0;34m.\u001b[0m\u001b[0m_cn_update\u001b[0m\u001b[0;34m(\u001b[0m\u001b[0mmsg_cn\u001b[0m\u001b[0;34m)\u001b[0m\u001b[0;34m\u001b[0m\u001b[0;34m\u001b[0m\u001b[0m\n\u001b[0m\u001b[1;32m    971\u001b[0m \u001b[0;34m\u001b[0m\u001b[0m\n\u001b[1;32m    972\u001b[0m             \u001b[0;31m# track exit decoding trajectory; requires all-zero cw?\u001b[0m\u001b[0;34m\u001b[0m\u001b[0;34m\u001b[0m\u001b[0;34m\u001b[0m\u001b[0m\n",
            "\u001b[0;32m/usr/local/lib/python3.7/dist-packages/sionna/fec/ldpc/decoding.py\u001b[0m in \u001b[0;36m_cn_update_phi\u001b[0;34m(self, msg)\u001b[0m\n\u001b[1;32m    661\u001b[0m                                              \u001b[0msign_val\u001b[0m\u001b[0;34m,\u001b[0m\u001b[0;34m\u001b[0m\u001b[0;34m\u001b[0m\u001b[0m\n\u001b[1;32m    662\u001b[0m                                              \u001b[0msign_node\u001b[0m\u001b[0;34m,\u001b[0m\u001b[0;34m\u001b[0m\u001b[0;34m\u001b[0m\u001b[0m\n\u001b[0;32m--> 663\u001b[0;31m                                              sign_val.value_rowids())\n\u001b[0m\u001b[1;32m    664\u001b[0m \u001b[0;34m\u001b[0m\u001b[0m\n\u001b[1;32m    665\u001b[0m         \u001b[0mmsg\u001b[0m \u001b[0;34m=\u001b[0m \u001b[0mtf\u001b[0m\u001b[0;34m.\u001b[0m\u001b[0mragged\u001b[0m\u001b[0;34m.\u001b[0m\u001b[0mmap_flat_values\u001b[0m\u001b[0;34m(\u001b[0m\u001b[0mtf\u001b[0m\u001b[0;34m.\u001b[0m\u001b[0mabs\u001b[0m\u001b[0;34m,\u001b[0m \u001b[0mmsg\u001b[0m\u001b[0;34m)\u001b[0m \u001b[0;31m# remove sign\u001b[0m\u001b[0;34m\u001b[0m\u001b[0;34m\u001b[0m\u001b[0m\n",
            "\u001b[0;32m/usr/local/lib/python3.7/dist-packages/tensorflow/python/ops/ragged/ragged_tensor.py\u001b[0m in \u001b[0;36mvalue_rowids\u001b[0;34m(self, name)\u001b[0m\n\u001b[1;32m   1130\u001b[0m     \"\"\"\n\u001b[1;32m   1131\u001b[0m     \u001b[0;32mwith\u001b[0m \u001b[0mops\u001b[0m\u001b[0;34m.\u001b[0m\u001b[0mname_scope\u001b[0m\u001b[0;34m(\u001b[0m\u001b[0mname\u001b[0m\u001b[0;34m,\u001b[0m \u001b[0;34m\"RaggedValueRowIds\"\u001b[0m\u001b[0;34m,\u001b[0m \u001b[0;34m[\u001b[0m\u001b[0mself\u001b[0m\u001b[0;34m]\u001b[0m\u001b[0;34m)\u001b[0m\u001b[0;34m:\u001b[0m\u001b[0;34m\u001b[0m\u001b[0;34m\u001b[0m\u001b[0m\n\u001b[0;32m-> 1132\u001b[0;31m       \u001b[0;32mreturn\u001b[0m \u001b[0mself\u001b[0m\u001b[0;34m.\u001b[0m\u001b[0m_row_partition\u001b[0m\u001b[0;34m.\u001b[0m\u001b[0mvalue_rowids\u001b[0m\u001b[0;34m(\u001b[0m\u001b[0;34m)\u001b[0m\u001b[0;34m\u001b[0m\u001b[0;34m\u001b[0m\u001b[0m\n\u001b[0m\u001b[1;32m   1133\u001b[0m \u001b[0;34m\u001b[0m\u001b[0m\n\u001b[1;32m   1134\u001b[0m   \u001b[0;32mdef\u001b[0m \u001b[0mnested_value_rowids\u001b[0m\u001b[0;34m(\u001b[0m\u001b[0mself\u001b[0m\u001b[0;34m,\u001b[0m \u001b[0mname\u001b[0m\u001b[0;34m=\u001b[0m\u001b[0;32mNone\u001b[0m\u001b[0;34m)\u001b[0m\u001b[0;34m:\u001b[0m\u001b[0;34m\u001b[0m\u001b[0;34m\u001b[0m\u001b[0m\n",
            "\u001b[0;32m/usr/local/lib/python3.7/dist-packages/tensorflow/python/framework/ops.py\u001b[0m in \u001b[0;36m__exit__\u001b[0;34m(self, type_arg, value_arg, traceback_arg)\u001b[0m\n\u001b[1;32m    172\u001b[0m     \u001b[0;32mpass\u001b[0m\u001b[0;34m\u001b[0m\u001b[0;34m\u001b[0m\u001b[0m\n\u001b[1;32m    173\u001b[0m \u001b[0;34m\u001b[0m\u001b[0m\n\u001b[0;32m--> 174\u001b[0;31m   \u001b[0;32mdef\u001b[0m \u001b[0m__exit__\u001b[0m\u001b[0;34m(\u001b[0m\u001b[0mself\u001b[0m\u001b[0;34m,\u001b[0m \u001b[0mtype_arg\u001b[0m\u001b[0;34m,\u001b[0m \u001b[0mvalue_arg\u001b[0m\u001b[0;34m,\u001b[0m \u001b[0mtraceback_arg\u001b[0m\u001b[0;34m)\u001b[0m\u001b[0;34m:\u001b[0m\u001b[0;34m\u001b[0m\u001b[0;34m\u001b[0m\u001b[0m\n\u001b[0m\u001b[1;32m    175\u001b[0m     \u001b[0;32mreturn\u001b[0m \u001b[0;32mFalse\u001b[0m  \u001b[0;31m# False values do not suppress exceptions\u001b[0m\u001b[0;34m\u001b[0m\u001b[0;34m\u001b[0m\u001b[0m\n\u001b[1;32m    176\u001b[0m \u001b[0;34m\u001b[0m\u001b[0m\n",
            "\u001b[0;31mKeyboardInterrupt\u001b[0m: "
          ]
        }
      ]
    },
    {
      "cell_type": "code",
      "source": [
        "nist_steam_low_k_ber = [3.4983e-01, 3.2497e-01, 3.0258e-01, 2.7306e-01, 2.4381e-01, 2.0796e-01, 1.5307e-01, 1.1586e-02, 0, 0, 0, 0, 0, 0, 0]"
      ],
      "metadata": {
        "id": "MTkHh7j7gCFY"
      },
      "execution_count": null,
      "outputs": []
    },
    {
      "cell_type": "code",
      "source": [
        "nist_steam_low_k_bler = [1,1,1,1,1,1,1,1.3281e-01,0,0,0,0,0,0,0]"
      ],
      "metadata": {
        "id": "CpXiWNTlh8Dp"
      },
      "execution_count": null,
      "outputs": []
    },
    {
      "cell_type": "code",
      "source": [
        "model = CommsSystemDataset(params={\"cir_data\":cir_iq_data})\n",
        "nist_mshop_mid_k, _ = sionna.utils.sim_ber(model, range(13), batch_size=256,\n",
        "                                          max_mc_iter=1000, num_target_bit_errors=500)"
      ],
      "metadata": {
        "colab": {
          "base_uri": "https://localhost:8080/"
        },
        "id": "1fD9uTt4N94T",
        "outputId": "6a2a8c3e-3f39-4b9b-dd47-3356ae6f4473"
      },
      "execution_count": null,
      "outputs": [
        {
          "output_type": "stream",
          "name": "stdout",
          "text": [
            "EbNo [dB] |        BER |       BLER |  bit errors |    num bits | block errors |  num blocks | runtime [s] |    status\n",
            "---------------------------------------------------------------------------------------------------------------------------------------\n",
            "      0.0 | 3.5234e-01 | 1.0000e+00 |      140711 |      399360 |          256 |         256 |        12.9 |reached target bit errors\n",
            "      1.0 | 3.2934e-01 | 1.0000e+00 |      131527 |      399360 |          256 |         256 |        10.4 |reached target bit errors\n",
            "      2.0 | 3.0693e-01 | 1.0000e+00 |      122577 |      399360 |          256 |         256 |        10.4 |reached target bit errors\n",
            "      3.0 | 2.8026e-01 | 1.0000e+00 |      111926 |      399360 |          256 |         256 |        11.1 |reached target bit errors\n",
            "      4.0 | 2.5032e-01 | 1.0000e+00 |       99967 |      399360 |          256 |         256 |        10.4 |reached target bit errors\n",
            "      5.0 | 2.2251e-01 | 1.0000e+00 |       88862 |      399360 |          256 |         256 |        10.5 |reached target bit errors\n",
            "      6.0 | 1.7039e-01 | 1.0000e+00 |       68046 |      399360 |          256 |         256 |        10.5 |reached target bit errors\n",
            "      7.0 | 4.8638e-02 | 3.4375e-01 |       19424 |      399360 |           88 |         256 |        10.4 |reached target bit errors\n",
            "      8.0 | 1.2943e-02 | 7.8125e-02 |        5169 |      399360 |           20 |         256 |        10.3 |reached target bit errors\n",
            "      9.0 | 4.3495e-03 | 2.3438e-02 |        1737 |      399360 |            6 |         256 |        10.3 |reached target bit errors\n",
            "     10.0 | 2.0157e-03 | 1.1719e-02 |         805 |      399360 |            3 |         256 |        10.4 |reached target bit errors\n",
            "     11.0 | 2.6292e-03 | 1.1719e-02 |        1050 |      399360 |            3 |         256 |        10.5 |reached target bit errors\n",
            "     12.0 | 3.4205e-04 | 1.5625e-03 |         683 |     1996800 |            2 |        1280 |        51.6 |reached target bit errors\n"
          ]
        }
      ]
    },
    {
      "cell_type": "code",
      "source": [
        "nist_mshop_mid_k, _ = sionna.utils.sim_ber(model, [13,14], batch_size=256,\n",
        "                                          max_mc_iter=1000, num_target_bit_errors=500)"
      ],
      "metadata": {
        "colab": {
          "base_uri": "https://localhost:8080/"
        },
        "id": "54afYQMhKPU3",
        "outputId": "1799130b-c901-4fff-b49c-697880f874bf"
      },
      "execution_count": null,
      "outputs": [
        {
          "output_type": "stream",
          "name": "stdout",
          "text": [
            "EbNo [dB] |        BER |       BLER |  bit errors |    num bits | block errors |  num blocks | runtime [s] |    status\n",
            "---------------------------------------------------------------------------------------------------------------------------------------\n",
            "     13.0 | 1.2173e-04 | 9.0144e-04 |         632 |     5191680 |            3 |        3328 |       149.4 |reached target bit errors\n",
            "     14.0 | 3.0281e-05 | 2.7253e-04 |         520 |    17172480 |            3 |       11008 |       452.1 |reached target bit errors\n"
          ]
        }
      ]
    },
    {
      "cell_type": "code",
      "source": [
        "nist_mshop_mid_k_ber = [3.5234e-01, 3.2934e-01, 3.0693e-01, 2.8026e-01, 2.5032e-01, 2.2251e-01, 1.7039e-01, 4.8638e-02, 1.2943e-02, 4.3495e-03, 2.0157e-03, 2.6292e-03, 3.4205e-04, 1.2173e-04, 3.0281e-05]"
      ],
      "metadata": {
        "id": "R8FyIa_Eg5-n"
      },
      "execution_count": null,
      "outputs": []
    },
    {
      "cell_type": "code",
      "source": [
        "nist_mshop_mid_k_bler = [1.0000e+00, 1.0000e+00, 1.0000e+00, 1.0000e+00, 1.0000e+00, 1.0000e+00, 1.0000e+00, 3.4375e-01, 7.8125e-02, 2.3438e-02, 1.1719e-02, 1.1719e-02, 1.5625e-03, 9.0144e-04, 2.7253e-04]\n"
      ],
      "metadata": {
        "id": "2ljYYO3Tiaz1"
      },
      "execution_count": null,
      "outputs": []
    },
    {
      "cell_type": "markdown",
      "source": [
        "Other parameters for the channels used above:\n",
        "\n",
        "GBurg D2 TX1 5GHz vpol\n",
        "* mean FM K = 9.3\n",
        "* mean delay = 135ns\n",
        "* mean delay spread = 54ns\n",
        "\n",
        "GBurg D2 TX2High 5GHz crosspol\n",
        "* mean FM K = 4.2\n",
        "* mean delay = 168ns\n",
        "* mean delay spread = 78ns\n",
        "\n",
        "Boiler TX2 5G crosspol\n",
        "* mean FM K = -10\n",
        "* mean delay = 140ns\n",
        "* mean delay spread = 51ns\n"
      ],
      "metadata": {
        "id": "BOFXloN1eUqv"
      }
    },
    {
      "cell_type": "code",
      "source": [
        "plt.semilogy(range(15), nist_steam_low_k_ber, label='F/M E[K]=-10dB')\n",
        "plt.semilogy(range(15), nist_mshop_mid_k_ber, label='F/M E[K]=4.2dB')\n",
        "plt.semilogy(range(15), nist_mshop_high_k_ber, label='F/M E[K]=9.3dB')\n",
        "plt.xlabel('SNR (dB)')\n",
        "plt.ylabel('BER')\n",
        "plt.legend()\n",
        "plt.savefig('nist_channels_BER_comparison.pdf', dpi=150)"
      ],
      "metadata": {
        "colab": {
          "base_uri": "https://localhost:8080/",
          "height": 276
        },
        "id": "cbFo0fBThJQu",
        "outputId": "be24292e-79fd-4fec-e7ff-eb6579946df2"
      },
      "execution_count": null,
      "outputs": [
        {
          "output_type": "display_data",
          "data": {
            "text/plain": [
              "<Figure size 432x288 with 1 Axes>"
            ],
            "image/png": "[encoded data removed]"
          },
          "metadata": {}
        }
      ]
    },
    {
      "cell_type": "markdown",
      "source": [
        "And Block Error Rate"
      ],
      "metadata": {
        "id": "euoZ2o_8intK"
      }
    },
    {
      "cell_type": "code",
      "source": [
        "plt.semilogy(range(15), nist_steam_low_k_bler, label='E[K]=-10dB')\n",
        "plt.semilogy(range(15), nist_mshop_mid_k_bler, label='E[K]=4.2dB')\n",
        "plt.semilogy(range(15), nist_mshop_high_k_bler, label='E[K]=9.3dB')\n",
        "plt.xlabel('SNR (dB)')\n",
        "plt.ylabel('Block Error Rate')\n",
        "plt.legend()"
      ],
      "metadata": {
        "colab": {
          "base_uri": "https://localhost:8080/",
          "height": 296
        },
        "outputId": "65601be8-3e8e-4ae0-9ff8-8a0c6df5a205",
        "id": "OuEXS8L6ijCU"
      },
      "execution_count": null,
      "outputs": [
        {
          "output_type": "execute_result",
          "data": {
            "text/plain": [
              "<matplotlib.legend.Legend at 0x7f9315aa2490>"
            ]
          },
          "metadata": {},
          "execution_count": 31
        },
        {
          "output_type": "display_data",
          "data": {
            "text/plain": [
              "<Figure size 432x288 with 1 Axes>"
            ],
            "image/png": "[encoded data removed]"
          },
          "metadata": {
            "needs_background": "light"
          }
        }
      ]
    },
    {
      "cell_type": "markdown",
      "metadata": {
        "id": "Vo4c0mjcHlL9"
      },
      "source": [
        "Plot the BER of the simulated channel with NIST (FM) k factor 5"
      ]
    },
    {
      "cell_type": "code",
      "execution_count": null,
      "metadata": {
        "colab": {
          "base_uri": "https://localhost:8080/"
        },
        "id": "7PTY9BBzH-g3",
        "outputId": "14197f1f-0546-45f6-d3bf-b2689df449be"
      },
      "outputs": [
        {
          "data": {
            "text/plain": [
              "<tf.Tensor: shape=(15,), dtype=float64, numpy=\n",
              "array([1.81537829e-01, 1.14103618e-01, 5.77713816e-02, 4.00219298e-02,\n",
              "       1.23355263e-02, 7.56285244e-03, 2.61615954e-03, 1.41414029e-03,\n",
              "       7.85269094e-04, 4.89233065e-04, 3.43098513e-04, 8.36759868e-05,\n",
              "       4.93421053e-05, 2.17927632e-05, 1.85032895e-06])>"
            ]
          },
          "execution_count": 32,
          "metadata": {},
          "output_type": "execute_result"
        }
      ],
      "source": [
        "sim_channel_ber['MoM'][0][0]"
      ]
    },
    {
      "cell_type": "code",
      "execution_count": null,
      "metadata": {
        "colab": {
          "base_uri": "https://localhost:8080/",
          "height": 282
        },
        "id": "CyCMBucfHq5W",
        "outputId": "341656c1-8668-4404-d60b-b553a656da9e"
      },
      "outputs": [
        {
          "output_type": "execute_result",
          "data": {
            "text/plain": [
              "<matplotlib.legend.Legend at 0x7efb778e3d90>"
            ]
          },
          "metadata": {},
          "execution_count": 47
        },
        {
          "output_type": "display_data",
          "data": {
            "text/plain": [
              "<Figure size 432x288 with 1 Axes>"
            ],
            "image/png": "[encoded data removed]"
          },
          "metadata": {
            "needs_background": "light"
          }
        }
      ],
      "source": [
        "for est, ber in sim_channel_ber.items():\n",
        "  plt.semilogy(range(15), ber, label=est)\n",
        "plt.legend()"
      ]
    },
    {
      "cell_type": "code",
      "execution_count": null,
      "metadata": {
        "colab": {
          "base_uri": "https://localhost:8080/",
          "height": 282
        },
        "id": "xcRvS9a0ARBo",
        "outputId": "6489a6ac-5897-4f7a-849d-19c4b36be1be"
      },
      "outputs": [
        {
          "data": {
            "text/plain": [
              "[<matplotlib.lines.Line2D at 0x7f377e3bda90>]"
            ]
          },
          "execution_count": 110,
          "metadata": {},
          "output_type": "execute_result"
        },
        {
          "data": {
            "image/png": "[encoded data removed]",
            "text/plain": [
              "<Figure size 432x288 with 1 Axes>"
            ]
          },
          "metadata": {},
          "output_type": "display_data"
        }
      ],
      "source": [
        "plt.semilogy(range(15), ldpc_ber)\n",
        "plt.semilogy(range(15), tx2low_ldpc_ber)"
      ]
    },
    {
      "cell_type": "markdown",
      "metadata": {
        "id": "q2d7orGUKYp6"
      },
      "source": [
        "## Validation on a different channel"
      ]
    },
    {
      "cell_type": "markdown",
      "source": [
        "Load the channel CIRs"
      ],
      "metadata": {
        "id": "0KMATv7fUPM6"
      }
    },
    {
      "cell_type": "code",
      "execution_count": null,
      "metadata": {
        "id": "zwysVYlqOhHx"
      },
      "outputs": [],
      "source": [
        "nist_tx2_low = pickle.load(open('nist_experiments/PDP__GBurgD2_5GHz_TX2low_vpol_run1_allpoints.pickle', 'rb'))"
      ]
    },
    {
      "cell_type": "markdown",
      "metadata": {
        "id": "Im3Kmdd3KrY_"
      },
      "source": [
        "Load the K factor distributions"
      ]
    },
    {
      "cell_type": "code",
      "execution_count": null,
      "metadata": {
        "id": "N2HOjGOhK3Lc"
      },
      "outputs": [],
      "source": [
        "ch2_kfactors = pd.read_csv('nist_experiments/K-FactorGBurgD2_5GHz_TX2low_vpol_run1_pp.mat.csv', header=None)\n",
        "ch2_kfactors.columns = ['MoM', 'SM', 'FM', 'samples', 'idx_start', 'idx_end', 'no']\n",
        "del ch2_kfactors['no']"
      ]
    },
    {
      "cell_type": "code",
      "execution_count": null,
      "metadata": {
        "colab": {
          "base_uri": "https://localhost:8080/"
        },
        "id": "blO9xC3wNl3P",
        "outputId": "b788c6d9-6a67-41e5-d5eb-b6cbdb9733b5"
      },
      "outputs": [
        {
          "output_type": "stream",
          "name": "stdout",
          "text": [
            "{'MoM': 9.548795444302744, 'SM': 11.28147442943199, 'FM': 8.831874395025295}\n"
          ]
        }
      ],
      "source": [
        "ch2_k_factor_est_means = {est:np.mean(ch2_kfactors[est]) for est in ['MoM', 'SM', 'FM']}\n",
        "print(ch2_k_factor_est_means)"
      ]
    },
    {
      "cell_type": "markdown",
      "metadata": {
        "id": "EnfTPhAdOJq6"
      },
      "source": [
        "Find\n",
        "\n",
        "* K-factor common regions\n",
        "* K-factor that is most common among all estimators."
      ]
    },
    {
      "cell_type": "code",
      "execution_count": null,
      "metadata": {
        "id": "S4zZLvWGOJq7"
      },
      "outputs": [],
      "source": [
        "ch2_k_factor_range = (\n",
        "    ch2_kfactors[['MoM', 'SM', 'FM']].min().min(),\n",
        "    ch2_kfactors[['MoM', 'SM', 'FM']].max().max()\n",
        ")"
      ]
    },
    {
      "cell_type": "code",
      "execution_count": null,
      "metadata": {
        "id": "PmwapjfROJq9"
      },
      "outputs": [],
      "source": [
        "ch2_k_factor_bins = np.arange(*ch2_k_factor_range, step=0.5)"
      ]
    },
    {
      "cell_type": "code",
      "execution_count": null,
      "metadata": {
        "id": "CWf-970AOJq9"
      },
      "outputs": [],
      "source": [
        "ch2_mom_hist = np.histogram(ch2_kfactors['MoM'], bins=ch2_k_factor_bins)\n",
        "ch2_sm_hist = np.histogram(ch2_kfactors['SM'], bins=ch2_k_factor_bins)\n",
        "ch2_fm_hist = np.histogram(ch2_kfactors['FM'], bins=ch2_k_factor_bins)"
      ]
    },
    {
      "cell_type": "code",
      "execution_count": null,
      "metadata": {
        "id": "U_FYbgsWOJq-"
      },
      "outputs": [],
      "source": [
        "ch2_est_hists = [(idx, sum([a,b,c])) if a*b*c != 0 else (idx, 0)\n",
        "            for idx, (a,b,c) in enumerate(zip(ch2_mom_hist[0], ch2_sm_hist[0], ch2_fm_hist[0]))]"
      ]
    },
    {
      "cell_type": "code",
      "execution_count": null,
      "metadata": {
        "id": "HeoBJTAfOJq-"
      },
      "outputs": [],
      "source": [
        "ch2_est_hists.sort(key=lambda x:x[1],reverse=True)"
      ]
    },
    {
      "cell_type": "code",
      "execution_count": null,
      "metadata": {
        "id": "4MXVSlMeOJq-"
      },
      "outputs": [],
      "source": [
        "ch2_common_k_factor = ch2_k_factor_bins[ch2_est_hists[0][0]]"
      ]
    },
    {
      "cell_type": "code",
      "execution_count": null,
      "metadata": {
        "colab": {
          "base_uri": "https://localhost:8080/"
        },
        "id": "FCFFlDLROJq_",
        "outputId": "2a365045-80b0-485e-ce78-29e99216a9e2"
      },
      "outputs": [
        {
          "output_type": "execute_result",
          "data": {
            "text/plain": [
              "10.84649654503892"
            ]
          },
          "metadata": {},
          "execution_count": 38
        }
      ],
      "source": [
        "ch2_common_k_factor"
      ]
    },
    {
      "cell_type": "markdown",
      "metadata": {
        "id": "s4eRW38vP0ey"
      },
      "source": [
        "### Validation on all common k-factor regions"
      ]
    },
    {
      "cell_type": "code",
      "execution_count": null,
      "metadata": {
        "id": "Edm485S5P22y"
      },
      "outputs": [],
      "source": [
        "ch2_common_kfactors = sorted([idx for idx, numregions in ch2_est_hists[1:] if numregions > 20])"
      ]
    },
    {
      "cell_type": "code",
      "execution_count": null,
      "metadata": {
        "id": "Tos7KA1MP22z"
      },
      "outputs": [],
      "source": [
        "ch2_test_kfactors = [ch2_k_factor_bins[k] for k in range(ch2_common_kfactors[0], ch2_common_kfactors[-1], 2)][1:]"
      ]
    },
    {
      "cell_type": "code",
      "execution_count": null,
      "metadata": {
        "colab": {
          "base_uri": "https://localhost:8080/"
        },
        "id": "3J9WwYFqP22z",
        "outputId": "c9bda16c-a2fc-4327-8278-15d805b87da0"
      },
      "outputs": [
        {
          "output_type": "execute_result",
          "data": {
            "text/plain": [
              "[8.84649654503892,\n",
              " 9.84649654503892,\n",
              " 10.84649654503892,\n",
              " 11.84649654503892,\n",
              " 12.84649654503892]"
            ]
          },
          "metadata": {},
          "execution_count": 41
        }
      ],
      "source": [
        "ch2_test_kfactors"
      ]
    },
    {
      "cell_type": "code",
      "execution_count": null,
      "metadata": {
        "colab": {
          "base_uri": "https://localhost:8080/"
        },
        "id": "hI-nwo6nP22z",
        "outputId": "e20b056a-abff-4b76-bdfa-78ac684ad31e"
      },
      "outputs": [
        {
          "output_type": "stream",
          "name": "stdout",
          "text": [
            "MoM samples 1043 for K=8.84649654503892\n",
            "EbNo [dB] |        BER |       BLER |  bit errors |    num bits | block errors |  num blocks | runtime [s] |    status\n",
            "---------------------------------------------------------------------------------------------------------------------------------------\n",
            "      0.0 | 3.5304e-01 | 1.0000e+00 |      140991 |      399360 |          256 |         256 |        11.6 |reached target bit errors\n",
            "      1.0 | 3.2934e-01 | 1.0000e+00 |      131524 |      399360 |          256 |         256 |        11.3 |reached target bit errors\n",
            "      2.0 | 3.0442e-01 | 1.0000e+00 |      121572 |      399360 |          256 |         256 |        12.0 |reached target bit errors\n",
            "      3.0 | 2.7959e-01 | 1.0000e+00 |      111658 |      399360 |          256 |         256 |        12.2 |reached target bit errors\n",
            "      4.0 | 2.5144e-01 | 1.0000e+00 |      100414 |      399360 |          256 |         256 |        12.0 |reached target bit errors\n",
            "      5.0 | 2.1625e-01 | 1.0000e+00 |       86363 |      399360 |          256 |         256 |        11.3 |reached target bit errors\n",
            "      6.0 | 1.6951e-01 | 1.0000e+00 |       67696 |      399360 |          256 |         256 |        11.4 |reached target bit errors\n",
            "      7.0 | 4.6484e-02 | 3.7500e-01 |       18564 |      399360 |           96 |         256 |        11.3 |reached target bit errors\n",
            "      8.0 | 9.7381e-03 | 6.6406e-02 |        3889 |      399360 |           17 |         256 |        11.5 |reached target bit errors\n",
            "      9.0 | 3.2715e-03 | 1.9531e-02 |        2613 |      798720 |           10 |         512 |        24.8 |reached target bit errors\n",
            "     10.0 | 1.8279e-03 | 1.1719e-02 |         730 |      399360 |            3 |         256 |        11.3 |reached target bit errors\n",
            "     11.0 | 5.5088e-04 | 3.9062e-03 |         660 |     1198080 |            3 |         768 |        33.9 |reached target bit errors\n",
            "     12.0 | 5.3899e-04 | 2.9297e-03 |         861 |     1597440 |            3 |        1024 |        46.0 |reached target bit errors\n",
            "     13.0 | 1.2896e-04 | 7.8125e-04 |         515 |     3993600 |            2 |        2560 |       113.4 |reached target bit errors\n",
            "SM samples 839 for K=8.84649654503892\n",
            "EbNo [dB] |        BER |       BLER |  bit errors |    num bits | block errors |  num blocks | runtime [s] |    status\n",
            "---------------------------------------------------------------------------------------------------------------------------------------\n",
            "      0.0 | 3.5086e-01 | 1.0000e+00 |      140118 |      399360 |          256 |         256 |        11.4 |reached target bit errors\n",
            "      1.0 | 3.3076e-01 | 1.0000e+00 |      132092 |      399360 |          256 |         256 |        11.4 |reached target bit errors\n",
            "      2.0 | 3.0614e-01 | 1.0000e+00 |      122260 |      399360 |          256 |         256 |        11.4 |reached target bit errors\n",
            "      3.0 | 2.7884e-01 | 1.0000e+00 |      111359 |      399360 |          256 |         256 |        12.1 |reached target bit errors\n",
            "      4.0 | 2.5281e-01 | 1.0000e+00 |      100963 |      399360 |          256 |         256 |        11.3 |reached target bit errors\n",
            "      5.0 | 2.1890e-01 | 1.0000e+00 |       87418 |      399360 |          256 |         256 |        11.5 |reached target bit errors\n",
            "      6.0 | 1.7418e-01 | 1.0000e+00 |       69560 |      399360 |          256 |         256 |        11.6 |reached target bit errors\n",
            "      7.0 | 4.8911e-02 | 3.7109e-01 |       19533 |      399360 |           95 |         256 |        11.5 |reached target bit errors\n",
            "      8.0 | 1.6489e-02 | 9.3750e-02 |        6585 |      399360 |           24 |         256 |        11.5 |reached target bit errors\n",
            "      9.0 | 7.5471e-03 | 4.2969e-02 |        3014 |      399360 |           11 |         256 |        11.4 |reached target bit errors\n",
            "     10.0 | 3.6458e-03 | 1.9531e-02 |        1456 |      399360 |            5 |         256 |        11.5 |reached target bit errors\n",
            "     11.0 | 1.7603e-03 | 1.1719e-02 |         703 |      399360 |            3 |         256 |        11.3 |reached target bit errors\n",
            "     12.0 | 1.9807e-03 | 1.1719e-02 |         791 |      399360 |            3 |         256 |        11.2 |reached target bit errors\n",
            "     13.0 | 2.9160e-04 | 1.7756e-03 |        1281 |     4392960 |            5 |        2816 |       125.3 |reached target bit errors\n",
            "FM samples 445 for K=8.84649654503892\n",
            "EbNo [dB] |        BER |       BLER |  bit errors |    num bits | block errors |  num blocks | runtime [s] |    status\n",
            "---------------------------------------------------------------------------------------------------------------------------------------\n",
            "      0.0 | 3.5232e-01 | 1.0000e+00 |      140703 |      399360 |          256 |         256 |        11.4 |reached target bit errors\n",
            "      1.0 | 3.3067e-01 | 1.0000e+00 |      132058 |      399360 |          256 |         256 |        11.2 |reached target bit errors\n",
            "      2.0 | 3.0495e-01 | 1.0000e+00 |      121785 |      399360 |          256 |         256 |        11.4 |reached target bit errors\n",
            "      3.0 | 2.7997e-01 | 1.0000e+00 |      111807 |      399360 |          256 |         256 |        11.4 |reached target bit errors\n",
            "      4.0 | 2.5100e-01 | 1.0000e+00 |      100241 |      399360 |          256 |         256 |        11.4 |reached target bit errors\n",
            "      5.0 | 2.1694e-01 | 1.0000e+00 |       86638 |      399360 |          256 |         256 |        11.4 |reached target bit errors\n",
            "      6.0 | 1.7065e-01 | 9.9609e-01 |       68150 |      399360 |          255 |         256 |        11.4 |reached target bit errors\n",
            "      7.0 | 3.8694e-02 | 2.9688e-01 |       15453 |      399360 |           76 |         256 |        11.8 |reached target bit errors\n",
            "      8.0 | 1.2818e-02 | 7.4219e-02 |        5119 |      399360 |           19 |         256 |        12.3 |reached target bit errors\n",
            "      9.0 | 3.6483e-03 | 1.9531e-02 |        1457 |      399360 |            5 |         256 |        11.5 |reached target bit errors\n",
            "     10.0 | 9.3274e-04 | 5.8594e-03 |         745 |      798720 |            3 |         512 |        22.9 |reached target bit errors\n",
            "     11.0 | 7.8793e-04 | 3.9062e-03 |         944 |     1198080 |            3 |         768 |        34.3 |reached target bit errors\n",
            "     12.0 | 6.4979e-04 | 3.9062e-03 |         519 |      798720 |            2 |         512 |        22.8 |reached target bit errors\n",
            "     13.0 | 8.5693e-05 | 6.5104e-04 |         616 |     7188480 |            3 |        4608 |       207.3 |reached target bit errors\n",
            "MoM samples 901 for K=9.84649654503892\n",
            "EbNo [dB] |        BER |       BLER |  bit errors |    num bits | block errors |  num blocks | runtime [s] |    status\n",
            "---------------------------------------------------------------------------------------------------------------------------------------\n",
            "      0.0 | 3.5166e-01 | 1.0000e+00 |      140440 |      399360 |          256 |         256 |        11.6 |reached target bit errors\n",
            "      1.0 | 3.2856e-01 | 1.0000e+00 |      131212 |      399360 |          256 |         256 |        12.4 |reached target bit errors\n",
            "      2.0 | 3.0664e-01 | 1.0000e+00 |      122458 |      399360 |          256 |         256 |        11.4 |reached target bit errors\n",
            "      3.0 | 2.7713e-01 | 1.0000e+00 |      110675 |      399360 |          256 |         256 |        11.5 |reached target bit errors\n",
            "      4.0 | 2.4953e-01 | 1.0000e+00 |       99652 |      399360 |          256 |         256 |        11.6 |reached target bit errors\n",
            "      5.0 | 2.1380e-01 | 1.0000e+00 |       85384 |      399360 |          256 |         256 |        11.5 |reached target bit errors\n",
            "      6.0 | 1.6920e-01 | 9.9609e-01 |       67571 |      399360 |          255 |         256 |        11.4 |reached target bit errors\n",
            "      7.0 | 3.3278e-02 | 2.8906e-01 |       13290 |      399360 |           74 |         256 |        11.4 |reached target bit errors\n",
            "      8.0 | 5.6566e-03 | 4.2969e-02 |        2259 |      399360 |           11 |         256 |        11.5 |reached target bit errors\n",
            "      9.0 | 2.0733e-03 | 1.5625e-02 |         828 |      399360 |            4 |         256 |        11.7 |reached target bit errors\n",
            "     10.0 | 2.1935e-03 | 1.1719e-02 |         876 |      399360 |            3 |         256 |        11.5 |reached target bit errors\n",
            "     11.0 | 1.5434e-04 | 1.0653e-03 |         678 |     4392960 |            3 |        2816 |       127.9 |reached target bit errors\n",
            "     12.0 | 1.9036e-05 | 1.7756e-04 |         669 |    35143680 |            4 |       22528 |      1013.1 |reached target bit errors\n",
            "     13.0 | 3.1146e-06 | 2.2153e-05 |         658 |   211261440 |            3 |      135424 |      6105.5 |reached target bit errors\n",
            "SM samples 1339 for K=9.84649654503892\n",
            "EbNo [dB] |        BER |       BLER |  bit errors |    num bits | block errors |  num blocks | runtime [s] |    status\n",
            "---------------------------------------------------------------------------------------------------------------------------------------\n",
            "      0.0 | 3.5092e-01 | 1.0000e+00 |      140143 |      399360 |          256 |         256 |        11.6 |reached target bit errors\n",
            "      1.0 | 3.3058e-01 | 1.0000e+00 |      132020 |      399360 |          256 |         256 |        12.4 |reached target bit errors\n",
            "      2.0 | 3.0606e-01 | 1.0000e+00 |      122230 |      399360 |          256 |         256 |        11.6 |reached target bit errors\n",
            "      3.0 | 2.7969e-01 | 1.0000e+00 |      111698 |      399360 |          256 |         256 |        11.5 |reached target bit errors\n",
            "      4.0 | 2.5019e-01 | 1.0000e+00 |       99915 |      399360 |          256 |         256 |        11.6 |reached target bit errors\n",
            "      5.0 | 2.1830e-01 | 1.0000e+00 |       87181 |      399360 |          256 |         256 |        11.8 |reached target bit errors\n",
            "      6.0 | 1.6724e-01 | 1.0000e+00 |       66789 |      399360 |          256 |         256 |        11.6 |reached target bit errors\n",
            "      7.0 | 3.9441e-02 | 2.9688e-01 |       15751 |      399360 |           76 |         256 |        11.8 |reached target bit errors\n",
            "      8.0 | 1.4250e-02 | 8.2031e-02 |        5691 |      399360 |           21 |         256 |        11.5 |reached target bit errors\n",
            "      9.0 | 5.8919e-03 | 3.1250e-02 |        2353 |      399360 |            8 |         256 |        11.5 |reached target bit errors\n",
            "     10.0 | 1.4774e-03 | 1.1719e-02 |         590 |      399360 |            3 |         256 |        11.5 |reached target bit errors\n",
            "     11.0 | 6.5605e-04 | 3.9062e-03 |         524 |      798720 |            2 |         512 |        23.1 |reached target bit errors\n",
            "     12.0 | 2.2741e-04 | 1.4205e-03 |         999 |     4392960 |            4 |        2816 |       126.9 |reached target bit errors\n",
            "     13.0 | 4.6438e-05 | 3.5511e-04 |         612 |    13178880 |            3 |        8448 |       379.1 |reached target bit errors\n",
            "FM samples 784 for K=9.84649654503892\n",
            "EbNo [dB] |        BER |       BLER |  bit errors |    num bits | block errors |  num blocks | runtime [s] |    status\n",
            "---------------------------------------------------------------------------------------------------------------------------------------\n",
            "      0.0 | 3.5041e-01 | 1.0000e+00 |      139940 |      399360 |          256 |         256 |        11.6 |reached target bit errors\n",
            "      1.0 | 3.2712e-01 | 1.0000e+00 |      130640 |      399360 |          256 |         256 |        11.5 |reached target bit errors\n",
            "      2.0 | 3.0429e-01 | 1.0000e+00 |      121520 |      399360 |          256 |         256 |        11.5 |reached target bit errors\n",
            "      3.0 | 2.7607e-01 | 1.0000e+00 |      110253 |      399360 |          256 |         256 |        12.4 |reached target bit errors\n",
            "      4.0 | 2.4945e-01 | 1.0000e+00 |       99620 |      399360 |          256 |         256 |        11.6 |reached target bit errors\n",
            "      5.0 | 2.1519e-01 | 1.0000e+00 |       85939 |      399360 |          256 |         256 |        11.5 |reached target bit errors\n",
            "      6.0 | 1.6582e-01 | 9.8438e-01 |       66222 |      399360 |          252 |         256 |        11.4 |reached target bit errors\n",
            "      7.0 | 4.0294e-02 | 3.2812e-01 |       16092 |      399360 |           84 |         256 |        11.5 |reached target bit errors\n",
            "      8.0 | 1.0577e-02 | 7.4219e-02 |        4224 |      399360 |           19 |         256 |        11.4 |reached target bit errors\n",
            "      9.0 | 2.2286e-03 | 1.9531e-02 |         890 |      399360 |            5 |         256 |        11.5 |reached target bit errors\n",
            "     10.0 | 1.7453e-03 | 7.8125e-03 |         697 |      399360 |            2 |         256 |        11.5 |reached target bit errors\n",
            "     11.0 | 4.3470e-04 | 2.3437e-03 |         868 |     1996800 |            3 |        1280 |        57.9 |reached target bit errors\n",
            "     12.0 | 4.9913e-04 | 2.6042e-03 |         598 |     1198080 |            2 |         768 |        34.2 |reached target bit errors\n",
            "     13.0 | 5.1416e-04 | 2.6042e-03 |         616 |     1198080 |            2 |         768 |        34.1 |reached target bit errors\n",
            "MoM samples 845 for K=10.84649654503892\n",
            "EbNo [dB] |        BER |       BLER |  bit errors |    num bits | block errors |  num blocks | runtime [s] |    status\n",
            "---------------------------------------------------------------------------------------------------------------------------------------\n",
            "      0.0 | 3.5260e-01 | 1.0000e+00 |      140814 |      399360 |          256 |         256 |        11.4 |reached target bit errors\n",
            "      1.0 | 3.2881e-01 | 1.0000e+00 |      131314 |      399360 |          256 |         256 |        11.4 |reached target bit errors\n",
            "      2.0 | 3.0491e-01 | 1.0000e+00 |      121767 |      399360 |          256 |         256 |        11.4 |reached target bit errors\n",
            "      3.0 | 2.8112e-01 | 1.0000e+00 |      112268 |      399360 |          256 |         256 |        11.4 |reached target bit errors\n",
            "      4.0 | 2.5031e-01 | 1.0000e+00 |       99963 |      399360 |          256 |         256 |        12.3 |reached target bit errors\n",
            "      5.0 | 2.1627e-01 | 1.0000e+00 |       86371 |      399360 |          256 |         256 |        11.3 |reached target bit errors\n",
            "      6.0 | 1.6631e-01 | 1.0000e+00 |       66416 |      399360 |          256 |         256 |        11.4 |reached target bit errors\n",
            "      7.0 | 4.5741e-02 | 3.4766e-01 |       18267 |      399360 |           89 |         256 |        11.5 |reached target bit errors\n",
            "      8.0 | 7.5696e-03 | 4.6875e-02 |        3023 |      399360 |           12 |         256 |        11.6 |reached target bit errors\n",
            "      9.0 | 5.7767e-03 | 3.1250e-02 |        2307 |      399360 |            8 |         256 |        11.5 |reached target bit errors\n",
            "     10.0 | 3.9213e-03 | 2.3438e-02 |        1566 |      399360 |            6 |         256 |        11.4 |reached target bit errors\n",
            "     11.0 | 7.7624e-04 | 5.2083e-03 |         930 |     1198080 |            4 |         768 |        34.4 |reached target bit errors\n",
            "     12.0 | 1.0705e-03 | 7.8125e-03 |         855 |      798720 |            4 |         512 |        22.8 |reached target bit errors\n",
            "     13.0 | 2.5249e-04 | 1.9531e-03 |         605 |     2396160 |            3 |        1536 |        69.4 |reached target bit errors\n",
            "SM samples 2057 for K=10.84649654503892\n",
            "EbNo [dB] |        BER |       BLER |  bit errors |    num bits | block errors |  num blocks | runtime [s] |    status\n",
            "---------------------------------------------------------------------------------------------------------------------------------------\n",
            "      0.0 | 3.5443e-01 | 1.0000e+00 |      141547 |      399360 |          256 |         256 |        11.5 |reached target bit errors\n",
            "      1.0 | 3.3048e-01 | 1.0000e+00 |      131982 |      399360 |          256 |         256 |        11.4 |reached target bit errors\n",
            "      2.0 | 3.0600e-01 | 1.0000e+00 |      122205 |      399360 |          256 |         256 |        11.5 |reached target bit errors\n",
            "      3.0 | 2.7737e-01 | 1.0000e+00 |      110771 |      399360 |          256 |         256 |        11.5 |reached target bit errors\n",
            "      4.0 | 2.4906e-01 | 1.0000e+00 |       99465 |      399360 |          256 |         256 |        11.4 |reached target bit errors\n",
            "      5.0 | 2.1427e-01 | 1.0000e+00 |       85571 |      399360 |          256 |         256 |        12.3 |reached target bit errors\n",
            "      6.0 | 1.6407e-01 | 1.0000e+00 |       65524 |      399360 |          256 |         256 |        11.4 |reached target bit errors\n",
            "      7.0 | 4.0074e-02 | 3.0859e-01 |       16004 |      399360 |           79 |         256 |        11.4 |reached target bit errors\n",
            "      8.0 | 8.0354e-03 | 4.6875e-02 |        3209 |      399360 |           12 |         256 |        11.4 |reached target bit errors\n",
            "      9.0 | 6.1624e-03 | 3.1250e-02 |        2461 |      399360 |            8 |         256 |        11.5 |reached target bit errors\n",
            "     10.0 | 2.6417e-03 | 1.9531e-02 |        1055 |      399360 |            5 |         256 |        11.5 |reached target bit errors\n",
            "     11.0 | 1.3785e-03 | 9.7656e-03 |        1101 |      798720 |            5 |         512 |        23.0 |reached target bit errors\n",
            "     12.0 | 6.8359e-04 | 3.9062e-03 |         546 |      798720 |            2 |         512 |        23.1 |reached target bit errors\n",
            "     13.0 | 2.6960e-04 | 1.9531e-03 |         646 |     2396160 |            3 |        1536 |        71.0 |reached target bit errors\n",
            "FM samples 1188 for K=10.84649654503892\n",
            "EbNo [dB] |        BER |       BLER |  bit errors |    num bits | block errors |  num blocks | runtime [s] |    status\n",
            "---------------------------------------------------------------------------------------------------------------------------------------\n",
            "      0.0 | 3.5171e-01 | 1.0000e+00 |      140458 |      399360 |          256 |         256 |        11.6 |reached target bit errors\n",
            "      1.0 | 3.2711e-01 | 1.0000e+00 |      130636 |      399360 |          256 |         256 |        11.6 |reached target bit errors\n",
            "      2.0 | 3.0395e-01 | 1.0000e+00 |      121385 |      399360 |          256 |         256 |        11.6 |reached target bit errors\n",
            "      3.0 | 2.7862e-01 | 1.0000e+00 |      111270 |      399360 |          256 |         256 |        11.6 |reached target bit errors\n",
            "      4.0 | 2.4818e-01 | 1.0000e+00 |       99114 |      399360 |          256 |         256 |        11.5 |reached target bit errors\n",
            "      5.0 | 2.1749e-01 | 1.0000e+00 |       86858 |      399360 |          256 |         256 |        11.6 |reached target bit errors\n",
            "      6.0 | 1.6740e-01 | 9.9609e-01 |       66851 |      399360 |          255 |         256 |        11.6 |reached target bit errors\n",
            "      7.0 | 3.8171e-02 | 2.8516e-01 |       15244 |      399360 |           73 |         256 |        12.5 |reached target bit errors\n",
            "      8.0 | 5.5063e-03 | 4.2969e-02 |        2199 |      399360 |           11 |         256 |        11.6 |reached target bit errors\n",
            "      9.0 | 2.7194e-03 | 1.5625e-02 |        1086 |      399360 |            4 |         256 |        11.6 |reached target bit errors\n",
            "     10.0 | 3.8587e-03 | 1.9531e-02 |        1541 |      399360 |            5 |         256 |        11.5 |reached target bit errors\n",
            "     11.0 | 1.5875e-03 | 7.8125e-03 |         634 |      399360 |            2 |         256 |        11.5 |reached target bit errors\n",
            "     12.0 | 3.1175e-04 | 2.6042e-03 |         747 |     2396160 |            4 |        1536 |        69.4 |reached target bit errors\n",
            "     13.0 | 2.8181e-05 | 2.1307e-04 |         619 |    21964800 |            3 |       14080 |       635.9 |reached target bit errors\n",
            "MoM samples 536 for K=11.84649654503892\n",
            "EbNo [dB] |        BER |       BLER |  bit errors |    num bits | block errors |  num blocks | runtime [s] |    status\n",
            "---------------------------------------------------------------------------------------------------------------------------------------\n",
            "      0.0 | 3.5214e-01 | 1.0000e+00 |      140630 |      399360 |          256 |         256 |        11.5 |reached target bit errors\n",
            "      1.0 | 3.2941e-01 | 1.0000e+00 |      131555 |      399360 |          256 |         256 |        11.4 |reached target bit errors\n",
            "      2.0 | 3.0617e-01 | 1.0000e+00 |      122274 |      399360 |          256 |         256 |        11.9 |reached target bit errors\n",
            "      3.0 | 2.7945e-01 | 1.0000e+00 |      111601 |      399360 |          256 |         256 |        11.9 |reached target bit errors\n",
            "      4.0 | 2.5054e-01 | 1.0000e+00 |      100054 |      399360 |          256 |         256 |        11.3 |reached target bit errors\n",
            "      5.0 | 2.1769e-01 | 1.0000e+00 |       86938 |      399360 |          256 |         256 |        11.5 |reached target bit errors\n",
            "      6.0 | 1.7195e-01 | 1.0000e+00 |       68669 |      399360 |          256 |         256 |        11.5 |reached target bit errors\n",
            "      7.0 | 4.3890e-02 | 3.0859e-01 |       17528 |      399360 |           79 |         256 |        11.4 |reached target bit errors\n",
            "      8.0 | 1.2540e-02 | 7.8125e-02 |        5008 |      399360 |           20 |         256 |        11.3 |reached target bit errors\n",
            "      9.0 | 2.8245e-03 | 1.5625e-02 |        1128 |      399360 |            4 |         256 |        11.4 |reached target bit errors\n",
            "     10.0 | 8.8266e-04 | 5.8594e-03 |         705 |      798720 |            3 |         512 |        22.9 |reached target bit errors\n",
            "     11.0 | 1.5725e-03 | 1.1719e-02 |         628 |      399360 |            3 |         256 |        11.5 |reached target bit errors\n",
            "     12.0 | 2.5666e-04 | 1.9531e-03 |         615 |     2396160 |            3 |        1536 |        69.2 |reached target bit errors\n",
            "     13.0 | 1.9726e-04 | 1.3021e-03 |         709 |     3594240 |            3 |        2304 |       103.6 |reached target bit errors\n",
            "SM samples 1173 for K=11.84649654503892\n",
            "EbNo [dB] |        BER |       BLER |  bit errors |    num bits | block errors |  num blocks | runtime [s] |    status\n",
            "---------------------------------------------------------------------------------------------------------------------------------------\n",
            "      0.0 | 3.5089e-01 | 1.0000e+00 |      140133 |      399360 |          256 |         256 |        11.5 |reached target bit errors\n",
            "      1.0 | 3.2737e-01 | 1.0000e+00 |      130737 |      399360 |          256 |         256 |        11.5 |reached target bit errors\n",
            "      2.0 | 3.0597e-01 | 1.0000e+00 |      122191 |      399360 |          256 |         256 |        11.5 |reached target bit errors\n",
            "      3.0 | 2.7914e-01 | 1.0000e+00 |      111478 |      399360 |          256 |         256 |        11.5 |reached target bit errors\n",
            "      4.0 | 2.4559e-01 | 1.0000e+00 |       98079 |      399360 |          256 |         256 |        11.4 |reached target bit errors\n",
            "      5.0 | 2.1358e-01 | 1.0000e+00 |       85295 |      399360 |          256 |         256 |        11.6 |reached target bit errors\n",
            "      6.0 | 1.6195e-01 | 9.9219e-01 |       64677 |      399360 |          254 |         256 |        11.5 |reached target bit errors\n",
            "      7.0 | 4.0047e-02 | 3.1641e-01 |       15993 |      399360 |           81 |         256 |        11.4 |reached target bit errors\n",
            "      8.0 | 9.4025e-03 | 5.4688e-02 |        3755 |      399360 |           14 |         256 |        12.2 |reached target bit errors\n",
            "      9.0 | 2.3437e-03 | 1.1719e-02 |         936 |      399360 |            3 |         256 |        11.4 |reached target bit errors\n",
            "     10.0 | 1.4022e-03 | 1.1719e-02 |         560 |      399360 |            3 |         256 |        11.4 |reached target bit errors\n",
            "     11.0 | 6.6940e-04 | 3.9062e-03 |         802 |     1198080 |            3 |         768 |        34.3 |reached target bit errors\n",
            "     12.0 | 2.1075e-04 | 1.3021e-03 |         505 |     2396160 |            2 |        1536 |        69.7 |reached target bit errors\n",
            "     13.0 | 1.2896e-04 | 7.8125e-04 |         515 |     3993600 |            2 |        2560 |       114.6 |reached target bit errors\n",
            "FM samples 718 for K=11.84649654503892\n",
            "EbNo [dB] |        BER |       BLER |  bit errors |    num bits | block errors |  num blocks | runtime [s] |    status\n",
            "---------------------------------------------------------------------------------------------------------------------------------------\n",
            "      0.0 | 3.4991e-01 | 1.0000e+00 |      139741 |      399360 |          256 |         256 |        12.6 |reached target bit errors\n",
            "      1.0 | 3.2997e-01 | 1.0000e+00 |      131776 |      399360 |          256 |         256 |        11.5 |reached target bit errors\n",
            "      2.0 | 3.0382e-01 | 1.0000e+00 |      121335 |      399360 |          256 |         256 |        11.6 |reached target bit errors\n",
            "      3.0 | 2.8014e-01 | 1.0000e+00 |      111878 |      399360 |          256 |         256 |        11.5 |reached target bit errors\n",
            "      4.0 | 2.4794e-01 | 1.0000e+00 |       99016 |      399360 |          256 |         256 |        11.6 |reached target bit errors\n",
            "      5.0 | 2.1524e-01 | 1.0000e+00 |       85957 |      399360 |          256 |         256 |        11.5 |reached target bit errors\n",
            "      6.0 | 1.6844e-01 | 1.0000e+00 |       67267 |      399360 |          256 |         256 |        11.5 |reached target bit errors\n",
            "      7.0 | 3.6701e-02 | 3.0859e-01 |       14657 |      399360 |           79 |         256 |        11.4 |reached target bit errors\n",
            "      8.0 | 8.3884e-03 | 5.4688e-02 |        3350 |      399360 |           14 |         256 |        11.4 |reached target bit errors\n",
            "      9.0 | 1.4498e-03 | 7.8125e-03 |         579 |      399360 |            2 |         256 |        11.4 |reached target bit errors\n",
            "     10.0 | 2.0608e-03 | 1.1719e-02 |         823 |      399360 |            3 |         256 |        12.3 |reached target bit errors\n",
            "     11.0 | 3.2051e-04 | 1.9531e-03 |         512 |     1597440 |            2 |        1024 |        45.6 |reached target bit errors\n",
            "     12.0 | 1.4863e-04 | 8.3705e-04 |         831 |     5591040 |            3 |        3584 |       160.6 |reached target bit errors\n",
            "     13.0 | 4.1347e-05 | 2.8582e-04 |         677 |    16373760 |            3 |       10496 |       469.9 |reached target bit errors\n",
            "MoM samples 435 for K=12.84649654503892\n",
            "EbNo [dB] |        BER |       BLER |  bit errors |    num bits | block errors |  num blocks | runtime [s] |    status\n",
            "---------------------------------------------------------------------------------------------------------------------------------------\n",
            "      0.0 | 3.5211e-01 | 1.0000e+00 |      140617 |      399360 |          256 |         256 |        11.4 |reached target bit errors\n",
            "      1.0 | 3.3112e-01 | 1.0000e+00 |      132235 |      399360 |          256 |         256 |        11.4 |reached target bit errors\n",
            "      2.0 | 3.0503e-01 | 1.0000e+00 |      121817 |      399360 |          256 |         256 |        11.4 |reached target bit errors\n",
            "      3.0 | 2.7837e-01 | 1.0000e+00 |      111168 |      399360 |          256 |         256 |        11.4 |reached target bit errors\n",
            "      4.0 | 2.4929e-01 | 1.0000e+00 |       99556 |      399360 |          256 |         256 |        12.3 |reached target bit errors\n",
            "      5.0 | 2.1870e-01 | 1.0000e+00 |       87341 |      399360 |          256 |         256 |        11.3 |reached target bit errors\n",
            "      6.0 | 1.6580e-01 | 9.9609e-01 |       66212 |      399360 |          255 |         256 |        11.4 |reached target bit errors\n",
            "      7.0 | 3.7513e-02 | 3.2422e-01 |       14981 |      399360 |           83 |         256 |        11.4 |reached target bit errors\n",
            "      8.0 | 6.7508e-03 | 4.2969e-02 |        2696 |      399360 |           11 |         256 |        11.3 |reached target bit errors\n",
            "      9.0 | 6.1023e-03 | 3.1250e-02 |        2437 |      399360 |            8 |         256 |        11.3 |reached target bit errors\n",
            "     10.0 | 1.8955e-03 | 1.1719e-02 |         757 |      399360 |            3 |         256 |        11.3 |reached target bit errors\n",
            "     11.0 | 7.6998e-04 | 5.8594e-03 |         615 |      798720 |            3 |         512 |        22.7 |reached target bit errors\n",
            "     12.0 | 2.2402e-05 | 2.0926e-04 |         501 |    22364160 |            3 |       14336 |       637.2 |reached target bit errors\n"
          ]
        }
      ],
      "source": [
        "ch2_common_kfactor_bers_validation_range = {}\n",
        "for k in ch2_test_kfactors:\n",
        "  ch2_common_kfactor_bers_validation_range[k] = validate_ber_all_snr_range(k, nist_tx2_low, ch2_kfactors, range(14))"
      ]
    },
    {
      "cell_type": "code",
      "source": [
        "result_txt_dat = [3.5304e-01, 3.2934e-01, 3.0442e-01, 2.7959e-01, 2.5144e-01, 2.1625e-01, 1.6951e-01, 4.6484e-02, 9.7381e-03, 3.2715e-03, 1.8279e-03, 5.5088e-04, 5.3899e-04, 1.2896e-04, 3.5086e-01, 3.3076e-01, 3.0614e-01, 2.7884e-01, 2.5281e-01, 2.1890e-01, 1.7418e-01, 4.8911e-02, 1.6489e-02, 7.5471e-03, 3.6458e-03, 1.7603e-03, 1.9807e-03, 2.9160e-04, 3.5232e-01, 3.3067e-01, 3.0495e-01, 2.7997e-01, 2.5100e-01, 2.1694e-01, 1.7065e-01, 3.8694e-02, 1.2818e-02, 3.6483e-03, 9.3274e-04, 7.8793e-04, 6.4979e-04, 8.5693e-05, 3.5166e-01, 3.2856e-01, 3.0664e-01, 2.7713e-01, 2.4953e-01, 2.1380e-01, 1.6920e-01, 3.3278e-02, 5.6566e-03, 2.0733e-03, 2.1935e-03, 1.5434e-04, 1.9036e-05, 3.1146e-06, 3.5092e-01, 3.3058e-01, 3.0606e-01, 2.7969e-01, 2.5019e-01, 2.1830e-01, 1.6724e-01, 3.9441e-02, 1.4250e-02, 5.8919e-03, 1.4774e-03, 6.5605e-04, 2.2741e-04, 4.6438e-05, 3.5041e-01, 3.2712e-01, 3.0429e-01, 2.7607e-01, 2.4945e-01, 2.1519e-01, 1.6582e-01, 4.0294e-02, 1.0577e-02, 2.2286e-03, 1.7453e-03, 4.3470e-04, 4.9913e-04, 5.1416e-04, 3.5260e-01, 3.2881e-01, 3.0491e-01, 2.8112e-01, 2.5031e-01, 2.1627e-01, 1.6631e-01, 4.5741e-02, 7.5696e-03, 5.7767e-03, 3.9213e-03, 7.7624e-04, 1.0705e-03, 2.5249e-04, 3.5443e-01, 3.3048e-01, 3.0600e-01, 2.7737e-01, 2.4906e-01, 2.1427e-01, 1.6407e-01, 4.0074e-02, 8.0354e-03, 6.1624e-03, 2.6417e-03, 1.3785e-03, 6.8359e-04, 2.6960e-04, 3.5171e-01, 3.2711e-01, 3.0395e-01, 2.7862e-01, 2.4818e-01, 2.1749e-01, 1.6740e-01, 3.8171e-02, 5.5063e-03, 2.7194e-03, 3.8587e-03, 1.5875e-03, 3.1175e-04, 2.8181e-05, 3.5214e-01, 3.2941e-01, 3.0617e-01, 2.7945e-01, 2.5054e-01, 2.1769e-01, 1.7195e-01, 4.3890e-02, 1.2540e-02, 2.8245e-03, 8.8266e-04, 1.5725e-03, 2.5666e-04, 1.9726e-04, 3.5089e-01, 3.2737e-01, 3.0597e-01, 2.7914e-01, 2.4559e-01, 2.1358e-01, 1.6195e-01, 4.0047e-02, 9.4025e-03, 2.3437e-03, 1.4022e-03, 6.6940e-04, 2.1075e-04, 1.2896e-04, 3.4991e-01, 3.2997e-01, 3.0382e-01, 2.8014e-01, 2.4794e-01, 2.1524e-01, 1.6844e-01, 3.6701e-02, 8.3884e-03, 1.4498e-03, 2.0608e-03, 3.2051e-04, 1.4863e-04, 4.1347e-05, 3.5211e-01, 3.3112e-01, 3.0503e-01, 2.7837e-01, 2.4929e-01, 2.1870e-01, 1.6580e-01, 3.7513e-02, 6.7508e-03, 6.1023e-03, 1.8955e-03, 7.6998e-04, 2.2402e-05]\n",
        "data_idx = 0\n",
        "tx2_low_common_kfactor_bers_validation = {}\n",
        "estimators = ['MoM', 'SM', 'FM']\n",
        "test_kfactors = sorted([11.84649654503892, 12.84649654503892, 8.84649654503892, 9.84649654503892, 10.84649654503892])[:-1]\n",
        "for k in test_kfactors:\n",
        "  tx2_low_common_kfactor_bers_validation[k] = {est:[] for est in estimators}\n",
        "  for est in estimators:\n",
        "    tx2_low_common_kfactor_bers_validation[k][est] = result_txt_dat[data_idx:data_idx+14]\n",
        "    data_idx += 14"
      ],
      "metadata": {
        "id": "A66Umc0E7omX"
      },
      "execution_count": null,
      "outputs": []
    },
    {
      "cell_type": "code",
      "source": [
        "est_style = {'MoM':'o', 'SM':'*', 'FM':'+'}\n",
        "kfactor_style = ['-', '--', '-.', ':']\n",
        "fig, ax = plt.subplots(1,3, figsize=(15,5))\n",
        "for est_idx, est in enumerate(estimators):\n",
        "  for kidx, kfactor in enumerate(test_kfactors):\n",
        "    ax[est_idx].semilogy(tx2_low_common_kfactor_bers_validation[kfactor][est], f\"{kfactor_style[kidx]}{est_style[est]}\", color='black', label=f'{kfactor:0.2f}')\n",
        "    ax[est_idx].set_xlim([6, 14])\n",
        "    ax[est_idx].set_ylim([1e-6, 1e-2])\n",
        "    ax[est_idx].legend()"
      ],
      "metadata": {
        "colab": {
          "base_uri": "https://localhost:8080/",
          "height": 326
        },
        "id": "Ti6XYHrp7t26",
        "outputId": "7bcaf9f1-73dd-4919-b332-6fb6e5c26c9a"
      },
      "execution_count": null,
      "outputs": [
        {
          "output_type": "display_data",
          "data": {
            "text/plain": [
              "<Figure size 1080x360 with 3 Axes>"
            ],
            "image/png": "[encoded data removed]"
          },
          "metadata": {
            "needs_background": "light"
          }
        }
      ]
    },
    {
      "cell_type": "code",
      "execution_count": null,
      "metadata": {
        "id": "xphGC7YKejVH"
      },
      "outputs": [],
      "source": [
        "pickle.dump(ch2_common_kfactor_bers_validation_rem, open('tx2low_all_common_kfactors_rem.pickle', 'wb'))"
      ]
    },
    {
      "cell_type": "code",
      "execution_count": null,
      "metadata": {
        "id": "TuR_ZNMqIwb3"
      },
      "outputs": [],
      "source": [
        "pickle.dump(ch2_common_kfactor_bers_validation_range, open('tx2low_all_common_kfactors_snr_range.pickle', 'wb'))"
      ]
    },
    {
      "cell_type": "code",
      "execution_count": null,
      "metadata": {
        "colab": {
          "base_uri": "https://localhost:8080/"
        },
        "id": "Xur76yLawJqB",
        "outputId": "9a4c6786-cbb3-430c-ef8a-d11143a206ce"
      },
      "outputs": [
        {
          "data": {
            "text/plain": [
              "dict_keys([11.84649654503892, 12.84649654503892, 8.84649654503892, 9.84649654503892, 10.84649654503892])"
            ]
          },
          "execution_count": 76,
          "metadata": {},
          "output_type": "execute_result"
        }
      ],
      "source": [
        "ch2_common_kfactor_bers_validation.keys()"
      ]
    },
    {
      "cell_type": "code",
      "execution_count": null,
      "metadata": {
        "id": "X_RRcy1rv6km"
      },
      "outputs": [],
      "source": [
        "#ch2_ber_validation_numpy = {}\n",
        "for k, vals in ch2_common_kfactor_bers_validation_rem.items():\n",
        "  ch2_common_kfactor_bers_validation[k] = vals"
      ]
    },
    {
      "cell_type": "code",
      "source": [
        "ch2_common_kfactor_bers_validation = {}\n",
        "for key, vals in ch2_common_kfactor_bers_validation_rem.items():\n",
        "  ch2_common_kfactor_bers_validation[key] = vals\n",
        "for key, vals in ch2_common_kfactor_bers_validation_rest.items():\n",
        "  ch2_common_kfactor_bers_validation[key] = vals"
      ],
      "metadata": {
        "id": "_bPMW8HeuFxw"
      },
      "execution_count": null,
      "outputs": []
    },
    {
      "cell_type": "code",
      "execution_count": null,
      "metadata": {
        "id": "Nli4KaqUeyWW"
      },
      "outputs": [],
      "source": [
        "pickle.dump(ch2_common_kfactor_bers_validation, open('tx2low_all_common_kfactors__raw.pickle', 'wb'))"
      ]
    },
    {
      "cell_type": "code",
      "execution_count": null,
      "metadata": {
        "colab": {
          "base_uri": "https://localhost:8080/",
          "height": 296
        },
        "id": "5Xaq6J0Sw_pH",
        "outputId": "f1c5468c-89bb-4124-d235-0cfb82fce139"
      },
      "outputs": [
        {
          "output_type": "execute_result",
          "data": {
            "text/plain": [
              "<matplotlib.legend.Legend at 0x7fe3302cc9d0>"
            ]
          },
          "metadata": {},
          "execution_count": 67
        },
        {
          "output_type": "display_data",
          "data": {
            "text/plain": [
              "<Figure size 432x288 with 1 Axes>"
            ],
            "image/png": "[encoded data removed]"
          },
          "metadata": {
            "needs_background": "light"
          }
        }
      ],
      "source": [
        "types = ['MoM', 'SM', 'FM']#, 'Sim']\n",
        "for idx, t in enumerate(types):\n",
        "  plt.errorbar([(k-0.15+idx*0.1) for k in range(1, len(ch2_test_kfactors)+1)],\n",
        "               [np.mean(ch2_common_kfactor_bers_validation[k][t]) for k in ch2_test_kfactors],\n",
        "               yerr=[np.std(ch2_common_kfactor_bers_validation[k][t]) for k in ch2_test_kfactors],\n",
        "               label=t, fmt='o')\n",
        "plt.yscale('log')\n",
        "plt.xticks(range(1, len(ch2_test_kfactors)+1), map(lambda x: f\"{x:0.2f}\", ch2_test_kfactors))\n",
        "plt.grid(axis='y')\n",
        "plt.xlabel('K factor')\n",
        "plt.ylabel('BER')\n",
        "plt.legend()"
      ]
    },
    {
      "cell_type": "code",
      "source": [],
      "metadata": {
        "id": "2nrkM1qqr5oQ"
      },
      "execution_count": null,
      "outputs": []
    }
  ],
  "metadata": {
    "colab": {
      "provenance": [],
      "toc_visible": true,
      "include_colab_link": true
    },
    "gpuClass": "standard",
    "kernelspec": {
      "display_name": "Python 3",
      "name": "python3"
    },
    "language_info": {
      "name": "python"
    }
  },
  "nbformat": 4,
  "nbformat_minor": 0
}